{
 "cells": [
  {
   "cell_type": "markdown",
   "metadata": {},
   "source": [
    "### Step 4. Exploratory data analysis (Python)\n",
    "In addition to the data you retrieved in the previous tasks, you've been given a second file. \n",
    "\n",
    "You now have these two CSVs:\n",
    " - /datasets/project_sql_result_01.csv. It contains the following data:\n",
    "\n",
    "company_name: taxi company name\n",
    "\n",
    "trips_amount: the number of rides for each taxi company on November 15-16, 2017.\n",
    " - /datasets/project_sql_result_04.csv. It contains the following data:\n",
    "\n",
    "dropoff_location_name: Chicago neighborhoods where rides ended\n",
    "\n",
    "average_trips: the average number of rides that ended in each neighborhood in November 2017.\n",
    "\n",
    "For these two datasets you now need to\n",
    "- import the files\n",
    "- study the data they contain\n",
    "- make sure the data types are correct\n",
    "- identify the top 10 neighborhoods in terms of drop-offs\n",
    "- make graphs: taxi companies and number of rides, top 10 neighborhoods by number of dropoffs\n",
    "- draw conclusions based on each graph and explain the results"
   ]
  },
  {
   "cell_type": "code",
   "execution_count": 1,
   "metadata": {},
   "outputs": [],
   "source": [
    "import pandas as pd\n",
    "import matplotlib.pyplot as plt\n",
    "import seaborn as sns\n",
    "from scipy import stats"
   ]
  },
  {
   "cell_type": "code",
   "execution_count": 2,
   "metadata": {},
   "outputs": [],
   "source": [
    "query_result1 = \"https://code.s3.yandex.net/learning-materials/data-analyst-eng/project_sql_result_01.csv\"\n",
    "query_result2 = \"https://code.s3.yandex.net/learning-materials/data-analyst-eng/project_sql_result_04.csv\""
   ]
  },
  {
   "cell_type": "code",
   "execution_count": 3,
   "metadata": {},
   "outputs": [],
   "source": [
    "trips_amount_df = pd.read_csv(query_result1)\n",
    "avg_trips_df = pd.read_csv(query_result2)"
   ]
  },
  {
   "cell_type": "code",
   "execution_count": 4,
   "metadata": {},
   "outputs": [
    {
     "data": {
      "text/html": [
       "<div>\n",
       "<style scoped>\n",
       "    .dataframe tbody tr th:only-of-type {\n",
       "        vertical-align: middle;\n",
       "    }\n",
       "\n",
       "    .dataframe tbody tr th {\n",
       "        vertical-align: top;\n",
       "    }\n",
       "\n",
       "    .dataframe thead th {\n",
       "        text-align: right;\n",
       "    }\n",
       "</style>\n",
       "<table border=\"1\" class=\"dataframe\">\n",
       "  <thead>\n",
       "    <tr style=\"text-align: right;\">\n",
       "      <th></th>\n",
       "      <th>company_name</th>\n",
       "      <th>trips_amount</th>\n",
       "    </tr>\n",
       "  </thead>\n",
       "  <tbody>\n",
       "    <tr>\n",
       "      <td>34</td>\n",
       "      <td>Norshore Cab</td>\n",
       "      <td>127</td>\n",
       "    </tr>\n",
       "    <tr>\n",
       "      <td>6</td>\n",
       "      <td>City Service</td>\n",
       "      <td>8448</td>\n",
       "    </tr>\n",
       "  </tbody>\n",
       "</table>\n",
       "</div>"
      ],
      "text/plain": [
       "    company_name  trips_amount\n",
       "34  Norshore Cab           127\n",
       "6   City Service          8448"
      ]
     },
     "execution_count": 4,
     "metadata": {},
     "output_type": "execute_result"
    }
   ],
   "source": [
    "trips_amount_df.sample(2)"
   ]
  },
  {
   "cell_type": "code",
   "execution_count": 5,
   "metadata": {},
   "outputs": [
    {
     "data": {
      "text/html": [
       "<div>\n",
       "<style scoped>\n",
       "    .dataframe tbody tr th:only-of-type {\n",
       "        vertical-align: middle;\n",
       "    }\n",
       "\n",
       "    .dataframe tbody tr th {\n",
       "        vertical-align: top;\n",
       "    }\n",
       "\n",
       "    .dataframe thead th {\n",
       "        text-align: right;\n",
       "    }\n",
       "</style>\n",
       "<table border=\"1\" class=\"dataframe\">\n",
       "  <thead>\n",
       "    <tr style=\"text-align: right;\">\n",
       "      <th></th>\n",
       "      <th>dropoff_location_name</th>\n",
       "      <th>average_trips</th>\n",
       "    </tr>\n",
       "  </thead>\n",
       "  <tbody>\n",
       "    <tr>\n",
       "      <td>45</td>\n",
       "      <td>Boystown</td>\n",
       "      <td>53.966667</td>\n",
       "    </tr>\n",
       "    <tr>\n",
       "      <td>40</td>\n",
       "      <td>Bucktown</td>\n",
       "      <td>74.300000</td>\n",
       "    </tr>\n",
       "  </tbody>\n",
       "</table>\n",
       "</div>"
      ],
      "text/plain": [
       "   dropoff_location_name  average_trips\n",
       "45              Boystown      53.966667\n",
       "40              Bucktown      74.300000"
      ]
     },
     "execution_count": 5,
     "metadata": {},
     "output_type": "execute_result"
    }
   ],
   "source": [
    "avg_trips_df.sample(2)"
   ]
  },
  {
   "cell_type": "code",
   "execution_count": 6,
   "metadata": {},
   "outputs": [
    {
     "data": {
      "text/plain": [
       "company_name    0\n",
       "trips_amount    0\n",
       "dtype: int64"
      ]
     },
     "execution_count": 6,
     "metadata": {},
     "output_type": "execute_result"
    }
   ],
   "source": [
    "trips_amount_df.isna().sum()"
   ]
  },
  {
   "cell_type": "code",
   "execution_count": 7,
   "metadata": {},
   "outputs": [
    {
     "data": {
      "text/plain": [
       "company_name    0\n",
       "trips_amount    0\n",
       "dtype: int64"
      ]
     },
     "execution_count": 7,
     "metadata": {},
     "output_type": "execute_result"
    }
   ],
   "source": [
    "trips_amount_df.isna().sum()"
   ]
  },
  {
   "cell_type": "code",
   "execution_count": 8,
   "metadata": {},
   "outputs": [
    {
     "data": {
      "text/plain": [
       "18.8"
      ]
     },
     "execution_count": 8,
     "metadata": {},
     "output_type": "execute_result"
    }
   ],
   "source": [
    "len(avg_trips_df)*0.20"
   ]
  },
  {
   "cell_type": "markdown",
   "metadata": {},
   "source": [
    "Identify the top 10 neighborhoods in terms of drop-offs."
   ]
  },
  {
   "cell_type": "code",
   "execution_count": 9,
   "metadata": {},
   "outputs": [
    {
     "data": {
      "text/html": [
       "<div>\n",
       "<style scoped>\n",
       "    .dataframe tbody tr th:only-of-type {\n",
       "        vertical-align: middle;\n",
       "    }\n",
       "\n",
       "    .dataframe tbody tr th {\n",
       "        vertical-align: top;\n",
       "    }\n",
       "\n",
       "    .dataframe thead th {\n",
       "        text-align: right;\n",
       "    }\n",
       "</style>\n",
       "<table border=\"1\" class=\"dataframe\">\n",
       "  <thead>\n",
       "    <tr style=\"text-align: right;\">\n",
       "      <th></th>\n",
       "      <th>dropoff_location_name</th>\n",
       "      <th>average_trips</th>\n",
       "    </tr>\n",
       "  </thead>\n",
       "  <tbody>\n",
       "    <tr>\n",
       "      <td>0</td>\n",
       "      <td>Loop</td>\n",
       "      <td>10727.466667</td>\n",
       "    </tr>\n",
       "    <tr>\n",
       "      <td>1</td>\n",
       "      <td>River North</td>\n",
       "      <td>9523.666667</td>\n",
       "    </tr>\n",
       "    <tr>\n",
       "      <td>2</td>\n",
       "      <td>Streeterville</td>\n",
       "      <td>6664.666667</td>\n",
       "    </tr>\n",
       "    <tr>\n",
       "      <td>3</td>\n",
       "      <td>West Loop</td>\n",
       "      <td>5163.666667</td>\n",
       "    </tr>\n",
       "    <tr>\n",
       "      <td>4</td>\n",
       "      <td>O'Hare</td>\n",
       "      <td>2546.900000</td>\n",
       "    </tr>\n",
       "    <tr>\n",
       "      <td>5</td>\n",
       "      <td>Lake View</td>\n",
       "      <td>2420.966667</td>\n",
       "    </tr>\n",
       "    <tr>\n",
       "      <td>6</td>\n",
       "      <td>Grant Park</td>\n",
       "      <td>2068.533333</td>\n",
       "    </tr>\n",
       "    <tr>\n",
       "      <td>7</td>\n",
       "      <td>Museum Campus</td>\n",
       "      <td>1510.000000</td>\n",
       "    </tr>\n",
       "    <tr>\n",
       "      <td>8</td>\n",
       "      <td>Gold Coast</td>\n",
       "      <td>1364.233333</td>\n",
       "    </tr>\n",
       "    <tr>\n",
       "      <td>9</td>\n",
       "      <td>Sheffield &amp; DePaul</td>\n",
       "      <td>1259.766667</td>\n",
       "    </tr>\n",
       "  </tbody>\n",
       "</table>\n",
       "</div>"
      ],
      "text/plain": [
       "  dropoff_location_name  average_trips\n",
       "0                  Loop   10727.466667\n",
       "1           River North    9523.666667\n",
       "2         Streeterville    6664.666667\n",
       "3             West Loop    5163.666667\n",
       "4                O'Hare    2546.900000\n",
       "5             Lake View    2420.966667\n",
       "6            Grant Park    2068.533333\n",
       "7         Museum Campus    1510.000000\n",
       "8            Gold Coast    1364.233333\n",
       "9    Sheffield & DePaul    1259.766667"
      ]
     },
     "execution_count": 9,
     "metadata": {},
     "output_type": "execute_result"
    }
   ],
   "source": [
    "avg_trips_df.nlargest(10, columns=[\"average_trips\"])"
   ]
  },
  {
   "cell_type": "markdown",
   "metadata": {},
   "source": [
    "Make graphs: taxi companies and number of rides, top 10 neighborhoods by number of dropoffs"
   ]
  },
  {
   "cell_type": "code",
   "execution_count": 10,
   "metadata": {},
   "outputs": [],
   "source": [
    "def plt_nlargest_pie(df, column, index, title=\"\", top=10):\n",
    "    data = df.nlargest(top, columns=[column]).set_index(index)  \n",
    "    data.plot(kind='pie', y=column,autopct='%1.0f%%', figsize=(10, 5), legend=False).set(label=data.index)\n",
    "    plt.title(title)\n",
    "    plt.ylabel(\"\")\n",
    "    plt.show();"
   ]
  },
  {
   "cell_type": "code",
   "execution_count": 12,
   "metadata": {},
   "outputs": [
    {
     "data": {
      "image/png": "[encoded data removed]",
      "text/plain": [
       "<Figure size 720x360 with 1 Axes>"
      ]
     },
     "metadata": {},
     "output_type": "display_data"
    }
   ],
   "source": [
    "plt_nlargest_pie(trips_amount_df, column=\"trips_amount\", index=\"company_name\", title=\"Taxi companies and number of rides\")"
   ]
  },
  {
   "cell_type": "markdown",
   "metadata": {},
   "source": [
    "As we can see, the Flash Cab was very popular from November 15-16, 2017(Wednesday-Thursday), and the next one is Taxi Affiliation Services, and etc."
   ]
  },
  {
   "cell_type": "code",
   "execution_count": 14,
   "metadata": {},
   "outputs": [
    {
     "data": {
      "image/png": "[encoded data removed]",
      "text/plain": [
       "<Figure size 720x360 with 1 Axes>"
      ]
     },
     "metadata": {},
     "output_type": "display_data"
    }
   ],
   "source": [
    "plt_nlargest_pie(avg_trips_df, column=\"average_trips\", index=\"dropoff_location_name\", title=\"Top 10 neighborhoods by number of dropoffs\")"
   ]
  },
  {
   "cell_type": "markdown",
   "metadata": {},
   "source": [
    "Loop, River North and Streeterville were neighborhoods with the highest average number of rides that ended in each neighborhood in November 2017."
   ]
  },
  {
   "cell_type": "code",
   "execution_count": 15,
   "metadata": {},
   "outputs": [],
   "source": [
    "top20_dropoff = avg_trips_df.nlargest(20, columns=[\"average_trips\"])\n",
    "others_dropoff = pd.DataFrame(dict(dropoff_location_name=[\"Others\"],average_trips=[avg_trips_df[~avg_trips_df[\"dropoff_location_name\"]\n",
    "              .isin(top20_dropoff[\"dropoff_location_name\"])][\"average_trips\"]\n",
    "              .sum()]))"
   ]
  },
  {
   "cell_type": "code",
   "execution_count": 16,
   "metadata": {},
   "outputs": [
    {
     "data": {
      "image/png": "[encoded data removed]",
      "text/plain": [
       "<Figure size 432x288 with 1 Axes>"
      ]
     },
     "metadata": {
      "needs_background": "light"
     },
     "output_type": "display_data"
    }
   ],
   "source": [
    "sns.set_color_codes(\"pastel\")\n",
    "sns.barplot(y=\"dropoff_location_name\",x='average_trips', data=pd.concat([top20_dropoff, others_dropoff]))\n",
    "sns.set_color_codes(\"muted\")\n",
    "plt.title(\"Distribution of average_trips per top 20 neighborhoods and others\")\n",
    "plt.show();"
   ]
  },
  {
   "cell_type": "markdown",
   "metadata": {},
   "source": [
    "### Step 5. Testing hypotheses (Python)\n",
    "- /datasets/project_sql_result_07.csv — the result of the last query. It contains data on rides from the Loop to O'Hare International Airport. Remember, these are the table's field values:\n",
    "\n",
    "- start_ts\n",
    "  - pickup date and time\n",
    "- weather_conditions\n",
    "  - weather conditions at the moment the ride started\n",
    "- duration_seconds\n",
    "  - ride duration in seconds\n",
    "\n",
    "Test the hypothesis:\n",
    "\n",
    "\"The average duration of rides from the Loop to O'Hare International Airport changes on rainy Saturdays.\"\n",
    "\n",
    "Decide where to set the significance level (alpha) on your own.\n",
    "\n",
    "Explain:\n",
    "- how you formed the null and alternative hypotheses\n",
    "- what criterion you used to test the hypotheses and why\n"
   ]
  },
  {
   "cell_type": "code",
   "execution_count": 17,
   "metadata": {},
   "outputs": [],
   "source": [
    "query_result3 = \"https://code.s3.yandex.net/learning-materials/data-analyst-eng/project_sql_result_07.csv\""
   ]
  },
  {
   "cell_type": "code",
   "execution_count": 18,
   "metadata": {},
   "outputs": [
    {
     "data": {
      "text/html": [
       "<div>\n",
       "<style scoped>\n",
       "    .dataframe tbody tr th:only-of-type {\n",
       "        vertical-align: middle;\n",
       "    }\n",
       "\n",
       "    .dataframe tbody tr th {\n",
       "        vertical-align: top;\n",
       "    }\n",
       "\n",
       "    .dataframe thead th {\n",
       "        text-align: right;\n",
       "    }\n",
       "</style>\n",
       "<table border=\"1\" class=\"dataframe\">\n",
       "  <thead>\n",
       "    <tr style=\"text-align: right;\">\n",
       "      <th></th>\n",
       "      <th>duration_seconds</th>\n",
       "    </tr>\n",
       "  </thead>\n",
       "  <tbody>\n",
       "    <tr>\n",
       "      <td>count</td>\n",
       "      <td>1068.000000</td>\n",
       "    </tr>\n",
       "    <tr>\n",
       "      <td>mean</td>\n",
       "      <td>2071.731273</td>\n",
       "    </tr>\n",
       "    <tr>\n",
       "      <td>std</td>\n",
       "      <td>769.461125</td>\n",
       "    </tr>\n",
       "    <tr>\n",
       "      <td>min</td>\n",
       "      <td>0.000000</td>\n",
       "    </tr>\n",
       "    <tr>\n",
       "      <td>25%</td>\n",
       "      <td>1438.250000</td>\n",
       "    </tr>\n",
       "    <tr>\n",
       "      <td>50%</td>\n",
       "      <td>1980.000000</td>\n",
       "    </tr>\n",
       "    <tr>\n",
       "      <td>75%</td>\n",
       "      <td>2580.000000</td>\n",
       "    </tr>\n",
       "    <tr>\n",
       "      <td>max</td>\n",
       "      <td>7440.000000</td>\n",
       "    </tr>\n",
       "  </tbody>\n",
       "</table>\n",
       "</div>"
      ],
      "text/plain": [
       "       duration_seconds\n",
       "count       1068.000000\n",
       "mean        2071.731273\n",
       "std          769.461125\n",
       "min            0.000000\n",
       "25%         1438.250000\n",
       "50%         1980.000000\n",
       "75%         2580.000000\n",
       "max         7440.000000"
      ]
     },
     "execution_count": 18,
     "metadata": {},
     "output_type": "execute_result"
    }
   ],
   "source": [
    "rides_df = pd.read_csv(query_result3)\n",
    "rides_df.describe()"
   ]
  },
  {
   "cell_type": "code",
   "execution_count": 19,
   "metadata": {},
   "outputs": [
    {
     "data": {
      "text/plain": [
       "start_ts              0\n",
       "weather_conditions    0\n",
       "duration_seconds      0\n",
       "dtype: int64"
      ]
     },
     "execution_count": 19,
     "metadata": {},
     "output_type": "execute_result"
    }
   ],
   "source": [
    "rides_df.isna().sum()"
   ]
  },
  {
   "cell_type": "code",
   "execution_count": 20,
   "metadata": {},
   "outputs": [
    {
     "data": {
      "image/png": "[encoded data removed]",
      "text/plain": [
       "<Figure size 432x288 with 1 Axes>"
      ]
     },
     "metadata": {
      "needs_background": "light"
     },
     "output_type": "display_data"
    }
   ],
   "source": [
    "sns.distplot(rides_df[\"duration_seconds\"], bins=list(range(100, 4000, 200)))\n",
    "plt.title('Density vs. Duration');"
   ]
  },
  {
   "cell_type": "code",
   "execution_count": 21,
   "metadata": {},
   "outputs": [
    {
     "data": {
      "image/png": "[encoded data removed]",
      "text/plain": [
       "<Figure size 432x288 with 1 Axes>"
      ]
     },
     "metadata": {
      "needs_background": "light"
     },
     "output_type": "display_data"
    }
   ],
   "source": [
    "sns.boxplot(rides_df[\"duration_seconds\"])\n",
    "plt.title('Duration in Seconds');"
   ]
  },
  {
   "cell_type": "code",
   "execution_count": 22,
   "metadata": {},
   "outputs": [
    {
     "data": {
      "text/plain": [
       "0.9146993095472892"
      ]
     },
     "execution_count": 22,
     "metadata": {},
     "output_type": "execute_result"
    }
   ],
   "source": [
    "rides_df[\"duration_seconds\"].skew()"
   ]
  },
  {
   "cell_type": "code",
   "execution_count": 23,
   "metadata": {},
   "outputs": [],
   "source": [
    "rides_df[\"start_ts\"] = pd.to_datetime(rides_df[\"start_ts\"])"
   ]
  },
  {
   "cell_type": "code",
   "execution_count": 24,
   "metadata": {},
   "outputs": [],
   "source": [
    "saturdays_bad_rides = rides_df[(rides_df[\"start_ts\"].dt.weekday==5)&(rides_df[\"weather_conditions\"]!=\"Good\")][\"duration_seconds\"].values"
   ]
  },
  {
   "cell_type": "code",
   "execution_count": 25,
   "metadata": {},
   "outputs": [],
   "source": [
    "saturdays_good_rides = rides_df[(rides_df[\"start_ts\"].dt.weekday==5)&(rides_df[\"weather_conditions\"]==\"Good\")][\"duration_seconds\"].values"
   ]
  },
  {
   "cell_type": "code",
   "execution_count": 26,
   "metadata": {},
   "outputs": [
    {
     "data": {
      "text/plain": [
       "(180, 888)"
      ]
     },
     "execution_count": 26,
     "metadata": {},
     "output_type": "execute_result"
    }
   ],
   "source": [
    "len(saturdays_bad_rides), len(saturdays_good_rides)"
   ]
  },
  {
   "cell_type": "code",
   "execution_count": 27,
   "metadata": {},
   "outputs": [],
   "source": [
    "alpha = .05"
   ]
  },
  {
   "cell_type": "markdown",
   "metadata": {},
   "source": [
    "Let's choose standard the significance level (actually it really depends on sample size, but anyway let's leave standard level) and let's state:\n",
    "\n",
    "$H_0$=\"The average duration of rides from the Loop to O'Hare International Airport doesn't change\"\n",
    "\n",
    "$H_1$=\"The average duration of rides from the Loop to O'Hare International Airport changes on rainy Saturdays.\"\n",
    "\n",
    "we will test by avg value and after that also will check both avg values"
   ]
  },
  {
   "cell_type": "code",
   "execution_count": 28,
   "metadata": {},
   "outputs": [],
   "source": [
    "H_0 = \"The average duration of rides from the Loop to O'Hare International Airport doesn't change\"\n",
    "H_1 = \"The average duration of rides from the Loop to O'Hare International Airport changes on rainy Saturdays.\""
   ]
  },
  {
   "cell_type": "code",
   "execution_count": 29,
   "metadata": {},
   "outputs": [
    {
     "name": "stdout",
     "output_type": "stream",
     "text": [
      "pvalue: 6.517970327099473e-12\n",
      "The average duration of rides from the Loop to O'Hare International Airport changes on rainy Saturdays.\n",
      "checking:\n",
      "bad weather, mean=2427.21\n",
      "good weather, mean=1999.68\n"
     ]
    }
   ],
   "source": [
    "result = stats.ttest_ind(saturdays_bad_rides, saturdays_good_rides)\n",
    "print('pvalue:', result.pvalue)\n",
    "\n",
    "if (result.pvalue < alpha):\n",
    "    print(H_1)\n",
    "else:\n",
    "    print(H_0)\n",
    "print(\"checking:\")\n",
    "print(f\"bad weather, mean={saturdays_bad_rides.mean():.2f}\")\n",
    "print(f\"good weather, mean={saturdays_good_rides.mean():.2f}\")"
   ]
  }
 ],
 "metadata": {
  "ExecuteTimeLog": [
   {
    "duration": 1427,
    "start_time": "2021-10-21T20:56:53.362Z"
   },
   {
    "duration": 3,
    "start_time": "2021-10-21T20:57:01.784Z"
   },
   {
    "duration": 180,
    "start_time": "2021-10-21T20:57:12.884Z"
   },
   {
    "duration": 16,
    "start_time": "2021-10-21T20:57:20.299Z"
   },
   {
    "duration": 10,
    "start_time": "2021-10-21T20:57:28.435Z"
   },
   {
    "duration": 8,
    "start_time": "2021-10-21T20:57:42.352Z"
   },
   {
    "duration": 8,
    "start_time": "2021-10-21T20:57:49.768Z"
   },
   {
    "duration": 5,
    "start_time": "2021-10-21T20:57:56.463Z"
   },
   {
    "duration": 18,
    "start_time": "2021-10-21T20:58:19.457Z"
   },
   {
    "duration": 6,
    "start_time": "2021-10-21T20:58:40.195Z"
   },
   {
    "duration": 242,
    "start_time": "2021-10-21T20:58:47.373Z"
   },
   {
    "duration": 236,
    "start_time": "2021-10-21T20:59:03.220Z"
   },
   {
    "duration": 211,
    "start_time": "2021-10-21T20:59:39.328Z"
   },
   {
    "duration": 216,
    "start_time": "2021-10-21T20:59:49.698Z"
   },
   {
    "duration": 11,
    "start_time": "2021-10-21T21:00:11.196Z"
   },
   {
    "duration": 467,
    "start_time": "2021-10-21T21:00:22.181Z"
   },
   {
    "duration": 4,
    "start_time": "2021-10-21T21:01:01.075Z"
   },
   {
    "duration": 109,
    "start_time": "2021-10-21T21:01:08.323Z"
   },
   {
    "duration": 7,
    "start_time": "2021-10-21T21:01:31.993Z"
   },
   {
    "duration": 287,
    "start_time": "2021-10-21T21:01:32.003Z"
   },
   {
    "duration": 201,
    "start_time": "2021-10-21T21:01:45.839Z"
   },
   {
    "duration": 6,
    "start_time": "2021-10-21T21:01:57.812Z"
   },
   {
    "duration": 9,
    "start_time": "2021-10-21T21:02:10.514Z"
   },
   {
    "duration": 7,
    "start_time": "2021-10-21T21:02:18.644Z"
   },
   {
    "duration": 7,
    "start_time": "2021-10-21T21:02:27.413Z"
   },
   {
    "duration": 5,
    "start_time": "2021-10-21T21:02:34.628Z"
   },
   {
    "duration": 3,
    "start_time": "2021-10-21T21:02:45.518Z"
   },
   {
    "duration": 4,
    "start_time": "2021-10-21T21:03:11.166Z"
   },
   {
    "duration": 8,
    "start_time": "2021-10-21T21:03:19.169Z"
   }
  ],
  "kernelspec": {
   "display_name": "Python 3",
   "language": "python",
   "name": "python3"
  },
  "language_info": {
   "codemirror_mode": {
    "name": "ipython",
    "version": 3
   },
   "file_extension": ".py",
   "mimetype": "text/x-python",
   "name": "python",
   "nbconvert_exporter": "python",
   "pygments_lexer": "ipython3",
   "version": "3.8.8"
  },
  "toc": {
   "base_numbering": 1,
   "nav_menu": {},
   "number_sections": true,
   "sideBar": true,
   "skip_h1_title": true,
   "title_cell": "Table of Contents",
   "title_sidebar": "Contents",
   "toc_cell": false,
   "toc_position": {},
   "toc_section_display": true,
   "toc_window_display": false
  }
 },
 "nbformat": 4,
 "nbformat_minor": 2
}
