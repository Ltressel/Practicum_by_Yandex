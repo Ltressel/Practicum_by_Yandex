{
 "cells": [
  {
   "cell_type": "code",
   "execution_count": 1,
   "id": "0f04b23e",
   "metadata": {},
   "outputs": [
    {
     "name": "stdout",
     "output_type": "stream",
     "text": [
      "Defaulting to user installation because normal site-packages is not writeable\n",
      "Requirement already up-to-date: scipy in /home/jovyan/.local/lib/python3.7/site-packages (1.7.1)\n",
      "Requirement already satisfied, skipping upgrade: numpy<1.23.0,>=1.16.5 in /opt/conda/lib/python3.7/site-packages (from scipy) (1.19.5)\n"
     ]
    }
   ],
   "source": [
    "import pandas as pd\n",
    "import numpy as np\n",
    "from matplotlib import pyplot as plt\n",
    "%matplotlib inline \n",
    "import seaborn as sns\n",
    "from IPython.core.interactiveshell import InteractiveShell\n",
    "import re\n",
    "!pip install -U scipy\n",
    "import scipy\n",
    "from scipy import stats\n",
    "InteractiveShell.ast_node_interactivity = 'all'\n",
    "import warnings\n",
    "warnings.filterwarnings('ignore')\n"
   ]
  },
  {
   "cell_type": "markdown",
   "id": "48279aa2",
   "metadata": {},
   "source": [
    "## Project Description\n",
    "You work as an analyst for the telecom operator Megaline. The company offers its clients two prepaid plans, Surf and Ultimate. The commercial department wants to know which of the plans brings in more revenue in order to adjust the advertising budget.\n",
    "\n",
    "You are going to carry out a preliminary analysis of the plans based on a relatively small client selection. You'll have the data on 500 Megaline clients: who the clients are, where they're from, which plan they use, and the number of calls they made and text messages they sent in 2018. Your job is to analyze clients' behavior and determine which prepaid plan brings in more revenue.\n",
    "\n",
    "## Description of the plans\n",
    "Note: Megaline rounds seconds up to minutes, and megabytes to gigabytes. For **calls**, each individual call is rounded up: even if the call lasted just one second, it will be counted as one minute. For **web traffic**, individual web sessions are not rounded up. Instead, the total for the month is rounded up. If someone uses 1025 megabytes this month, they will be charged for 2 gigabytes.\n",
    "\n",
    "#### Surf\n",
    "1. Monthly charge: 20 dollars\n",
    "2. 500 monthly minutes, 50 texts, and 15 GB of data\n",
    "3. After exceeding the package limits:\n",
    "   - 1 minute: 3 cents\n",
    "   - 1 text message: 3 cents\n",
    "   - 1 GB of data: 10 dollars\n",
    "\n",
    "#### Ultimate\n",
    "1. Monthly charge: 70 dollars\n",
    "2. 3000 monthly minutes, 1000 text messages, and 30 GB of data\n",
    "3. After exceeding the package limits:\n",
    "   - 1 minute: 1 cent\n",
    "   - 1 text message: 1 cent\n",
    "   - 1 GB of data: 7 dollars\n",
    "   \n",
    "   \n",
    "## Description of Data\n",
    "Remember! Megaline rounds seconds up to minutes, and megabytes to gigabytes. For **calls**, each individual call is rounded up: even if the call lasted just one second, it will be counted as one minute. For **web traffic**, individual web sessions are not rounded up. Instead, the total for the month is rounded up. If someone uses 1025 megabytes this month, they will be charged for 2 gigabytes.\n",
    "\n",
    "The users table (data on users):\n",
    "- user_id — unique user identifier\n",
    "- first_name — user's name\n",
    "- last_name — user's last name\n",
    "- age — user's age (years)\n",
    "- reg_date — subscription date (dd, mm, yy)\n",
    "- churn_date — the date the user stopped using the service (if the value is missing, the calling plan was being used   when this database was extracted)\n",
    "- city — user's city of residence\n",
    "- plan — calling plan name\n",
    "\n",
    "The calls table (data on calls):\n",
    "- id — unique call identifier\n",
    "- call_date — call date\n",
    "- duration — call duration (in minutes)\n",
    "- user_id — the identifier of the user making the call\n",
    "\n",
    "The messages table (data on texts):\n",
    "- id — unique text message identifier\n",
    "- message_date — text message date\n",
    "- user_id — the identifier of the user sending the text\n",
    "\n",
    "The internet table (data on web sessions):\n",
    "- id — unique session identifier\n",
    "- mb_used — the volume of data spent during the session (in megabytes)\n",
    "- session_date — web session date\n",
    "- user_id — user identifier\n",
    "\n",
    "The plans table (data on the plans):\n",
    "- plan_name — calling plan name\n",
    "- usd_monthly_fee — monthly charge in US dollars\n",
    "- minutes_included — monthly minute allowance\n",
    "- messages_included — monthly text allowance\n",
    "- mb_per_month_included — data volume allowance (in megabytes)\n",
    "- usd_per_minute — price per minute after exceeding the package limits (e.g., if the package includes 100 minutes, the 101st minute will be charged)\n",
    "- usd_per_message — price per text after exceeding the package limits\n",
    "- usd_per_gb — price per extra gigabyte of data after exceeding the package limits (1 GB = 1024 megabytes)\n",
    "   \n",
    "\n",
    "## 1. Open the data file and study the general information. "
   ]
  },
  {
   "cell_type": "code",
   "execution_count": 2,
   "id": "1049717d",
   "metadata": {},
   "outputs": [],
   "source": [
    "try:\n",
    "    users_df = pd.read_csv('megaline_users.csv')\n",
    "    plans_df = pd.read_csv('megaline_plans.csv')\n",
    "    messages_df = pd.read_csv('megaline_messages.csv')\n",
    "    internet_df = pd.read_csv('megaline_internet.csv')\n",
    "    calls_df = pd.read_csv('megaline_calls.csv')\n",
    "except:\n",
    "    users_df = pd.read_csv('/datasets/megaline_users.csv')\n",
    "    plans_df = pd.read_csv('/datasets/megaline_plans.csv')\n",
    "    messages_df = pd.read_csv('/datasets/megaline_messages.csv')\n",
    "    internet_df = pd.read_csv('/datasets/megaline_internet.csv')\n",
    "    calls_df = pd.read_csv('/datasets/megaline_calls.csv')"
   ]
  },
  {
   "cell_type": "code",
   "execution_count": 3,
   "id": "8a3273d9",
   "metadata": {},
   "outputs": [],
   "source": [
    "megaline_datasets = {\"calls_df\":calls_df, \"internet_df\":internet_df, \"messages_df\":messages_df, \"plans_df\":plans_df, \"users_df\":users_df}"
   ]
  },
  {
   "cell_type": "code",
   "execution_count": 4,
   "id": "6fd2b7a1",
   "metadata": {},
   "outputs": [
    {
     "data": {
      "text/plain": [
       "'calls_df (137735, 4)'"
      ]
     },
     "execution_count": 4,
     "metadata": {},
     "output_type": "execute_result"
    },
    {
     "data": {
      "text/plain": [
       "'internet_df (104825, 4)'"
      ]
     },
     "execution_count": 4,
     "metadata": {},
     "output_type": "execute_result"
    },
    {
     "data": {
      "text/plain": [
       "'messages_df (76051, 3)'"
      ]
     },
     "execution_count": 4,
     "metadata": {},
     "output_type": "execute_result"
    },
    {
     "data": {
      "text/plain": [
       "'plans_df (2, 8)'"
      ]
     },
     "execution_count": 4,
     "metadata": {},
     "output_type": "execute_result"
    },
    {
     "data": {
      "text/plain": [
       "'users_df (500, 8)'"
      ]
     },
     "execution_count": 4,
     "metadata": {},
     "output_type": "execute_result"
    }
   ],
   "source": [
    "for name, ds in megaline_datasets.items():\n",
    "    f\"{name} {ds.shape}\""
   ]
  },
  {
   "cell_type": "code",
   "execution_count": 5,
   "id": "a0c74b0d",
   "metadata": {},
   "outputs": [
    {
     "data": {
      "text/plain": [
       "'calls_df'"
      ]
     },
     "execution_count": 5,
     "metadata": {},
     "output_type": "execute_result"
    },
    {
     "name": "stdout",
     "output_type": "stream",
     "text": [
      "<class 'pandas.core.frame.DataFrame'>\n",
      "RangeIndex: 137735 entries, 0 to 137734\n",
      "Data columns (total 4 columns):\n",
      "id           137735 non-null object\n",
      "user_id      137735 non-null int64\n",
      "call_date    137735 non-null object\n",
      "duration     137735 non-null float64\n",
      "dtypes: float64(1), int64(1), object(2)\n",
      "memory usage: 4.2+ MB\n"
     ]
    },
    {
     "data": {
      "text/plain": [
       "'internet_df'"
      ]
     },
     "execution_count": 5,
     "metadata": {},
     "output_type": "execute_result"
    },
    {
     "name": "stdout",
     "output_type": "stream",
     "text": [
      "<class 'pandas.core.frame.DataFrame'>\n",
      "RangeIndex: 104825 entries, 0 to 104824\n",
      "Data columns (total 4 columns):\n",
      "id              104825 non-null object\n",
      "user_id         104825 non-null int64\n",
      "session_date    104825 non-null object\n",
      "mb_used         104825 non-null float64\n",
      "dtypes: float64(1), int64(1), object(2)\n",
      "memory usage: 3.2+ MB\n"
     ]
    },
    {
     "data": {
      "text/plain": [
       "'messages_df'"
      ]
     },
     "execution_count": 5,
     "metadata": {},
     "output_type": "execute_result"
    },
    {
     "name": "stdout",
     "output_type": "stream",
     "text": [
      "<class 'pandas.core.frame.DataFrame'>\n",
      "RangeIndex: 76051 entries, 0 to 76050\n",
      "Data columns (total 3 columns):\n",
      "id              76051 non-null object\n",
      "user_id         76051 non-null int64\n",
      "message_date    76051 non-null object\n",
      "dtypes: int64(1), object(2)\n",
      "memory usage: 1.7+ MB\n"
     ]
    },
    {
     "data": {
      "text/plain": [
       "'plans_df'"
      ]
     },
     "execution_count": 5,
     "metadata": {},
     "output_type": "execute_result"
    },
    {
     "name": "stdout",
     "output_type": "stream",
     "text": [
      "<class 'pandas.core.frame.DataFrame'>\n",
      "RangeIndex: 2 entries, 0 to 1\n",
      "Data columns (total 8 columns):\n",
      "messages_included        2 non-null int64\n",
      "mb_per_month_included    2 non-null int64\n",
      "minutes_included         2 non-null int64\n",
      "usd_monthly_pay          2 non-null int64\n",
      "usd_per_gb               2 non-null int64\n",
      "usd_per_message          2 non-null float64\n",
      "usd_per_minute           2 non-null float64\n",
      "plan_name                2 non-null object\n",
      "dtypes: float64(2), int64(5), object(1)\n",
      "memory usage: 256.0+ bytes\n"
     ]
    },
    {
     "data": {
      "text/plain": [
       "'users_df'"
      ]
     },
     "execution_count": 5,
     "metadata": {},
     "output_type": "execute_result"
    },
    {
     "name": "stdout",
     "output_type": "stream",
     "text": [
      "<class 'pandas.core.frame.DataFrame'>\n",
      "RangeIndex: 500 entries, 0 to 499\n",
      "Data columns (total 8 columns):\n",
      "user_id       500 non-null int64\n",
      "first_name    500 non-null object\n",
      "last_name     500 non-null object\n",
      "age           500 non-null int64\n",
      "city          500 non-null object\n",
      "reg_date      500 non-null object\n",
      "plan          500 non-null object\n",
      "churn_date    34 non-null object\n",
      "dtypes: int64(2), object(6)\n",
      "memory usage: 31.4+ KB\n"
     ]
    }
   ],
   "source": [
    "for name, ds in megaline_datasets.items():\n",
    "    f\"{name}\"\n",
    "    ds.info()"
   ]
  },
  {
   "cell_type": "markdown",
   "id": "be9d5d58",
   "metadata": {},
   "source": [
    "## 2. Prepare the Data\n",
    "\n",
    "- Convert the data to the necessary types\n",
    "- Find and eliminate errors in the data\n",
    "- Explain what errors you found and how you removed them.\n",
    "\n",
    "For each user, find:\n",
    "- The number of calls made and minutes used per month\n",
    "- The number of text messages sent per month\n",
    "- The volume of data per month\n",
    "- The monthly revenue from each user (subtract the free package limit from the total number of calls, text messages, and data; multiply the result by the calling plan value; add the monthly charge depending on the calling plan)"
   ]
  },
  {
   "cell_type": "code",
   "execution_count": 6,
   "id": "906a9665",
   "metadata": {},
   "outputs": [
    {
     "data": {
      "text/plain": [
       "'calls_df'"
      ]
     },
     "execution_count": 6,
     "metadata": {},
     "output_type": "execute_result"
    },
    {
     "data": {
      "text/html": [
       "<div>\n",
       "<style scoped>\n",
       "    .dataframe tbody tr th:only-of-type {\n",
       "        vertical-align: middle;\n",
       "    }\n",
       "\n",
       "    .dataframe tbody tr th {\n",
       "        vertical-align: top;\n",
       "    }\n",
       "\n",
       "    .dataframe thead th {\n",
       "        text-align: right;\n",
       "    }\n",
       "</style>\n",
       "<table border=\"1\" class=\"dataframe\">\n",
       "  <thead>\n",
       "    <tr style=\"text-align: right;\">\n",
       "      <th></th>\n",
       "      <th>id</th>\n",
       "      <th>user_id</th>\n",
       "      <th>call_date</th>\n",
       "      <th>duration</th>\n",
       "    </tr>\n",
       "  </thead>\n",
       "  <tbody>\n",
       "    <tr>\n",
       "      <td>108482</td>\n",
       "      <td>1382_1891</td>\n",
       "      <td>1382</td>\n",
       "      <td>2018-09-11</td>\n",
       "      <td>2.28</td>\n",
       "    </tr>\n",
       "    <tr>\n",
       "      <td>112504</td>\n",
       "      <td>1397_54</td>\n",
       "      <td>1397</td>\n",
       "      <td>2018-09-11</td>\n",
       "      <td>2.14</td>\n",
       "    </tr>\n",
       "  </tbody>\n",
       "</table>\n",
       "</div>"
      ],
      "text/plain": [
       "               id  user_id   call_date  duration\n",
       "108482  1382_1891     1382  2018-09-11      2.28\n",
       "112504    1397_54     1397  2018-09-11      2.14"
      ]
     },
     "execution_count": 6,
     "metadata": {},
     "output_type": "execute_result"
    },
    {
     "data": {
      "text/plain": [
       "'internet_df'"
      ]
     },
     "execution_count": 6,
     "metadata": {},
     "output_type": "execute_result"
    },
    {
     "data": {
      "text/html": [
       "<div>\n",
       "<style scoped>\n",
       "    .dataframe tbody tr th:only-of-type {\n",
       "        vertical-align: middle;\n",
       "    }\n",
       "\n",
       "    .dataframe tbody tr th {\n",
       "        vertical-align: top;\n",
       "    }\n",
       "\n",
       "    .dataframe thead th {\n",
       "        text-align: right;\n",
       "    }\n",
       "</style>\n",
       "<table border=\"1\" class=\"dataframe\">\n",
       "  <thead>\n",
       "    <tr style=\"text-align: right;\">\n",
       "      <th></th>\n",
       "      <th>id</th>\n",
       "      <th>user_id</th>\n",
       "      <th>session_date</th>\n",
       "      <th>mb_used</th>\n",
       "    </tr>\n",
       "  </thead>\n",
       "  <tbody>\n",
       "    <tr>\n",
       "      <td>21343</td>\n",
       "      <td>1099_96</td>\n",
       "      <td>1099</td>\n",
       "      <td>2018-05-02</td>\n",
       "      <td>232.15</td>\n",
       "    </tr>\n",
       "    <tr>\n",
       "      <td>56890</td>\n",
       "      <td>1257_157</td>\n",
       "      <td>1257</td>\n",
       "      <td>2018-06-21</td>\n",
       "      <td>0.00</td>\n",
       "    </tr>\n",
       "  </tbody>\n",
       "</table>\n",
       "</div>"
      ],
      "text/plain": [
       "             id  user_id session_date  mb_used\n",
       "21343   1099_96     1099   2018-05-02   232.15\n",
       "56890  1257_157     1257   2018-06-21     0.00"
      ]
     },
     "execution_count": 6,
     "metadata": {},
     "output_type": "execute_result"
    },
    {
     "data": {
      "text/plain": [
       "'messages_df'"
      ]
     },
     "execution_count": 6,
     "metadata": {},
     "output_type": "execute_result"
    },
    {
     "data": {
      "text/html": [
       "<div>\n",
       "<style scoped>\n",
       "    .dataframe tbody tr th:only-of-type {\n",
       "        vertical-align: middle;\n",
       "    }\n",
       "\n",
       "    .dataframe tbody tr th {\n",
       "        vertical-align: top;\n",
       "    }\n",
       "\n",
       "    .dataframe thead th {\n",
       "        text-align: right;\n",
       "    }\n",
       "</style>\n",
       "<table border=\"1\" class=\"dataframe\">\n",
       "  <thead>\n",
       "    <tr style=\"text-align: right;\">\n",
       "      <th></th>\n",
       "      <th>id</th>\n",
       "      <th>user_id</th>\n",
       "      <th>message_date</th>\n",
       "    </tr>\n",
       "  </thead>\n",
       "  <tbody>\n",
       "    <tr>\n",
       "      <td>40180</td>\n",
       "      <td>1259_231</td>\n",
       "      <td>1259</td>\n",
       "      <td>2018-05-14</td>\n",
       "    </tr>\n",
       "    <tr>\n",
       "      <td>43497</td>\n",
       "      <td>1287_171</td>\n",
       "      <td>1287</td>\n",
       "      <td>2018-12-20</td>\n",
       "    </tr>\n",
       "  </tbody>\n",
       "</table>\n",
       "</div>"
      ],
      "text/plain": [
       "             id  user_id message_date\n",
       "40180  1259_231     1259   2018-05-14\n",
       "43497  1287_171     1287   2018-12-20"
      ]
     },
     "execution_count": 6,
     "metadata": {},
     "output_type": "execute_result"
    },
    {
     "data": {
      "text/plain": [
       "'plans_df'"
      ]
     },
     "execution_count": 6,
     "metadata": {},
     "output_type": "execute_result"
    },
    {
     "data": {
      "text/html": [
       "<div>\n",
       "<style scoped>\n",
       "    .dataframe tbody tr th:only-of-type {\n",
       "        vertical-align: middle;\n",
       "    }\n",
       "\n",
       "    .dataframe tbody tr th {\n",
       "        vertical-align: top;\n",
       "    }\n",
       "\n",
       "    .dataframe thead th {\n",
       "        text-align: right;\n",
       "    }\n",
       "</style>\n",
       "<table border=\"1\" class=\"dataframe\">\n",
       "  <thead>\n",
       "    <tr style=\"text-align: right;\">\n",
       "      <th></th>\n",
       "      <th>messages_included</th>\n",
       "      <th>mb_per_month_included</th>\n",
       "      <th>minutes_included</th>\n",
       "      <th>usd_monthly_pay</th>\n",
       "      <th>usd_per_gb</th>\n",
       "      <th>usd_per_message</th>\n",
       "      <th>usd_per_minute</th>\n",
       "      <th>plan_name</th>\n",
       "    </tr>\n",
       "  </thead>\n",
       "  <tbody>\n",
       "    <tr>\n",
       "      <td>0</td>\n",
       "      <td>50</td>\n",
       "      <td>15360</td>\n",
       "      <td>500</td>\n",
       "      <td>20</td>\n",
       "      <td>10</td>\n",
       "      <td>0.03</td>\n",
       "      <td>0.03</td>\n",
       "      <td>surf</td>\n",
       "    </tr>\n",
       "    <tr>\n",
       "      <td>1</td>\n",
       "      <td>1000</td>\n",
       "      <td>30720</td>\n",
       "      <td>3000</td>\n",
       "      <td>70</td>\n",
       "      <td>7</td>\n",
       "      <td>0.01</td>\n",
       "      <td>0.01</td>\n",
       "      <td>ultimate</td>\n",
       "    </tr>\n",
       "  </tbody>\n",
       "</table>\n",
       "</div>"
      ],
      "text/plain": [
       "   messages_included  mb_per_month_included  minutes_included  \\\n",
       "0                 50                  15360               500   \n",
       "1               1000                  30720              3000   \n",
       "\n",
       "   usd_monthly_pay  usd_per_gb  usd_per_message  usd_per_minute plan_name  \n",
       "0               20          10             0.03            0.03      surf  \n",
       "1               70           7             0.01            0.01  ultimate  "
      ]
     },
     "execution_count": 6,
     "metadata": {},
     "output_type": "execute_result"
    },
    {
     "data": {
      "text/plain": [
       "'users_df'"
      ]
     },
     "execution_count": 6,
     "metadata": {},
     "output_type": "execute_result"
    },
    {
     "data": {
      "text/html": [
       "<div>\n",
       "<style scoped>\n",
       "    .dataframe tbody tr th:only-of-type {\n",
       "        vertical-align: middle;\n",
       "    }\n",
       "\n",
       "    .dataframe tbody tr th {\n",
       "        vertical-align: top;\n",
       "    }\n",
       "\n",
       "    .dataframe thead th {\n",
       "        text-align: right;\n",
       "    }\n",
       "</style>\n",
       "<table border=\"1\" class=\"dataframe\">\n",
       "  <thead>\n",
       "    <tr style=\"text-align: right;\">\n",
       "      <th></th>\n",
       "      <th>user_id</th>\n",
       "      <th>first_name</th>\n",
       "      <th>last_name</th>\n",
       "      <th>age</th>\n",
       "      <th>city</th>\n",
       "      <th>reg_date</th>\n",
       "      <th>plan</th>\n",
       "      <th>churn_date</th>\n",
       "    </tr>\n",
       "  </thead>\n",
       "  <tbody>\n",
       "    <tr>\n",
       "      <td>342</td>\n",
       "      <td>1342</td>\n",
       "      <td>Eugene</td>\n",
       "      <td>Patton</td>\n",
       "      <td>65</td>\n",
       "      <td>Indianapolis-Carmel-Anderson, IN MSA</td>\n",
       "      <td>2018-10-21</td>\n",
       "      <td>surf</td>\n",
       "      <td>NaN</td>\n",
       "    </tr>\n",
       "    <tr>\n",
       "      <td>370</td>\n",
       "      <td>1370</td>\n",
       "      <td>Nenita</td>\n",
       "      <td>Vasquez</td>\n",
       "      <td>49</td>\n",
       "      <td>San Diego-Chula Vista-Carlsbad, CA MSA</td>\n",
       "      <td>2018-09-12</td>\n",
       "      <td>ultimate</td>\n",
       "      <td>NaN</td>\n",
       "    </tr>\n",
       "  </tbody>\n",
       "</table>\n",
       "</div>"
      ],
      "text/plain": [
       "     user_id first_name last_name  age  \\\n",
       "342     1342     Eugene    Patton   65   \n",
       "370     1370     Nenita   Vasquez   49   \n",
       "\n",
       "                                       city    reg_date      plan churn_date  \n",
       "342    Indianapolis-Carmel-Anderson, IN MSA  2018-10-21      surf        NaN  \n",
       "370  San Diego-Chula Vista-Carlsbad, CA MSA  2018-09-12  ultimate        NaN  "
      ]
     },
     "execution_count": 6,
     "metadata": {},
     "output_type": "execute_result"
    }
   ],
   "source": [
    "for name, ds in megaline_datasets.items():\n",
    "    f\"{name}\"\n",
    "    ds.sample(2)"
   ]
  },
  {
   "cell_type": "markdown",
   "id": "510c01e7",
   "metadata": {},
   "source": [
    "As we can see some columns columns have the object(str) data type. We are going to change these columns to the correct data types."
   ]
  },
  {
   "cell_type": "code",
   "execution_count": 7,
   "id": "8c5ad5c7",
   "metadata": {},
   "outputs": [],
   "source": [
    "calls_df[\"call_date\"] = pd.to_datetime(calls_df[\"call_date\"], format='%Y-%m-%d')\n",
    "internet_df[\"session_date\"] = pd.to_datetime(internet_df[\"session_date\"], format='%Y-%m-%d')\n",
    "messages_df[\"message_date\"] = pd.to_datetime(messages_df[\"message_date\"], format='%Y-%m-%d')\n",
    "users_df[\"reg_date\"] = pd.to_datetime(users_df[\"reg_date\"], format='%Y-%m-%d')\n",
    "users_df[\"churn_date\"] = pd.to_datetime(users_df[\"churn_date\"], format='%Y-%m-%d')"
   ]
  },
  {
   "cell_type": "markdown",
   "id": "e44fe1b6",
   "metadata": {},
   "source": [
    "Now we are going to check for missing data in these datasets by using a missing ratio."
   ]
  },
  {
   "cell_type": "code",
   "execution_count": 8,
   "id": "425681f4",
   "metadata": {},
   "outputs": [],
   "source": [
    "def missing_values(df):\n",
    "  df_nulls=pd.concat([df.dtypes, df.isna().sum(), df.isna().sum()/len(df)], axis=1)\n",
    "  df_nulls.columns = [\"type\",\"count\",\"missing_ratio\"]\n",
    "  df_nulls=df_nulls[df_nulls[\"count\"]>0]\n",
    "  df_nulls.sort_values(by=\"missing_ratio\", ascending=False)\n",
    "  return df_nulls"
   ]
  },
  {
   "cell_type": "code",
   "execution_count": 9,
   "id": "e4f913ca",
   "metadata": {},
   "outputs": [
    {
     "name": "stdout",
     "output_type": "stream",
     "text": [
      "calls_df\n"
     ]
    },
    {
     "data": {
      "text/html": [
       "<div>\n",
       "<style scoped>\n",
       "    .dataframe tbody tr th:only-of-type {\n",
       "        vertical-align: middle;\n",
       "    }\n",
       "\n",
       "    .dataframe tbody tr th {\n",
       "        vertical-align: top;\n",
       "    }\n",
       "\n",
       "    .dataframe thead th {\n",
       "        text-align: right;\n",
       "    }\n",
       "</style>\n",
       "<table border=\"1\" class=\"dataframe\">\n",
       "  <thead>\n",
       "    <tr style=\"text-align: right;\">\n",
       "      <th></th>\n",
       "      <th>type</th>\n",
       "      <th>count</th>\n",
       "      <th>missing_ratio</th>\n",
       "    </tr>\n",
       "  </thead>\n",
       "  <tbody>\n",
       "  </tbody>\n",
       "</table>\n",
       "</div>"
      ],
      "text/plain": [
       "Empty DataFrame\n",
       "Columns: [type, count, missing_ratio]\n",
       "Index: []"
      ]
     },
     "execution_count": 9,
     "metadata": {},
     "output_type": "execute_result"
    },
    {
     "name": "stdout",
     "output_type": "stream",
     "text": [
      "internet_df\n"
     ]
    },
    {
     "data": {
      "text/html": [
       "<div>\n",
       "<style scoped>\n",
       "    .dataframe tbody tr th:only-of-type {\n",
       "        vertical-align: middle;\n",
       "    }\n",
       "\n",
       "    .dataframe tbody tr th {\n",
       "        vertical-align: top;\n",
       "    }\n",
       "\n",
       "    .dataframe thead th {\n",
       "        text-align: right;\n",
       "    }\n",
       "</style>\n",
       "<table border=\"1\" class=\"dataframe\">\n",
       "  <thead>\n",
       "    <tr style=\"text-align: right;\">\n",
       "      <th></th>\n",
       "      <th>type</th>\n",
       "      <th>count</th>\n",
       "      <th>missing_ratio</th>\n",
       "    </tr>\n",
       "  </thead>\n",
       "  <tbody>\n",
       "  </tbody>\n",
       "</table>\n",
       "</div>"
      ],
      "text/plain": [
       "Empty DataFrame\n",
       "Columns: [type, count, missing_ratio]\n",
       "Index: []"
      ]
     },
     "execution_count": 9,
     "metadata": {},
     "output_type": "execute_result"
    },
    {
     "name": "stdout",
     "output_type": "stream",
     "text": [
      "messages_df\n"
     ]
    },
    {
     "data": {
      "text/html": [
       "<div>\n",
       "<style scoped>\n",
       "    .dataframe tbody tr th:only-of-type {\n",
       "        vertical-align: middle;\n",
       "    }\n",
       "\n",
       "    .dataframe tbody tr th {\n",
       "        vertical-align: top;\n",
       "    }\n",
       "\n",
       "    .dataframe thead th {\n",
       "        text-align: right;\n",
       "    }\n",
       "</style>\n",
       "<table border=\"1\" class=\"dataframe\">\n",
       "  <thead>\n",
       "    <tr style=\"text-align: right;\">\n",
       "      <th></th>\n",
       "      <th>type</th>\n",
       "      <th>count</th>\n",
       "      <th>missing_ratio</th>\n",
       "    </tr>\n",
       "  </thead>\n",
       "  <tbody>\n",
       "  </tbody>\n",
       "</table>\n",
       "</div>"
      ],
      "text/plain": [
       "Empty DataFrame\n",
       "Columns: [type, count, missing_ratio]\n",
       "Index: []"
      ]
     },
     "execution_count": 9,
     "metadata": {},
     "output_type": "execute_result"
    },
    {
     "name": "stdout",
     "output_type": "stream",
     "text": [
      "plans_df\n"
     ]
    },
    {
     "data": {
      "text/html": [
       "<div>\n",
       "<style scoped>\n",
       "    .dataframe tbody tr th:only-of-type {\n",
       "        vertical-align: middle;\n",
       "    }\n",
       "\n",
       "    .dataframe tbody tr th {\n",
       "        vertical-align: top;\n",
       "    }\n",
       "\n",
       "    .dataframe thead th {\n",
       "        text-align: right;\n",
       "    }\n",
       "</style>\n",
       "<table border=\"1\" class=\"dataframe\">\n",
       "  <thead>\n",
       "    <tr style=\"text-align: right;\">\n",
       "      <th></th>\n",
       "      <th>type</th>\n",
       "      <th>count</th>\n",
       "      <th>missing_ratio</th>\n",
       "    </tr>\n",
       "  </thead>\n",
       "  <tbody>\n",
       "  </tbody>\n",
       "</table>\n",
       "</div>"
      ],
      "text/plain": [
       "Empty DataFrame\n",
       "Columns: [type, count, missing_ratio]\n",
       "Index: []"
      ]
     },
     "execution_count": 9,
     "metadata": {},
     "output_type": "execute_result"
    },
    {
     "name": "stdout",
     "output_type": "stream",
     "text": [
      "users_df\n"
     ]
    },
    {
     "data": {
      "text/html": [
       "<div>\n",
       "<style scoped>\n",
       "    .dataframe tbody tr th:only-of-type {\n",
       "        vertical-align: middle;\n",
       "    }\n",
       "\n",
       "    .dataframe tbody tr th {\n",
       "        vertical-align: top;\n",
       "    }\n",
       "\n",
       "    .dataframe thead th {\n",
       "        text-align: right;\n",
       "    }\n",
       "</style>\n",
       "<table border=\"1\" class=\"dataframe\">\n",
       "  <thead>\n",
       "    <tr style=\"text-align: right;\">\n",
       "      <th></th>\n",
       "      <th>type</th>\n",
       "      <th>count</th>\n",
       "      <th>missing_ratio</th>\n",
       "    </tr>\n",
       "  </thead>\n",
       "  <tbody>\n",
       "    <tr>\n",
       "      <td>churn_date</td>\n",
       "      <td>datetime64[ns]</td>\n",
       "      <td>466</td>\n",
       "      <td>0.932</td>\n",
       "    </tr>\n",
       "  </tbody>\n",
       "</table>\n",
       "</div>"
      ],
      "text/plain": [
       "                      type  count  missing_ratio\n",
       "churn_date  datetime64[ns]    466          0.932"
      ]
     },
     "execution_count": 9,
     "metadata": {},
     "output_type": "execute_result"
    }
   ],
   "source": [
    "for name, ds in megaline_datasets.items():\n",
    "  print(name)\n",
    "  missing_values(ds)"
   ]
  },
  {
   "cell_type": "markdown",
   "id": "15546bc7",
   "metadata": {},
   "source": [
    "In the megaline_users dataset there is over 93% data missing in the *churn_date* column. This does not cause me to be alarmed because the *churn_date* is the date the user stopped using the service (if the value is missing, the calling plan was being used when this database was extracted). That means users are still using the service. We will use the data from the *churn_date* column to create a new column called *used_days* and we will delete the *churn_date* with all the missing data."
   ]
  },
  {
   "cell_type": "code",
   "execution_count": 10,
   "id": "364f4d62",
   "metadata": {},
   "outputs": [
    {
     "data": {
      "text/plain": [
       "Index(['user_id', 'first_name', 'last_name', 'age', 'city', 'reg_date', 'plan',\n",
       "       'churn_date'],\n",
       "      dtype='object')"
      ]
     },
     "execution_count": 10,
     "metadata": {},
     "output_type": "execute_result"
    }
   ],
   "source": [
    "users_df.columns"
   ]
  },
  {
   "cell_type": "code",
   "execution_count": 11,
   "id": "df6379eb",
   "metadata": {},
   "outputs": [],
   "source": [
    "users_df.loc[users_df[\"churn_date\"].isna(), \"churn_date\"] = pd.datetime.now().date()\n",
    "users_df[\"churn_date\"] = pd.to_datetime(users_df[\"churn_date\"], format='%Y-%m-%d')\n",
    "users_df[\"used_days\"] = (users_df[\"churn_date\"]-users_df[\"reg_date\"]).dt.days\n",
    "users_df = users_df.drop([\"churn_date\"], axis=1)"
   ]
  },
  {
   "cell_type": "code",
   "execution_count": 12,
   "id": "cee48340",
   "metadata": {},
   "outputs": [],
   "source": [
    "def describe_full(df):\n",
    "    data_describe = df.describe().T\n",
    "    df_numeric=df._get_numeric_data()\n",
    "    dtype_df=df_numeric.dtypes\n",
    "    data_describe['dtypes']=dtype_df\n",
    "    data_null = df_numeric.isnull().sum()/len(df) * 100\n",
    "    data_describe['Missing %']=data_null\n",
    "    Cardinality=df_numeric.apply(pd.Series.nunique)\n",
    "    data_describe['Cardinality']=Cardinality\n",
    "    df_skew=df_numeric.skew(axis = 0, skipna = True) \n",
    "    data_describe['Skew']=df_skew\n",
    "    return data_describe"
   ]
  },
  {
   "cell_type": "code",
   "execution_count": 13,
   "id": "a3826191",
   "metadata": {},
   "outputs": [
    {
     "name": "stdout",
     "output_type": "stream",
     "text": [
      "calls_df\n"
     ]
    },
    {
     "data": {
      "text/html": [
       "<div>\n",
       "<style scoped>\n",
       "    .dataframe tbody tr th:only-of-type {\n",
       "        vertical-align: middle;\n",
       "    }\n",
       "\n",
       "    .dataframe tbody tr th {\n",
       "        vertical-align: top;\n",
       "    }\n",
       "\n",
       "    .dataframe thead th {\n",
       "        text-align: right;\n",
       "    }\n",
       "</style>\n",
       "<table border=\"1\" class=\"dataframe\">\n",
       "  <thead>\n",
       "    <tr style=\"text-align: right;\">\n",
       "      <th></th>\n",
       "      <th>count</th>\n",
       "      <th>mean</th>\n",
       "      <th>std</th>\n",
       "      <th>min</th>\n",
       "      <th>25%</th>\n",
       "      <th>50%</th>\n",
       "      <th>75%</th>\n",
       "      <th>max</th>\n",
       "      <th>dtypes</th>\n",
       "      <th>Missing %</th>\n",
       "      <th>Cardinality</th>\n",
       "      <th>Skew</th>\n",
       "    </tr>\n",
       "  </thead>\n",
       "  <tbody>\n",
       "    <tr>\n",
       "      <td>user_id</td>\n",
       "      <td>137735.0</td>\n",
       "      <td>1247.658046</td>\n",
       "      <td>139.416268</td>\n",
       "      <td>1000.0</td>\n",
       "      <td>1128.00</td>\n",
       "      <td>1247.00</td>\n",
       "      <td>1365.00</td>\n",
       "      <td>1499.0</td>\n",
       "      <td>int64</td>\n",
       "      <td>0.0</td>\n",
       "      <td>481</td>\n",
       "      <td>0.010325</td>\n",
       "    </tr>\n",
       "    <tr>\n",
       "      <td>duration</td>\n",
       "      <td>137735.0</td>\n",
       "      <td>6.745927</td>\n",
       "      <td>5.839241</td>\n",
       "      <td>0.0</td>\n",
       "      <td>1.29</td>\n",
       "      <td>5.98</td>\n",
       "      <td>10.69</td>\n",
       "      <td>37.6</td>\n",
       "      <td>float64</td>\n",
       "      <td>0.0</td>\n",
       "      <td>2802</td>\n",
       "      <td>0.693502</td>\n",
       "    </tr>\n",
       "  </tbody>\n",
       "</table>\n",
       "</div>"
      ],
      "text/plain": [
       "             count         mean         std     min      25%      50%  \\\n",
       "user_id   137735.0  1247.658046  139.416268  1000.0  1128.00  1247.00   \n",
       "duration  137735.0     6.745927    5.839241     0.0     1.29     5.98   \n",
       "\n",
       "              75%     max   dtypes  Missing %  Cardinality      Skew  \n",
       "user_id   1365.00  1499.0    int64        0.0          481  0.010325  \n",
       "duration    10.69    37.6  float64        0.0         2802  0.693502  "
      ]
     },
     "execution_count": 13,
     "metadata": {},
     "output_type": "execute_result"
    },
    {
     "name": "stdout",
     "output_type": "stream",
     "text": [
      "internet_df\n"
     ]
    },
    {
     "data": {
      "text/html": [
       "<div>\n",
       "<style scoped>\n",
       "    .dataframe tbody tr th:only-of-type {\n",
       "        vertical-align: middle;\n",
       "    }\n",
       "\n",
       "    .dataframe tbody tr th {\n",
       "        vertical-align: top;\n",
       "    }\n",
       "\n",
       "    .dataframe thead th {\n",
       "        text-align: right;\n",
       "    }\n",
       "</style>\n",
       "<table border=\"1\" class=\"dataframe\">\n",
       "  <thead>\n",
       "    <tr style=\"text-align: right;\">\n",
       "      <th></th>\n",
       "      <th>count</th>\n",
       "      <th>mean</th>\n",
       "      <th>std</th>\n",
       "      <th>min</th>\n",
       "      <th>25%</th>\n",
       "      <th>50%</th>\n",
       "      <th>75%</th>\n",
       "      <th>max</th>\n",
       "      <th>dtypes</th>\n",
       "      <th>Missing %</th>\n",
       "      <th>Cardinality</th>\n",
       "      <th>Skew</th>\n",
       "    </tr>\n",
       "  </thead>\n",
       "  <tbody>\n",
       "    <tr>\n",
       "      <td>user_id</td>\n",
       "      <td>104825.0</td>\n",
       "      <td>1242.496361</td>\n",
       "      <td>142.053913</td>\n",
       "      <td>1000.0</td>\n",
       "      <td>1122.00</td>\n",
       "      <td>1236.00</td>\n",
       "      <td>1367.00</td>\n",
       "      <td>1499.00</td>\n",
       "      <td>int64</td>\n",
       "      <td>0.0</td>\n",
       "      <td>489</td>\n",
       "      <td>0.080268</td>\n",
       "    </tr>\n",
       "    <tr>\n",
       "      <td>mb_used</td>\n",
       "      <td>104825.0</td>\n",
       "      <td>366.713701</td>\n",
       "      <td>277.170542</td>\n",
       "      <td>0.0</td>\n",
       "      <td>136.08</td>\n",
       "      <td>343.98</td>\n",
       "      <td>554.61</td>\n",
       "      <td>1693.47</td>\n",
       "      <td>float64</td>\n",
       "      <td>0.0</td>\n",
       "      <td>57624</td>\n",
       "      <td>0.532269</td>\n",
       "    </tr>\n",
       "  </tbody>\n",
       "</table>\n",
       "</div>"
      ],
      "text/plain": [
       "            count         mean         std     min      25%      50%      75%  \\\n",
       "user_id  104825.0  1242.496361  142.053913  1000.0  1122.00  1236.00  1367.00   \n",
       "mb_used  104825.0   366.713701  277.170542     0.0   136.08   343.98   554.61   \n",
       "\n",
       "             max   dtypes  Missing %  Cardinality      Skew  \n",
       "user_id  1499.00    int64        0.0          489  0.080268  \n",
       "mb_used  1693.47  float64        0.0        57624  0.532269  "
      ]
     },
     "execution_count": 13,
     "metadata": {},
     "output_type": "execute_result"
    },
    {
     "name": "stdout",
     "output_type": "stream",
     "text": [
      "messages_df\n"
     ]
    },
    {
     "data": {
      "text/html": [
       "<div>\n",
       "<style scoped>\n",
       "    .dataframe tbody tr th:only-of-type {\n",
       "        vertical-align: middle;\n",
       "    }\n",
       "\n",
       "    .dataframe tbody tr th {\n",
       "        vertical-align: top;\n",
       "    }\n",
       "\n",
       "    .dataframe thead th {\n",
       "        text-align: right;\n",
       "    }\n",
       "</style>\n",
       "<table border=\"1\" class=\"dataframe\">\n",
       "  <thead>\n",
       "    <tr style=\"text-align: right;\">\n",
       "      <th></th>\n",
       "      <th>count</th>\n",
       "      <th>mean</th>\n",
       "      <th>std</th>\n",
       "      <th>min</th>\n",
       "      <th>25%</th>\n",
       "      <th>50%</th>\n",
       "      <th>75%</th>\n",
       "      <th>max</th>\n",
       "      <th>dtypes</th>\n",
       "      <th>Missing %</th>\n",
       "      <th>Cardinality</th>\n",
       "      <th>Skew</th>\n",
       "    </tr>\n",
       "  </thead>\n",
       "  <tbody>\n",
       "    <tr>\n",
       "      <td>user_id</td>\n",
       "      <td>76051.0</td>\n",
       "      <td>1245.972768</td>\n",
       "      <td>139.843635</td>\n",
       "      <td>1000.0</td>\n",
       "      <td>1123.0</td>\n",
       "      <td>1251.0</td>\n",
       "      <td>1362.0</td>\n",
       "      <td>1497.0</td>\n",
       "      <td>int64</td>\n",
       "      <td>0.0</td>\n",
       "      <td>402</td>\n",
       "      <td>0.042754</td>\n",
       "    </tr>\n",
       "  </tbody>\n",
       "</table>\n",
       "</div>"
      ],
      "text/plain": [
       "           count         mean         std     min     25%     50%     75%  \\\n",
       "user_id  76051.0  1245.972768  139.843635  1000.0  1123.0  1251.0  1362.0   \n",
       "\n",
       "            max dtypes  Missing %  Cardinality      Skew  \n",
       "user_id  1497.0  int64        0.0          402  0.042754  "
      ]
     },
     "execution_count": 13,
     "metadata": {},
     "output_type": "execute_result"
    },
    {
     "name": "stdout",
     "output_type": "stream",
     "text": [
      "plans_df\n"
     ]
    },
    {
     "data": {
      "text/html": [
       "<div>\n",
       "<style scoped>\n",
       "    .dataframe tbody tr th:only-of-type {\n",
       "        vertical-align: middle;\n",
       "    }\n",
       "\n",
       "    .dataframe tbody tr th {\n",
       "        vertical-align: top;\n",
       "    }\n",
       "\n",
       "    .dataframe thead th {\n",
       "        text-align: right;\n",
       "    }\n",
       "</style>\n",
       "<table border=\"1\" class=\"dataframe\">\n",
       "  <thead>\n",
       "    <tr style=\"text-align: right;\">\n",
       "      <th></th>\n",
       "      <th>count</th>\n",
       "      <th>mean</th>\n",
       "      <th>std</th>\n",
       "      <th>min</th>\n",
       "      <th>25%</th>\n",
       "      <th>50%</th>\n",
       "      <th>75%</th>\n",
       "      <th>max</th>\n",
       "      <th>dtypes</th>\n",
       "      <th>Missing %</th>\n",
       "      <th>Cardinality</th>\n",
       "      <th>Skew</th>\n",
       "    </tr>\n",
       "  </thead>\n",
       "  <tbody>\n",
       "    <tr>\n",
       "      <td>messages_included</td>\n",
       "      <td>2.0</td>\n",
       "      <td>525.00</td>\n",
       "      <td>671.751442</td>\n",
       "      <td>50.00</td>\n",
       "      <td>287.500</td>\n",
       "      <td>525.00</td>\n",
       "      <td>762.500</td>\n",
       "      <td>1000.00</td>\n",
       "      <td>int64</td>\n",
       "      <td>0.0</td>\n",
       "      <td>2</td>\n",
       "      <td>NaN</td>\n",
       "    </tr>\n",
       "    <tr>\n",
       "      <td>mb_per_month_included</td>\n",
       "      <td>2.0</td>\n",
       "      <td>23040.00</td>\n",
       "      <td>10861.160159</td>\n",
       "      <td>15360.00</td>\n",
       "      <td>19200.000</td>\n",
       "      <td>23040.00</td>\n",
       "      <td>26880.000</td>\n",
       "      <td>30720.00</td>\n",
       "      <td>int64</td>\n",
       "      <td>0.0</td>\n",
       "      <td>2</td>\n",
       "      <td>NaN</td>\n",
       "    </tr>\n",
       "    <tr>\n",
       "      <td>minutes_included</td>\n",
       "      <td>2.0</td>\n",
       "      <td>1750.00</td>\n",
       "      <td>1767.766953</td>\n",
       "      <td>500.00</td>\n",
       "      <td>1125.000</td>\n",
       "      <td>1750.00</td>\n",
       "      <td>2375.000</td>\n",
       "      <td>3000.00</td>\n",
       "      <td>int64</td>\n",
       "      <td>0.0</td>\n",
       "      <td>2</td>\n",
       "      <td>NaN</td>\n",
       "    </tr>\n",
       "    <tr>\n",
       "      <td>usd_monthly_pay</td>\n",
       "      <td>2.0</td>\n",
       "      <td>45.00</td>\n",
       "      <td>35.355339</td>\n",
       "      <td>20.00</td>\n",
       "      <td>32.500</td>\n",
       "      <td>45.00</td>\n",
       "      <td>57.500</td>\n",
       "      <td>70.00</td>\n",
       "      <td>int64</td>\n",
       "      <td>0.0</td>\n",
       "      <td>2</td>\n",
       "      <td>NaN</td>\n",
       "    </tr>\n",
       "    <tr>\n",
       "      <td>usd_per_gb</td>\n",
       "      <td>2.0</td>\n",
       "      <td>8.50</td>\n",
       "      <td>2.121320</td>\n",
       "      <td>7.00</td>\n",
       "      <td>7.750</td>\n",
       "      <td>8.50</td>\n",
       "      <td>9.250</td>\n",
       "      <td>10.00</td>\n",
       "      <td>int64</td>\n",
       "      <td>0.0</td>\n",
       "      <td>2</td>\n",
       "      <td>NaN</td>\n",
       "    </tr>\n",
       "    <tr>\n",
       "      <td>usd_per_message</td>\n",
       "      <td>2.0</td>\n",
       "      <td>0.02</td>\n",
       "      <td>0.014142</td>\n",
       "      <td>0.01</td>\n",
       "      <td>0.015</td>\n",
       "      <td>0.02</td>\n",
       "      <td>0.025</td>\n",
       "      <td>0.03</td>\n",
       "      <td>float64</td>\n",
       "      <td>0.0</td>\n",
       "      <td>2</td>\n",
       "      <td>NaN</td>\n",
       "    </tr>\n",
       "    <tr>\n",
       "      <td>usd_per_minute</td>\n",
       "      <td>2.0</td>\n",
       "      <td>0.02</td>\n",
       "      <td>0.014142</td>\n",
       "      <td>0.01</td>\n",
       "      <td>0.015</td>\n",
       "      <td>0.02</td>\n",
       "      <td>0.025</td>\n",
       "      <td>0.03</td>\n",
       "      <td>float64</td>\n",
       "      <td>0.0</td>\n",
       "      <td>2</td>\n",
       "      <td>NaN</td>\n",
       "    </tr>\n",
       "  </tbody>\n",
       "</table>\n",
       "</div>"
      ],
      "text/plain": [
       "                       count      mean           std       min        25%  \\\n",
       "messages_included        2.0    525.00    671.751442     50.00    287.500   \n",
       "mb_per_month_included    2.0  23040.00  10861.160159  15360.00  19200.000   \n",
       "minutes_included         2.0   1750.00   1767.766953    500.00   1125.000   \n",
       "usd_monthly_pay          2.0     45.00     35.355339     20.00     32.500   \n",
       "usd_per_gb               2.0      8.50      2.121320      7.00      7.750   \n",
       "usd_per_message          2.0      0.02      0.014142      0.01      0.015   \n",
       "usd_per_minute           2.0      0.02      0.014142      0.01      0.015   \n",
       "\n",
       "                            50%        75%       max   dtypes  Missing %  \\\n",
       "messages_included        525.00    762.500   1000.00    int64        0.0   \n",
       "mb_per_month_included  23040.00  26880.000  30720.00    int64        0.0   \n",
       "minutes_included        1750.00   2375.000   3000.00    int64        0.0   \n",
       "usd_monthly_pay           45.00     57.500     70.00    int64        0.0   \n",
       "usd_per_gb                 8.50      9.250     10.00    int64        0.0   \n",
       "usd_per_message            0.02      0.025      0.03  float64        0.0   \n",
       "usd_per_minute             0.02      0.025      0.03  float64        0.0   \n",
       "\n",
       "                       Cardinality  Skew  \n",
       "messages_included                2   NaN  \n",
       "mb_per_month_included            2   NaN  \n",
       "minutes_included                 2   NaN  \n",
       "usd_monthly_pay                  2   NaN  \n",
       "usd_per_gb                       2   NaN  \n",
       "usd_per_message                  2   NaN  \n",
       "usd_per_minute                   2   NaN  "
      ]
     },
     "execution_count": 13,
     "metadata": {},
     "output_type": "execute_result"
    },
    {
     "name": "stdout",
     "output_type": "stream",
     "text": [
      "users_df\n"
     ]
    },
    {
     "data": {
      "text/html": [
       "<div>\n",
       "<style scoped>\n",
       "    .dataframe tbody tr th:only-of-type {\n",
       "        vertical-align: middle;\n",
       "    }\n",
       "\n",
       "    .dataframe tbody tr th {\n",
       "        vertical-align: top;\n",
       "    }\n",
       "\n",
       "    .dataframe thead th {\n",
       "        text-align: right;\n",
       "    }\n",
       "</style>\n",
       "<table border=\"1\" class=\"dataframe\">\n",
       "  <thead>\n",
       "    <tr style=\"text-align: right;\">\n",
       "      <th></th>\n",
       "      <th>count</th>\n",
       "      <th>mean</th>\n",
       "      <th>std</th>\n",
       "      <th>min</th>\n",
       "      <th>25%</th>\n",
       "      <th>50%</th>\n",
       "      <th>75%</th>\n",
       "      <th>max</th>\n",
       "      <th>dtypes</th>\n",
       "      <th>Missing %</th>\n",
       "      <th>Cardinality</th>\n",
       "      <th>Skew</th>\n",
       "    </tr>\n",
       "  </thead>\n",
       "  <tbody>\n",
       "    <tr>\n",
       "      <td>user_id</td>\n",
       "      <td>500.0</td>\n",
       "      <td>1249.500</td>\n",
       "      <td>144.481833</td>\n",
       "      <td>1000.0</td>\n",
       "      <td>1124.75</td>\n",
       "      <td>1249.5</td>\n",
       "      <td>1374.25</td>\n",
       "      <td>1499.0</td>\n",
       "      <td>int64</td>\n",
       "      <td>0.0</td>\n",
       "      <td>500</td>\n",
       "      <td>0.000000</td>\n",
       "    </tr>\n",
       "    <tr>\n",
       "      <td>age</td>\n",
       "      <td>500.0</td>\n",
       "      <td>45.486</td>\n",
       "      <td>16.972269</td>\n",
       "      <td>18.0</td>\n",
       "      <td>30.00</td>\n",
       "      <td>46.0</td>\n",
       "      <td>61.00</td>\n",
       "      <td>75.0</td>\n",
       "      <td>int64</td>\n",
       "      <td>0.0</td>\n",
       "      <td>58</td>\n",
       "      <td>0.040081</td>\n",
       "    </tr>\n",
       "    <tr>\n",
       "      <td>used_days</td>\n",
       "      <td>500.0</td>\n",
       "      <td>1114.180</td>\n",
       "      <td>282.518497</td>\n",
       "      <td>7.0</td>\n",
       "      <td>1077.25</td>\n",
       "      <td>1178.5</td>\n",
       "      <td>1267.00</td>\n",
       "      <td>1360.0</td>\n",
       "      <td>int64</td>\n",
       "      <td>0.0</td>\n",
       "      <td>286</td>\n",
       "      <td>-2.749921</td>\n",
       "    </tr>\n",
       "  </tbody>\n",
       "</table>\n",
       "</div>"
      ],
      "text/plain": [
       "           count      mean         std     min      25%     50%      75%  \\\n",
       "user_id    500.0  1249.500  144.481833  1000.0  1124.75  1249.5  1374.25   \n",
       "age        500.0    45.486   16.972269    18.0    30.00    46.0    61.00   \n",
       "used_days  500.0  1114.180  282.518497     7.0  1077.25  1178.5  1267.00   \n",
       "\n",
       "              max dtypes  Missing %  Cardinality      Skew  \n",
       "user_id    1499.0  int64        0.0          500  0.000000  \n",
       "age          75.0  int64        0.0           58  0.040081  \n",
       "used_days  1360.0  int64        0.0          286 -2.749921  "
      ]
     },
     "execution_count": 13,
     "metadata": {},
     "output_type": "execute_result"
    }
   ],
   "source": [
    "for name, ds in megaline_datasets.items():\n",
    "  print(name)\n",
    "  describe_full(ds)"
   ]
  },
  {
   "cell_type": "markdown",
   "id": "43660540",
   "metadata": {},
   "source": [
    "#### Call duration\n",
    "Let's round up all calls to minutes as per the company's policy."
   ]
  },
  {
   "cell_type": "code",
   "execution_count": 14,
   "id": "126c175e",
   "metadata": {},
   "outputs": [],
   "source": [
    "calls_df['total_min_month'] = np.ceil((calls_df['duration'].values))"
   ]
  },
  {
   "cell_type": "markdown",
   "id": "5cad3a69",
   "metadata": {},
   "source": [
    "#### Duplicates\n",
    "Let's check if any rows are duplicated in any data frames."
   ]
  },
  {
   "cell_type": "code",
   "execution_count": 15,
   "id": "ff6a486f",
   "metadata": {},
   "outputs": [
    {
     "name": "stdout",
     "output_type": "stream",
     "text": [
      "None\n",
      "None\n",
      "None\n",
      "None\n"
     ]
    }
   ],
   "source": [
    "result = []\n",
    "for df in [users_df, messages_df, calls_df, internet_df]:\n",
    "    print(result.append(df.duplicated().sum()))"
   ]
  },
  {
   "cell_type": "code",
   "execution_count": 16,
   "id": "32925268",
   "metadata": {},
   "outputs": [
    {
     "data": {
      "text/plain": [
       "19.48233927469416"
      ]
     },
     "execution_count": 16,
     "metadata": {},
     "output_type": "execute_result"
    }
   ],
   "source": [
    "(calls_df['duration'] == 0).sum()*100/len(calls_df)"
   ]
  },
  {
   "cell_type": "code",
   "execution_count": 17,
   "id": "dbfc5dd8",
   "metadata": {},
   "outputs": [
    {
     "data": {
      "text/plain": [
       "9.98076015537082"
      ]
     },
     "execution_count": 17,
     "metadata": {},
     "output_type": "execute_result"
    }
   ],
   "source": [
    "(internet_df['mb_used'] == 0).sum()*100/len(calls_df)"
   ]
  },
  {
   "cell_type": "markdown",
   "id": "ee286cb9",
   "metadata": {},
   "source": [
    "In the *duration* column in our calls_df data frame has 19.48% zero values which could throw off our true understanding of this analysis.\n",
    "\n",
    "In the *mb_used* column in our internet_df data frame has ~10% zero values which could throw off our true understanding on this analysis. \n",
    "\n",
    "To deal with these issues, for both columns, I will fill the zero values in these columns with the mean value of each column."
   ]
  },
  {
   "cell_type": "code",
   "execution_count": 18,
   "id": "d551c33d",
   "metadata": {},
   "outputs": [],
   "source": [
    "calls_df['duration'] = calls_df['duration'].replace(0, calls_df['duration'].mean())"
   ]
  },
  {
   "cell_type": "code",
   "execution_count": 19,
   "id": "11480c42",
   "metadata": {},
   "outputs": [
    {
     "data": {
      "text/plain": [
       "0.0"
      ]
     },
     "execution_count": 19,
     "metadata": {},
     "output_type": "execute_result"
    }
   ],
   "source": [
    "(calls_df['duration'] == 0).sum()*100/len(calls_df)"
   ]
  },
  {
   "cell_type": "code",
   "execution_count": 20,
   "id": "92dc1c29",
   "metadata": {},
   "outputs": [],
   "source": [
    "internet_df['mb_used'] = internet_df['mb_used'].replace(0, internet_df['mb_used'].mean())"
   ]
  },
  {
   "cell_type": "code",
   "execution_count": 21,
   "id": "14f0fd68",
   "metadata": {},
   "outputs": [
    {
     "data": {
      "text/plain": [
       "0.0"
      ]
     },
     "execution_count": 21,
     "metadata": {},
     "output_type": "execute_result"
    }
   ],
   "source": [
    "(internet_df['mb_used'] == 0).sum()*100/len(calls_df)"
   ]
  },
  {
   "cell_type": "markdown",
   "id": "6a67f25f",
   "metadata": {},
   "source": [
    "### Calculations\n",
    "#### For each user, find:\n",
    "- The number of calls made and minutes used per month\n",
    "- The number of text messages sent per month\n",
    "- The volume of data per month\n",
    "- The monthly revenue from each user (subtract the free package limit from the total number of calls, text messages, and data; multiply the result by the calling plan value; add the monthly charge depending on the calling plan)"
   ]
  },
  {
   "cell_type": "markdown",
   "id": "8e7f655f",
   "metadata": {},
   "source": [
    "#### Calls per month\n",
    "To calculate the number of calls made and minutes used per month for each user, first we will extract month from the *call_date* column and then make a pivot table grouping by *user_id* and *call_month*."
   ]
  },
  {
   "cell_type": "code",
   "execution_count": 22,
   "id": "6c5a5b4d",
   "metadata": {},
   "outputs": [],
   "source": [
    "calls_df['month'] = calls_df['call_date'].dt.month"
   ]
  },
  {
   "cell_type": "code",
   "execution_count": 23,
   "id": "0df4a7a0",
   "metadata": {},
   "outputs": [],
   "source": [
    "calls_per_month = calls_df.pivot_table(index=['user_id','month'], values='total_min_month', aggfunc='sum')\n",
    "calls_per_month = calls_per_month.reset_index()"
   ]
  },
  {
   "cell_type": "code",
   "execution_count": 24,
   "id": "8cb48d90",
   "metadata": {},
   "outputs": [],
   "source": [
    "calls_per_month.columns = [\"user_id\",\"month\",\"total_min_month\"]"
   ]
  },
  {
   "cell_type": "code",
   "execution_count": 25,
   "id": "1426937f",
   "metadata": {},
   "outputs": [
    {
     "data": {
      "text/html": [
       "<div>\n",
       "<style scoped>\n",
       "    .dataframe tbody tr th:only-of-type {\n",
       "        vertical-align: middle;\n",
       "    }\n",
       "\n",
       "    .dataframe tbody tr th {\n",
       "        vertical-align: top;\n",
       "    }\n",
       "\n",
       "    .dataframe thead th {\n",
       "        text-align: right;\n",
       "    }\n",
       "</style>\n",
       "<table border=\"1\" class=\"dataframe\">\n",
       "  <thead>\n",
       "    <tr style=\"text-align: right;\">\n",
       "      <th></th>\n",
       "      <th>user_id</th>\n",
       "      <th>month</th>\n",
       "      <th>total_min_month</th>\n",
       "    </tr>\n",
       "  </thead>\n",
       "  <tbody>\n",
       "    <tr>\n",
       "      <td>0</td>\n",
       "      <td>1000</td>\n",
       "      <td>12</td>\n",
       "      <td>124.0</td>\n",
       "    </tr>\n",
       "    <tr>\n",
       "      <td>1</td>\n",
       "      <td>1001</td>\n",
       "      <td>8</td>\n",
       "      <td>182.0</td>\n",
       "    </tr>\n",
       "    <tr>\n",
       "      <td>2</td>\n",
       "      <td>1001</td>\n",
       "      <td>9</td>\n",
       "      <td>315.0</td>\n",
       "    </tr>\n",
       "    <tr>\n",
       "      <td>3</td>\n",
       "      <td>1001</td>\n",
       "      <td>10</td>\n",
       "      <td>393.0</td>\n",
       "    </tr>\n",
       "    <tr>\n",
       "      <td>4</td>\n",
       "      <td>1001</td>\n",
       "      <td>11</td>\n",
       "      <td>426.0</td>\n",
       "    </tr>\n",
       "  </tbody>\n",
       "</table>\n",
       "</div>"
      ],
      "text/plain": [
       "   user_id  month  total_min_month\n",
       "0     1000     12            124.0\n",
       "1     1001      8            182.0\n",
       "2     1001      9            315.0\n",
       "3     1001     10            393.0\n",
       "4     1001     11            426.0"
      ]
     },
     "execution_count": 25,
     "metadata": {},
     "output_type": "execute_result"
    }
   ],
   "source": [
    "calls_per_month.head()"
   ]
  },
  {
   "cell_type": "markdown",
   "id": "598dddfa",
   "metadata": {},
   "source": [
    "#### Messages per month\n",
    "To calculate the number of text messages per month for each user, first we will extract month from the message_date column and then make a pivot table grouping by *user_id* and *message_month*."
   ]
  },
  {
   "cell_type": "code",
   "execution_count": 26,
   "id": "75d1cc28",
   "metadata": {},
   "outputs": [],
   "source": [
    "messages_df['month'] = messages_df['message_date'].dt.month"
   ]
  },
  {
   "cell_type": "code",
   "execution_count": 27,
   "id": "72f04b51",
   "metadata": {},
   "outputs": [],
   "source": [
    "messages_per_month = messages_df.pivot_table(index=['user_id','month'], values='id', aggfunc='count')\n",
    "messages_per_month = messages_per_month.reset_index()\n",
    "messages_per_month.columns = ['user_id','month','num_messages_month']"
   ]
  },
  {
   "cell_type": "code",
   "execution_count": 28,
   "id": "99e001a3",
   "metadata": {},
   "outputs": [
    {
     "data": {
      "text/html": [
       "<div>\n",
       "<style scoped>\n",
       "    .dataframe tbody tr th:only-of-type {\n",
       "        vertical-align: middle;\n",
       "    }\n",
       "\n",
       "    .dataframe tbody tr th {\n",
       "        vertical-align: top;\n",
       "    }\n",
       "\n",
       "    .dataframe thead th {\n",
       "        text-align: right;\n",
       "    }\n",
       "</style>\n",
       "<table border=\"1\" class=\"dataframe\">\n",
       "  <thead>\n",
       "    <tr style=\"text-align: right;\">\n",
       "      <th></th>\n",
       "      <th>user_id</th>\n",
       "      <th>month</th>\n",
       "      <th>num_messages_month</th>\n",
       "    </tr>\n",
       "  </thead>\n",
       "  <tbody>\n",
       "    <tr>\n",
       "      <td>0</td>\n",
       "      <td>1000</td>\n",
       "      <td>12</td>\n",
       "      <td>11</td>\n",
       "    </tr>\n",
       "    <tr>\n",
       "      <td>1</td>\n",
       "      <td>1001</td>\n",
       "      <td>8</td>\n",
       "      <td>30</td>\n",
       "    </tr>\n",
       "    <tr>\n",
       "      <td>2</td>\n",
       "      <td>1001</td>\n",
       "      <td>9</td>\n",
       "      <td>44</td>\n",
       "    </tr>\n",
       "    <tr>\n",
       "      <td>3</td>\n",
       "      <td>1001</td>\n",
       "      <td>10</td>\n",
       "      <td>53</td>\n",
       "    </tr>\n",
       "    <tr>\n",
       "      <td>4</td>\n",
       "      <td>1001</td>\n",
       "      <td>11</td>\n",
       "      <td>36</td>\n",
       "    </tr>\n",
       "  </tbody>\n",
       "</table>\n",
       "</div>"
      ],
      "text/plain": [
       "   user_id  month  num_messages_month\n",
       "0     1000     12                  11\n",
       "1     1001      8                  30\n",
       "2     1001      9                  44\n",
       "3     1001     10                  53\n",
       "4     1001     11                  36"
      ]
     },
     "execution_count": 28,
     "metadata": {},
     "output_type": "execute_result"
    }
   ],
   "source": [
    "messages_per_month.head()"
   ]
  },
  {
   "cell_type": "markdown",
   "id": "ec50d25e",
   "metadata": {},
   "source": [
    "#### Volume of data per month\n",
    "To calculate the volume of data per month for each user, first we will extract month from the session_date column and then make a pivot table grouping by *user_id* and *session_month*. For web traffic, the total volume in megabytes for the month is rounded up."
   ]
  },
  {
   "cell_type": "code",
   "execution_count": 29,
   "id": "500b11f8",
   "metadata": {},
   "outputs": [],
   "source": [
    "internet_df['month'] = internet_df['session_date'].dt.month"
   ]
  },
  {
   "cell_type": "code",
   "execution_count": 30,
   "id": "6db77635",
   "metadata": {},
   "outputs": [],
   "source": [
    "sessions_per_month = internet_df.pivot_table(index=['user_id','month'], values='mb_used', aggfunc='sum')\n",
    "sessions_per_month = sessions_per_month.reset_index()\n",
    "\n",
    "sessions_per_month.columns = ['user_id', 'month', \"mb_volume_month\"]\n",
    "sessions_per_month['gb_volume_month'] = np.ceil((sessions_per_month['mb_volume_month'].values) / 1024).astype(int)"
   ]
  },
  {
   "cell_type": "code",
   "execution_count": 31,
   "id": "970710a5",
   "metadata": {},
   "outputs": [
    {
     "data": {
      "text/html": [
       "<div>\n",
       "<style scoped>\n",
       "    .dataframe tbody tr th:only-of-type {\n",
       "        vertical-align: middle;\n",
       "    }\n",
       "\n",
       "    .dataframe tbody tr th {\n",
       "        vertical-align: top;\n",
       "    }\n",
       "\n",
       "    .dataframe thead th {\n",
       "        text-align: right;\n",
       "    }\n",
       "</style>\n",
       "<table border=\"1\" class=\"dataframe\">\n",
       "  <thead>\n",
       "    <tr style=\"text-align: right;\">\n",
       "      <th></th>\n",
       "      <th>user_id</th>\n",
       "      <th>month</th>\n",
       "      <th>mb_volume_month</th>\n",
       "      <th>gb_volume_month</th>\n",
       "    </tr>\n",
       "  </thead>\n",
       "  <tbody>\n",
       "    <tr>\n",
       "      <td>0</td>\n",
       "      <td>1000</td>\n",
       "      <td>12</td>\n",
       "      <td>2268.183701</td>\n",
       "      <td>3</td>\n",
       "    </tr>\n",
       "    <tr>\n",
       "      <td>1</td>\n",
       "      <td>1001</td>\n",
       "      <td>8</td>\n",
       "      <td>8386.004804</td>\n",
       "      <td>9</td>\n",
       "    </tr>\n",
       "    <tr>\n",
       "      <td>2</td>\n",
       "      <td>1001</td>\n",
       "      <td>9</td>\n",
       "      <td>18082.098113</td>\n",
       "      <td>18</td>\n",
       "    </tr>\n",
       "    <tr>\n",
       "      <td>3</td>\n",
       "      <td>1001</td>\n",
       "      <td>10</td>\n",
       "      <td>25264.199608</td>\n",
       "      <td>25</td>\n",
       "    </tr>\n",
       "    <tr>\n",
       "      <td>4</td>\n",
       "      <td>1001</td>\n",
       "      <td>11</td>\n",
       "      <td>19604.441103</td>\n",
       "      <td>20</td>\n",
       "    </tr>\n",
       "  </tbody>\n",
       "</table>\n",
       "</div>"
      ],
      "text/plain": [
       "   user_id  month  mb_volume_month  gb_volume_month\n",
       "0     1000     12      2268.183701                3\n",
       "1     1001      8      8386.004804                9\n",
       "2     1001      9     18082.098113               18\n",
       "3     1001     10     25264.199608               25\n",
       "4     1001     11     19604.441103               20"
      ]
     },
     "execution_count": 31,
     "metadata": {},
     "output_type": "execute_result"
    }
   ],
   "source": [
    "sessions_per_month.head()"
   ]
  },
  {
   "cell_type": "markdown",
   "id": "838633db",
   "metadata": {},
   "source": [
    "#### Monthly profit from each user\n",
    "To calculate this we will subtract the free package limit from the total number of calls, text messages, and data. Then we will multiply the result by the calling plan value and add the monthly charge depending on the calling plan."
   ]
  },
  {
   "cell_type": "code",
   "execution_count": 32,
   "id": "26484b98",
   "metadata": {},
   "outputs": [],
   "source": [
    "user_plan = users_df[['user_id','plan','city']]\n",
    "user_plan = user_plan.merge(plans_df, left_on='plan', right_on='plan_name', how = 'outer')"
   ]
  },
  {
   "cell_type": "code",
   "execution_count": 33,
   "id": "b4c761ff",
   "metadata": {},
   "outputs": [],
   "source": [
    "df_monthly = (calls_per_month\n",
    "              .merge(messages_per_month, how='outer', on=['user_id','month'])\n",
    "              .merge(sessions_per_month, how='outer', on=['user_id','month'])\n",
    "              .merge(user_plan, on='user_id', how = 'outer')\n",
    "             )"
   ]
  },
  {
   "cell_type": "code",
   "execution_count": 34,
   "id": "04523400",
   "metadata": {},
   "outputs": [
    {
     "data": {
      "text/html": [
       "<div>\n",
       "<style scoped>\n",
       "    .dataframe tbody tr th:only-of-type {\n",
       "        vertical-align: middle;\n",
       "    }\n",
       "\n",
       "    .dataframe tbody tr th {\n",
       "        vertical-align: top;\n",
       "    }\n",
       "\n",
       "    .dataframe thead th {\n",
       "        text-align: right;\n",
       "    }\n",
       "</style>\n",
       "<table border=\"1\" class=\"dataframe\">\n",
       "  <thead>\n",
       "    <tr style=\"text-align: right;\">\n",
       "      <th></th>\n",
       "      <th>user_id</th>\n",
       "      <th>month</th>\n",
       "      <th>total_min_month</th>\n",
       "      <th>num_messages_month</th>\n",
       "      <th>mb_volume_month</th>\n",
       "      <th>gb_volume_month</th>\n",
       "      <th>plan</th>\n",
       "      <th>city</th>\n",
       "      <th>messages_included</th>\n",
       "      <th>mb_per_month_included</th>\n",
       "      <th>minutes_included</th>\n",
       "      <th>usd_monthly_pay</th>\n",
       "      <th>usd_per_gb</th>\n",
       "      <th>usd_per_message</th>\n",
       "      <th>usd_per_minute</th>\n",
       "      <th>plan_name</th>\n",
       "    </tr>\n",
       "  </thead>\n",
       "  <tbody>\n",
       "    <tr>\n",
       "      <td>0</td>\n",
       "      <td>1000</td>\n",
       "      <td>12.0</td>\n",
       "      <td>124.0</td>\n",
       "      <td>11.0</td>\n",
       "      <td>2268.183701</td>\n",
       "      <td>3.0</td>\n",
       "      <td>ultimate</td>\n",
       "      <td>Atlanta-Sandy Springs-Roswell, GA MSA</td>\n",
       "      <td>1000</td>\n",
       "      <td>30720</td>\n",
       "      <td>3000</td>\n",
       "      <td>70</td>\n",
       "      <td>7</td>\n",
       "      <td>0.01</td>\n",
       "      <td>0.01</td>\n",
       "      <td>ultimate</td>\n",
       "    </tr>\n",
       "    <tr>\n",
       "      <td>1</td>\n",
       "      <td>1001</td>\n",
       "      <td>8.0</td>\n",
       "      <td>182.0</td>\n",
       "      <td>30.0</td>\n",
       "      <td>8386.004804</td>\n",
       "      <td>9.0</td>\n",
       "      <td>surf</td>\n",
       "      <td>Seattle-Tacoma-Bellevue, WA MSA</td>\n",
       "      <td>50</td>\n",
       "      <td>15360</td>\n",
       "      <td>500</td>\n",
       "      <td>20</td>\n",
       "      <td>10</td>\n",
       "      <td>0.03</td>\n",
       "      <td>0.03</td>\n",
       "      <td>surf</td>\n",
       "    </tr>\n",
       "    <tr>\n",
       "      <td>2</td>\n",
       "      <td>1001</td>\n",
       "      <td>9.0</td>\n",
       "      <td>315.0</td>\n",
       "      <td>44.0</td>\n",
       "      <td>18082.098113</td>\n",
       "      <td>18.0</td>\n",
       "      <td>surf</td>\n",
       "      <td>Seattle-Tacoma-Bellevue, WA MSA</td>\n",
       "      <td>50</td>\n",
       "      <td>15360</td>\n",
       "      <td>500</td>\n",
       "      <td>20</td>\n",
       "      <td>10</td>\n",
       "      <td>0.03</td>\n",
       "      <td>0.03</td>\n",
       "      <td>surf</td>\n",
       "    </tr>\n",
       "    <tr>\n",
       "      <td>3</td>\n",
       "      <td>1001</td>\n",
       "      <td>10.0</td>\n",
       "      <td>393.0</td>\n",
       "      <td>53.0</td>\n",
       "      <td>25264.199608</td>\n",
       "      <td>25.0</td>\n",
       "      <td>surf</td>\n",
       "      <td>Seattle-Tacoma-Bellevue, WA MSA</td>\n",
       "      <td>50</td>\n",
       "      <td>15360</td>\n",
       "      <td>500</td>\n",
       "      <td>20</td>\n",
       "      <td>10</td>\n",
       "      <td>0.03</td>\n",
       "      <td>0.03</td>\n",
       "      <td>surf</td>\n",
       "    </tr>\n",
       "    <tr>\n",
       "      <td>4</td>\n",
       "      <td>1001</td>\n",
       "      <td>11.0</td>\n",
       "      <td>426.0</td>\n",
       "      <td>36.0</td>\n",
       "      <td>19604.441103</td>\n",
       "      <td>20.0</td>\n",
       "      <td>surf</td>\n",
       "      <td>Seattle-Tacoma-Bellevue, WA MSA</td>\n",
       "      <td>50</td>\n",
       "      <td>15360</td>\n",
       "      <td>500</td>\n",
       "      <td>20</td>\n",
       "      <td>10</td>\n",
       "      <td>0.03</td>\n",
       "      <td>0.03</td>\n",
       "      <td>surf</td>\n",
       "    </tr>\n",
       "  </tbody>\n",
       "</table>\n",
       "</div>"
      ],
      "text/plain": [
       "   user_id  month  total_min_month  num_messages_month  mb_volume_month  \\\n",
       "0     1000   12.0            124.0                11.0      2268.183701   \n",
       "1     1001    8.0            182.0                30.0      8386.004804   \n",
       "2     1001    9.0            315.0                44.0     18082.098113   \n",
       "3     1001   10.0            393.0                53.0     25264.199608   \n",
       "4     1001   11.0            426.0                36.0     19604.441103   \n",
       "\n",
       "   gb_volume_month      plan                                   city  \\\n",
       "0              3.0  ultimate  Atlanta-Sandy Springs-Roswell, GA MSA   \n",
       "1              9.0      surf        Seattle-Tacoma-Bellevue, WA MSA   \n",
       "2             18.0      surf        Seattle-Tacoma-Bellevue, WA MSA   \n",
       "3             25.0      surf        Seattle-Tacoma-Bellevue, WA MSA   \n",
       "4             20.0      surf        Seattle-Tacoma-Bellevue, WA MSA   \n",
       "\n",
       "   messages_included  mb_per_month_included  minutes_included  \\\n",
       "0               1000                  30720              3000   \n",
       "1                 50                  15360               500   \n",
       "2                 50                  15360               500   \n",
       "3                 50                  15360               500   \n",
       "4                 50                  15360               500   \n",
       "\n",
       "   usd_monthly_pay  usd_per_gb  usd_per_message  usd_per_minute plan_name  \n",
       "0               70           7             0.01            0.01  ultimate  \n",
       "1               20          10             0.03            0.03      surf  \n",
       "2               20          10             0.03            0.03      surf  \n",
       "3               20          10             0.03            0.03      surf  \n",
       "4               20          10             0.03            0.03      surf  "
      ]
     },
     "execution_count": 34,
     "metadata": {},
     "output_type": "execute_result"
    }
   ],
   "source": [
    "df_monthly.head()"
   ]
  },
  {
   "cell_type": "code",
   "execution_count": 35,
   "id": "950be1a3",
   "metadata": {},
   "outputs": [
    {
     "data": {
      "text/plain": [
       "user_id                    0\n",
       "month                     10\n",
       "total_min_month           45\n",
       "num_messages_month       497\n",
       "mb_volume_month           26\n",
       "gb_volume_month           26\n",
       "plan                       0\n",
       "city                       0\n",
       "messages_included          0\n",
       "mb_per_month_included      0\n",
       "minutes_included           0\n",
       "usd_monthly_pay            0\n",
       "usd_per_gb                 0\n",
       "usd_per_message            0\n",
       "usd_per_minute             0\n",
       "plan_name                  0\n",
       "dtype: int64"
      ]
     },
     "execution_count": 35,
     "metadata": {},
     "output_type": "execute_result"
    }
   ],
   "source": [
    "df_monthly.isnull().sum()"
   ]
  },
  {
   "cell_type": "markdown",
   "id": "fdaf2971",
   "metadata": {},
   "source": [
    "We have a few null values for those users who only used 1 or 2 services - e.g. only messages and the internet but not calls and so on. We will thus replace these values with 0."
   ]
  },
  {
   "cell_type": "code",
   "execution_count": 36,
   "id": "23c17320",
   "metadata": {},
   "outputs": [],
   "source": [
    "for col in ['total_min_month','num_messages_month','mb_volume_month','gb_volume_month']:\n",
    "    df_monthly[col] = df_monthly[col].fillna(0)"
   ]
  },
  {
   "cell_type": "markdown",
   "id": "51888d88",
   "metadata": {},
   "source": [
    "Finally, let's calculate the monthly profit per user according to the below function:"
   ]
  },
  {
   "cell_type": "code",
   "execution_count": 37,
   "id": "ee40d009",
   "metadata": {},
   "outputs": [],
   "source": [
    "def calc_revenue(row):\n",
    "    minutes = row['total_min_month']\n",
    "    gb = row['gb_volume_month']\n",
    "    plan = row['plan']\n",
    "    revenue = 0\n",
    "    revenue += max(0, minutes - plans.loc[plan, 'minutes_included']) * plans.loc[plan, 'usd_per_minute']\n",
    "    revenue += max(0, messages -plans.loc[plan, 'messages_included']) * plans.loc[plan, 'usd_per_message']\n",
    "    revenue += max(0, gb-plans.loc[plan, 'gb_per_month_included']) * plans.loc[plan, 'usd_per_gb']\n",
    "    revenue += plans.loc[plan, 'usd_monthly_pay']\n",
    "    return revenue"
   ]
  },
  {
   "cell_type": "code",
   "execution_count": 38,
   "id": "4a54853e",
   "metadata": {},
   "outputs": [
    {
     "data": {
      "text/html": [
       "<div>\n",
       "<style scoped>\n",
       "    .dataframe tbody tr th:only-of-type {\n",
       "        vertical-align: middle;\n",
       "    }\n",
       "\n",
       "    .dataframe tbody tr th {\n",
       "        vertical-align: top;\n",
       "    }\n",
       "\n",
       "    .dataframe thead th {\n",
       "        text-align: right;\n",
       "    }\n",
       "</style>\n",
       "<table border=\"1\" class=\"dataframe\">\n",
       "  <thead>\n",
       "    <tr style=\"text-align: right;\">\n",
       "      <th></th>\n",
       "      <th>user_id</th>\n",
       "      <th>month</th>\n",
       "      <th>total_min_month</th>\n",
       "      <th>num_messages_month</th>\n",
       "      <th>mb_volume_month</th>\n",
       "      <th>gb_volume_month</th>\n",
       "      <th>plan</th>\n",
       "      <th>city</th>\n",
       "      <th>messages_included</th>\n",
       "      <th>mb_per_month_included</th>\n",
       "      <th>minutes_included</th>\n",
       "      <th>usd_monthly_pay</th>\n",
       "      <th>usd_per_gb</th>\n",
       "      <th>usd_per_message</th>\n",
       "      <th>usd_per_minute</th>\n",
       "      <th>plan_name</th>\n",
       "    </tr>\n",
       "  </thead>\n",
       "  <tbody>\n",
       "    <tr>\n",
       "      <td>0</td>\n",
       "      <td>1000</td>\n",
       "      <td>12.0</td>\n",
       "      <td>124.0</td>\n",
       "      <td>11.0</td>\n",
       "      <td>2268.183701</td>\n",
       "      <td>3.0</td>\n",
       "      <td>ultimate</td>\n",
       "      <td>Atlanta-Sandy Springs-Roswell, GA MSA</td>\n",
       "      <td>1000</td>\n",
       "      <td>30720</td>\n",
       "      <td>3000</td>\n",
       "      <td>70</td>\n",
       "      <td>7</td>\n",
       "      <td>0.01</td>\n",
       "      <td>0.01</td>\n",
       "      <td>ultimate</td>\n",
       "    </tr>\n",
       "    <tr>\n",
       "      <td>1</td>\n",
       "      <td>1001</td>\n",
       "      <td>8.0</td>\n",
       "      <td>182.0</td>\n",
       "      <td>30.0</td>\n",
       "      <td>8386.004804</td>\n",
       "      <td>9.0</td>\n",
       "      <td>surf</td>\n",
       "      <td>Seattle-Tacoma-Bellevue, WA MSA</td>\n",
       "      <td>50</td>\n",
       "      <td>15360</td>\n",
       "      <td>500</td>\n",
       "      <td>20</td>\n",
       "      <td>10</td>\n",
       "      <td>0.03</td>\n",
       "      <td>0.03</td>\n",
       "      <td>surf</td>\n",
       "    </tr>\n",
       "    <tr>\n",
       "      <td>2</td>\n",
       "      <td>1001</td>\n",
       "      <td>9.0</td>\n",
       "      <td>315.0</td>\n",
       "      <td>44.0</td>\n",
       "      <td>18082.098113</td>\n",
       "      <td>18.0</td>\n",
       "      <td>surf</td>\n",
       "      <td>Seattle-Tacoma-Bellevue, WA MSA</td>\n",
       "      <td>50</td>\n",
       "      <td>15360</td>\n",
       "      <td>500</td>\n",
       "      <td>20</td>\n",
       "      <td>10</td>\n",
       "      <td>0.03</td>\n",
       "      <td>0.03</td>\n",
       "      <td>surf</td>\n",
       "    </tr>\n",
       "    <tr>\n",
       "      <td>3</td>\n",
       "      <td>1001</td>\n",
       "      <td>10.0</td>\n",
       "      <td>393.0</td>\n",
       "      <td>53.0</td>\n",
       "      <td>25264.199608</td>\n",
       "      <td>25.0</td>\n",
       "      <td>surf</td>\n",
       "      <td>Seattle-Tacoma-Bellevue, WA MSA</td>\n",
       "      <td>50</td>\n",
       "      <td>15360</td>\n",
       "      <td>500</td>\n",
       "      <td>20</td>\n",
       "      <td>10</td>\n",
       "      <td>0.03</td>\n",
       "      <td>0.03</td>\n",
       "      <td>surf</td>\n",
       "    </tr>\n",
       "    <tr>\n",
       "      <td>4</td>\n",
       "      <td>1001</td>\n",
       "      <td>11.0</td>\n",
       "      <td>426.0</td>\n",
       "      <td>36.0</td>\n",
       "      <td>19604.441103</td>\n",
       "      <td>20.0</td>\n",
       "      <td>surf</td>\n",
       "      <td>Seattle-Tacoma-Bellevue, WA MSA</td>\n",
       "      <td>50</td>\n",
       "      <td>15360</td>\n",
       "      <td>500</td>\n",
       "      <td>20</td>\n",
       "      <td>10</td>\n",
       "      <td>0.03</td>\n",
       "      <td>0.03</td>\n",
       "      <td>surf</td>\n",
       "    </tr>\n",
       "    <tr>\n",
       "      <td>...</td>\n",
       "      <td>...</td>\n",
       "      <td>...</td>\n",
       "      <td>...</td>\n",
       "      <td>...</td>\n",
       "      <td>...</td>\n",
       "      <td>...</td>\n",
       "      <td>...</td>\n",
       "      <td>...</td>\n",
       "      <td>...</td>\n",
       "      <td>...</td>\n",
       "      <td>...</td>\n",
       "      <td>...</td>\n",
       "      <td>...</td>\n",
       "      <td>...</td>\n",
       "      <td>...</td>\n",
       "      <td>...</td>\n",
       "    </tr>\n",
       "    <tr>\n",
       "      <td>2298</td>\n",
       "      <td>1143</td>\n",
       "      <td>NaN</td>\n",
       "      <td>0.0</td>\n",
       "      <td>0.0</td>\n",
       "      <td>0.000000</td>\n",
       "      <td>0.0</td>\n",
       "      <td>surf</td>\n",
       "      <td>Cincinnati, OH-KY-IN MSA</td>\n",
       "      <td>50</td>\n",
       "      <td>15360</td>\n",
       "      <td>500</td>\n",
       "      <td>20</td>\n",
       "      <td>10</td>\n",
       "      <td>0.03</td>\n",
       "      <td>0.03</td>\n",
       "      <td>surf</td>\n",
       "    </tr>\n",
       "    <tr>\n",
       "      <td>2299</td>\n",
       "      <td>1307</td>\n",
       "      <td>NaN</td>\n",
       "      <td>0.0</td>\n",
       "      <td>0.0</td>\n",
       "      <td>0.000000</td>\n",
       "      <td>0.0</td>\n",
       "      <td>surf</td>\n",
       "      <td>Boston-Cambridge-Newton, MA-NH MSA</td>\n",
       "      <td>50</td>\n",
       "      <td>15360</td>\n",
       "      <td>500</td>\n",
       "      <td>20</td>\n",
       "      <td>10</td>\n",
       "      <td>0.03</td>\n",
       "      <td>0.03</td>\n",
       "      <td>surf</td>\n",
       "    </tr>\n",
       "    <tr>\n",
       "      <td>2300</td>\n",
       "      <td>1319</td>\n",
       "      <td>NaN</td>\n",
       "      <td>0.0</td>\n",
       "      <td>0.0</td>\n",
       "      <td>0.000000</td>\n",
       "      <td>0.0</td>\n",
       "      <td>surf</td>\n",
       "      <td>Colorado Springs, CO MSA</td>\n",
       "      <td>50</td>\n",
       "      <td>15360</td>\n",
       "      <td>500</td>\n",
       "      <td>20</td>\n",
       "      <td>10</td>\n",
       "      <td>0.03</td>\n",
       "      <td>0.03</td>\n",
       "      <td>surf</td>\n",
       "    </tr>\n",
       "    <tr>\n",
       "      <td>2301</td>\n",
       "      <td>1378</td>\n",
       "      <td>NaN</td>\n",
       "      <td>0.0</td>\n",
       "      <td>0.0</td>\n",
       "      <td>0.000000</td>\n",
       "      <td>0.0</td>\n",
       "      <td>surf</td>\n",
       "      <td>Denver-Aurora-Lakewood, CO MSA</td>\n",
       "      <td>50</td>\n",
       "      <td>15360</td>\n",
       "      <td>500</td>\n",
       "      <td>20</td>\n",
       "      <td>10</td>\n",
       "      <td>0.03</td>\n",
       "      <td>0.03</td>\n",
       "      <td>surf</td>\n",
       "    </tr>\n",
       "    <tr>\n",
       "      <td>2302</td>\n",
       "      <td>1473</td>\n",
       "      <td>NaN</td>\n",
       "      <td>0.0</td>\n",
       "      <td>0.0</td>\n",
       "      <td>0.000000</td>\n",
       "      <td>0.0</td>\n",
       "      <td>surf</td>\n",
       "      <td>Louisville/Jefferson County, KY-IN MSA</td>\n",
       "      <td>50</td>\n",
       "      <td>15360</td>\n",
       "      <td>500</td>\n",
       "      <td>20</td>\n",
       "      <td>10</td>\n",
       "      <td>0.03</td>\n",
       "      <td>0.03</td>\n",
       "      <td>surf</td>\n",
       "    </tr>\n",
       "  </tbody>\n",
       "</table>\n",
       "<p>2303 rows × 16 columns</p>\n",
       "</div>"
      ],
      "text/plain": [
       "      user_id  month  total_min_month  num_messages_month  mb_volume_month  \\\n",
       "0        1000   12.0            124.0                11.0      2268.183701   \n",
       "1        1001    8.0            182.0                30.0      8386.004804   \n",
       "2        1001    9.0            315.0                44.0     18082.098113   \n",
       "3        1001   10.0            393.0                53.0     25264.199608   \n",
       "4        1001   11.0            426.0                36.0     19604.441103   \n",
       "...       ...    ...              ...                 ...              ...   \n",
       "2298     1143    NaN              0.0                 0.0         0.000000   \n",
       "2299     1307    NaN              0.0                 0.0         0.000000   \n",
       "2300     1319    NaN              0.0                 0.0         0.000000   \n",
       "2301     1378    NaN              0.0                 0.0         0.000000   \n",
       "2302     1473    NaN              0.0                 0.0         0.000000   \n",
       "\n",
       "      gb_volume_month      plan                                    city  \\\n",
       "0                 3.0  ultimate   Atlanta-Sandy Springs-Roswell, GA MSA   \n",
       "1                 9.0      surf         Seattle-Tacoma-Bellevue, WA MSA   \n",
       "2                18.0      surf         Seattle-Tacoma-Bellevue, WA MSA   \n",
       "3                25.0      surf         Seattle-Tacoma-Bellevue, WA MSA   \n",
       "4                20.0      surf         Seattle-Tacoma-Bellevue, WA MSA   \n",
       "...               ...       ...                                     ...   \n",
       "2298              0.0      surf                Cincinnati, OH-KY-IN MSA   \n",
       "2299              0.0      surf      Boston-Cambridge-Newton, MA-NH MSA   \n",
       "2300              0.0      surf                Colorado Springs, CO MSA   \n",
       "2301              0.0      surf          Denver-Aurora-Lakewood, CO MSA   \n",
       "2302              0.0      surf  Louisville/Jefferson County, KY-IN MSA   \n",
       "\n",
       "      messages_included  mb_per_month_included  minutes_included  \\\n",
       "0                  1000                  30720              3000   \n",
       "1                    50                  15360               500   \n",
       "2                    50                  15360               500   \n",
       "3                    50                  15360               500   \n",
       "4                    50                  15360               500   \n",
       "...                 ...                    ...               ...   \n",
       "2298                 50                  15360               500   \n",
       "2299                 50                  15360               500   \n",
       "2300                 50                  15360               500   \n",
       "2301                 50                  15360               500   \n",
       "2302                 50                  15360               500   \n",
       "\n",
       "      usd_monthly_pay  usd_per_gb  usd_per_message  usd_per_minute plan_name  \n",
       "0                  70           7             0.01            0.01  ultimate  \n",
       "1                  20          10             0.03            0.03      surf  \n",
       "2                  20          10             0.03            0.03      surf  \n",
       "3                  20          10             0.03            0.03      surf  \n",
       "4                  20          10             0.03            0.03      surf  \n",
       "...               ...         ...              ...             ...       ...  \n",
       "2298               20          10             0.03            0.03      surf  \n",
       "2299               20          10             0.03            0.03      surf  \n",
       "2300               20          10             0.03            0.03      surf  \n",
       "2301               20          10             0.03            0.03      surf  \n",
       "2302               20          10             0.03            0.03      surf  \n",
       "\n",
       "[2303 rows x 16 columns]"
      ]
     },
     "execution_count": 38,
     "metadata": {},
     "output_type": "execute_result"
    }
   ],
   "source": [
    "df_monthly"
   ]
  },
  {
   "cell_type": "markdown",
   "id": "d6bab786",
   "metadata": {},
   "source": [
    "We will now group the table per plan and per month and visualize the results."
   ]
  },
  {
   "cell_type": "code",
   "execution_count": 39,
   "id": "a5a05344",
   "metadata": {},
   "outputs": [],
   "source": [
    "total_profit_month_plan = df_monthly.groupby(['plan','month'])['usd_monthly_pay'].sum().reset_index()"
   ]
  },
  {
   "cell_type": "code",
   "execution_count": 40,
   "id": "84a56697",
   "metadata": {},
   "outputs": [
    {
     "data": {
      "image/png": "[encoded data removed]",
      "text/plain": [
       "<Figure size 432x288 with 1 Axes>"
      ]
     },
     "metadata": {
      "needs_background": "light"
     },
     "output_type": "display_data"
    }
   ],
   "source": [
    "plan_surf = total_profit_month_plan.query('plan == \"surf\"').plot(y='usd_monthly_pay', x='month', kind='bar')\n",
    "plt.title('Total monthly profit for the \"Surf\" plan');"
   ]
  },
  {
   "cell_type": "code",
   "execution_count": 41,
   "id": "4097bba1",
   "metadata": {},
   "outputs": [
    {
     "data": {
      "image/png": "[encoded data removed]",
      "text/plain": [
       "<Figure size 432x288 with 1 Axes>"
      ]
     },
     "metadata": {
      "needs_background": "light"
     },
     "output_type": "display_data"
    }
   ],
   "source": [
    "plan_ultimate = total_profit_month_plan.query('plan == \"ultimate\"').plot(y='usd_monthly_pay', x='month', kind='bar')\n",
    "plt.title('Total monthly profit for the \"Ultimate\" plan');"
   ]
  },
  {
   "cell_type": "markdown",
   "id": "b8f0d5cb",
   "metadata": {},
   "source": [
    "We see that both the \"Surf\" and \"Ultimate\" plans are mostly profitable throughout the year with a tendency of being more and more profit-making towards the end of the year. It appears that the \"Ultimate\" plan is even more profitable than the \"Surf\" plan."
   ]
  },
  {
   "cell_type": "markdown",
   "id": "b00f3ce0",
   "metadata": {},
   "source": [
    "### Summary\n",
    "After going through the initial look at the general information for the data, we saw that we didn't have a whole log of missing data. What we were missing was the *churn_date* column that wasn't filled out due to the fact that on the extraction date of the dataset users were still using Megaline services. To combat this, we created a new column called *used_days* which could still give us information on how long the customer has been loyal to Megaline. *churn_date* was then subsequently dropped from our table. Datetime columns were then converted to the necessary format. Calculations were also made and placed in new columns to represent for each user:\n",
    "\n",
    "1. The number of calls made and minutes used per month\n",
    "2. The number of text messages sent per month\n",
    "3. The volume of data per month\n",
    "4. The monthly revenue from each user (subtract the free package limit from the total number of calls, text messages, and data; multiply the result by the calling plan value; add the monthly charge depending on the calling plan\n",
    "\n",
    "## 3. Analyze the Data\n",
    "Describe the customers' behavior. Find the minutes, texts, and volume of data the users of each plan require per month. Calculate the mean, variance, and standard deviation. Plot histograms. Describe the distributions.\n",
    "\n",
    "#### Distribution analysis\n",
    "Now we are going to further compare the two plans, so let's create separate data frames for them."
   ]
  },
  {
   "cell_type": "code",
   "execution_count": 42,
   "id": "4bd68776",
   "metadata": {},
   "outputs": [],
   "source": [
    "df_surf = df_monthly[df_monthly['plan'] == 'surf']\n",
    "df_ultimate = df_monthly[df_monthly['plan'] == 'ultimate']"
   ]
  },
  {
   "cell_type": "code",
   "execution_count": 43,
   "id": "79608d8e",
   "metadata": {},
   "outputs": [
    {
     "data": {
      "text/plain": [
       "(724, 16)"
      ]
     },
     "execution_count": 43,
     "metadata": {},
     "output_type": "execute_result"
    }
   ],
   "source": [
    "df_ultimate.shape"
   ]
  },
  {
   "cell_type": "code",
   "execution_count": 44,
   "id": "266bc857",
   "metadata": {},
   "outputs": [
    {
     "data": {
      "text/plain": [
       "(1579, 16)"
      ]
     },
     "execution_count": 44,
     "metadata": {},
     "output_type": "execute_result"
    }
   ],
   "source": [
    "df_surf.shape"
   ]
  },
  {
   "cell_type": "markdown",
   "id": "f788d7e8",
   "metadata": {},
   "source": [
    "##### Calls"
   ]
  },
  {
   "cell_type": "code",
   "execution_count": 45,
   "id": "232009cf",
   "metadata": {},
   "outputs": [
    {
     "data": {
      "image/png": "[encoded data removed]",
      "text/plain": [
       "<Figure size 432x288 with 1 Axes>"
      ]
     },
     "metadata": {
      "needs_background": "light"
     },
     "output_type": "display_data"
    }
   ],
   "source": [
    "df_surf.hist('total_min_month')\n",
    "plt.title('Monthly calls length, in minutes')\n",
    "plt.suptitle('Plan \"Surf\"')\n",
    "plt.xlabel('minutes')\n",
    "plt.ylabel('frequency');"
   ]
  },
  {
   "cell_type": "code",
   "execution_count": 46,
   "id": "5fc14c62",
   "metadata": {},
   "outputs": [
    {
     "name": "stdout",
     "output_type": "stream",
     "text": [
      "Average monthly calls length in minutes, plan \"Surf\": 427\n",
      "Medium monthly calls length in minutes, plan \"Surf\":424\n",
      "Standard deviation for monthly calls length in minutes, plan \"Surf\":235\n"
     ]
    }
   ],
   "source": [
    "print('Average monthly calls length in minutes, plan \"Surf\": {:.0f}'.format(df_surf['total_min_month'].mean()))\n",
    "print('Medium monthly calls length in minutes, plan \"Surf\":{:.0f}'.format(df_surf['total_min_month'].median()))\n",
    "print('Standard deviation for monthly calls length in minutes, plan \"Surf\":{:.0f}'.format(df_surf['total_min_month'].std()))"
   ]
  },
  {
   "cell_type": "code",
   "execution_count": 47,
   "id": "7c491861",
   "metadata": {},
   "outputs": [
    {
     "data": {
      "image/png": "[encoded data removed]",
      "text/plain": [
       "<Figure size 432x288 with 1 Axes>"
      ]
     },
     "metadata": {
      "needs_background": "light"
     },
     "output_type": "display_data"
    }
   ],
   "source": [
    "df_ultimate.hist('total_min_month')\n",
    "plt.title('Monthly calls length, in minutes')\n",
    "plt.suptitle('Plan \"Ultimate\"')\n",
    "plt.xlabel('minutes')\n",
    "plt.ylabel('frequency');"
   ]
  },
  {
   "cell_type": "code",
   "execution_count": 48,
   "id": "88bc11dd",
   "metadata": {},
   "outputs": [
    {
     "name": "stdout",
     "output_type": "stream",
     "text": [
      "Average monthly calls length in minutes, plan \"Ultimate\": 428\n",
      "Medium monthly calls length in minutes, plan \"Ultimate\":422\n",
      "Standard deviation for monthly calls length in minutes, plan \"Ultimate\":242\n"
     ]
    }
   ],
   "source": [
    "print('Average monthly calls length in minutes, plan \"Ultimate\": {:.0f}'.format(df_ultimate['total_min_month'].mean()))\n",
    "print('Medium monthly calls length in minutes, plan \"Ultimate\":{:.0f}'.format(df_ultimate['total_min_month'].median()))\n",
    "print('Standard deviation for monthly calls length in minutes, plan \"Ultimate\":{:.0f}'.format(df_ultimate['total_min_month'].std()))"
   ]
  },
  {
   "cell_type": "markdown",
   "id": "67f3135f",
   "metadata": {},
   "source": [
    "Average and medium monthly calls length is almost the same (around 430-440 minutes per month) for both plans, which is a sign of a distribution close to normal, without any heavy tails. Standard deviations are also quite close (around 230-240 minutes)."
   ]
  },
  {
   "cell_type": "code",
   "execution_count": 49,
   "id": "d41906ba",
   "metadata": {},
   "outputs": [
    {
     "name": "stdout",
     "output_type": "stream",
     "text": [
      "People exceeded the \"Surf\" plan limit for calls: 566\n",
      "Ratio of people exceeded the \"Surf\" plan limit for calls: 36%\n"
     ]
    }
   ],
   "source": [
    "print('People exceeded the \"Surf\" plan limit for calls: {:.0f}'.format(len(df_surf.query('total_min_month > 500'))))\n",
    "print('Ratio of people exceeded the \"Surf\" plan limit for calls: {:.0%}'.format(len(df_surf.query('total_min_month > 500')) / len(df_surf)))"
   ]
  },
  {
   "cell_type": "markdown",
   "id": "58f7fb6b",
   "metadata": {},
   "source": [
    "The \"Surf\" plan limit is 500 minutes per month. This value is close to the mean and median, so most users stay within this limit while others - 566 people (36%) which is almost a half! - exceed it. Those who exceed the limit create profit for the company. The \"Ultimate\" plan limit is 3000 minutes per month. No user is spending that many minutes - the highest number is even less than 1400 minutes per month. This is where the company looses much profit, so this limit must be reviewed."
   ]
  },
  {
   "cell_type": "markdown",
   "id": "8eb5f437",
   "metadata": {},
   "source": [
    "##### Messages"
   ]
  },
  {
   "cell_type": "code",
   "execution_count": 50,
   "id": "dc054ceb",
   "metadata": {},
   "outputs": [
    {
     "data": {
      "image/png": "[encoded data removed]",
      "text/plain": [
       "<Figure size 432x288 with 1 Axes>"
      ]
     },
     "metadata": {
      "needs_background": "light"
     },
     "output_type": "display_data"
    }
   ],
   "source": [
    "df_surf.hist('num_messages_month')\n",
    "plt.title('Monthly number of messages')\n",
    "plt.suptitle('Plan \"Surf\"')\n",
    "plt.xlabel('number of messages')\n",
    "plt.ylabel('frequency');"
   ]
  },
  {
   "cell_type": "code",
   "execution_count": 51,
   "id": "6dc6f412",
   "metadata": {},
   "outputs": [
    {
     "name": "stdout",
     "output_type": "stream",
     "text": [
      "Average monthly number of messages, plan \"Surf\": 31\n",
      "Medium monthly number of messages, plan \"Surf\":24\n",
      "Standard deviation for monthly number of messages, plan \"Surf\":34\n"
     ]
    }
   ],
   "source": [
    "print('Average monthly number of messages, plan \"Surf\": {:.0f}'.format(df_surf['num_messages_month'].mean()))\n",
    "print('Medium monthly number of messages, plan \"Surf\":{:.0f}'.format(df_surf['num_messages_month'].median()))\n",
    "print('Standard deviation for monthly number of messages, plan \"Surf\":{:.0f}'.format(df_surf['num_messages_month'].std()))"
   ]
  },
  {
   "cell_type": "code",
   "execution_count": 52,
   "id": "ef7e030d",
   "metadata": {},
   "outputs": [
    {
     "data": {
      "image/png": "[encoded data removed]",
      "text/plain": [
       "<Figure size 432x288 with 1 Axes>"
      ]
     },
     "metadata": {
      "needs_background": "light"
     },
     "output_type": "display_data"
    }
   ],
   "source": [
    "df_ultimate.hist('num_messages_month')\n",
    "plt.title('Monthly number of messages')\n",
    "plt.suptitle('Plan \"Ultimate\"')\n",
    "plt.xlabel('number of messages')\n",
    "plt.ylabel('frequency');"
   ]
  },
  {
   "cell_type": "code",
   "execution_count": 53,
   "id": "208d13fe",
   "metadata": {},
   "outputs": [
    {
     "name": "stdout",
     "output_type": "stream",
     "text": [
      "Average monthly number of messages, plan \"Ultimate\": 37\n",
      "Medium monthly number of messages, plan \"Ultimate\":30\n",
      "Standard deviation for monthly number of messages, plan \"Ultimate\":35\n"
     ]
    }
   ],
   "source": [
    "print('Average monthly number of messages, plan \"Ultimate\": {:.0f}'.format(df_ultimate['num_messages_month'].mean()))\n",
    "print('Medium monthly number of messages, plan \"Ultimate\":{:.0f}'.format(df_ultimate['num_messages_month'].median()))\n",
    "print('Standard deviation for monthly number of messages, plan \"Ultimate\":{:.0f}'.format(df_ultimate['num_messages_month'].std()))"
   ]
  },
  {
   "cell_type": "markdown",
   "id": "fb095c22",
   "metadata": {},
   "source": [
    "Both plans show the same picture: these distributions are positively skewed, standard deviation is quite large, almost the same as the mean. There are slightly - around 10 messages per month - less in the \"Surf\" plan which is only logical as users of this plan have a lower limit, so they are probably trying to stay inside the boundaries by sending less messages."
   ]
  },
  {
   "cell_type": "code",
   "execution_count": 54,
   "id": "bc93a778",
   "metadata": {},
   "outputs": [
    {
     "name": "stdout",
     "output_type": "stream",
     "text": [
      "People exceeded the \"Surf\" plan limit for messages: 340\n",
      "Ratio of people exceeded the \"Surf\" plan limit for messages: 22%\n"
     ]
    }
   ],
   "source": [
    "print('People exceeded the \"Surf\" plan limit for messages: {:.0f}'.format(len(df_surf.query('num_messages_month > 50'))))\n",
    "print('Ratio of people exceeded the \"Surf\" plan limit for messages: {:.0%}'.format(len(df_surf.query('num_messages_month > 50')) / len(df_surf)))"
   ]
  },
  {
   "cell_type": "markdown",
   "id": "bdddabe0",
   "metadata": {},
   "source": [
    "The \"Surf\" plan limit is 50 messages per month. Most users stay within this limit while others - 340 people (22%) - exceed it. Those who exceed the limit create profit for the company. The \"Ultimate\" plan limit is 1000 messages per month. No user is sending that many texts - the highest number is only 150 messages per month. This is where the company looses much profit, so this limit must be reviewed.\n",
    "\n",
    "##### Internet"
   ]
  },
  {
   "cell_type": "code",
   "execution_count": 55,
   "id": "964b1017",
   "metadata": {},
   "outputs": [
    {
     "data": {
      "image/png": "[encoded data removed]",
      "text/plain": [
       "<Figure size 432x288 with 1 Axes>"
      ]
     },
     "metadata": {
      "needs_background": "light"
     },
     "output_type": "display_data"
    }
   ],
   "source": [
    "df_surf.hist('gb_volume_month')\n",
    "plt.title('Monthly web traffic')\n",
    "plt.suptitle('Plan \"Surf\"')\n",
    "plt.xlabel('gigabytes of data')\n",
    "plt.ylabel('frequency');"
   ]
  },
  {
   "cell_type": "code",
   "execution_count": 56,
   "id": "76a1c11a",
   "metadata": {},
   "outputs": [
    {
     "name": "stdout",
     "output_type": "stream",
     "text": [
      "Average monthly volume of data, plan \"Surf\": 19\n",
      "Medium monthly volume of data, plan \"Surf\":19\n",
      "Standard deviation for monthly volume of data, plan \"Surf\":9\n"
     ]
    }
   ],
   "source": [
    "print('Average monthly volume of data, plan \"Surf\": {:.0f}'.format(df_surf['gb_volume_month'].mean()))\n",
    "print('Medium monthly volume of data, plan \"Surf\":{:.0f}'.format(df_surf['gb_volume_month'].median()))\n",
    "print('Standard deviation for monthly volume of data, plan \"Surf\":{:.0f}'.format(df_surf['gb_volume_month'].std()))"
   ]
  },
  {
   "cell_type": "code",
   "execution_count": 57,
   "id": "b0cda0de",
   "metadata": {},
   "outputs": [
    {
     "data": {
      "image/png": "[encoded data removed]",
      "text/plain": [
       "<Figure size 432x288 with 1 Axes>"
      ]
     },
     "metadata": {
      "needs_background": "light"
     },
     "output_type": "display_data"
    }
   ],
   "source": [
    "df_ultimate.hist('gb_volume_month')\n",
    "plt.title('Monthly web traffic')\n",
    "plt.suptitle('Plan \"Ultimate\"')\n",
    "plt.xlabel('gigabytes of data')\n",
    "plt.ylabel('frequency');"
   ]
  },
  {
   "cell_type": "code",
   "execution_count": 58,
   "id": "6f9d1438",
   "metadata": {},
   "outputs": [
    {
     "name": "stdout",
     "output_type": "stream",
     "text": [
      "Average monthly volume of data, plan \"Ultimate\": 19\n",
      "Medium monthly volume of data, plan \"Ultimate\":19\n",
      "Standard deviation for monthly volume of data, plan \"Ultimate\":8\n"
     ]
    }
   ],
   "source": [
    "print('Average monthly volume of data, plan \"Ultimate\": {:.0f}'.format(df_ultimate['gb_volume_month'].mean()))\n",
    "print('Medium monthly volume of data, plan \"Ultimate\":{:.0f}'.format(df_ultimate['gb_volume_month'].median()))\n",
    "print('Standard deviation for monthly volume of data, plan \"Ultimate\":{:.0f}'.format(df_ultimate['gb_volume_month'].std()))"
   ]
  },
  {
   "cell_type": "markdown",
   "id": "357060f8",
   "metadata": {},
   "source": [
    "The distributions of both plans are very similar: measures of location and dispersion are almost identical. The mean and median are very close (around 17-18 gb per month) which is a sign of a distribution close to normal. Standard deviation is not so large either - 8 gb. The number of observations with a mean/median volume is more than twice as large as the rest of values, that's why the picks of both histograms are so distinctive."
   ]
  },
  {
   "cell_type": "code",
   "execution_count": 59,
   "id": "fbc372d5",
   "metadata": {},
   "outputs": [
    {
     "name": "stdout",
     "output_type": "stream",
     "text": [
      "People exceeded the \"Surf\" plan limit for web traffic: 1039\n",
      "Ratio of people exceeded the \"Surf\" plan limit for web traffic: 66%\n"
     ]
    }
   ],
   "source": [
    "print('People exceeded the \"Surf\" plan limit for web traffic: {:.0f}'.format(len(df_surf.query('gb_volume_month > 16'))))\n",
    "print('Ratio of people exceeded the \"Surf\" plan limit for web traffic: {:.0%}'.format(len(df_surf.query('gb_volume_month > 16')) / len(df_surf)))"
   ]
  },
  {
   "cell_type": "code",
   "execution_count": 60,
   "id": "6ebccfd6",
   "metadata": {},
   "outputs": [
    {
     "name": "stdout",
     "output_type": "stream",
     "text": [
      "People exceeded the \"Ultimate\" plan limit for web traffic: 49\n",
      "Ratio of people exceeded the \"Ultimate\" plan limit for web traffic: 3%\n"
     ]
    }
   ],
   "source": [
    "print('People exceeded the \"Ultimate\" plan limit for web traffic: {:.0f}'.format(len(df_ultimate.query('gb_volume_month > 31'))))\n",
    "print('Ratio of people exceeded the \"Ultimate\" plan limit for web traffic: {:.0%}'.format(len(df_ultimate.query('gb_volume_month > 31')) / len(df_surf)))"
   ]
  },
  {
   "cell_type": "markdown",
   "id": "908e69a9",
   "metadata": {},
   "source": [
    "The \"Surf\" plan's data limit is 16 gb which is slightly less than the average usage. Almost a half of users stay within this limit while others - 858 people (55%) - exceed it. Those who exceed the limit create profit for the company. As the number of people who exceed the limit is significant, profit from the internet source is probably the biggest among other sources for this plan.\n",
    "\n",
    "The \"Ultimate\" plan's data limit is 31 gb. There are only 39 people (2%) who exceeded this number, hence the data limit for this plan should be reconsidered.\n",
    "\n",
    "##### Outliers\n",
    "##### Calls"
   ]
  },
  {
   "cell_type": "code",
   "execution_count": 61,
   "id": "3a5f17bb",
   "metadata": {},
   "outputs": [
    {
     "data": {
      "image/png": "[encoded data removed]",
      "text/plain": [
       "<Figure size 432x288 with 1 Axes>"
      ]
     },
     "metadata": {
      "needs_background": "light"
     },
     "output_type": "display_data"
    }
   ],
   "source": [
    "df_surf.boxplot('total_min_month');"
   ]
  },
  {
   "cell_type": "code",
   "execution_count": 62,
   "id": "1697caa8",
   "metadata": {},
   "outputs": [
    {
     "data": {
      "image/png": "[encoded data removed]",
      "text/plain": [
       "<Figure size 432x288 with 1 Axes>"
      ]
     },
     "metadata": {
      "needs_background": "light"
     },
     "output_type": "display_data"
    }
   ],
   "source": [
    "df_ultimate.boxplot('total_min_month');"
   ]
  },
  {
   "cell_type": "markdown",
   "id": "7c8872fb",
   "metadata": {},
   "source": [
    "##### Messages"
   ]
  },
  {
   "cell_type": "code",
   "execution_count": 63,
   "id": "929715fa",
   "metadata": {},
   "outputs": [
    {
     "data": {
      "image/png": "[encoded data removed]",
      "text/plain": [
       "<Figure size 432x288 with 1 Axes>"
      ]
     },
     "metadata": {
      "needs_background": "light"
     },
     "output_type": "display_data"
    }
   ],
   "source": [
    "df_surf.boxplot('num_messages_month');"
   ]
  },
  {
   "cell_type": "code",
   "execution_count": 64,
   "id": "ad987369",
   "metadata": {},
   "outputs": [
    {
     "data": {
      "image/png": "[encoded data removed]",
      "text/plain": [
       "<Figure size 432x288 with 1 Axes>"
      ]
     },
     "metadata": {
      "needs_background": "light"
     },
     "output_type": "display_data"
    }
   ],
   "source": [
    "df_ultimate.boxplot('num_messages_month');"
   ]
  },
  {
   "cell_type": "markdown",
   "id": "9daebc00",
   "metadata": {},
   "source": [
    "##### Internet"
   ]
  },
  {
   "cell_type": "code",
   "execution_count": 65,
   "id": "b6f8544f",
   "metadata": {},
   "outputs": [
    {
     "data": {
      "image/png": "[encoded data removed]",
      "text/plain": [
       "<Figure size 432x288 with 1 Axes>"
      ]
     },
     "metadata": {
      "needs_background": "light"
     },
     "output_type": "display_data"
    }
   ],
   "source": [
    "df_surf.boxplot('gb_volume_month');"
   ]
  },
  {
   "cell_type": "code",
   "execution_count": 66,
   "id": "50c344a3",
   "metadata": {},
   "outputs": [
    {
     "data": {
      "image/png": "[encoded data removed]",
      "text/plain": [
       "<Figure size 432x288 with 1 Axes>"
      ]
     },
     "metadata": {
      "needs_background": "light"
     },
     "output_type": "display_data"
    }
   ],
   "source": [
    "df_ultimate.boxplot('gb_volume_month');"
   ]
  },
  {
   "cell_type": "markdown",
   "id": "f6e2270b",
   "metadata": {},
   "source": [
    "According to the above boxplots, we see that distributions for both plans and for both total_min_month and gb_volume_month variables are close to normal, whereas it is positively skewed for the num_messages_month variable. However we only see outliers above the upper whisker for all 3 variables and both plans. We will hence apply the Interquartile range method in order to remove them.\n",
    "\n",
    "##### Outliers removal\n",
    "First, let's calculate the upper whisker for each plan and for each variable."
   ]
  },
  {
   "cell_type": "code",
   "execution_count": 67,
   "id": "00f79356",
   "metadata": {},
   "outputs": [
    {
     "name": "stdout",
     "output_type": "stream",
     "text": [
      "\n",
      "Surf\n",
      "total_min_month 1036.5\n",
      "gb_volume_month 39.0\n",
      "num_messages_month 113.0\n",
      "\n",
      "Ultimate\n",
      "total_min_month 1022.5\n",
      "gb_volume_month 35.0\n",
      "num_messages_month 141.625\n"
     ]
    }
   ],
   "source": [
    "df_surf.name = \"Surf\"\n",
    "df_ultimate.name = \"Ultimate\"\n",
    "for df in [df_surf,df_ultimate]:\n",
    "    print()\n",
    "    print(df.name)\n",
    "    for feature in ['total_min_month','gb_volume_month','num_messages_month']:\n",
    "        df[feature] = df[feature].astype(int)\n",
    "        q25 = df[feature].quantile(0.25)\n",
    "        q75 = df[feature].quantile(0.75)\n",
    "        iqr = q75 - q25\n",
    "        # calculate the outlier cutoff and upper limit\n",
    "        cut_off = iqr * 1.5\n",
    "        upper = q75 + cut_off\n",
    "        print(feature, upper)"
   ]
  },
  {
   "cell_type": "markdown",
   "id": "53752987",
   "metadata": {},
   "source": [
    "Next, we will only keep those rows for which each variable is under the upper limit."
   ]
  },
  {
   "cell_type": "code",
   "execution_count": 68,
   "id": "02bef6cf",
   "metadata": {},
   "outputs": [
    {
     "data": {
      "text/plain": [
       "(1469, 16)"
      ]
     },
     "execution_count": 68,
     "metadata": {},
     "output_type": "execute_result"
    }
   ],
   "source": [
    "df_surf = df_surf[(df_surf['total_min_month']<1032.0) & (df_surf['gb_volume_month']<34.5) & (df_surf['num_messages_month']<113.0)]\n",
    "df_surf.shape"
   ]
  },
  {
   "cell_type": "code",
   "execution_count": 69,
   "id": "72b76bf5",
   "metadata": {},
   "outputs": [
    {
     "data": {
      "text/plain": [
       "(673, 16)"
      ]
     },
     "execution_count": 69,
     "metadata": {},
     "output_type": "execute_result"
    }
   ],
   "source": [
    "df_ultimate = df_ultimate[(df_ultimate['total_min_month']<1023.125) & (df_ultimate['gb_volume_month']<35.5) & (df_ultimate['num_messages_month']<142.0)]\n",
    "df_ultimate.shape"
   ]
  },
  {
   "cell_type": "markdown",
   "id": "296ca4f2",
   "metadata": {},
   "source": [
    "## 4. Test the Hypotheses\n",
    "1. The average revenue from users of Ultimate and Surf calling plans differs.\n",
    " - Null hypothesis: Average profit of two plans are not different (Var(X) == Var(Y)).\n",
    "2. The average revenue from users in NY-NJ area is different from that of the users from other regions.\n",
    " - Null hypothesis: Average profit from NY-NJ area is not different from other regions (Var(X) == Var(Y)).\n",
    "You decide what alpha value to use.\n",
    "\n",
    "Explain:\n",
    "1. How you formulated the null and alternative hypotheses.\n",
    "2. What criterion you used to test the hypotheses and why.\n",
    "\n",
    "**The average profit from users of Ultimate and Surf plans differs: bilateral hypothesis\n",
    "Step 1: the null and alternative hypotheses**\n",
    "\n",
    "**H0**: The means of two statistical populations are equal. In our case it means that the average profit from users of \"Surf\" and \"Ultimate\" plans is the same.\n",
    "\n",
    "**H1**: The means of two statistical populations are not equal. In our case it means that the average profit from users of \"Surf\" and \"Ultimate\" plans differs, although we do not specify here which one is more.\n",
    "\n",
    "**Step 2: Set the criteria for a decision**\n",
    "In behavioral science, the level of significance is typically set at 5% and we will choose this criteria as well. When the probability of obtaining a sample mean is less than 5% if the null hypothesis were true, then we reject the value stated in the null hypothesis.\n",
    "\n",
    "**Step 3: Compute the test statistic**\n",
    "In order to test our hypothesis that the means of two statistical populations are equal based on samples taken from them, we will apply the method scipy.stats.ttest_ind().\n",
    "\n",
    "The method takes the following parameters:\n",
    "- array1, array2 are arrays containing the samples. We will use the monthly_profit variables we calculated earlier for both plans;\n",
    "- equal_var is an optional parameter that specifies whether or not the variances of the populations should be considered equal. To set this parameter let's test whether the variances of our samples are the same."
   ]
  },
  {
   "cell_type": "code",
   "execution_count": 70,
   "id": "dd891b88",
   "metadata": {},
   "outputs": [],
   "source": [
    "sample_1 = df_surf['usd_monthly_pay']\n",
    "sample_2 = df_ultimate['usd_monthly_pay']"
   ]
  },
  {
   "cell_type": "code",
   "execution_count": 71,
   "id": "7d07170c",
   "metadata": {},
   "outputs": [
    {
     "data": {
      "text/plain": [
       "LeveneResult(statistic=nan, pvalue=nan)"
      ]
     },
     "execution_count": 71,
     "metadata": {},
     "output_type": "execute_result"
    }
   ],
   "source": [
    "stats.levene(sample_1, sample_2)"
   ]
  },
  {
   "cell_type": "markdown",
   "id": "4ef2e63c",
   "metadata": {},
   "source": [
    "The small p-value suggests that the populations do not have equal variances. Hence we will set the equal_var parameter to False."
   ]
  },
  {
   "cell_type": "code",
   "execution_count": 72,
   "id": "3362f05f",
   "metadata": {},
   "outputs": [
    {
     "name": "stdout",
     "output_type": "stream",
     "text": [
      "p-value:  0.0\n",
      "We reject the null hypothesis\n"
     ]
    }
   ],
   "source": [
    "alpha = .05 # critical statistical significance level\n",
    "                        # if the p-value is less than alpha, we reject the hypothesis\n",
    "\n",
    "results = stats.ttest_ind(\n",
    "                        sample_1, \n",
    "                        sample_2, \n",
    "                        equal_var=False)\n",
    "\n",
    "print('p-value: ', results.pvalue)\n",
    "\n",
    "if (results.pvalue < alpha):\n",
    "        print(\"We reject the null hypothesis\")\n",
    "else:\n",
    "        print(\"We retain the null hypothesis\")"
   ]
  },
  {
   "cell_type": "markdown",
   "id": "799c6123",
   "metadata": {},
   "source": [
    "**Step 4: Make a decision**\n",
    "Based on the results of the test statistic we reach significance: the decision is to reject the null hypothesis. The equality of samples' means is associated with a low probability of occurrence (much less than 1%) when the null hypothesis is true.\n",
    "\n",
    "Now let's see if this decision stands if we reformulate the alternative hypothesis, so it becomes unilateral.\n",
    "\n",
    "**The average profit from users of Ultimate and Surf plans differs: unilateral hypothesis**\n",
    "\n",
    "**The \"Surf\" plan's average profit is greater than the \"Ultimate\" plan's average profit**\n",
    "\n",
    "**Step 1: the null and alternative hypotheses**\n",
    "\n",
    "**H0**: The means of two statistical populations are equal. In our case it means that the average profit from users of \"Surf\" and \"Ultimate\" plans is the same.\n",
    "\n",
    "**H1**: One of the means of two statistical populations is greater than the other. In our case it means that the average profit from users of the \"Surf\" plan is greater than that of the \"Ultimate\" plan.\n",
    "\n",
    "**Step 2: Set the criteria for a decision**\n",
    "We will keep the level of significance at 5% for this test as well.\n",
    "\n",
    "**Step 3: Compute the test statistic**\n",
    "In order to test our new hypothesis we will also apply the method scipy.stats.ttest_ind(). The first 3 parameters stay the same and we will add one more for unilateral hypotheses:\n",
    "\n",
    "- alternative is an optional parameter that defines the alternative hypothesis. The following options are available (default is ‘two-sided’). In this section we will set it to 'greater' for our purposes."
   ]
  },
  {
   "cell_type": "code",
   "execution_count": 73,
   "id": "a46bf09a",
   "metadata": {},
   "outputs": [
    {
     "name": "stdout",
     "output_type": "stream",
     "text": [
      "p-value:  1.0\n",
      "We retain the null hypothesis\n"
     ]
    }
   ],
   "source": [
    "alpha = .05 # critical statistical significance level\n",
    "                        # if the p-value is less than alpha, we reject the hypothesis\n",
    "\n",
    "results = stats.ttest_ind(\n",
    "                        sample_1, \n",
    "                        sample_2,\n",
    "                        equal_var=False,\n",
    "                        alternative='greater')\n",
    "\n",
    "print('p-value: ', results.pvalue)\n",
    "\n",
    "if (results.pvalue < alpha):\n",
    "        print(\"We reject the null hypothesis\")\n",
    "else:\n",
    "        print(\"We retain the null hypothesis\")"
   ]
  },
  {
   "cell_type": "markdown",
   "id": "882fb5f9",
   "metadata": {},
   "source": [
    "**Step 4: Make a decision**\n",
    "Based on the results of the test statistic we reach significance: the decision is to reject the null hypothesis. The equality of samples' means is associated with a low probability of occurrence (much less than 1%) when the null hypothesis is true.\n",
    "\n",
    "Now let's see what results we would get if we changed again the alternative hypothesis.\n",
    "\n",
    "**The average profit from users of Ultimate and Surf plans differs: unilateral hypothesis**\n",
    "\n",
    "**The \"Surf\" plan's average profit is less than the \"Ultimate\" plan's average profit\n",
    "\n",
    "**Step 1: the null and alternative hypotheses**\n",
    "\n",
    "**H0**: The means of two statistical populations are equal. In our case it means that the average profit from users of \"Surf\" and \"Ultimate\" plans is the same.\n",
    "\n",
    "**H1**: One of the means of two statistical populations is less than the other. In our case it means that the average profit from users of the \"Surf\" plan is less than that of the \"Ultimate\" plan.\n",
    "\n",
    "**Step 2: Set the criteria for a decision**\n",
    "We will keep the level of significance at 5% for this test as well.\n",
    "\n",
    "**Step 3: Compute the test statistic**\n",
    "In order to test our new hypothesis we will also apply the method scipy.stats.ttest_ind(). The first 3 parameters stay the same and we will add one more for unilateral hypotheses:\n",
    "\n",
    "- alternative is an optional parameter that defines the alternative hypothesis. The following options are available (default is ‘two-sided’). In this section we will set it to 'less' for our purposes."
   ]
  },
  {
   "cell_type": "code",
   "execution_count": 74,
   "id": "0300b15e",
   "metadata": {},
   "outputs": [
    {
     "name": "stdout",
     "output_type": "stream",
     "text": [
      "p-value:  0.0\n",
      "We reject the null hypothesis\n"
     ]
    }
   ],
   "source": [
    "alpha = .05 # critical statistical significance level\n",
    "                        # if the p-value is less than alpha, we reject the hypothesis\n",
    "\n",
    "results = stats.ttest_ind(\n",
    "                        sample_1, \n",
    "                        sample_2,\n",
    "                        equal_var=False,\n",
    "                        alternative='less')\n",
    "\n",
    "print('p-value: ', results.pvalue)\n",
    "\n",
    "if (results.pvalue < alpha):\n",
    "        print(\"We reject the null hypothesis\")\n",
    "else:\n",
    "        print(\"We retain the null hypothesis\")"
   ]
  },
  {
   "cell_type": "markdown",
   "id": "d4335c4b",
   "metadata": {},
   "source": [
    "**Step 4: Make a decision**\n",
    "Based on the results of the test statistic we failed to reach significance: the decision is to retain the null hypothesis. The equality of samples' means against such an alternative hypothesis is associated with a 100% probability of occurrence when the null hypothesis is true.\n",
    "\n",
    "This decision is probably an example of a Type II error. With each test we make, there is always some probability that the decision could be a Type II error. In this decision, we decide to retain previous notions of truth that are in fact false (based on previous analysis). While it’s an error, we still did nothing; we retained the null hypothesis. We can always go back and conduct more studies.\n",
    "\n",
    "**The average profit from users in NY-NJ area is different from that of the users from other regions: bilateral hypothesis**\n",
    "\n",
    "First, let's from two populations according to the task."
   ]
  },
  {
   "cell_type": "code",
   "execution_count": 75,
   "id": "e5b4481f",
   "metadata": {},
   "outputs": [],
   "source": [
    "ny_nj_users = df_monthly[df_monthly['city'] == 'New York-Newark-Jersey City, NY-NJ-PA MSA']"
   ]
  },
  {
   "cell_type": "code",
   "execution_count": 76,
   "id": "770c486d",
   "metadata": {},
   "outputs": [],
   "source": [
    "other_regions_users = df_monthly[df_monthly['city'] != 'New York-Newark-Jersey City, NY-NJ-PA MSA']"
   ]
  },
  {
   "cell_type": "code",
   "execution_count": 77,
   "id": "fdab4ba5",
   "metadata": {},
   "outputs": [
    {
     "data": {
      "text/plain": [
       "(1925, 16)"
      ]
     },
     "execution_count": 77,
     "metadata": {},
     "output_type": "execute_result"
    }
   ],
   "source": [
    "other_regions_users.shape"
   ]
  },
  {
   "cell_type": "code",
   "execution_count": 78,
   "id": "18d0f790",
   "metadata": {},
   "outputs": [
    {
     "data": {
      "text/plain": [
       "(378, 16)"
      ]
     },
     "execution_count": 78,
     "metadata": {},
     "output_type": "execute_result"
    }
   ],
   "source": [
    "ny_nj_users.shape"
   ]
  },
  {
   "cell_type": "markdown",
   "id": "3abc7b58",
   "metadata": {},
   "source": [
    "**Step 1: the null and alternative hypotheses**\n",
    "\n",
    "**H0**: The means of two statistical populations are equal. In our case it means that the average profit from users in NY-NJ area and users in other regions is the same.\n",
    "\n",
    "**H1**: The means of two statistical populations are not equal. In our case it means that the average profit from users in NY-NJ area and users in other regions differs, although we do not specify here which one is more.\n",
    "\n",
    "**Step 2: Set the criteria for a decision**\n",
    "We will keep the level of significance at 5% for this test as well.\n",
    "\n",
    "**Step 3: Compute the test statistic**\n",
    "In order to test our new hypothesis we will again apply the method scipy.stats.ttest_ind() but first let's test whether variances of these two populations are similar."
   ]
  },
  {
   "cell_type": "code",
   "execution_count": 79,
   "id": "33c41fbd",
   "metadata": {},
   "outputs": [
    {
     "data": {
      "text/plain": [
       "LeveneResult(statistic=41.693447215751306, pvalue=1.2981971137487152e-10)"
      ]
     },
     "execution_count": 79,
     "metadata": {},
     "output_type": "execute_result"
    }
   ],
   "source": [
    "sample_3 = ny_nj_users['usd_monthly_pay']\n",
    "sample_4 = other_regions_users['usd_monthly_pay']\n",
    "\n",
    "stats.levene(sample_3, sample_4)"
   ]
  },
  {
   "cell_type": "markdown",
   "id": "b2943432",
   "metadata": {},
   "source": [
    "The small p-value (less that 5%) suggests that the populations do not have equal variances. Hence we will set the equal_var parameter to False."
   ]
  },
  {
   "cell_type": "code",
   "execution_count": 80,
   "id": "1cf4b877",
   "metadata": {},
   "outputs": [
    {
     "name": "stdout",
     "output_type": "stream",
     "text": [
      "p-value:  2.430502130436796e-13\n",
      "We reject the null hypothesis\n"
     ]
    }
   ],
   "source": [
    "alpha = .05 # critical statistical significance level\n",
    "                        # if the p-value is less than alpha, we reject the hypothesis\n",
    "\n",
    "results = stats.ttest_ind(\n",
    "                        sample_3, \n",
    "                        sample_4, \n",
    "                        equal_var=False)\n",
    "\n",
    "print('p-value: ', results.pvalue)\n",
    "\n",
    "if (results.pvalue < alpha):\n",
    "        print(\"We reject the null hypothesis\")\n",
    "else:\n",
    "        print(\"We retain the null hypothesis\")"
   ]
  },
  {
   "cell_type": "markdown",
   "id": "f0c664af",
   "metadata": {},
   "source": [
    "**Step 4: Make a decision**\n",
    "Based on the results of the test statistic we reach significance: the decision is to reject the null hypothesis. The equality of samples' means is associated with a low probability of occurrence (much less than 1%) when the null hypothesis is true.\n",
    "\n",
    "Now let's see if this decision stands if we reformulate the alternative hypothesis, so it becomes unilateral.\n",
    "\n",
    "**The average profit from users of Ultimate and Surf plans differs: unilateral hypothesis**\n",
    "\n",
    "**The \"Surf\" plan's average profit is greater than the \"Ultimate\" plan's average profit**\n",
    "\n",
    "**Step 1: the null and alternative hypotheses**\n",
    "\n",
    "**H0**: The means of two statistical populations are equal. In our case it means that the average profit from users in NY-NJ area and users in other regions is the same.\n",
    "\n",
    "**H1**: One of the means of two statistical populations is greater than the other. In our case it means that the average profit from users in NY-NJ area is greater than that of users in other areas.\n",
    "\n",
    "**Step 2: Set the criteria for a decision**\n",
    "We will keep the level of significance at 5% for this test as well.\n",
    "\n",
    "**Step 3: Compute the test statistic**\n",
    "In order to test our new hypothesis we will also apply the method scipy.stats.ttest_ind(). The first 3 parameters stay the same and we will add one more for unilateral hypotheses:\n",
    "\n",
    "- alternative is an optional parameter that defines the alternative hypothesis. The following options are available (default is ‘two-sided’). In this section we will set it to 'greater' for our purposes."
   ]
  },
  {
   "cell_type": "code",
   "execution_count": 81,
   "id": "19f70772",
   "metadata": {},
   "outputs": [
    {
     "name": "stdout",
     "output_type": "stream",
     "text": [
      "p-value:  0.9999999999998785\n",
      "We retain the null hypothesis\n"
     ]
    }
   ],
   "source": [
    "alpha = .05 # critical statistical significance level\n",
    "                        # if the p-value is less than alpha, we reject the hypothesis\n",
    "\n",
    "results = stats.ttest_ind(\n",
    "                        sample_3, \n",
    "                        sample_4,\n",
    "                        equal_var=False,\n",
    "                        alternative='greater')\n",
    "\n",
    "print('p-value: ', results.pvalue)\n",
    "\n",
    "if (results.pvalue < alpha):\n",
    "        print(\"We reject the null hypothesis\")\n",
    "else:\n",
    "        print(\"We retain the null hypothesis\")\n"
   ]
  },
  {
   "cell_type": "markdown",
   "id": "89bf2966",
   "metadata": {},
   "source": [
    "**Step 4: Make a decision**\n",
    "Based on the results of the test statistic we reach significance: the decision is to reject the null hypothesis. The equality of samples' means is associated with a low probability of occurrence (much less than 1%) when the null hypothesis is true.\n",
    "\n",
    "Now let's see what results we would get if we changed again the alternative hypothesis.\n",
    "\n",
    "**The average profit from users of Ultimate and Surf plans differs: unilateral hypothesis**\n",
    "\n",
    "**The \"Surf\" plan's average profit is less than the \"Ultimate\" plan's average profit**\n",
    "\n",
    "**Step 1: the null and alternative hypotheses**\n",
    "\n",
    "**H0**: The means of two statistical populations are equal. In our case it means that the average profit from users of \"Surf\" and \"Ultimate\" plans is the same.\n",
    "\n",
    "**H1**: One of the means of two statistical populations is less than the other. In our case it means that the average profit from users of the \"Surf\" plan is less than that of the \"Ultimate\" plan.\n",
    "\n",
    "**Step 2: Set the criteria for a decision**\n",
    "We will keep the level of significance at 5% for this test as well.\n",
    "\n",
    "**Step 3: Compute the test statistic**\n",
    "In order to test our new hypothesis we will also apply the method scipy.stats.ttest_ind(). The first 3 parameters stay the same and we will add one more for unilateral hypotheses:\n",
    "\n",
    "- alternative is an optional parameter that defines the alternative hypothesis. The following options are available (default is ‘two-sided’). In this section we will set it to 'less' for our purposes."
   ]
  },
  {
   "cell_type": "code",
   "execution_count": 82,
   "id": "00cbaf98",
   "metadata": {},
   "outputs": [
    {
     "name": "stdout",
     "output_type": "stream",
     "text": [
      "p-value:  1.215251065218398e-13\n",
      "We reject the null hypothesis\n"
     ]
    }
   ],
   "source": [
    "alpha = .05 # critical statistical significance level\n",
    "                        # if the p-value is less than alpha, we reject the hypothesis\n",
    "\n",
    "results = stats.ttest_ind(\n",
    "                        sample_3, \n",
    "                        sample_4,\n",
    "                        equal_var=False,\n",
    "                        alternative='less')\n",
    "\n",
    "print('p-value: ', results.pvalue)\n",
    "\n",
    "if (results.pvalue < alpha):\n",
    "        print(\"We reject the null hypothesis\")\n",
    "else:\n",
    "        print(\"We retain the null hypothesis\")"
   ]
  },
  {
   "cell_type": "markdown",
   "id": "7c2dc2c0",
   "metadata": {},
   "source": [
    "**Step 4: Make a decision**\n",
    "Based on the results of the test statistic we failed to reach significance: the decision is to retain the null hypothesis. The equality of samples' means against such an alternative hypothesis is associated with a 100% probability of occurrence when the null hypothesis is true.\n",
    "\n",
    "This decision is probably an example of a Type II error as well.\n",
    "\n",
    "## 5. Conclusion\n",
    "In this report we have analyzed telecom clients' behavior in order to determine which of the two prepaid plans is more profitable and to test two statistical hypotheses.\n",
    "\n",
    "First of all, we have familiarized ourselves with the data by performing the descriptive statistics. Based on that analysis, in the preprocessing step we have changed data type of all the date variables to datetime format.\n",
    "\n",
    "Then we have rounded all the calls to minutes as per the company's policy.\n",
    "\n",
    "Next, we filled some missing values in the churn_date column, assuming these clients are still using the service, that is why there is no exit date for them.\n",
    "\n",
    "We have then checked for duplicates and any artifacts in user dates (we made sure the churn_date was always later than the reg_date and also that all user activity was placed between these two dates). No issues were found in these sections.\n",
    "\n",
    "Next step was to perform a few calculations. For each user, we found:\n",
    "\n",
    "- Total minutes used per month;\n",
    "- The number of text messages sent per month;\n",
    "- The volume of data per month;\n",
    "- The monthly profit from each user (we subtracted the free package limit from the total number of calls, text messages, and data; multiplied the result by the numbers included in the plan and added the monthly plan's charge)\n",
    "\n",
    "In the following section we have performed an exploratory data analysis in order to analyze customer's behavior for each plan and then compare both plans.\n",
    "\n",
    "We found that the \"Surf\" plan is mostly profitable throughout the year with a tendency of being more and more profit-making towards the end of the year. In contract, the \"Ultimate\" plan is mostly not profitable during the year, with the opposite tendency of being even more costly by the end of the year.\n",
    "\n",
    "Distributions for calls and web traffic are close to normal with the mean/median value for calls of 430-440 minutes per month and for web traffic - of 17-18 gb per month for both plans. The distributions for messages are positively skewed with a quite large standard deviation. It means that some people sent large amount of messages compared to the mean number of messages.\n",
    "\n",
    "As for the plans' conditions, the \"Surf\" plan brings some profit because users often exceed the limits. In contract, the \"Ultimate\" plan's limits should be reconsidered as users quite rarely (in 0% for calls and messages and 2% for web traffic cases) reach the limits and usually are far away from them.\n",
    "\n",
    "Next step was statistical hypotheses testing. We tested two hypotheses:\n",
    "\n",
    "1. The average profit from users of Ultimate and Surf plans differs;\n",
    "2. The average profit from users in NY-NJ area is different from that of the users from other regions.\n",
    "For both cases we have tested a bilateral and 2 unilateral hypotheses:\n",
    "\n",
    "- bilateral: in both cases we have rejected the null - each pair of populations does not bring the same average profit to the company;\n",
    "- unilateral:\n",
    "  - 'greater': in both cases we have rejected the nulls in favor of the alternative hypotheses:\n",
    "    - The \"Surf\" plan brings more profit than \"Ultimate\", on average;\n",
    "    - Users from NY-NJ area bring more profit than users from other regions, on average.\n",
    "  - 'less': in both cases we have retained the nulls over the alternative hypotheses:\n",
    "    - The \"Surf\" plan does not bring less profit than \"Ultimate\", on average;\n",
    "    - Users from NY-NJ area does not bring less profit than users from other regions, on average."
   ]
  }
 ],
 "metadata": {
  "ExecuteTimeLog": [
   {
    "duration": 1600,
    "start_time": "2021-09-20T10:28:59.646Z"
   },
   {
    "duration": 624,
    "start_time": "2021-09-20T10:29:01.249Z"
   },
   {
    "duration": 4,
    "start_time": "2021-09-20T10:29:01.876Z"
   },
   {
    "duration": 35,
    "start_time": "2021-09-20T10:29:01.883Z"
   },
   {
    "duration": 88,
    "start_time": "2021-09-20T10:29:01.920Z"
   },
   {
    "duration": 111,
    "start_time": "2021-09-20T10:29:02.010Z"
   },
   {
    "duration": 140,
    "start_time": "2021-09-20T10:29:02.124Z"
   },
   {
    "duration": 7,
    "start_time": "2021-09-20T10:29:02.269Z"
   },
   {
    "duration": 144,
    "start_time": "2021-09-20T10:29:02.281Z"
   },
   {
    "duration": 31,
    "start_time": "2021-09-20T10:29:02.427Z"
   },
   {
    "duration": 17,
    "start_time": "2021-09-20T10:29:02.460Z"
   },
   {
    "duration": 10,
    "start_time": "2021-09-20T10:29:02.480Z"
   },
   {
    "duration": 309,
    "start_time": "2021-09-20T10:29:02.493Z"
   },
   {
    "duration": 412,
    "start_time": "2021-09-20T10:29:02.805Z"
   },
   {
    "duration": 5,
    "start_time": "2021-09-20T10:29:03.220Z"
   },
   {
    "duration": 145,
    "start_time": "2021-09-20T10:29:03.227Z"
   },
   {
    "duration": 94,
    "start_time": "2021-09-20T10:29:03.375Z"
   },
   {
    "duration": 4,
    "start_time": "2021-09-20T10:29:03.471Z"
   },
   {
    "duration": 27,
    "start_time": "2021-09-20T10:29:03.477Z"
   },
   {
    "duration": 61,
    "start_time": "2021-09-20T10:29:03.507Z"
   },
   {
    "duration": 9,
    "start_time": "2021-09-20T10:29:03.570Z"
   },
   {
    "duration": 161,
    "start_time": "2021-09-20T10:29:03.582Z"
   },
   {
    "duration": 113,
    "start_time": "2021-09-20T10:29:03.749Z"
   },
   {
    "duration": 18,
    "start_time": "2021-09-20T10:29:03.865Z"
   },
   {
    "duration": 22,
    "start_time": "2021-09-20T10:29:03.886Z"
   },
   {
    "duration": 52,
    "start_time": "2021-09-20T10:29:03.910Z"
   },
   {
    "duration": 99,
    "start_time": "2021-09-20T10:29:03.965Z"
   },
   {
    "duration": 116,
    "start_time": "2021-09-20T10:29:04.067Z"
   },
   {
    "duration": 19,
    "start_time": "2021-09-20T10:29:04.186Z"
   },
   {
    "duration": 7,
    "start_time": "2021-09-20T10:29:04.207Z"
   },
   {
    "duration": 15,
    "start_time": "2021-09-20T10:29:04.218Z"
   },
   {
    "duration": 220,
    "start_time": "2021-09-20T10:29:04.236Z"
   },
   {
    "duration": 62,
    "start_time": "2021-09-20T10:29:04.458Z"
   },
   {
    "duration": 57,
    "start_time": "2021-09-20T10:29:04.523Z"
   },
   {
    "duration": 41,
    "start_time": "2021-09-20T10:29:04.583Z"
   },
   {
    "duration": 49,
    "start_time": "2021-09-20T10:29:04.627Z"
   },
   {
    "duration": 6,
    "start_time": "2021-09-20T10:29:04.678Z"
   },
   {
    "duration": 7,
    "start_time": "2021-09-20T10:29:04.687Z"
   },
   {
    "duration": 26,
    "start_time": "2021-09-20T10:29:04.696Z"
   },
   {
    "duration": 5,
    "start_time": "2021-09-20T10:29:04.725Z"
   },
   {
    "duration": 4,
    "start_time": "2021-09-20T10:29:04.757Z"
   },
   {
    "duration": 27,
    "start_time": "2021-09-20T10:29:04.763Z"
   },
   {
    "duration": 5,
    "start_time": "2021-09-20T10:29:04.793Z"
   },
   {
    "duration": 10,
    "start_time": "2021-09-20T10:29:04.800Z"
   },
   {
    "duration": 58,
    "start_time": "2021-09-20T10:29:04.812Z"
   },
   {
    "duration": 4,
    "start_time": "2021-09-20T10:29:04.872Z"
   },
   {
    "duration": 18,
    "start_time": "2021-09-20T10:29:04.878Z"
   },
   {
    "duration": 14,
    "start_time": "2021-09-20T10:29:04.898Z"
   },
   {
    "duration": 12,
    "start_time": "2021-09-20T10:29:04.915Z"
   },
   {
    "duration": 94,
    "start_time": "2021-09-20T10:29:04.929Z"
   },
   {
    "duration": 4,
    "start_time": "2021-09-20T10:29:05.026Z"
   },
   {
    "duration": 23,
    "start_time": "2021-09-20T10:29:05.033Z"
   },
   {
    "duration": 2260,
    "start_time": "2021-09-20T10:29:05.060Z"
   },
   {
    "duration": 8,
    "start_time": "2021-09-20T10:29:07.324Z"
   },
   {
    "duration": 31,
    "start_time": "2021-09-20T10:29:07.335Z"
   },
   {
    "duration": 15,
    "start_time": "2021-09-20T10:29:07.369Z"
   },
   {
    "duration": 8,
    "start_time": "2021-09-20T10:29:07.387Z"
   },
   {
    "duration": 14,
    "start_time": "2021-09-20T10:29:07.398Z"
   },
   {
    "duration": 8,
    "start_time": "2021-09-20T10:29:07.455Z"
   },
   {
    "duration": 15,
    "start_time": "2021-09-20T10:29:07.465Z"
   },
   {
    "duration": 11,
    "start_time": "2021-09-20T10:29:07.484Z"
   },
   {
    "duration": 18,
    "start_time": "2021-09-20T10:29:07.498Z"
   },
   {
    "duration": 13,
    "start_time": "2021-09-20T10:29:07.520Z"
   },
   {
    "duration": 9,
    "start_time": "2021-09-20T10:29:07.556Z"
   },
   {
    "duration": 9,
    "start_time": "2021-09-20T10:29:07.568Z"
   },
   {
    "duration": 7,
    "start_time": "2021-09-20T10:29:07.579Z"
   },
   {
    "duration": 1620,
    "start_time": "2021-09-21T19:50:27.141Z"
   },
   {
    "duration": 616,
    "start_time": "2021-09-21T19:50:28.764Z"
   },
   {
    "duration": 4,
    "start_time": "2021-09-21T19:50:29.384Z"
   },
   {
    "duration": 23,
    "start_time": "2021-09-21T19:50:29.392Z"
   },
   {
    "duration": 116,
    "start_time": "2021-09-21T19:50:29.418Z"
   },
   {
    "duration": 107,
    "start_time": "2021-09-21T19:50:29.566Z"
   },
   {
    "duration": 92,
    "start_time": "2021-09-21T19:50:29.676Z"
   },
   {
    "duration": 5,
    "start_time": "2021-09-21T19:50:29.773Z"
   },
   {
    "duration": 121,
    "start_time": "2021-09-21T19:50:29.782Z"
   },
   {
    "duration": 6,
    "start_time": "2021-09-21T19:50:29.905Z"
   },
   {
    "duration": 23,
    "start_time": "2021-09-21T19:50:29.913Z"
   },
   {
    "duration": 6,
    "start_time": "2021-09-21T19:50:29.967Z"
   },
   {
    "duration": 310,
    "start_time": "2021-09-21T19:50:29.975Z"
   },
   {
    "duration": 8,
    "start_time": "2021-09-21T19:50:30.288Z"
   },
   {
    "duration": 194,
    "start_time": "2021-09-21T19:50:30.298Z"
   },
   {
    "duration": 25,
    "start_time": "2021-09-21T19:50:30.494Z"
   },
   {
    "duration": 54,
    "start_time": "2021-09-21T19:50:30.522Z"
   },
   {
    "duration": 4,
    "start_time": "2021-09-21T19:50:30.578Z"
   },
   {
    "duration": 34,
    "start_time": "2021-09-21T19:50:30.584Z"
   },
   {
    "duration": 31,
    "start_time": "2021-09-21T19:50:30.620Z"
   },
   {
    "duration": 38,
    "start_time": "2021-09-21T19:50:30.653Z"
   },
   {
    "duration": 10,
    "start_time": "2021-09-21T19:50:30.693Z"
   },
   {
    "duration": 30,
    "start_time": "2021-09-21T19:50:30.708Z"
   },
   {
    "duration": 42,
    "start_time": "2021-09-21T19:50:30.742Z"
   },
   {
    "duration": 11,
    "start_time": "2021-09-21T19:50:30.786Z"
   },
   {
    "duration": 19,
    "start_time": "2021-09-21T19:50:30.799Z"
   },
   {
    "duration": 46,
    "start_time": "2021-09-21T19:50:30.821Z"
   },
   {
    "duration": 23,
    "start_time": "2021-09-21T19:50:30.869Z"
   },
   {
    "duration": 30,
    "start_time": "2021-09-21T19:50:30.895Z"
   },
   {
    "duration": 30,
    "start_time": "2021-09-21T19:50:30.928Z"
   },
   {
    "duration": 23,
    "start_time": "2021-09-21T19:50:30.961Z"
   },
   {
    "duration": 17,
    "start_time": "2021-09-21T19:50:30.986Z"
   },
   {
    "duration": 391,
    "start_time": "2021-09-21T19:50:31.005Z"
   },
   {
    "duration": 500,
    "start_time": "2021-09-21T19:50:31.398Z"
   },
   {
    "duration": 8,
    "start_time": "2021-09-21T19:50:31.900Z"
   },
   {
    "duration": 14,
    "start_time": "2021-09-21T19:50:31.911Z"
   },
   {
    "duration": 10,
    "start_time": "2021-09-21T19:50:31.928Z"
   },
   {
    "duration": 401,
    "start_time": "2021-09-21T19:50:31.941Z"
   },
   {
    "duration": 8,
    "start_time": "2021-09-21T19:50:32.344Z"
   },
   {
    "duration": 386,
    "start_time": "2021-09-21T19:50:32.368Z"
   },
   {
    "duration": 14,
    "start_time": "2021-09-21T19:50:32.756Z"
   },
   {
    "duration": 18,
    "start_time": "2021-09-21T19:50:32.772Z"
   },
   {
    "duration": 393,
    "start_time": "2021-09-21T19:50:32.792Z"
   },
   {
    "duration": 8,
    "start_time": "2021-09-21T19:50:33.187Z"
   },
   {
    "duration": 446,
    "start_time": "2021-09-21T19:50:33.197Z"
   },
   {
    "duration": 24,
    "start_time": "2021-09-21T19:50:33.646Z"
   },
   {
    "duration": 14,
    "start_time": "2021-09-21T19:50:33.673Z"
   },
   {
    "duration": 394,
    "start_time": "2021-09-21T19:50:33.689Z"
   },
   {
    "duration": 7,
    "start_time": "2021-09-21T19:50:34.086Z"
   },
   {
    "duration": 384,
    "start_time": "2021-09-21T19:50:34.096Z"
   },
   {
    "duration": 8,
    "start_time": "2021-09-21T19:50:34.484Z"
   },
   {
    "duration": 19,
    "start_time": "2021-09-21T19:50:34.495Z"
   },
   {
    "duration": 19,
    "start_time": "2021-09-21T19:50:34.516Z"
   },
   {
    "duration": 282,
    "start_time": "2021-09-21T19:50:34.537Z"
   },
   {
    "duration": 268,
    "start_time": "2021-09-21T19:50:34.821Z"
   },
   {
    "duration": 250,
    "start_time": "2021-09-21T19:50:35.091Z"
   },
   {
    "duration": 253,
    "start_time": "2021-09-21T19:50:35.343Z"
   },
   {
    "duration": 268,
    "start_time": "2021-09-21T19:50:35.599Z"
   },
   {
    "duration": 240,
    "start_time": "2021-09-21T19:50:35.869Z"
   },
   {
    "duration": 31,
    "start_time": "2021-09-21T19:50:36.111Z"
   },
   {
    "duration": 29,
    "start_time": "2021-09-21T19:50:36.145Z"
   },
   {
    "duration": 11,
    "start_time": "2021-09-21T19:50:36.177Z"
   },
   {
    "duration": 9,
    "start_time": "2021-09-21T19:50:36.191Z"
   },
   {
    "duration": 23,
    "start_time": "2021-09-21T19:50:36.202Z"
   },
   {
    "duration": 9,
    "start_time": "2021-09-21T19:50:36.227Z"
   },
   {
    "duration": 533,
    "start_time": "2021-09-21T19:50:36.239Z"
   },
   {
    "duration": -244,
    "start_time": "2021-09-21T19:50:37.019Z"
   },
   {
    "duration": -248,
    "start_time": "2021-09-21T19:50:37.025Z"
   },
   {
    "duration": -260,
    "start_time": "2021-09-21T19:50:37.038Z"
   },
   {
    "duration": -262,
    "start_time": "2021-09-21T19:50:37.043Z"
   },
   {
    "duration": -268,
    "start_time": "2021-09-21T19:50:37.050Z"
   },
   {
    "duration": -271,
    "start_time": "2021-09-21T19:50:37.055Z"
   },
   {
    "duration": -276,
    "start_time": "2021-09-21T19:50:37.061Z"
   },
   {
    "duration": -281,
    "start_time": "2021-09-21T19:50:37.068Z"
   },
   {
    "duration": -285,
    "start_time": "2021-09-21T19:50:37.073Z"
   },
   {
    "duration": 308,
    "start_time": "2021-09-21T19:59:28.620Z"
   },
   {
    "duration": 36,
    "start_time": "2021-09-21T20:06:32.718Z"
   },
   {
    "duration": 80898,
    "start_time": "2021-09-22T09:17:26.236Z"
   },
   {
    "duration": 619,
    "start_time": "2021-09-22T09:18:47.137Z"
   },
   {
    "duration": 5,
    "start_time": "2021-09-22T09:18:47.760Z"
   },
   {
    "duration": 17,
    "start_time": "2021-09-22T09:18:47.768Z"
   },
   {
    "duration": 107,
    "start_time": "2021-09-22T09:18:47.787Z"
   },
   {
    "duration": 93,
    "start_time": "2021-09-22T09:18:47.897Z"
   },
   {
    "duration": 88,
    "start_time": "2021-09-22T09:18:47.993Z"
   },
   {
    "duration": 6,
    "start_time": "2021-09-22T09:18:48.084Z"
   },
   {
    "duration": 116,
    "start_time": "2021-09-22T09:18:48.093Z"
   },
   {
    "duration": 6,
    "start_time": "2021-09-22T09:18:48.211Z"
   },
   {
    "duration": 53,
    "start_time": "2021-09-22T09:18:48.220Z"
   },
   {
    "duration": 1640,
    "start_time": "2021-09-22T09:18:48.275Z"
   },
   {
    "duration": 1628,
    "start_time": "2021-09-22T09:18:49.918Z"
   },
   {
    "duration": 44,
    "start_time": "2021-09-22T09:18:51.561Z"
   },
   {
    "duration": 154,
    "start_time": "2021-09-22T09:18:51.607Z"
   },
   {
    "duration": 6,
    "start_time": "2021-09-22T09:18:51.764Z"
   },
   {
    "duration": 10,
    "start_time": "2021-09-22T09:18:51.773Z"
   },
   {
    "duration": 8,
    "start_time": "2021-09-22T09:18:51.786Z"
   },
   {
    "duration": 10,
    "start_time": "2021-09-22T09:18:51.796Z"
   },
   {
    "duration": 7,
    "start_time": "2021-09-22T09:18:51.809Z"
   },
   {
    "duration": 45,
    "start_time": "2021-09-22T09:18:51.819Z"
   },
   {
    "duration": 24,
    "start_time": "2021-09-22T09:18:51.866Z"
   },
   {
    "duration": 64,
    "start_time": "2021-09-22T09:18:51.897Z"
   },
   {
    "duration": 4,
    "start_time": "2021-09-22T09:18:51.965Z"
   },
   {
    "duration": 20,
    "start_time": "2021-09-22T09:18:51.971Z"
   },
   {
    "duration": 17,
    "start_time": "2021-09-22T09:18:51.993Z"
   },
   {
    "duration": 49,
    "start_time": "2021-09-22T09:18:52.013Z"
   },
   {
    "duration": 9,
    "start_time": "2021-09-22T09:18:52.064Z"
   },
   {
    "duration": 20,
    "start_time": "2021-09-22T09:18:52.076Z"
   },
   {
    "duration": 27,
    "start_time": "2021-09-22T09:18:52.099Z"
   },
   {
    "duration": 38,
    "start_time": "2021-09-22T09:18:52.129Z"
   },
   {
    "duration": 11,
    "start_time": "2021-09-22T09:18:52.169Z"
   },
   {
    "duration": 30,
    "start_time": "2021-09-22T09:18:52.182Z"
   },
   {
    "duration": 21,
    "start_time": "2021-09-22T09:18:52.215Z"
   },
   {
    "duration": 9,
    "start_time": "2021-09-22T09:18:52.263Z"
   },
   {
    "duration": 9,
    "start_time": "2021-09-22T09:18:52.274Z"
   },
   {
    "duration": 7,
    "start_time": "2021-09-22T09:18:52.286Z"
   },
   {
    "duration": 39,
    "start_time": "2021-09-22T09:18:52.295Z"
   },
   {
    "duration": 11,
    "start_time": "2021-09-22T09:18:52.361Z"
   },
   {
    "duration": 390,
    "start_time": "2021-09-22T09:18:52.375Z"
   },
   {
    "duration": 377,
    "start_time": "2021-09-22T09:18:52.768Z"
   },
   {
    "duration": 14,
    "start_time": "2021-09-22T09:18:53.148Z"
   },
   {
    "duration": 13,
    "start_time": "2021-09-22T09:18:53.164Z"
   },
   {
    "duration": 7,
    "start_time": "2021-09-22T09:18:53.179Z"
   },
   {
    "duration": 385,
    "start_time": "2021-09-22T09:18:53.188Z"
   },
   {
    "duration": 8,
    "start_time": "2021-09-22T09:18:53.575Z"
   },
   {
    "duration": 397,
    "start_time": "2021-09-22T09:18:53.585Z"
   },
   {
    "duration": 7,
    "start_time": "2021-09-22T09:18:53.984Z"
   },
   {
    "duration": 16,
    "start_time": "2021-09-22T09:18:53.994Z"
   },
   {
    "duration": 392,
    "start_time": "2021-09-22T09:18:54.013Z"
   },
   {
    "duration": 7,
    "start_time": "2021-09-22T09:18:54.407Z"
   },
   {
    "duration": 448,
    "start_time": "2021-09-22T09:18:54.417Z"
   },
   {
    "duration": 7,
    "start_time": "2021-09-22T09:18:54.868Z"
   },
   {
    "duration": 12,
    "start_time": "2021-09-22T09:18:54.877Z"
   },
   {
    "duration": 383,
    "start_time": "2021-09-22T09:18:54.891Z"
   },
   {
    "duration": 6,
    "start_time": "2021-09-22T09:18:55.276Z"
   },
   {
    "duration": 382,
    "start_time": "2021-09-22T09:18:55.284Z"
   },
   {
    "duration": 7,
    "start_time": "2021-09-22T09:18:55.668Z"
   },
   {
    "duration": 16,
    "start_time": "2021-09-22T09:18:55.677Z"
   },
   {
    "duration": 11,
    "start_time": "2021-09-22T09:18:55.695Z"
   },
   {
    "duration": 281,
    "start_time": "2021-09-22T09:18:55.708Z"
   },
   {
    "duration": 260,
    "start_time": "2021-09-22T09:18:55.991Z"
   },
   {
    "duration": 235,
    "start_time": "2021-09-22T09:18:56.253Z"
   },
   {
    "duration": 259,
    "start_time": "2021-09-22T09:18:56.491Z"
   },
   {
    "duration": 248,
    "start_time": "2021-09-22T09:18:56.752Z"
   },
   {
    "duration": 240,
    "start_time": "2021-09-22T09:18:57.003Z"
   },
   {
    "duration": 40,
    "start_time": "2021-09-22T09:18:57.246Z"
   },
   {
    "duration": 11,
    "start_time": "2021-09-22T09:18:57.293Z"
   },
   {
    "duration": 10,
    "start_time": "2021-09-22T09:18:57.307Z"
   },
   {
    "duration": 6,
    "start_time": "2021-09-22T09:18:57.319Z"
   },
   {
    "duration": 39,
    "start_time": "2021-09-22T09:18:57.327Z"
   },
   {
    "duration": 12,
    "start_time": "2021-09-22T09:18:57.369Z"
   },
   {
    "duration": 558,
    "start_time": "2021-09-22T09:18:57.383Z"
   },
   {
    "duration": -385,
    "start_time": "2021-09-22T09:18:58.328Z"
   },
   {
    "duration": -397,
    "start_time": "2021-09-22T09:18:58.342Z"
   },
   {
    "duration": -402,
    "start_time": "2021-09-22T09:18:58.348Z"
   },
   {
    "duration": -407,
    "start_time": "2021-09-22T09:18:58.354Z"
   },
   {
    "duration": -412,
    "start_time": "2021-09-22T09:18:58.361Z"
   },
   {
    "duration": -417,
    "start_time": "2021-09-22T09:18:58.367Z"
   },
   {
    "duration": -422,
    "start_time": "2021-09-22T09:18:58.373Z"
   },
   {
    "duration": -428,
    "start_time": "2021-09-22T09:18:58.380Z"
   },
   {
    "duration": -432,
    "start_time": "2021-09-22T09:18:58.386Z"
   },
   {
    "duration": 37459,
    "start_time": "2021-09-22T09:24:44.449Z"
   },
   {
    "duration": 4369,
    "start_time": "2021-09-22T09:25:21.911Z"
   },
   {
    "duration": 4,
    "start_time": "2021-09-22T09:25:26.283Z"
   },
   {
    "duration": 29,
    "start_time": "2021-09-22T09:25:26.290Z"
   },
   {
    "duration": 87,
    "start_time": "2021-09-22T09:25:26.322Z"
   },
   {
    "duration": 94,
    "start_time": "2021-09-22T09:25:26.411Z"
   },
   {
    "duration": 102,
    "start_time": "2021-09-22T09:25:26.508Z"
   },
   {
    "duration": 6,
    "start_time": "2021-09-22T09:25:26.615Z"
   },
   {
    "duration": 145,
    "start_time": "2021-09-22T09:25:26.624Z"
   },
   {
    "duration": 7,
    "start_time": "2021-09-22T09:25:26.772Z"
   },
   {
    "duration": 20,
    "start_time": "2021-09-22T09:25:26.782Z"
   },
   {
    "duration": 14,
    "start_time": "2021-09-22T09:25:26.805Z"
   },
   {
    "duration": 304,
    "start_time": "2021-09-22T09:25:26.822Z"
   },
   {
    "duration": 5,
    "start_time": "2021-09-22T09:25:27.128Z"
   },
   {
    "duration": 190,
    "start_time": "2021-09-22T09:25:27.135Z"
   },
   {
    "duration": 7,
    "start_time": "2021-09-22T09:25:27.328Z"
   },
   {
    "duration": 27,
    "start_time": "2021-09-22T09:25:27.338Z"
   },
   {
    "duration": 12,
    "start_time": "2021-09-22T09:25:27.368Z"
   },
   {
    "duration": 8,
    "start_time": "2021-09-22T09:25:27.382Z"
   },
   {
    "duration": 7,
    "start_time": "2021-09-22T09:25:27.392Z"
   },
   {
    "duration": 9,
    "start_time": "2021-09-22T09:25:27.402Z"
   },
   {
    "duration": 62,
    "start_time": "2021-09-22T09:25:27.413Z"
   },
   {
    "duration": 38,
    "start_time": "2021-09-22T09:25:27.481Z"
   },
   {
    "duration": 4,
    "start_time": "2021-09-22T09:25:27.522Z"
   },
   {
    "duration": 40,
    "start_time": "2021-09-22T09:25:27.529Z"
   },
   {
    "duration": 15,
    "start_time": "2021-09-22T09:25:27.571Z"
   },
   {
    "duration": 36,
    "start_time": "2021-09-22T09:25:27.588Z"
   },
   {
    "duration": 39,
    "start_time": "2021-09-22T09:25:27.626Z"
   },
   {
    "duration": 20,
    "start_time": "2021-09-22T09:25:27.667Z"
   },
   {
    "duration": 29,
    "start_time": "2021-09-22T09:25:27.689Z"
   },
   {
    "duration": 11,
    "start_time": "2021-09-22T09:25:27.720Z"
   },
   {
    "duration": 10,
    "start_time": "2021-09-22T09:25:27.762Z"
   },
   {
    "duration": 30,
    "start_time": "2021-09-22T09:25:27.774Z"
   },
   {
    "duration": 55,
    "start_time": "2021-09-22T09:25:27.807Z"
   },
   {
    "duration": 10,
    "start_time": "2021-09-22T09:25:27.864Z"
   },
   {
    "duration": 6,
    "start_time": "2021-09-22T09:25:27.877Z"
   },
   {
    "duration": 7,
    "start_time": "2021-09-22T09:25:27.885Z"
   },
   {
    "duration": 39,
    "start_time": "2021-09-22T09:25:27.895Z"
   },
   {
    "duration": 11,
    "start_time": "2021-09-22T09:25:27.963Z"
   },
   {
    "duration": 380,
    "start_time": "2021-09-22T09:25:27.976Z"
   },
   {
    "duration": 390,
    "start_time": "2021-09-22T09:25:28.362Z"
   },
   {
    "duration": 9,
    "start_time": "2021-09-22T09:25:28.763Z"
   },
   {
    "duration": 7,
    "start_time": "2021-09-22T09:25:28.775Z"
   },
   {
    "duration": 6,
    "start_time": "2021-09-22T09:25:28.785Z"
   },
   {
    "duration": 405,
    "start_time": "2021-09-22T09:25:28.794Z"
   },
   {
    "duration": 8,
    "start_time": "2021-09-22T09:25:29.201Z"
   },
   {
    "duration": 385,
    "start_time": "2021-09-22T09:25:29.211Z"
   },
   {
    "duration": 8,
    "start_time": "2021-09-22T09:25:29.599Z"
   },
   {
    "duration": 15,
    "start_time": "2021-09-22T09:25:29.609Z"
   },
   {
    "duration": 377,
    "start_time": "2021-09-22T09:25:29.626Z"
   },
   {
    "duration": 7,
    "start_time": "2021-09-22T09:25:30.006Z"
   },
   {
    "duration": 446,
    "start_time": "2021-09-22T09:25:30.016Z"
   },
   {
    "duration": 7,
    "start_time": "2021-09-22T09:25:30.464Z"
   },
   {
    "duration": 30,
    "start_time": "2021-09-22T09:25:30.474Z"
   },
   {
    "duration": 365,
    "start_time": "2021-09-22T09:25:30.507Z"
   },
   {
    "duration": 7,
    "start_time": "2021-09-22T09:25:30.874Z"
   },
   {
    "duration": 384,
    "start_time": "2021-09-22T09:25:30.884Z"
   },
   {
    "duration": 9,
    "start_time": "2021-09-22T09:25:31.270Z"
   },
   {
    "duration": 21,
    "start_time": "2021-09-22T09:25:31.281Z"
   },
   {
    "duration": 17,
    "start_time": "2021-09-22T09:25:31.305Z"
   },
   {
    "duration": 277,
    "start_time": "2021-09-22T09:25:31.324Z"
   },
   {
    "duration": 252,
    "start_time": "2021-09-22T09:25:31.603Z"
   },
   {
    "duration": 236,
    "start_time": "2021-09-22T09:25:31.857Z"
   },
   {
    "duration": 386,
    "start_time": "2021-09-22T09:25:32.095Z"
   },
   {
    "duration": 253,
    "start_time": "2021-09-22T09:25:32.483Z"
   },
   {
    "duration": 231,
    "start_time": "2021-09-22T09:25:32.738Z"
   },
   {
    "duration": 28,
    "start_time": "2021-09-22T09:25:32.972Z"
   },
   {
    "duration": 10,
    "start_time": "2021-09-22T09:25:33.008Z"
   },
   {
    "duration": 44,
    "start_time": "2021-09-22T09:25:33.021Z"
   },
   {
    "duration": 12,
    "start_time": "2021-09-22T09:25:33.068Z"
   },
   {
    "duration": 23,
    "start_time": "2021-09-22T09:25:33.083Z"
   },
   {
    "duration": 10,
    "start_time": "2021-09-22T09:25:33.108Z"
   },
   {
    "duration": 12,
    "start_time": "2021-09-22T09:25:33.120Z"
   },
   {
    "duration": 15,
    "start_time": "2021-09-22T09:25:33.134Z"
   },
   {
    "duration": 6,
    "start_time": "2021-09-22T09:25:33.163Z"
   },
   {
    "duration": 12,
    "start_time": "2021-09-22T09:25:33.171Z"
   },
   {
    "duration": 20,
    "start_time": "2021-09-22T09:25:33.186Z"
   },
   {
    "duration": 7,
    "start_time": "2021-09-22T09:25:33.208Z"
   },
   {
    "duration": 10,
    "start_time": "2021-09-22T09:25:33.217Z"
   },
   {
    "duration": 35,
    "start_time": "2021-09-22T09:25:33.229Z"
   },
   {
    "duration": 7,
    "start_time": "2021-09-22T09:25:33.267Z"
   },
   {
    "duration": 8,
    "start_time": "2021-09-22T09:25:33.276Z"
   },
   {
    "duration": 73875,
    "start_time": "2021-09-22T09:25:53.914Z"
   },
   {
    "duration": 595,
    "start_time": "2021-09-22T09:27:07.792Z"
   },
   {
    "duration": 4,
    "start_time": "2021-09-22T09:27:08.390Z"
   },
   {
    "duration": 40,
    "start_time": "2021-09-22T09:27:08.396Z"
   },
   {
    "duration": 79,
    "start_time": "2021-09-22T09:27:08.439Z"
   },
   {
    "duration": 95,
    "start_time": "2021-09-22T09:27:08.520Z"
   },
   {
    "duration": 99,
    "start_time": "2021-09-22T09:27:08.617Z"
   },
   {
    "duration": 5,
    "start_time": "2021-09-22T09:27:08.720Z"
   },
   {
    "duration": 135,
    "start_time": "2021-09-22T09:27:08.728Z"
   },
   {
    "duration": 6,
    "start_time": "2021-09-22T09:27:08.866Z"
   },
   {
    "duration": 23,
    "start_time": "2021-09-22T09:27:08.875Z"
   },
   {
    "duration": 16,
    "start_time": "2021-09-22T09:27:08.901Z"
   },
   {
    "duration": 298,
    "start_time": "2021-09-22T09:27:08.920Z"
   },
   {
    "duration": 5,
    "start_time": "2021-09-22T09:27:09.220Z"
   },
   {
    "duration": 181,
    "start_time": "2021-09-22T09:27:09.228Z"
   },
   {
    "duration": 7,
    "start_time": "2021-09-22T09:27:09.411Z"
   },
   {
    "duration": 30,
    "start_time": "2021-09-22T09:27:09.420Z"
   },
   {
    "duration": 13,
    "start_time": "2021-09-22T09:27:09.452Z"
   },
   {
    "duration": 7,
    "start_time": "2021-09-22T09:27:09.467Z"
   },
   {
    "duration": 8,
    "start_time": "2021-09-22T09:27:09.476Z"
   },
   {
    "duration": 17,
    "start_time": "2021-09-22T09:27:09.486Z"
   },
   {
    "duration": 25,
    "start_time": "2021-09-22T09:27:09.505Z"
   },
   {
    "duration": 35,
    "start_time": "2021-09-22T09:27:09.562Z"
   },
   {
    "duration": 4,
    "start_time": "2021-09-22T09:27:09.601Z"
   },
   {
    "duration": 14,
    "start_time": "2021-09-22T09:27:09.607Z"
   },
   {
    "duration": 43,
    "start_time": "2021-09-22T09:27:09.624Z"
   },
   {
    "duration": 30,
    "start_time": "2021-09-22T09:27:09.670Z"
   },
   {
    "duration": 12,
    "start_time": "2021-09-22T09:27:09.703Z"
   },
   {
    "duration": 54,
    "start_time": "2021-09-22T09:27:09.717Z"
   },
   {
    "duration": 28,
    "start_time": "2021-09-22T09:27:09.774Z"
   },
   {
    "duration": 11,
    "start_time": "2021-09-22T09:27:09.804Z"
   },
   {
    "duration": 11,
    "start_time": "2021-09-22T09:27:09.817Z"
   },
   {
    "duration": 57,
    "start_time": "2021-09-22T09:27:09.831Z"
   },
   {
    "duration": 23,
    "start_time": "2021-09-22T09:27:09.891Z"
   },
   {
    "duration": 20,
    "start_time": "2021-09-22T09:27:09.916Z"
   },
   {
    "duration": 24,
    "start_time": "2021-09-22T09:27:09.939Z"
   },
   {
    "duration": 6,
    "start_time": "2021-09-22T09:27:09.965Z"
   },
   {
    "duration": 50,
    "start_time": "2021-09-22T09:27:09.974Z"
   },
   {
    "duration": 18,
    "start_time": "2021-09-22T09:27:10.026Z"
   },
   {
    "duration": 406,
    "start_time": "2021-09-22T09:27:10.046Z"
   },
   {
    "duration": 367,
    "start_time": "2021-09-22T09:27:10.454Z"
   },
   {
    "duration": 8,
    "start_time": "2021-09-22T09:27:10.823Z"
   },
   {
    "duration": 20,
    "start_time": "2021-09-22T09:27:10.833Z"
   },
   {
    "duration": 18,
    "start_time": "2021-09-22T09:27:10.862Z"
   },
   {
    "duration": 370,
    "start_time": "2021-09-22T09:27:10.882Z"
   },
   {
    "duration": 12,
    "start_time": "2021-09-22T09:27:11.255Z"
   },
   {
    "duration": 379,
    "start_time": "2021-09-22T09:27:11.270Z"
   },
   {
    "duration": 16,
    "start_time": "2021-09-22T09:27:11.651Z"
   },
   {
    "duration": 21,
    "start_time": "2021-09-22T09:27:11.670Z"
   },
   {
    "duration": 374,
    "start_time": "2021-09-22T09:27:11.693Z"
   },
   {
    "duration": 6,
    "start_time": "2021-09-22T09:27:12.070Z"
   },
   {
    "duration": 445,
    "start_time": "2021-09-22T09:27:12.079Z"
   },
   {
    "duration": 6,
    "start_time": "2021-09-22T09:27:12.527Z"
   },
   {
    "duration": 31,
    "start_time": "2021-09-22T09:27:12.536Z"
   },
   {
    "duration": 352,
    "start_time": "2021-09-22T09:27:12.569Z"
   },
   {
    "duration": 7,
    "start_time": "2021-09-22T09:27:12.923Z"
   },
   {
    "duration": 368,
    "start_time": "2021-09-22T09:27:12.932Z"
   },
   {
    "duration": 7,
    "start_time": "2021-09-22T09:27:13.302Z"
   },
   {
    "duration": 15,
    "start_time": "2021-09-22T09:27:13.311Z"
   },
   {
    "duration": 35,
    "start_time": "2021-09-22T09:27:13.329Z"
   },
   {
    "duration": 267,
    "start_time": "2021-09-22T09:27:13.366Z"
   },
   {
    "duration": 255,
    "start_time": "2021-09-22T09:27:13.635Z"
   },
   {
    "duration": 246,
    "start_time": "2021-09-22T09:27:13.894Z"
   },
   {
    "duration": 247,
    "start_time": "2021-09-22T09:27:14.142Z"
   },
   {
    "duration": 260,
    "start_time": "2021-09-22T09:27:14.392Z"
   },
   {
    "duration": 234,
    "start_time": "2021-09-22T09:27:14.663Z"
   },
   {
    "duration": 30,
    "start_time": "2021-09-22T09:27:14.900Z"
   },
   {
    "duration": 33,
    "start_time": "2021-09-22T09:27:14.937Z"
   },
   {
    "duration": 36,
    "start_time": "2021-09-22T09:27:14.973Z"
   },
   {
    "duration": 12,
    "start_time": "2021-09-22T09:27:15.011Z"
   },
   {
    "duration": 33,
    "start_time": "2021-09-22T09:27:15.025Z"
   },
   {
    "duration": 14,
    "start_time": "2021-09-22T09:27:15.061Z"
   },
   {
    "duration": 18,
    "start_time": "2021-09-22T09:27:15.078Z"
   },
   {
    "duration": 23,
    "start_time": "2021-09-22T09:27:15.098Z"
   },
   {
    "duration": 24,
    "start_time": "2021-09-22T09:27:15.123Z"
   },
   {
    "duration": 12,
    "start_time": "2021-09-22T09:27:15.149Z"
   },
   {
    "duration": 16,
    "start_time": "2021-09-22T09:27:15.164Z"
   },
   {
    "duration": 19,
    "start_time": "2021-09-22T09:27:15.183Z"
   },
   {
    "duration": 14,
    "start_time": "2021-09-22T09:27:15.205Z"
   },
   {
    "duration": 12,
    "start_time": "2021-09-22T09:27:15.221Z"
   },
   {
    "duration": 11,
    "start_time": "2021-09-22T09:27:15.235Z"
   },
   {
    "duration": 21,
    "start_time": "2021-09-22T09:27:15.248Z"
   }
  ],
  "kernelspec": {
   "display_name": "Python 3",
   "language": "python",
   "name": "python3"
  },
  "language_info": {
   "codemirror_mode": {
    "name": "ipython",
    "version": 3
   },
   "file_extension": ".py",
   "mimetype": "text/x-python",
   "name": "python",
   "nbconvert_exporter": "python",
   "pygments_lexer": "ipython3",
   "version": "3.8.8"
  },
  "toc": {
   "base_numbering": 1,
   "nav_menu": {},
   "number_sections": true,
   "sideBar": true,
   "skip_h1_title": true,
   "title_cell": "Table of Contents",
   "title_sidebar": "Contents",
   "toc_cell": false,
   "toc_position": {},
   "toc_section_display": true,
   "toc_window_display": false
  }
 },
 "nbformat": 4,
 "nbformat_minor": 5
}
