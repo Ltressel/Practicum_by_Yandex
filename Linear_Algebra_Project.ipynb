{
 "cells": [
  {
   "cell_type": "markdown",
   "metadata": {},
   "source": [
    "# Statement"
   ]
  },
  {
   "cell_type": "markdown",
   "metadata": {},
   "source": [
    "The Sure Tomorrow insurance company wants to solve several tasks with the help of Machine Learning and you are asked to evaluate that possibility.\n",
    "\n",
    "- Task 1: Find customers who are similar to a given customer. This will help the company's agents with marketing.\n",
    "- Task 2: Predict whether a new customer is likely to receive an insurance benefit. Can a prediction model do better than a dummy model?\n",
    "- Task 3: Predict the number of insurance benefits a new customer is likely to receive using a linear regression model.\n",
    "- Task 4: Protect clients' personal data without breaking the model from the previous task. It's necessary to develop a data transformation algorithm that would make it hard to recover personal information if the data fell into the wrong hands. This is called data masking, or data obfuscation. But the data should be protected in such a way that the quality of machine learning models doesn't suffer. You don't need to pick the best model, just prove that the algorithm works correctly.\n",
    "\n",
    "## Data Description\n",
    "The dataset is stored in file /datasets/insurance_us.csv.\n",
    "- Features: insured person's gender, age, salary, and number of family members.\n",
    "- Target: number of insurance benefits received by an insured person over the last five years."
   ]
  },
  {
   "cell_type": "markdown",
   "metadata": {},
   "source": [
    "# Data Preprocessing & Exploration\n",
    "\n",
    "## Initialization"
   ]
  },
  {
   "cell_type": "code",
   "execution_count": 61,
   "metadata": {},
   "outputs": [
    {
     "name": "stdout",
     "output_type": "stream",
     "text": [
      "Requirement already satisfied: scikit-learn in /Users/tresselg/opt/anaconda3/lib/python3.8/site-packages (1.0.2)\n",
      "Requirement already satisfied: threadpoolctl>=2.0.0 in /Users/tresselg/opt/anaconda3/lib/python3.8/site-packages (from scikit-learn) (2.1.0)\n",
      "Requirement already satisfied: numpy>=1.14.6 in /Users/tresselg/opt/anaconda3/lib/python3.8/site-packages (from scikit-learn) (1.20.1)\n",
      "Requirement already satisfied: joblib>=0.11 in /Users/tresselg/opt/anaconda3/lib/python3.8/site-packages (from scikit-learn) (1.0.1)\n",
      "Requirement already satisfied: scipy>=1.1.0 in /Users/tresselg/opt/anaconda3/lib/python3.8/site-packages (from scikit-learn) (1.7.1)\n",
      "Note: you may need to restart the kernel to use updated packages.\n"
     ]
    }
   ],
   "source": [
    "pip install scikit-learn --upgrade"
   ]
  },
  {
   "cell_type": "code",
   "execution_count": 132,
   "metadata": {},
   "outputs": [
    {
     "name": "stdout",
     "output_type": "stream",
     "text": [
      "Collecting imblearn\n",
      "  Downloading imblearn-0.0-py2.py3-none-any.whl (1.9 kB)\n",
      "Collecting imbalanced-learn\n",
      "  Downloading imbalanced_learn-0.8.1-py3-none-any.whl (189 kB)\n",
      "\u001b[K     |████████████████████████████████| 189 kB 4.8 MB/s eta 0:00:01\n",
      "\u001b[?25hRequirement already satisfied: numpy>=1.13.3 in /Users/tresselg/opt/anaconda3/lib/python3.8/site-packages (from imbalanced-learn->imblearn) (1.20.1)\n",
      "Requirement already satisfied: joblib>=0.11 in /Users/tresselg/opt/anaconda3/lib/python3.8/site-packages (from imbalanced-learn->imblearn) (1.0.1)\n",
      "Requirement already satisfied: scipy>=0.19.1 in /Users/tresselg/opt/anaconda3/lib/python3.8/site-packages (from imbalanced-learn->imblearn) (1.7.1)\n",
      "Requirement already satisfied: scikit-learn>=0.24 in /Users/tresselg/opt/anaconda3/lib/python3.8/site-packages (from imbalanced-learn->imblearn) (1.0.2)\n",
      "Requirement already satisfied: threadpoolctl>=2.0.0 in /Users/tresselg/opt/anaconda3/lib/python3.8/site-packages (from scikit-learn>=0.24->imbalanced-learn->imblearn) (2.1.0)\n",
      "Installing collected packages: imbalanced-learn, imblearn\n",
      "Successfully installed imbalanced-learn-0.8.1 imblearn-0.0\n",
      "Note: you may need to restart the kernel to use updated packages.\n"
     ]
    }
   ],
   "source": [
    "pip install imblearn"
   ]
  },
  {
   "cell_type": "code",
   "execution_count": 133,
   "metadata": {},
   "outputs": [],
   "source": [
    "import numpy as np\n",
    "import pandas as pd\n",
    "import seaborn as sns\n",
    "from matplotlib import pyplot as plt\n",
    "from scipy import stats as st\n",
    "\n",
    "import sklearn.linear_model\n",
    "import sklearn.metrics\n",
    "import sklearn.neighbors\n",
    "import sklearn.preprocessing\n",
    "from sklearn.cluster import KMeans\n",
    "from imblearn.pipeline import Pipeline\n",
    "from imblearn.over_sampling import SMOTE\n",
    "\n",
    "from sklearn.model_selection import train_test_split\n",
    "from sklearn.model_selection import GridSearchCV\n",
    "from sklearn.model_selection import StratifiedKFold\n",
    "from sklearn.linear_model import LogisticRegression\n",
    "from sklearn.tree import DecisionTreeClassifier\n",
    "from sklearn.svm import SVC\n",
    "from sklearn.neighbors import KNeighborsClassifier\n",
    "from sklearn.ensemble import RandomForestClassifier\n",
    "from IPython.display import display\n",
    "from sklearn.preprocessing import MaxAbsScaler\n",
    "\n",
    "import math\n",
    "from sklearn.metrics import f1_score\n",
    "from sklearn.metrics import matthews_corrcoef\n",
    "from sklearn.metrics import make_scorer\n",
    "from sklearn.metrics import confusion_matrix"
   ]
  },
  {
   "cell_type": "markdown",
   "metadata": {},
   "source": [
    "## Load Data"
   ]
  },
  {
   "cell_type": "markdown",
   "metadata": {},
   "source": [
    "Load data and conduct a basic check that it's free from obvious issues."
   ]
  },
  {
   "cell_type": "code",
   "execution_count": 134,
   "metadata": {},
   "outputs": [],
   "source": [
    "insurance_full = pd.read_csv('https://code.s3.yandex.net/datasets/insurance_us.csv')"
   ]
  },
  {
   "cell_type": "code",
   "execution_count": 135,
   "metadata": {},
   "outputs": [],
   "source": [
    "#Make all column names lowercase.\n",
    "insurance_full.columns = insurance_full.columns.str.lower()"
   ]
  },
  {
   "cell_type": "code",
   "execution_count": 136,
   "metadata": {},
   "outputs": [
    {
     "name": "stdout",
     "output_type": "stream",
     "text": [
      "<class 'pandas.core.frame.DataFrame'>\n",
      "RangeIndex: 5000 entries, 0 to 4999\n",
      "Data columns (total 5 columns):\n",
      " #   Column              Non-Null Count  Dtype  \n",
      "---  ------              --------------  -----  \n",
      " 0   gender              5000 non-null   int64  \n",
      " 1   age                 5000 non-null   float64\n",
      " 2   salary              5000 non-null   float64\n",
      " 3   family members      5000 non-null   int64  \n",
      " 4   insurance benefits  5000 non-null   int64  \n",
      "dtypes: float64(2), int64(3)\n",
      "memory usage: 195.4 KB\n"
     ]
    }
   ],
   "source": [
    "#Print data info to check for missing values.\n",
    "insurance_full.info()"
   ]
  },
  {
   "cell_type": "markdown",
   "metadata": {},
   "source": [
    "As can be seen, there are no missing values in the dataset, so we do not need to worry about filling NaNs. That being said, we see that 'age' is of the float64 data type. We find this odd and will, therefore, change the data type to 'int', which is more familiar when working with age values."
   ]
  },
  {
   "cell_type": "code",
   "execution_count": 137,
   "metadata": {},
   "outputs": [],
   "source": [
    "# Use astype() to change the data type for 'age'.\n",
    "insurance_full['age'] = insurance_full['age'].astype('int64')"
   ]
  },
  {
   "cell_type": "code",
   "execution_count": 138,
   "metadata": {},
   "outputs": [
    {
     "name": "stdout",
     "output_type": "stream",
     "text": [
      "This dataset contains 153 duplicates.\n"
     ]
    }
   ],
   "source": [
    "# Print the number of duplicates.\n",
    "print(f'This dataset contains {insurance_full.duplicated().sum()} duplicates.')\n",
    "\n",
    "# Drop duplicates and reset index.\n",
    "insurance_full = insurance_full.drop_duplicates().reset_index(drop=True)"
   ]
  },
  {
   "cell_type": "code",
   "execution_count": 140,
   "metadata": {},
   "outputs": [
    {
     "name": "stdout",
     "output_type": "stream",
     "text": [
      "Descriptive statistics for dataset:\n"
     ]
    },
    {
     "data": {
      "text/html": [
       "<div>\n",
       "<style scoped>\n",
       "    .dataframe tbody tr th:only-of-type {\n",
       "        vertical-align: middle;\n",
       "    }\n",
       "\n",
       "    .dataframe tbody tr th {\n",
       "        vertical-align: top;\n",
       "    }\n",
       "\n",
       "    .dataframe thead th {\n",
       "        text-align: right;\n",
       "    }\n",
       "</style>\n",
       "<table border=\"1\" class=\"dataframe\">\n",
       "  <thead>\n",
       "    <tr style=\"text-align: right;\">\n",
       "      <th></th>\n",
       "      <th>gender</th>\n",
       "      <th>age</th>\n",
       "      <th>salary</th>\n",
       "      <th>family members</th>\n",
       "      <th>insurance benefits</th>\n",
       "    </tr>\n",
       "  </thead>\n",
       "  <tbody>\n",
       "    <tr>\n",
       "      <th>count</th>\n",
       "      <td>4847.000000</td>\n",
       "      <td>4847.000000</td>\n",
       "      <td>4847.000000</td>\n",
       "      <td>4847.000000</td>\n",
       "      <td>4847.000000</td>\n",
       "    </tr>\n",
       "    <tr>\n",
       "      <th>mean</th>\n",
       "      <td>0.498453</td>\n",
       "      <td>31.023932</td>\n",
       "      <td>39895.811842</td>\n",
       "      <td>1.203425</td>\n",
       "      <td>0.152259</td>\n",
       "    </tr>\n",
       "    <tr>\n",
       "      <th>std</th>\n",
       "      <td>0.500049</td>\n",
       "      <td>8.487995</td>\n",
       "      <td>9972.953985</td>\n",
       "      <td>1.098664</td>\n",
       "      <td>0.468934</td>\n",
       "    </tr>\n",
       "    <tr>\n",
       "      <th>min</th>\n",
       "      <td>0.000000</td>\n",
       "      <td>18.000000</td>\n",
       "      <td>5300.000000</td>\n",
       "      <td>0.000000</td>\n",
       "      <td>0.000000</td>\n",
       "    </tr>\n",
       "    <tr>\n",
       "      <th>25%</th>\n",
       "      <td>0.000000</td>\n",
       "      <td>24.000000</td>\n",
       "      <td>33200.000000</td>\n",
       "      <td>0.000000</td>\n",
       "      <td>0.000000</td>\n",
       "    </tr>\n",
       "    <tr>\n",
       "      <th>50%</th>\n",
       "      <td>0.000000</td>\n",
       "      <td>30.000000</td>\n",
       "      <td>40200.000000</td>\n",
       "      <td>1.000000</td>\n",
       "      <td>0.000000</td>\n",
       "    </tr>\n",
       "    <tr>\n",
       "      <th>75%</th>\n",
       "      <td>1.000000</td>\n",
       "      <td>37.000000</td>\n",
       "      <td>46600.000000</td>\n",
       "      <td>2.000000</td>\n",
       "      <td>0.000000</td>\n",
       "    </tr>\n",
       "    <tr>\n",
       "      <th>max</th>\n",
       "      <td>1.000000</td>\n",
       "      <td>65.000000</td>\n",
       "      <td>79000.000000</td>\n",
       "      <td>6.000000</td>\n",
       "      <td>5.000000</td>\n",
       "    </tr>\n",
       "  </tbody>\n",
       "</table>\n",
       "</div>"
      ],
      "text/plain": [
       "            gender          age        salary  family members  \\\n",
       "count  4847.000000  4847.000000   4847.000000     4847.000000   \n",
       "mean      0.498453    31.023932  39895.811842        1.203425   \n",
       "std       0.500049     8.487995   9972.953985        1.098664   \n",
       "min       0.000000    18.000000   5300.000000        0.000000   \n",
       "25%       0.000000    24.000000  33200.000000        0.000000   \n",
       "50%       0.000000    30.000000  40200.000000        1.000000   \n",
       "75%       1.000000    37.000000  46600.000000        2.000000   \n",
       "max       1.000000    65.000000  79000.000000        6.000000   \n",
       "\n",
       "       insurance benefits  \n",
       "count         4847.000000  \n",
       "mean             0.152259  \n",
       "std              0.468934  \n",
       "min              0.000000  \n",
       "25%              0.000000  \n",
       "50%              0.000000  \n",
       "75%              0.000000  \n",
       "max              5.000000  "
      ]
     },
     "metadata": {},
     "output_type": "display_data"
    }
   ],
   "source": [
    "# now have a look at the data's descriptive statistics. \n",
    "# Does everything look okay?\n",
    "print(\"Descriptive statistics for dataset:\")\n",
    "display(insurance_full.describe())"
   ]
  },
  {
   "cell_type": "code",
   "execution_count": 141,
   "metadata": {},
   "outputs": [
    {
     "data": {
      "image/png": "[encoded data removed]",
      "text/plain": [
       "<Figure size 1080x504 with 2 Axes>"
      ]
     },
     "metadata": {
      "needs_background": "light"
     },
     "output_type": "display_data"
    }
   ],
   "source": [
    "# Create boxplot to visualize outliers for continuous variables.\n",
    "plot_columns = {'age' : 'Years', 'salary' : 'US Dollars'}\n",
    "\n",
    "fig, axs = plt.subplots(1, 2, figsize=(15, 7))\n",
    "fig.suptitle(\"Boxplots to Visualize Outliers for Age and Salary Columns\", fontsize=16, y=.95)\n",
    "\n",
    "for column in list(plot_columns):\n",
    "    axs_index = list(plot_columns.keys()).index(column)\n",
    "    sns.boxplot(data=insurance_full[column], ax=axs[axs_index])\n",
    "    axs[axs_index].tick_params(axis='x', which='both', bottom=False, top=False, labelbottom=False)\n",
    "    axs[axs_index].set_xlabel(column.capitalize(), fontsize=12)\n",
    "    axs[axs_index].set_ylabel(plot_columns[column], fontsize=12)\n",
    "plt.show()"
   ]
  },
  {
   "cell_type": "markdown",
   "metadata": {},
   "source": [
    "As we can see, there are clear outliers in the 'salary' and 'age' columns, though not very many. As we visualize the range of values for each column using a standard boxplot, we know that the outliers are identified using the 1.5 * IRQ rule - that is, any values that are 1.5 times the interquartile range above and below the 3rd and 1st quartiles, respectively, are considered outliers. We will remove these outliers from our dataset in the next subsection.\n",
    "\n",
    "##### Remove Outliers"
   ]
  },
  {
   "cell_type": "code",
   "execution_count": 142,
   "metadata": {},
   "outputs": [
    {
     "name": "stdout",
     "output_type": "stream",
     "text": [
      "Length of dataset before ourliers are removed: 4847\n",
      "Length of dataset after ourliers are removed: 4801\n"
     ]
    }
   ],
   "source": [
    "#Get interquartile range values for the 'age' and 'salary' columns. \n",
    "def remove_outliers(df, column):\n",
    "    iqr = st.iqr(df[column])\n",
    "    q1, q3 = np.quantile(df[column], [.25, .75])\n",
    "    df = df.loc[(df[column] >= q1 - (1.5 * iqr)) & (df[column] <= q3 + (1.5 * iqr))]\n",
    "    return df\n",
    "\n",
    "# Print length of dataset prior to removing outliers.\n",
    "print(f'Length of dataset before ourliers are removed: {len(insurance_full)}')\n",
    "\n",
    "#Remove outliers from each column.\n",
    "insurance_full = remove_outliers(insurance_full, 'salary')\n",
    "insurance_full = remove_outliers(insurance_full, 'age')\n",
    "\n",
    "# Print length out dataset now that outliers are removed.\n",
    "print(f'Length of dataset after ourliers are removed: {len(insurance_full)}')"
   ]
  },
  {
   "cell_type": "markdown",
   "metadata": {},
   "source": [
    "##### Split Data into Features and Target Datasets"
   ]
  },
  {
   "cell_type": "code",
   "execution_count": 143,
   "metadata": {},
   "outputs": [],
   "source": [
    "# Create a list of feature columns.\n",
    "features = ['gender', 'age', 'salary', 'family members']\n",
    "\n",
    "#Create dataset for features and target.\n",
    "insurance_features = insurance_full[features]\n",
    "insurance_target = insurance_full['insurance benefits']"
   ]
  },
  {
   "cell_type": "markdown",
   "metadata": {},
   "source": [
    "### Data Preprocessing Summary\n",
    "In this subsection, we carried out the following data preprocessing steps:\n",
    "\n",
    "1) Formatted column names to all lowercase.\n",
    "2) Checked for missing values.\n",
    "3) Changed the data type for the 'age' column to int64.\n",
    "4) Checked for, and dropped, duplicates.\n",
    "5) Checked for, and removed, outliers.\n",
    "6) Split the data into features and target datasets.\n",
    "\n",
    "Whereas our initial dataset contained 5,000 observations, our new datasets contain 4801 observations each. This means that a little less than 2.5% of our observations were dropped, which is acceptable amount, especially considering the number of observations we have to work with.\n",
    "\n",
    "In the next section, we will use use select one customer at random and find their 5 nearest neighbors. We will then attempt to cluster individuals and find the optimum number of clusters to reduce cluster inertia. For these tasks, we will be working with the full dataset, as these tasks do not involve supervised learning.\n",
    "\n",
    "## Find Nearest Neighbors and Clusters\n",
    "### Identify Nearest Neighbors\n",
    "#### Check Affect on Neighbors' Distances from Scaling and Metric"
   ]
  },
  {
   "cell_type": "code",
   "execution_count": 144,
   "metadata": {},
   "outputs": [
    {
     "data": {
      "text/html": [
       "<div>\n",
       "<style scoped>\n",
       "    .dataframe tbody tr th:only-of-type {\n",
       "        vertical-align: middle;\n",
       "    }\n",
       "\n",
       "    .dataframe tbody tr th {\n",
       "        vertical-align: top;\n",
       "    }\n",
       "\n",
       "    .dataframe thead th {\n",
       "        text-align: right;\n",
       "    }\n",
       "</style>\n",
       "<table border=\"1\" class=\"dataframe\">\n",
       "  <thead>\n",
       "    <tr style=\"text-align: right;\">\n",
       "      <th></th>\n",
       "      <th>Scaled, Euclidean</th>\n",
       "      <th>Not Scaled, Euclidean</th>\n",
       "      <th>Scaled, Manhattan</th>\n",
       "      <th>Not Scaled, Manhattan</th>\n",
       "    </tr>\n",
       "  </thead>\n",
       "  <tbody>\n",
       "    <tr>\n",
       "      <th>Average Neighbors' Distances</th>\n",
       "      <td>0.049</td>\n",
       "      <td>16.757</td>\n",
       "      <td>0.063</td>\n",
       "      <td>20.0</td>\n",
       "    </tr>\n",
       "  </tbody>\n",
       "</table>\n",
       "</div>"
      ],
      "text/plain": [
       "                              Scaled, Euclidean  Not Scaled, Euclidean  \\\n",
       "Average Neighbors' Distances              0.049                 16.757   \n",
       "\n",
       "                              Scaled, Manhattan  Not Scaled, Manhattan  \n",
       "Average Neighbors' Distances              0.063                   20.0  "
      ]
     },
     "metadata": {},
     "output_type": "display_data"
    }
   ],
   "source": [
    "#Create dictionary to save distance values.\n",
    "distances = {}\n",
    "\n",
    "#Get index for random row.\n",
    "np.random.seed(12345)\n",
    "random_int = np.random.randint(0, len(insurance_full))\n",
    "\n",
    "#Create function to calculate average neighbors' distances based on metric and scale.\n",
    "def neighbor_dist(scaling, metric, n, k):\n",
    "    df = insurance_full\n",
    "    if scaling == True:\n",
    "        scaler = MaxAbsScaler().fit(df)\n",
    "        df = scaler.transform(df)\n",
    "    else:\n",
    "        df = df.values\n",
    "    neighbors_func = sklearn.neighbors.NearestNeighbors(n_neighbors=k, metric=metric)\n",
    "    neighbors_func.fit(df)\n",
    "    dist, nbrs = neighbors_func.kneighbors([df[n]], k, return_distance=True)\n",
    "    return (np.sum(dist) / (k-1)).round(3)\n",
    "    \n",
    "#Save average distance measurements to dictionary, along with relevant parameter values.\n",
    "distances['Scaled, Euclidean'] = neighbor_dist(True, 'euclidean', random_int, 6)\n",
    "distances['Not Scaled, Euclidean'] = neighbor_dist(False, 'euclidean', random_int, 6)\n",
    "distances['Scaled, Manhattan'] = neighbor_dist(True, 'manhattan', random_int, 6)\n",
    "distances['Not Scaled, Manhattan'] = neighbor_dist(False, 'manhattan', random_int, 6)\n",
    "\n",
    "#Dislpay dataframe with average distance measurements.\n",
    "display(pd.DataFrame([distances], columns=distances.keys(), index=['Average Neighbors\\' Distances']))"
   ]
  },
  {
   "cell_type": "markdown",
   "metadata": {},
   "source": [
    "In this subsection we wanted to answer the question \"how does scaling and metric choice affect the average distance for 5 nearest neighbors\". To do so, we made a function that takes the following arguments:\n",
    "\n",
    "* scaling - Based on whether the value is true or not, the function will use an instance of MaxAbsScaler on the data.\n",
    "\n",
    "* metric - This allows us to chose distance metric we would like to use with the NearestNeighbors algorithm.\n",
    "\n",
    "* n - This represents a randomly selected index for an observation we would like to find the nearest neighbors of.\n",
    "\n",
    "* k - This is the number of neighbors we are looking for. The number is one more than the value we use as the denominator when finding the average distance, as the NearestNeighbors algorithm will return a distance of 0 as the first value, which represents the distance between the randomly selected observation and itself. To ensure we find the average distance for 5 nearest neighbors, we pass 6 as the argument and then divide the sum of the returned distances by 5.\n",
    "\n",
    "Based on the measurements, we can clearly see that the average distances when the data is unscaled is much greater than their scaled counterparts. This is expected, as NearestNeighbors is a distance-based algorithm; the smaller the magnitude of the values, the smaller the distances. In regards to the metrics used, the averages for distances returned for Manhattan measurements are greater than the averages returned for Euclidean measurements. This is expected, as a Manhattan distance can never be shorter than an associated Euclidean distance. This is due to triangle inequality, which states that the sum of the lengths of any two sides of a triangle must be greater than or equal to the remaining side.\n",
    "\n",
    "So, as we can see, both metric choice and whether data is scaled has a great affect on the distances returned by the NearestNeighbors algorithm. In the following subsection, we will find the 5 nearest neighbors to our randomly selected observation. In doing so, we will standardize our data and annotate every step of finding the 5 nearest neighbors to our observation.\n",
    "\n",
    "#### Scale Data"
   ]
  },
  {
   "cell_type": "code",
   "execution_count": 145,
   "metadata": {},
   "outputs": [],
   "source": [
    "#Create StandardScaler instance.\n",
    "scaler = sklearn.preprocessing.StandardScaler()\n",
    "\n",
    "#Fit the scaler to the dataset and scale data.\n",
    "insurance_full_scaled = scaler.fit_transform(insurance_full)\n",
    "\n",
    "#Create DataFrame from scaled data.\n",
    "insurance_full_scaled_df = pd.DataFrame(insurance_full_scaled, columns=insurance_full.columns)"
   ]
  },
  {
   "cell_type": "markdown",
   "metadata": {},
   "source": [
    "In this subsection we scaled our full dataset. This is necessary because distance based algorithms do not function as intended when features have different value magnitudes.\n",
    "#### Select Random Array"
   ]
  },
  {
   "cell_type": "code",
   "execution_count": 146,
   "metadata": {},
   "outputs": [],
   "source": [
    "#Get number of rows in scaled array.\n",
    "array_rows = insurance_full_scaled.shape[0]\n",
    "\n",
    "#Obtain array based on random integer.\n",
    "random_array_selected = insurance_full_scaled[random_int, :]\n",
    "\n",
    "#Get array with randomly selected row dropped.\n",
    "neighbors_array = np.delete(insurance_full_scaled, random_int, 0)"
   ]
  },
  {
   "cell_type": "markdown",
   "metadata": {},
   "source": [
    "#### Find Nearest Neighbors"
   ]
  },
  {
   "cell_type": "code",
   "execution_count": 147,
   "metadata": {},
   "outputs": [
    {
     "name": "stdout",
     "output_type": "stream",
     "text": [
      "DataFrame with values for nearest neighbors of observation 4578 (presented as index 0):\n"
     ]
    },
    {
     "data": {
      "text/html": [
       "<div>\n",
       "<style scoped>\n",
       "    .dataframe tbody tr th:only-of-type {\n",
       "        vertical-align: middle;\n",
       "    }\n",
       "\n",
       "    .dataframe tbody tr th {\n",
       "        vertical-align: top;\n",
       "    }\n",
       "\n",
       "    .dataframe thead th {\n",
       "        text-align: right;\n",
       "    }\n",
       "</style>\n",
       "<table border=\"1\" class=\"dataframe\">\n",
       "  <thead>\n",
       "    <tr style=\"text-align: right;\">\n",
       "      <th></th>\n",
       "      <th>gender</th>\n",
       "      <th>age</th>\n",
       "      <th>salary</th>\n",
       "      <th>family members</th>\n",
       "      <th>insurance benefits</th>\n",
       "    </tr>\n",
       "  </thead>\n",
       "  <tbody>\n",
       "    <tr>\n",
       "      <th>0</th>\n",
       "      <td>1.004384</td>\n",
       "      <td>2.512461</td>\n",
       "      <td>-0.073675</td>\n",
       "      <td>-0.185927</td>\n",
       "      <td>4.289717</td>\n",
       "    </tr>\n",
       "    <tr>\n",
       "      <th>1</th>\n",
       "      <td>1.004384</td>\n",
       "      <td>2.393155</td>\n",
       "      <td>0.060746</td>\n",
       "      <td>-0.185927</td>\n",
       "      <td>4.289717</td>\n",
       "    </tr>\n",
       "    <tr>\n",
       "      <th>2</th>\n",
       "      <td>1.004384</td>\n",
       "      <td>2.273848</td>\n",
       "      <td>0.122787</td>\n",
       "      <td>-0.185927</td>\n",
       "      <td>4.289717</td>\n",
       "    </tr>\n",
       "    <tr>\n",
       "      <th>3</th>\n",
       "      <td>1.004384</td>\n",
       "      <td>2.154542</td>\n",
       "      <td>-0.177076</td>\n",
       "      <td>-0.185927</td>\n",
       "      <td>4.289717</td>\n",
       "    </tr>\n",
       "    <tr>\n",
       "      <th>4</th>\n",
       "      <td>1.004384</td>\n",
       "      <td>2.154542</td>\n",
       "      <td>0.050406</td>\n",
       "      <td>-0.185927</td>\n",
       "      <td>4.289717</td>\n",
       "    </tr>\n",
       "    <tr>\n",
       "      <th>5</th>\n",
       "      <td>1.004384</td>\n",
       "      <td>2.154542</td>\n",
       "      <td>-0.290818</td>\n",
       "      <td>-0.185927</td>\n",
       "      <td>4.289717</td>\n",
       "    </tr>\n",
       "  </tbody>\n",
       "</table>\n",
       "</div>"
      ],
      "text/plain": [
       "     gender       age    salary  family members  insurance benefits\n",
       "0  1.004384  2.512461 -0.073675       -0.185927            4.289717\n",
       "1  1.004384  2.393155  0.060746       -0.185927            4.289717\n",
       "2  1.004384  2.273848  0.122787       -0.185927            4.289717\n",
       "3  1.004384  2.154542 -0.177076       -0.185927            4.289717\n",
       "4  1.004384  2.154542  0.050406       -0.185927            4.289717\n",
       "5  1.004384  2.154542 -0.290818       -0.185927            4.289717"
      ]
     },
     "metadata": {},
     "output_type": "display_data"
    }
   ],
   "source": [
    "#Create NearestNeighbors instance.\n",
    "neighbors = sklearn.neighbors.NearestNeighbors(n_neighbors=5)\n",
    "\n",
    "#Fit the model.\n",
    "neighbors.fit(neighbors_array)\n",
    "\n",
    "#Find nearest neighbors for randomly selected individual.\n",
    "neighbors = neighbors.kneighbors([random_array_selected], 5, return_distance=False)\n",
    "\n",
    "#Create dataframe from neighbor values.\n",
    "neighbors_df = pd.DataFrame(neighbors_array[tuple(neighbors)], columns=insurance_full.columns)\n",
    "\n",
    "#Create DataFrame with nearest neighbor values for comparisson.\n",
    "full_knn_df = pd.concat([pd.DataFrame([random_array_selected], columns=insurance_full.columns), neighbors_df]).reset_index(drop=True)\n",
    "\n",
    "print(f'DataFrame with values for nearest neighbors of observation {random_int} (presented as index 0):')\n",
    "display(full_knn_df)"
   ]
  },
  {
   "cell_type": "markdown",
   "metadata": {},
   "source": [
    "#### Nearest Neighbors Conclusion\n",
    "In this subsection we created an instance of sklearn's NearestNeighbors class and used it to find the 5 nearest neighbors to a randomly selected individual from our dataset. In order to carry out this task, we first had to standardize our data, since NearestNeighbors is a distance-based algorithm. We then randomly selected one row from the standardized nested array and deleted that row from the scaled array; this was necessary in order to avoid the algorithm selecting the randomly-selected array as one of the nearest neighbors. Finally, we used the scaled array to fit the NearestNeighbors algorithm and obtained the array indices for the 5 nearest neighbors. We obtained the relevant values from our neighbors array and displayed them along with the randomly selected array's values.\n",
    "\n",
    "As we can see, the nearest neighbors to our randomly selected individual share the same value for insurance benefits, family members, and gender. Interestingly, they all appear to have relatively high values for age - we say relatively high because our data is standardized, as a result of which the mean age is 0 and the standard deviation is 1. As such, it appears that our randomly selected individual's age is more than two standard deviations above the mean, and the same can be said for all nearest neighbors. Based on this information, we can intuitively see how these individuals may be clustered together.\n",
    "\n",
    "In this following subsection, we will attempt to find the optimal number of clusters in which to fit all individuals.\n",
    "\n",
    "### Cluster Individuals\n",
    "#### Find Optimal Cluster Value"
   ]
  },
  {
   "cell_type": "code",
   "execution_count": 148,
   "metadata": {},
   "outputs": [],
   "source": [
    "#Create list to store intertia values for kmeans algorithms. \n",
    "inertias = []\n",
    "\n",
    "#For loop to iterate through different kmeans cluster values.\n",
    "for cluster in range(1, 25):\n",
    "    \n",
    "    #Create an instance of the KMeans class.\n",
    "    kmeans = KMeans(n_clusters=cluster, init='k-means++', n_init=20)\n",
    "\n",
    "    #Fit the estimator to the scaled dataset.\n",
    "    kmeans.fit(insurance_full_scaled)\n",
    "\n",
    "    #Append intertia values to list.\n",
    "    inertias.append(kmeans.inertia_)"
   ]
  },
  {
   "cell_type": "code",
   "execution_count": 149,
   "metadata": {},
   "outputs": [
    {
     "data": {
      "image/png": "[encoded data removed]",
      "text/plain": [
       "<Figure size 1080x504 with 1 Axes>"
      ]
     },
     "metadata": {
      "needs_background": "light"
     },
     "output_type": "display_data"
    }
   ],
   "source": [
    "#Create DataFrame from inertia values in order to plot.\n",
    "inertias_df = pd.DataFrame({'Inertia' : inertias}, index=range(1, 25))\n",
    "\n",
    "#Create lineplot to visualize relation between inertia values and clusters.\n",
    "fig = plt.figure(figsize=(15,7))\n",
    "fig.suptitle('Lineplot Visualizing Inertia Value for Each Number of Clusters', fontsize=15)\n",
    "plt.plot(inertias_df['Inertia'], marker='o')\n",
    "plt.xlabel('Clusters', fontsize=15, labelpad = 10)\n",
    "plt.ylabel('Inertia', fontsize=15, labelpad = 10)\n",
    "plt.grid()\n",
    "plt.tight_layout()\n",
    "plt.show()"
   ]
  },
  {
   "cell_type": "markdown",
   "metadata": {},
   "source": [
    " In this subsection we used unsupervised learning to cluster individuals. To find the optimal number of clusters, we used a for loop to iterate through a range of cluster values and saved each model's inertia value to a list. Inertia is the sum of the distances of all points within a cluster from the center point of the cluster - ideally, one would want a low inertia value that also does not lead to unnecessarily high computational costs. To find the optimal number of clusters, we plotted the inertia value for each cluster value. It is generally accepted that the optimal number of clusters can be found from such a plot by taking the cluster value where the decrease in inertia value becomes constant. From our graph, this appears to occur around 9 clusters; as such, we will use 9 as the cluster value for this task.\n",
    "\n",
    "#### Cluster Individuals Based Using Optimal Cluster Value"
   ]
  },
  {
   "cell_type": "code",
   "execution_count": 150,
   "metadata": {},
   "outputs": [
    {
     "name": "stdout",
     "output_type": "stream",
     "text": [
      "Value counts for number of observations in each cluster:\n",
      "4    804\n",
      "1    717\n",
      "6    600\n",
      "5    569\n",
      "0    542\n",
      "7    534\n",
      "3    489\n",
      "2    419\n",
      "8    127\n",
      "Name: Cluster, dtype: int64\n"
     ]
    }
   ],
   "source": [
    "#Create an instance of the KMeans class.\n",
    "kmeans = KMeans(n_clusters=9, init='k-means++', n_init=20)\n",
    "\n",
    "#Fit the estimator to the scaled dataset.\n",
    "kmeans.fit(insurance_full_scaled)\n",
    "\n",
    "#Obtain cluster predictions for the dataset.\n",
    "pred = kmeans.predict(insurance_full_scaled)\n",
    "\n",
    "#Create dataframe with cluster prediction for each observation.\n",
    "pred_df = pd.DataFrame(insurance_full_scaled)\n",
    "pred_df['Cluster'] = pred\n",
    "\n",
    "#Obtain cluster value counts.\n",
    "print(\"Value counts for number of observations in each cluster:\")\n",
    "print(pred_df['Cluster'].value_counts())"
   ]
  },
  {
   "cell_type": "markdown",
   "metadata": {},
   "source": [
    "#### Clustering Conclusion\n",
    "In this subsection we clustered all individuals in our dataset into multiple clusters. To find the optimal number of clusters, we compared the inertia value for each cluster value in the range of 1-25. We found that the optimal value lies around 9, so we used this as the cluster number for predicting which cluster individuals in our dataset fall into. In subsection 2.2.2, we obtained value counts for each cluster; the majority of individuals appear to fall into cluster 6, and the fewest individuals fall into cluster 8.\n",
    "\n",
    "We believe that organizing individuals into clusters would be a worthwhile endeavor for Sure Tomorrow, as it would allow them to provide more targeted solutions to their clients. To determine exactly what sorts of solutions should be provided based on the clusters we created, analysts would have to carry out exploratory data analysis on the results of our clustering. Since this project is geared more towards building models to predict whether a client is likely to receive an insurance benefit and how many insurance benefits a client is likely to receive, we will not look into these clusters any further; our goal in this section was simply to see whether we would be able to cluster clients, and what number of clusters would be optimal.\n",
    "\n",
    "In the following section, we will build a model with the goal of determining whether a new customer is likely to receive an insurance benefit.\n",
    "\n",
    "## Build Model to Predict Insurance Benefit Recipients\n",
    "In this section, we will attempt to build a model to classify individuals according to whether they are likely to receive an insurance payout. In order to do so, we will check for class imbalances, split the data into training and testing dataset, train our models, determine whether we should move our classification threshold, test our best model, and, finally, determine whether our model performs better than a dummy model.\n",
    "\n",
    "#### Check for Class Imbalance"
   ]
  },
  {
   "cell_type": "code",
   "execution_count": 151,
   "metadata": {},
   "outputs": [
    {
     "name": "stdout",
     "output_type": "stream",
     "text": [
      "Value count of target variable:\n",
      "0    4254\n",
      "1     547\n",
      "Name: insurance benefits, dtype: int64\n"
     ]
    }
   ],
   "source": [
    "#Since this is a binary classification task, create Series with 1's and 0's based on whether individual received insurance benefit.\n",
    "insurance_target_classification = insurance_target.apply(lambda x: 0 if x==0 else 1)\n",
    "\n",
    "#Print value count to check for class imbalance.\n",
    "print(\"Value count of target variable:\")\n",
    "print(insurance_target_classification.value_counts())"
   ]
  },
  {
   "cell_type": "markdown",
   "metadata": {},
   "source": [
    "As we can see, there is a significant class imbalance between those who haven't received insurance benefits and those who have. As such, we will need to balance the classes in order to properly train a model. In a later subsection, we will balance the classes by using SMOTE (Synthetic Minority Over-sampling Technique)on training folds. SMOTE balances classes by oversampling using synthetically generated observations based on nearest neighbors.\n",
    "\n",
    "#### Split Data into Training and Testing Datasets"
   ]
  },
  {
   "cell_type": "code",
   "execution_count": 152,
   "metadata": {},
   "outputs": [],
   "source": [
    "#Split the data into training and testing datasets.\n",
    "#Use stratified parameter to get equal proportion of positives in the training and testing datasets.\n",
    "X_train, X_test, y_train, y_test = train_test_split(insurance_features, insurance_target_classification, test_size=.3, stratify=insurance_target_classification)"
   ]
  },
  {
   "cell_type": "markdown",
   "metadata": {},
   "source": [
    "## Create Class with Pipeline for Determining Best Classification Model"
   ]
  },
  {
   "cell_type": "code",
   "execution_count": 153,
   "metadata": {},
   "outputs": [],
   "source": [
    "#Create class to find best models while using a pipeline to transform data.\n",
    "class pipeline_model:\n",
    "    \n",
    "    #Initialize model with required variables.\n",
    "    def __init__(self, model, params, name):\n",
    "        self.model = model\n",
    "        self.params = params\n",
    "        self.name = name\n",
    "        self.f1 = None\n",
    "        self.test_score = None\n",
    "        self.best_params = None\n",
    "        self.confusion = None\n",
    "    \n",
    "    #Build function to use pipeline in finding best model with GridSearchCV.\n",
    "    def pipe(self, scale):\n",
    "        \n",
    "        #Check whether or not to scale the data.\n",
    "        if scale == True:\n",
    "            #Use SMOTE and Scaler for training folds.\n",
    "            pipeline = Pipeline(steps=[['smote', SMOTE(random_state=12345)], \n",
    "                              ['scaler', sklearn.preprocessing.StandardScaler()], \n",
    "                               ['classifier', self.model]])\n",
    "        else:\n",
    "            pipeline = Pipeline(steps=[['smote', SMOTE(random_state=12345)], \n",
    "                               ['classifier', self.model]])\n",
    "        \n",
    "        #Create stratified folds for GridSearch.\n",
    "        strat_kfold = StratifiedKFold(n_splits=5, shuffle=True, random_state=12345)\n",
    "\n",
    "        #Use GridSearchCV to tune hyperparameters.    \n",
    "        grid_search = GridSearchCV(estimator=pipeline, param_grid=self.params, scoring='f1', cv=strat_kfold, \\\n",
    "                           n_jobs=-1, verbose = 0, refit=True)\n",
    "        \n",
    "        #Fit best model and obtain relevant values.\n",
    "        grid_search.fit(X_train, y_train)\n",
    "        self.f1 = grid_search.best_score_\n",
    "        self.test_score = grid_search.score(X_test, y_test)\n",
    "        self.best_params = grid_search.best_params_\n",
    "        self.confusion = confusion_matrix(y_test, grid_search.predict(X_test))\n",
    "    \n",
    "    #Build function to plot confusion matrix.\n",
    "    def plot(self):\n",
    "        fig = plt.figure(figsize=(13, 7))\n",
    "        sns.heatmap(self.confusion, annot=True, fmt='g', cmap='Greens')\n",
    "        \n",
    "        # labels, title and ticks\n",
    "        plt.title(f'Confusion Matrix for {self.name}', fontsize=15)\n",
    "        plt.xlabel('Predicted labels', fontsize=12)\n",
    "        plt.ylabel('True labels', fontsize=12)\n",
    "        plt.show()"
   ]
  },
  {
   "cell_type": "markdown",
   "metadata": {},
   "source": [
    "In this subsection we built a class that will allow us to create classification objects which will store each model's name, best parameters, scores, and confusion matrix data. This class was built to simplify testing different models with GridSearchCV while also transforming training data using a pipeline. The function pipe() takes the defined model and parameters and creates a GridSearchCV object. GridSearchCV carries out cross validation on 5 stratified folds and fits/transforms the training datasets using SMOTE and StandardScaler.\n",
    "\n",
    "The model with the optimal hyperparameters is judged based on its F1 score. F1 is a harmonic mean between precision and recall; the optimal F1 value is 1. Since 'refit' is set to true in GridSearchCV, each object's model will be fit to the best parameters. We obtain the F1 score from the refit model using the testing dataset and save it as a variable; we also save the models best parameters, the F1 score for the training data, and the model's confusion matrix. Note, while SMOTE is a part of the pipeline, it is only applied when fitting data; as such, our testing dataset is not SMOTEd when we call .score().\n",
    "\n",
    "In the following subsection, we will create multiple pipeline_model objects and use each one to train and test a specific classification algorithm.\n",
    "\n",
    "#### Train and Test Classification Models"
   ]
  },
  {
   "cell_type": "code",
   "execution_count": 154,
   "metadata": {},
   "outputs": [],
   "source": [
    "#Create dictionary to store each model's name and test score.\n",
    "dict_training_scores = {}\n",
    "dict_test_scores = {}\n",
    "\n",
    "#Train and test LogisticRegression model.\n",
    "pipe_reg = pipeline_model(LogisticRegression(random_state=12345), \n",
    "                          {'classifier__solver':['newton-cg', 'lbfgs', 'liblinear', 'sag', 'saga'],\n",
    "                           'classifier__max_iter' : range(400, 1000, 50)}, \"Logistic Regression\")\n",
    "\n",
    "pipe_reg.pipe(True)\n",
    "dict_test_scores[pipe_reg.name] = pipe_reg.test_score.round(2)\n",
    "dict_training_scores[pipe_reg.name] = pipe_reg.f1.round(2)"
   ]
  },
  {
   "cell_type": "code",
   "execution_count": 155,
   "metadata": {},
   "outputs": [],
   "source": [
    "#Train and test SVC model.\n",
    "pipe_svc = pipeline_model(SVC(random_state=12345),\n",
    "                         {'classifier__kernel' : ['linear', 'rbf', 'sigmoid'],\n",
    "                         'classifier__gamma' : [.1, 1, 10, 20],\n",
    "                         'classifier__C' : [.1, 1, 10, 100, 150]}, \"SVC\")\n",
    "\n",
    "pipe_svc.pipe(True)\n",
    "dict_test_scores[pipe_svc.name] = pipe_svc.test_score.round(2)\n",
    "dict_training_scores[pipe_svc.name] = pipe_svc.f1.round(2)"
   ]
  },
  {
   "cell_type": "code",
   "execution_count": 156,
   "metadata": {},
   "outputs": [],
   "source": [
    "#Train and test DecisionTreeClassifier model.\n",
    "pipe_tree = pipeline_model(DecisionTreeClassifier(random_state=12345), {'classifier__max_depth': range(5, 10, 5), \\\n",
    "                       'classifier__min_impurity_decrease' : np.arange(.01, .20, .02), \\\n",
    "                       'classifier__min_samples_split' : range(1, 10, 2)}, 'Decision Tree')\n",
    "\n",
    "pipe_tree.pipe(True)\n",
    "dict_test_scores[pipe_tree.name] = pipe_tree.test_score.round(2)\n",
    "dict_training_scores[pipe_tree.name] = pipe_tree.f1.round(2)"
   ]
  },
  {
   "cell_type": "code",
   "execution_count": 157,
   "metadata": {},
   "outputs": [],
   "source": [
    "#Train and test KNeighborsClassifier model.\n",
    "pipe_KNN = pipeline_model(KNeighborsClassifier(), {'classifier__n_neighbors': range(3, 15, 1), \\\n",
    "                       'classifier__algorithm' : ['auto', 'ball_tree', 'kd_tree', 'brute'], \\\n",
    "                       'classifier__leaf_size' : range(10, 80, 10)}, 'KNN')\n",
    "\n",
    "pipe_KNN.pipe(True)\n",
    "dict_test_scores[pipe_KNN.name] = pipe_KNN.test_score.round(2)\n",
    "dict_training_scores[pipe_KNN.name] = pipe_KNN.f1.round(2)"
   ]
  },
  {
   "cell_type": "code",
   "execution_count": 158,
   "metadata": {},
   "outputs": [],
   "source": [
    "#Train and test RandomForestClassifier model.\n",
    "pipe_forest = pipeline_model(RandomForestClassifier(random_state=12345), {'classifier__n_estimators' : range(10, 100, 10),\n",
    "                            'classifier__max_depth' : range(5, 30, 5), 'classifier__min_impurity_decrease' : np.arange(.01, .2, .02)},\n",
    "                            'Random Forest')\n",
    "\n",
    "pipe_forest.pipe(True)\n",
    "dict_test_scores[pipe_forest.name] = pipe_forest.test_score.round(2)\n",
    "dict_training_scores[pipe_forest.name] = pipe_forest.f1.round(2)"
   ]
  },
  {
   "cell_type": "code",
   "execution_count": 159,
   "metadata": {},
   "outputs": [],
   "source": [
    "#display(pd.DataFrame([[dict_final_scores, dict_test_scores]], columns=dict_final_scores.keys(), index=['F1 Score']))\n",
    "classification_scores_df = pd.DataFrame.from_dict(dict_test_scores, orient='index', columns=['F1 Test'])\n",
    "classification_scores_df['F1 Training'] = dict_training_scores.values()"
   ]
  },
  {
   "cell_type": "code",
   "execution_count": 160,
   "metadata": {},
   "outputs": [
    {
     "name": "stdout",
     "output_type": "stream",
     "text": [
      "F1 scores for all models (testing and training datasets)\n"
     ]
    },
    {
     "data": {
      "text/html": [
       "<div>\n",
       "<style scoped>\n",
       "    .dataframe tbody tr th:only-of-type {\n",
       "        vertical-align: middle;\n",
       "    }\n",
       "\n",
       "    .dataframe tbody tr th {\n",
       "        vertical-align: top;\n",
       "    }\n",
       "\n",
       "    .dataframe thead th {\n",
       "        text-align: right;\n",
       "    }\n",
       "</style>\n",
       "<table border=\"1\" class=\"dataframe\">\n",
       "  <thead>\n",
       "    <tr style=\"text-align: right;\">\n",
       "      <th></th>\n",
       "      <th>F1 Test</th>\n",
       "      <th>F1 Training</th>\n",
       "    </tr>\n",
       "  </thead>\n",
       "  <tbody>\n",
       "    <tr>\n",
       "      <th>Logistic Regression</th>\n",
       "      <td>0.92</td>\n",
       "      <td>0.93</td>\n",
       "    </tr>\n",
       "    <tr>\n",
       "      <th>SVC</th>\n",
       "      <td>1.00</td>\n",
       "      <td>1.00</td>\n",
       "    </tr>\n",
       "    <tr>\n",
       "      <th>Decision Tree</th>\n",
       "      <td>0.96</td>\n",
       "      <td>0.97</td>\n",
       "    </tr>\n",
       "    <tr>\n",
       "      <th>KNN</th>\n",
       "      <td>0.91</td>\n",
       "      <td>0.92</td>\n",
       "    </tr>\n",
       "    <tr>\n",
       "      <th>Random Forest</th>\n",
       "      <td>0.96</td>\n",
       "      <td>0.97</td>\n",
       "    </tr>\n",
       "  </tbody>\n",
       "</table>\n",
       "</div>"
      ],
      "text/plain": [
       "                     F1 Test  F1 Training\n",
       "Logistic Regression     0.92         0.93\n",
       "SVC                     1.00         1.00\n",
       "Decision Tree           0.96         0.97\n",
       "KNN                     0.91         0.92\n",
       "Random Forest           0.96         0.97"
      ]
     },
     "metadata": {},
     "output_type": "display_data"
    }
   ],
   "source": [
    "print(\"F1 scores for all models (testing and training datasets)\")\n",
    "display(classification_scores_df)"
   ]
  },
  {
   "cell_type": "code",
   "execution_count": 161,
   "metadata": {},
   "outputs": [
    {
     "data": {
      "image/png": "[encoded data removed]",
      "text/plain": [
       "<Figure size 936x504 with 2 Axes>"
      ]
     },
     "metadata": {
      "needs_background": "light"
     },
     "output_type": "display_data"
    }
   ],
   "source": [
    "#Plot confuction matrix for SVC model.\n",
    "pipe_svc.plot()"
   ]
  },
  {
   "cell_type": "markdown",
   "metadata": {},
   "source": [
    " In this subsection we created 5 instances of pipeline_model, each with a different classification model and relevant hyperparameters to iterate through. We appended the best scores for each model on the training dataset, as well as the final scores for each model on the testing dataset, to two dictionaries. We finally created a DataFrame for the scores and displayed them.\n",
    "\n",
    "As we can see, the F1 scores for each model are quite high, and there is little difference between each model's training score and testing score. The latter may be due to SMOTING only being carried out on the training datasets during GridSearchCV's execution and not on the validation set - this helps to prevent data leakage and usually results in testing and training scores quite close to one another. Due to the high values of the scores, we were skeptical at first and tried to determine whether our models were overfit; however, after much research and scrutiny, we have concluded that our models are simply well trained.\n",
    "\n",
    "Overall, the SVC model had the best F1 score - as a matter of fact, it's perfect, meaning that it accurately classified all observations based on whether or not an individual received an insurance benefit. The precision and recall for this model on the testing dataset can be seen in the above confusion matrix.\n",
    "\n",
    "In the following subsection, we will have a closer look at the KNearestNeighbors model and examine how scaling and the number of neighbors considered affects the models F1 score.\n",
    "\n",
    "## Test Variations of KNN Model"
   ]
  },
  {
   "cell_type": "code",
   "execution_count": 162,
   "metadata": {},
   "outputs": [],
   "source": [
    "#Create lists for F1 scores for scaled and unscaled data.\n",
    "KNN_scores_unscaled = []\n",
    "KNN_scores_scaled = []\n",
    "\n",
    "#Iterate through a range of values for the n_neighbors hyperparameter.\n",
    "for i in range(1, 51, 1):\n",
    "    #Train and test KNeighborsClassifier model.\n",
    "    pipe_KNN2 = pipeline_model(KNeighborsClassifier(), {'classifier__n_neighbors': [i], \\\n",
    "                       'classifier__algorithm' : ['auto'], \\\n",
    "                       'classifier__leaf_size' : [10]}, 'KNN')\n",
    "\n",
    "    #Obtain F1 score on testing dataset for unscaled data.\n",
    "    pipe_KNN2.pipe(False)\n",
    "    KNN_scores_unscaled.append(pipe_KNN2.test_score.round(2))\n",
    "    \n",
    "    #Obtain F1 score on testing dataset for scaled data.\n",
    "    pipe_KNN2.pipe(True)\n",
    "    KNN_scores_scaled.append(pipe_KNN2.test_score.round(2))"
   ]
  },
  {
   "cell_type": "code",
   "execution_count": 163,
   "metadata": {},
   "outputs": [
    {
     "data": {
      "image/png": "[encoded data removed]",
      "text/plain": [
       "<Figure size 936x576 with 1 Axes>"
      ]
     },
     "metadata": {
      "needs_background": "light"
     },
     "output_type": "display_data"
    }
   ],
   "source": [
    "#Create DataFrame with F1 scores for scaled and unscaled model results.\n",
    "KNN_scores_df = pd.DataFrame({'Unscaled' : KNN_scores_unscaled, 'Scaled' : KNN_scores_scaled}, index=range(1, len(KNN_scores_scaled) + 1))\n",
    "\n",
    "#Create lineplot to visualize change of F1 scores with increasing k value.\n",
    "fig = plt.figure(figsize=(13, 8))\n",
    "plt.suptitle(\"F1 scores for KNN models with n_neighbors ranging from 1-50\", fontsize=15, y=.92)\n",
    "sns.lineplot(x=KNN_scores_df.index, y='Scaled', data=KNN_scores_df, label='Scaled')\n",
    "sns.lineplot(x=KNN_scores_df.index, y='Unscaled', data=KNN_scores_df, label='Unscaled')\n",
    "plt.xlabel('Number of Neighbors', fontsize=12)\n",
    "plt.ylabel('F1 Score', fontsize=12)\n",
    "plt.legend(fontsize=12)\n",
    "plt.show()"
   ]
  },
  {
   "cell_type": "markdown",
   "metadata": {},
   "source": [
    "As we can see from the above scores, increasing the number of neighbors considered when training a model appears to result in a decrease in F1 score - this is likely the result of introducing more distance, and therefore increasing the possible error rate. It may be tempting to set the number of neighbors used to the smallest value, as we see that this leads to the highest F1 score; however, this would likely result in overfitting. We believe that the optimal number of neighbors, in this case, should be chosen based on the rate of change of the F1 score for each neighbor in the graph.\n",
    "\n",
    "We can also see in this graph that the F1 scores for unscaled data are substantially worse than their scaled counterpart. This has to do with the magnitude of unscaled values and the dimensionality of the dataset. Clearly, scaling feature values before training a KNN model is important for maximizing F1 scores.\n",
    "\n",
    "### Compare Best Model Scores to Dummy Model"
   ]
  },
  {
   "cell_type": "code",
   "execution_count": 164,
   "metadata": {},
   "outputs": [
    {
     "data": {
      "text/html": [
       "<div>\n",
       "<style scoped>\n",
       "    .dataframe tbody tr th:only-of-type {\n",
       "        vertical-align: middle;\n",
       "    }\n",
       "\n",
       "    .dataframe tbody tr th {\n",
       "        vertical-align: top;\n",
       "    }\n",
       "\n",
       "    .dataframe thead th {\n",
       "        text-align: right;\n",
       "    }\n",
       "</style>\n",
       "<table border=\"1\" class=\"dataframe\">\n",
       "  <thead>\n",
       "    <tr style=\"text-align: right;\">\n",
       "      <th></th>\n",
       "      <th>Probabilities</th>\n",
       "      <th>Dummy Scores (F1)</th>\n",
       "    </tr>\n",
       "  </thead>\n",
       "  <tbody>\n",
       "    <tr>\n",
       "      <th>0</th>\n",
       "      <td>0.000000</td>\n",
       "      <td>0.00</td>\n",
       "    </tr>\n",
       "    <tr>\n",
       "      <th>1</th>\n",
       "      <td>0.113935</td>\n",
       "      <td>0.10</td>\n",
       "    </tr>\n",
       "    <tr>\n",
       "      <th>2</th>\n",
       "      <td>0.500000</td>\n",
       "      <td>0.17</td>\n",
       "    </tr>\n",
       "    <tr>\n",
       "      <th>3</th>\n",
       "      <td>1.000000</td>\n",
       "      <td>0.20</td>\n",
       "    </tr>\n",
       "  </tbody>\n",
       "</table>\n",
       "</div>"
      ],
      "text/plain": [
       "   Probabilities  Dummy Scores (F1)\n",
       "0       0.000000               0.00\n",
       "1       0.113935               0.10\n",
       "2       0.500000               0.17\n",
       "3       1.000000               0.20"
      ]
     },
     "metadata": {},
     "output_type": "display_data"
    }
   ],
   "source": [
    "#Creat lists for probabilities and dummy scores\n",
    "probabilities = []\n",
    "dummy_scores = []\n",
    "\n",
    "#Create function to return list of random predictions.\n",
    "def rnd_model_predict(P, size, seed=12345):\n",
    "    rng = np.random.default_rng(seed=seed)\n",
    "    return rng.binomial(n=1, p=P, size=size)\n",
    "\n",
    "#Test dummy model's F1 scores for each relevant probability of obtaining 1's.\n",
    "for P in [0, insurance_target_classification.sum() / len(insurance_target_classification), 0.5, 1]:\n",
    "    y_pred_rnd = rnd_model_predict(P, len(insurance_target_classification))\n",
    "    probabilities.append(P)\n",
    "    dummy_scores.append(f1_score(insurance_target_classification, y_pred_rnd).round(2))\n",
    "\n",
    "display(pd.DataFrame({'Probabilities' : probabilities, 'Dummy Scores (F1)' : dummy_scores}))"
   ]
  },
  {
   "cell_type": "markdown",
   "metadata": {},
   "source": [
    "As we can see, our dummy model performs (at each probability of obtaining 1's) far worse than any of the 5 classification models we used. It appears that even the F1 scores for our above KNN model when the data is unscaled offers better F1 scores than the dummy model.\n",
    "\n",
    "### Classification Conclusion\n",
    "In this section we created a class that allows us to pass through an estimator and train/test models using a pipeline. This pipeline upsampled and scaled the data, the latter depending on the argument we pass through. We then passed the pipeline with the estimator through GridSearchCV and fit each model based on the optimal hyperparameters found. Overall, the model with the highest F1 score was the SVC model, which accurately classified each observation based on whether or not an individual obtained an insurance benefit.\n",
    "\n",
    "Aside from finding an optimal model for our purposes, we also wanted to test how scaling and neighbors value affects KNN models. We found that the F1 score for a KNN model tends to decrease rapidly when increasing the value of neighbors starting at 1, but then appears to level out. We also found that scaled data provides far better F1 scores than unscaled data.\n",
    "\n",
    "Finally, we used a dummy model to compare the F1 scores we obtained from our classification models. Our dummy model, for each probability of obtaining positive values tested, performed far worse than our classification models, which demonstrates that are models are actually adept at making accurate predictions.\n",
    "\n",
    "In the next section, we will build a linear regression model to predict the number of insurance benefits an individual is likely to receive.\n",
    "\n",
    "## Build Model to Predict Number of Insurance Benefits\n",
    "In this section, we will build a linear regression model with the goal of determining the number of insurance benefits an individual obtains. We will evaluate our model using the RMSE (Root Mean Squared Error) metric.\n",
    "\n",
    "### Build Class for Linear Regression"
   ]
  },
  {
   "cell_type": "code",
   "execution_count": 165,
   "metadata": {},
   "outputs": [],
   "source": [
    "#Create class.\n",
    "class LR:\n",
    "    \n",
    "    #Initialize class with relevant variable(s).\n",
    "    def __init__(self):\n",
    "        self.weights = None\n",
    "    \n",
    "    #Define function for fitting model.\n",
    "    def fit(self, X, y):\n",
    "        #Add 1's to first column of matrix to obtain y-intercept values.\n",
    "        X2 = np.append(np.ones([len(X), 1]), X.to_numpy(), axis=1)\n",
    "        #Calculate weights vector.\n",
    "        self.weights = np.linalg.inv(np.dot(X2.T, X2)).dot(X2.T).dot(y.to_numpy())\n",
    "\n",
    "    #Define model for predicting values using weights vector.\n",
    "    def predict(self, X):\n",
    "        #Add 1's to first column of matrix to obtain y-intercept values.\n",
    "        X2 = np.append(np.ones([len(X), 1]), X.to_numpy(), axis=1)\n",
    "        y_pred = X2.dot(self.weights)\n",
    "        return y_pred"
   ]
  },
  {
   "cell_type": "markdown",
   "metadata": {},
   "source": [
    "### Create Function to Calculate Metrics"
   ]
  },
  {
   "cell_type": "code",
   "execution_count": 166,
   "metadata": {},
   "outputs": [],
   "source": [
    "#Define function to obtain RMSE and R2 values.\n",
    "def eval_regressor(y_true, y_pred):\n",
    "    rmse = round(math.sqrt(sklearn.metrics.mean_squared_error(y_true, y_pred)), 2)\n",
    "    r2_score = round(sklearn.metrics.r2_score(y_true, y_pred), 2)\n",
    "    return rmse, r2_score"
   ]
  },
  {
   "cell_type": "markdown",
   "metadata": {},
   "source": [
    "### Test Linear Regression Model"
   ]
  },
  {
   "cell_type": "code",
   "execution_count": 167,
   "metadata": {},
   "outputs": [],
   "source": [
    "#Fit model and obtain prediction values.\n",
    "lr = LR()\n",
    "lr.fit(X_train, y_train)\n",
    "lr_test_pred = lr.predict(X_test)"
   ]
  },
  {
   "cell_type": "code",
   "execution_count": 168,
   "metadata": {},
   "outputs": [],
   "source": [
    "#Scale data and fit/test new model.\n",
    "lr_scaler = sklearn.preprocessing.StandardScaler()\n",
    "train_features_scaled = pd.DataFrame(lr_scaler.fit_transform(X_train), columns=X_train.columns)\n",
    "test_features_scaled = pd.DataFrame(lr_scaler.transform(X_test), columns=X_test.columns)\n",
    "\n",
    "#New instance of LR model.\n",
    "lr_scaled = LR()\n",
    "lr_scaled.fit(train_features_scaled, y_train)\n",
    "lr_scaled_predict = lr_scaled.predict(test_features_scaled)"
   ]
  },
  {
   "cell_type": "code",
   "execution_count": 169,
   "metadata": {},
   "outputs": [],
   "source": [
    "#Train and obtain predictions from sklean linear regression model for comparison.\n",
    "reg = sklearn.linear_model.LinearRegression()\n",
    "reg.fit(X_train.to_numpy(), y_train.to_numpy())\n",
    "reg_test_predict = reg.predict(X_test)"
   ]
  },
  {
   "cell_type": "code",
   "execution_count": 170,
   "metadata": {},
   "outputs": [
    {
     "data": {
      "text/html": [
       "<div>\n",
       "<style scoped>\n",
       "    .dataframe tbody tr th:only-of-type {\n",
       "        vertical-align: middle;\n",
       "    }\n",
       "\n",
       "    .dataframe tbody tr th {\n",
       "        vertical-align: top;\n",
       "    }\n",
       "\n",
       "    .dataframe thead th {\n",
       "        text-align: right;\n",
       "    }\n",
       "</style>\n",
       "<table border=\"1\" class=\"dataframe\">\n",
       "  <thead>\n",
       "    <tr style=\"text-align: right;\">\n",
       "      <th></th>\n",
       "      <th>Self-Made (Unscaled)</th>\n",
       "      <th>Self-Made (Scaled)</th>\n",
       "      <th>Sklearn Model</th>\n",
       "    </tr>\n",
       "  </thead>\n",
       "  <tbody>\n",
       "    <tr>\n",
       "      <th>RMSE</th>\n",
       "      <td>0.24</td>\n",
       "      <td>0.24</td>\n",
       "      <td>0.24</td>\n",
       "    </tr>\n",
       "    <tr>\n",
       "      <th>R2</th>\n",
       "      <td>0.43</td>\n",
       "      <td>0.43</td>\n",
       "      <td>0.43</td>\n",
       "    </tr>\n",
       "  </tbody>\n",
       "</table>\n",
       "</div>"
      ],
      "text/plain": [
       "      Self-Made (Unscaled)  Self-Made (Scaled)  Sklearn Model\n",
       "RMSE                  0.24                0.24           0.24\n",
       "R2                    0.43                0.43           0.43"
      ]
     },
     "metadata": {},
     "output_type": "display_data"
    }
   ],
   "source": [
    "#Compare scores from both models.\n",
    "display(pd.DataFrame({'Self-Made (Unscaled)' : eval_regressor(y_test, lr_test_pred),\n",
    "                      'Self-Made (Scaled)' : eval_regressor(y_test, reg_test_predict),\n",
    "                    'Sklearn Model' : eval_regressor(y_test, reg_test_predict)}, index=['RMSE', 'R2']))"
   ]
  },
  {
   "cell_type": "markdown",
   "metadata": {},
   "source": [
    "### Regression Conclusion\n",
    "In this section we attempted to build our own logistic regression model. In doing so, we created a class with 'fit' and 'predict' functions. The 'fit' function appends a column of ones to the start of the training features matrix, in order to accurately calculate the y-intercept during matrix multiplication, and then calculates the weights vector. The 'predict' function appends a column of ones to the start of the testing features matrix and then multiples that matrix by the weights vector. The result is our predicted y-values.\n",
    "\n",
    "We created a function that provides us with the RMSE and R2 scores for our model. The RMSE score represents the standard deviation of the prediction errors, and will take on a value between 0 and 1. The R2 score represents the percentage of the dependent variable that is explained by the regression model; like RMSE, R2 values will range between 0 and 1.\n",
    "\n",
    "As we can see, our RMSE for the self-made model is approximately .24, which means that 68% of our data can be found within .24 units (measured in terms of our target's units) from the actual target value. With a relatively low RMSE score, we would expect a higher R2 score; this is exactly what we found, as our model's R2 score is approximately .42. We obtained the exact same scores for our model using the scaled data; this demonstrates that the metrics used are not sensitive to the magnitude of values used with linear regression.\n",
    "\n",
    "We wanted to be sure that the results from our model were accurate, so we decided to build and test a model using sklearn's linear regression algorithm. As can be seen in subsection 4.3, sklearn's model provided us with the same scores as our own model; this is good news, as it demonstrates that our model functions properly.\n",
    "\n",
    "In the next section, we will prove that data obfuscation can work with linear regression."
   ]
  },
  {
   "cell_type": "markdown",
   "metadata": {},
   "source": [
    "## Construct and Test a Data Obfuscation Algorithm\n",
    "In this section we will attempt to build an algorithm that obfuscates observations in the dataset. Our aim is to build an algorithm that does not negative affect the quality of machine learning models. In order to meet this goal, we will first test obfuscating data by multiplying matrices by an invertible matrix. We will then prove analytically that data obfuscation works with linear regression. Finally, we will train and test a linear regression model with obfuscated and non-obfuscated data to demonstrate that obfuscation does not impact the model's RMSE score."
   ]
  },
  {
   "cell_type": "markdown",
   "metadata": {},
   "source": [
    "#### Test Obfuscating Data\n",
    "A common way of obfuscating data in a matrix\n",
    "\n",
    "X is to multiply the numerical features by an invertible matrix P. This results in a new matrix: X'= XP. In this subsection, we will test obfuscating the data in our training features dataset.\n",
    "\n",
    "### Create Features and Random Matrix"
   ]
  },
  {
   "cell_type": "code",
   "execution_count": 171,
   "metadata": {},
   "outputs": [],
   "source": [
    "#Create matrix from training features.\n",
    "X = X_train.to_numpy()"
   ]
  },
  {
   "cell_type": "code",
   "execution_count": 172,
   "metadata": {},
   "outputs": [],
   "source": [
    "#Create random number generator.\n",
    "rand = np.random.default_rng(seed=12345)\n",
    "\n",
    "#Create random matrix.\n",
    "P = rand.random(size=(X.shape[1], X.shape[1]))"
   ]
  },
  {
   "cell_type": "markdown",
   "metadata": {},
   "source": [
    "#### Check if Random Matrix is Invertible"
   ]
  },
  {
   "cell_type": "code",
   "execution_count": 173,
   "metadata": {},
   "outputs": [],
   "source": [
    "#Check if matrix is invertible.\n",
    "P_inverse = np.linalg.inv(P) "
   ]
  },
  {
   "cell_type": "markdown",
   "metadata": {},
   "source": [
    "Since no error was thrown by attempting to create the inverse of P, we can be confident that the matrix is invertible.\n",
    "\n",
    "#### Obfuscate Features Data"
   ]
  },
  {
   "cell_type": "code",
   "execution_count": 174,
   "metadata": {},
   "outputs": [
    {
     "name": "stdout",
     "output_type": "stream",
     "text": [
      "[[24767.08517686 34666.09606021  9149.64523937 34924.00775365]\n",
      " [28336.32455046 39660.39359991 10470.7748933  39955.94773226]\n",
      " [30821.49846344 43141.98903371 11383.25836228 43463.75138597]\n",
      " ...\n",
      " [22888.95876897 32034.27716236  8463.6883388  32269.24179557]\n",
      " [26381.97581039 36926.18602087  9745.27848539 37202.02226379]\n",
      " [30418.07217305 42577.22407289 11235.10829896 42895.09894954]]\n"
     ]
    }
   ],
   "source": [
    "#Multiply features matrix by random obfuscation matrix.\n",
    "print(X.dot(P))"
   ]
  },
  {
   "cell_type": "markdown",
   "metadata": {},
   "source": [
    "#### Check if Data is Recoverable"
   ]
  },
  {
   "cell_type": "code",
   "execution_count": 175,
   "metadata": {},
   "outputs": [
    {
     "name": "stdout",
     "output_type": "stream",
     "text": [
      "Original features matrix:\n",
      "\n",
      "[[0.00e+00 2.30e+01 3.68e+04 1.00e+00]\n",
      " [1.00e+00 3.00e+01 4.21e+04 2.00e+00]\n",
      " [0.00e+00 2.20e+01 4.58e+04 1.00e+00]]\n",
      "\n",
      "Matrix with obfuscated data:\n",
      "\n",
      "[[24767.08517686 34666.09606021  9149.64523937 34924.00775365]\n",
      " [28336.32455046 39660.39359991 10470.7748933  39955.94773226]\n",
      " [30821.49846344 43141.98903371 11383.25836228 43463.75138597]]\n",
      "\n",
      "Matrix with obfuscation reversed:\n",
      "\n",
      "[[ 7.27595761e-12  2.30000000e+01  3.68000000e+04  1.00000000e+00]\n",
      " [ 1.00000000e+00  3.00000000e+01  4.21000000e+04  2.00000000e+00]\n",
      " [-7.27595761e-12  2.20000000e+01  4.58000000e+04  1.00000000e+00]]\n"
     ]
    }
   ],
   "source": [
    "#Print first 3 rows of features matrix.\n",
    "print(\"Original features matrix:\\n\")\n",
    "print(X[:3, :])\n",
    "\n",
    "#Print first three rows of obfuscated matrix.\n",
    "print(\"\\nMatrix with obfuscated data:\\n\")\n",
    "print(X.dot(P)[:3, :])\n",
    "\n",
    "#Try to reverse obfuscation and print data.\n",
    "print(\"\\nMatrix with obfuscation reversed:\\n\")\n",
    "print((X.dot(P)).dot(P_inverse)[:3, :])"
   ]
  },
  {
   "cell_type": "markdown",
   "metadata": {},
   "source": [
    "#### Obfuscation Testing Conclusion\n",
    "As we can see, data obfuscation by multiplying a features matrix by an invertible matrix works. By multiplying our original matrix by the randomly generated one, we obtained a matrix which we could not discern any relevant and meaningful information from. For example, in our original matrix, the first two columns represent gender (as a binary variable) and age, respectively; after obfuscation, we are not able to infer gender or age from the same columns.\n",
    "\n",
    "After obfuscating the data, we were able to deobfuscate it by multiplying the obfuscated matrix by the inverse of the obfuscation matrix. The values we obtained were very close to the original matrix's values, though not exactly the same - this can specifically be seen when comparing the results of the gender column. This difference of values is due to the limitations of floating point arithmetic. Because floating-point numbers are represented as base-2 binary fractions, most decimal fractions cannot be represented exactly as binary fractions; as such, most values are stored as very close approximations of the actual values. Whereas floating point arithmetic limitations may result in deobfuscated data being different than the original data, the difference would be extremely small; in most situation, such small differences are negligible.\n",
    "\n",
    "In the following subsection, we will prove that data obfuscation works with linear regression."
   ]
  },
  {
   "cell_type": "markdown",
   "metadata": {},
   "source": [
    "## Prove that Data Obfuscation Works with Linear Regression\n",
    "For this task, we assume that our data will be obfuscated by multiply our feature matrix (X) by an invertible matrix (P). Consequently, the formula used to find the ideal weights will be different from the ordinary least squares formula. Both formulas can be found below:\n",
    "\n",
    "$$w = (X^{T}X)^{-1}X^{T}y$$ \n",
    "$$w_{p} = [(XP)^{T}XP]^{-1}(XP)^{T}y$$\n",
    "\n",
    "For this task, we will attempt to demonstrate how the coefficient vector for the first formula relates to the second - that is, we will attempt to explain the obfuscation formula's coefficient vector in terms of the ordinary least squares formula's coefficient vector.\n",
    "\n",
    "### Properties of Matrices\n",
    "In solving\n",
    "$w_{p}$ in terms of $w$, we will refer to the following properties of matrices:\n",
    "\n",
    "1)\n",
    "\n",
    "Distributivity: $A(B+C) = AB + AC$\n",
    "\n",
    "2)\n",
    "\n",
    "Non-commutativity: $AB ≠ BA$\n",
    "\n",
    "3)\n",
    "\n",
    "Associative property of multiplication: $(AB)C = A(BC)$\n",
    "\n",
    "4)\n",
    "\n",
    "Multiplicative identity property: $IA = AI = A$\n",
    "\n",
    "4.2)\n",
    "\n",
    "$A^{-1}A = AA^{-1} = I$\n",
    "\n",
    "4.3)\n",
    "\n",
    "$(AB)^{-1} = B^{-1}A^{-1}$\n",
    "\n",
    "5)\n",
    "\n",
    "Reversivity of the transpose of a product of matrices: $(AB)^{T} = B^{T}A^{T}$\n",
    "\n",
    "##### Solve for $w_{p}$\n",
    "\n",
    "We can solve for the obfuscation algorithm's coefficient vector by carrying out the following steps:\n",
    "\n",
    "(1) Based on 5, separate the transpose matrices:\n",
    "\n",
    "$w_{p} = [(P^{T}X^{T})XP]^{-1}P^{T}X^{T}y$"
   ]
  },
  {
   "cell_type": "markdown",
   "metadata": {},
   "source": [
    "(2) From 4.3, distribute the inverse sign:\n",
    "\n",
    "$w_{p} = [(XP)^{-1}(P^{T}X^{T})^{-1}]P^{T}X^{T}y$\n",
    "\n",
    "(3) From 4.3, distribute the inverse sign again:\n",
    "\n",
    "$w_{p} = [P^{-1}X^{-1}X^{T-1}P^{T-1}]P^{T}X^{T}$"
   ]
  },
  {
   "cell_type": "markdown",
   "metadata": {},
   "source": [
    "(4) From 3, use associative property to reformulate:\n",
    "\n",
    "$w_{p} = P^{-1}[X^{-1}(X^{T})^{-1}](P^{T-1})P^{T}X^{T}y$\n",
    "\n",
    "(5) From 4.2, obtain identity matrix:\n",
    "\n",
    "$w_{p} = P^{-1}[X^{-1}(X^{T})^{-1}]IX^{T}y$\n",
    "\n",
    "(6) From 4, remove identity matrix:\n",
    "\n",
    "$w_{p} = P^{-1}[X^{-1}(X^{T})^{-1}]X^{T}y$\n",
    "\n",
    "(7) From 4.3, place invertible matrix sign outside of brackets:\n",
    "\n",
    "$w_{p} = P^{-1}[X^{-1}X]^{-1}X^{T}y$"
   ]
  },
  {
   "cell_type": "markdown",
   "metadata": {},
   "source": [
    "(8) Substitute ordinary least squares formula into new formula: $P^{-1}w$\n",
    "\n",
    "### Investigate Affect of Obfuscation on Model\n",
    "The prediction formula for linear regression may be represented as follows:\n",
    "\n",
    "$a = Xw$\n",
    "\n",
    "This formula differs when obfuscating. When adding the obfuscation coefficient vector and obfuscation matrix, our linear regression formula may be represented as follows:\n",
    "\n",
    "$a' = XPwp$\n",
    "\n",
    "We can demonstrate that obfuscation has no affect on predictions by simplifying the above formula using the following steps:\n",
    "\n",
    "(1) Substitute\n",
    "\n",
    "$wp$ for its value in terms of $w: a' = XPP^{-1}w$\n",
    "\n",
    "(2) From 4.2, obtain the identity matrix:\n",
    "\n",
    "$a' = XIw$\n",
    "\n",
    "(3) From 4.2, remove identity matrix:\n",
    "\n",
    "$a' = Xw$\n",
    "\n",
    "(4) Substitute"
   ]
  },
  {
   "cell_type": "markdown",
   "metadata": {},
   "source": [
    "$Xw$ for its value in terms of $a:a' = a$\n",
    "\n",
    "As we can see, we obtain the same predictions whether or not we obfuscate the data.\n",
    "\n",
    "### Data Obfuscation for Linear Regression Proof Conclusion\n",
    "Using basic algebra and the abovementioned properties of matrices, we can see that multiplying our features matrix by an invertible matrix changes the coefficient vector by a factor of the inverse of the inverse of the invertible matrix. So, whereas\n",
    "\n",
    "$w$ represents the coefficient vector for an ordinary least squares formula, $P^{-1}w$ represents the coefficient vector when multiplying our features matrix by the invertible matrix $P$ When examining how obfuscation affects our predictions, we find that there is no difference in predictions between an obfuscated dataset and unobfuscated dataset; as such, there is also no difference in the RMSE score of a linear regression model using unobfuscated data verses obfuscated data. In the following subsection, we will test linear regression with data obfuscation.\n",
    "\n",
    "### Test Linear Regression with Data Obfuscation\n",
    "In this subsection, we will test data obfuscation with linear regression. In doing so, we will use our previously-constructed linear regression class. We will compare linear regression metric scores between the original datasets and obfuscated datasets. We will not scale the data in this instance, as the R2 and RMSE scores for linear regression were not found to be affected by data scaling.\n",
    "\n",
    "### Create Invertible Obfuscation Matrix"
   ]
  },
  {
   "cell_type": "code",
   "execution_count": 176,
   "metadata": {},
   "outputs": [
    {
     "name": "stdout",
     "output_type": "stream",
     "text": [
      "Obfuscation matrix is invertible!\n"
     ]
    }
   ],
   "source": [
    "#Create random matrix.\n",
    "P2 = rand.random(size=(X_train.to_numpy().shape[1], X_train.to_numpy().shape[1]))\n",
    "\n",
    "#Check that obfuscation matrix is invertible.\n",
    "try:\n",
    "    np.linalg.inv(P2)\n",
    "    print(\"Obfuscation matrix is invertible!\")\n",
    "except:\n",
    "    print(\"Obfuscation matrix is not invertible. Try generating a new one.\")"
   ]
  },
  {
   "cell_type": "markdown",
   "metadata": {},
   "source": [
    "### Create Function to Obfuscate Data"
   ]
  },
  {
   "cell_type": "code",
   "execution_count": 177,
   "metadata": {},
   "outputs": [],
   "source": [
    "#Create subclass that allows for data obfuscation.\n",
    "class LR_Obf(LR):\n",
    "    #Create function to obfuscate data that works with our LR class.\n",
    "    def obfuscate(self, data):\n",
    "        obfs_data = pd.DataFrame(data.to_numpy().dot(P2))\n",
    "        return obfs_data"
   ]
  },
  {
   "cell_type": "markdown",
   "metadata": {},
   "source": [
    "### Run Linear Regression on Obfuscated and Unobfuscated Data."
   ]
  },
  {
   "cell_type": "code",
   "execution_count": 178,
   "metadata": {},
   "outputs": [],
   "source": [
    "#Create instance of LR for unobfuscated data. Fit model and get predictions.\n",
    "lr_unob = LR_Obf()\n",
    "lr_unob.fit(X_train, y_train)\n",
    "lr_unob_predict = lr_unob.predict(X_test)\n",
    "\n",
    "#Create instance of LR for obfuscated data. Fit model and get predictions.\n",
    "lr_obf = LR_Obf()\n",
    "lr_obf.fit(lr_obf.obfuscate(X_train), y_train)\n",
    "lr_obf_predict = lr_obf.predict(lr_obf.obfuscate(X_test))"
   ]
  },
  {
   "cell_type": "code",
   "execution_count": 179,
   "metadata": {},
   "outputs": [
    {
     "data": {
      "text/html": [
       "<div>\n",
       "<style scoped>\n",
       "    .dataframe tbody tr th:only-of-type {\n",
       "        vertical-align: middle;\n",
       "    }\n",
       "\n",
       "    .dataframe tbody tr th {\n",
       "        vertical-align: top;\n",
       "    }\n",
       "\n",
       "    .dataframe thead th {\n",
       "        text-align: right;\n",
       "    }\n",
       "</style>\n",
       "<table border=\"1\" class=\"dataframe\">\n",
       "  <thead>\n",
       "    <tr style=\"text-align: right;\">\n",
       "      <th></th>\n",
       "      <th>Unobfuscated</th>\n",
       "      <th>Obfuscated</th>\n",
       "    </tr>\n",
       "  </thead>\n",
       "  <tbody>\n",
       "    <tr>\n",
       "      <th>RMSE</th>\n",
       "      <td>0.24</td>\n",
       "      <td>0.24</td>\n",
       "    </tr>\n",
       "    <tr>\n",
       "      <th>R2</th>\n",
       "      <td>0.43</td>\n",
       "      <td>0.43</td>\n",
       "    </tr>\n",
       "  </tbody>\n",
       "</table>\n",
       "</div>"
      ],
      "text/plain": [
       "      Unobfuscated  Obfuscated\n",
       "RMSE          0.24        0.24\n",
       "R2            0.43        0.43"
      ]
     },
     "metadata": {},
     "output_type": "display_data"
    }
   ],
   "source": [
    "#Compare scores from both models.\n",
    "display(pd.DataFrame({'Unobfuscated' : eval_regressor(y_test, lr_unob_predict),\n",
    "                      'Obfuscated' : eval_regressor(y_test, lr_obf_predict)}, index=['RMSE', 'R2']))"
   ]
  },
  {
   "cell_type": "markdown",
   "metadata": {},
   "source": [
    "### Linear Regression with Data Obfuscation Conclusion\n",
    "As we can see, data obfuscation does not have an impact on a linear regression model's RMSE nor R2 scores. This is expected, as all values are changed by the same factor, and the RMSE and R2 metrics do not represent measurements in terms of the magnitude of values being used. RMSE represents the standard deviation of residuals and R2 represents the percentage of the dependent variable that is explained by the regression model; both metrics take on a value of between 0 and 1. Since neither metric is sensitive to the magnitude of the values being used in linear regression, changing all values by the same factor would not have an effect on the RMSE and R2 scores.\n",
    "\n",
    "## Conclusion\n",
    "The main goal of this project was to see if we can build machine learning various machine learning models for Sure Tomorrow that perform different tasks, including predicting similar customers, clustering customers, predicting whether a customer is likely to receive an insurance benefit, predicting how many insurance benefits a customer may receive, and carrying out linear regression to predict the number of insurance benefits a customer may receive while at the same time obfuscating data. The results of our project may be summarized as follows:\n",
    "\n",
    "1) Finding Nearest Neighbors: We created an instance of sklearn's NearestNeighbors class and used it to find the 5 nearest neighbors for a randomly selected observation. In reviewing the data for the nearest neighbors we found, we noticed that the observations had the same values for certain variables. This lead us to believe that the data may be able to be clustered without much inertia.\n",
    "\n",
    "2) Clustering Observations: We used unsupervised learning to cluster individuals and compared the number of clusters with the total inertia value. By plotting the inertia value for each number of clusters, we found that the optimal number of clusters to divide observations into is 9. When clustering individuals into 9 clusters, we found that most individuals fall into cluster 6 and fewest into cluster 8. While we did not dive deeper into the shared attributes of each cluster, we would recommend that Sure Tomorrow look deeper into clustering, as it may allow the company to target advertisements more effectively.\n",
    "\n",
    "3) Classification: We built a class that runs data through a pipeline and trains/tests a given estimator. Overall, the model we found with the highest F1 score was the SVC model, which accurately classified each observation based on whether or not an individual obtained an insurance benefit. We also tested a KNN model and examined how scaling and the specified number of neighbors affects F1 score. We found that the F1 score tends to decrease rapidly when increasing the value of neighbors starting at 1, but then appears to level out. We also found that the F1 scores using scaled data are far higher than when using unscaled data. Finally, we examined the F1 scores we obtained for our various classification models against a dummy model that assigns the positive class using different probabilities. We found that the F1 score was far lower at each probability for our dummy model than our classification models.\n",
    "\n",
    "4) Regression: We built a linear regression model that provides predictions regarding the number of insurance benefits an individual will receive. To evaluate our model, we used the RMSE and R2 metrics. We tested our model using scaled and unscaled data and found that the RMSE and R2 scores were the same for each, demonstrating that scaling has no affect on these metrics. We also found that the RMSE score was lower than the R2 score for our model. Finally, we created an instance of sklearn's linear regression class and tested it using the same datasets; we did this to confirm that our model functions correctly. As it turns out, we obtained the exact same scores using sklearn's algorithm.\n",
    "\n",
    "5) Data Obfuscation: In order to see if obfuscation has any affect on a linear regression model's RMSE score, we first tested obfuscating the values of a matrix by multiplying the matrix by an invertible matrix; because the second matrix was invertible, we were able to multiply the output matrix by the inverse of the invertible matrix to obtain values extremely close to, if not exactly equal to, the values in our original matrix. The slight difference in values obtained is due to the limitations of floating point arithmetic. After testing data obfuscation, we proved analytically that data obfuscation works with linear regression and that it does not affect RMSE scores. Finally, we tested data obfuscation with a linear regression model and found that obfuscation did not have any affect on the model's RMSE or R2 score. To do this, we created a subclass of LR that allows us to selectively obfuscate data by calling the model.obfuscate() method.\n",
    "\n",
    "In summary, we demonstrated that it is possible to build models that meet Sure Tomorrow's requirements; this includes clustering observations, predicting whether an individual is likely to receive insurance benefits and, if so, how many, and obfuscating data. We believe that Sure Tomorrow could use versions of the models tested in the project to increase revenue through targeted advertisement and selective policy pricing. Our only recommendation is that Sure Tomorrow analysts look into the clustered observations to determine which features are most determinant of which cluster an individual belongs, as well as how to use this information to increase revenue."
   ]
  }
 ],
 "metadata": {
  "kernelspec": {
   "display_name": "Python 3",
   "language": "python",
   "name": "python3"
  },
  "language_info": {
   "codemirror_mode": {
    "name": "ipython",
    "version": 3
   },
   "file_extension": ".py",
   "mimetype": "text/x-python",
   "name": "python",
   "nbconvert_exporter": "python",
   "pygments_lexer": "ipython3",
   "version": "3.8.8"
  },
  "toc": {
   "base_numbering": 1,
   "nav_menu": {},
   "number_sections": true,
   "sideBar": true,
   "skip_h1_title": true,
   "title_cell": "Table of Contents",
   "title_sidebar": "Contents",
   "toc_cell": false,
   "toc_position": {},
   "toc_section_display": true,
   "toc_window_display": false
  }
 },
 "nbformat": 4,
 "nbformat_minor": 4
}
