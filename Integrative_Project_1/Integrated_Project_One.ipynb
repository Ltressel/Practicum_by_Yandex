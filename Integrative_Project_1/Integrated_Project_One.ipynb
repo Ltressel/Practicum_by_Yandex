{
 "cells": [
  {
   "cell_type": "code",
   "execution_count": 1,
   "id": "13c6000c",
   "metadata": {},
   "outputs": [],
   "source": [
    "import pandas as pd\n",
    "import numpy as np\n",
    "import matplotlib.pyplot as plt\n",
    "import seaborn as sns\n",
    "from scipy import stats\n",
    "from scipy.stats import f as f_test\n",
    "%matplotlib inline\n",
    "import warnings\n",
    "warnings.filterwarnings('ignore')\n",
    "import logging\n",
    "logger = logging.getLogger()\n",
    "logger.setLevel(logging.CRITICAL)"
   ]
  },
  {
   "cell_type": "markdown",
   "id": "091a6735",
   "metadata": {},
   "source": [
    "## Project Description\n",
    "You work for the online store Ice, which sells video games all over the world. User and expert reviews, genres, platforms (e.g. Xbox or PlayStation), and historical data on game sales are available from open sources. You need to identify patterns that determine whether a game succeeds or not. This will allow you to spot potential big winners and plan advertising campaigns.\n",
    "\n",
    "In front of you is data going back to 2016. Let’s imagine that it’s December 2016 and you’re planning a campaign for 2017.\n",
    "\n",
    "(The important thing is to get experience working with data. It doesn't really matter whether you're forecasting 2017 sales based on data from 2016 or 2017 sales based on data from 2016.)\n",
    "\n",
    "The dataset contains the abbreviation ESRB. The Entertainment Software Rating Board evaluates a game's content and assigns an age rating such as Teen or Mature.\n",
    "\n",
    "## Data Description\n",
    "- Name\n",
    "- Platform: Xbox or PlayStation\n",
    "- Year_of_Release\n",
    "- Genre\n",
    "- NA_sales (North American sales in USD million)\n",
    "- EU_sales (sales in Europe in USD million)\n",
    "- JP_sales (sales in Japan in USD million)\n",
    "- Other_sales (sales in other countries in USD million)\n",
    "- Critic_Score (maximum of 100)\n",
    "- User_Score (maximum of 10)\n",
    "- Rating (ESRB)\n",
    "Data for 2016 may be incomplete.\n",
    "\n",
    "## 1. Open the data file and study the general information."
   ]
  },
  {
   "cell_type": "code",
   "execution_count": 2,
   "id": "71f6719a",
   "metadata": {},
   "outputs": [],
   "source": [
    "try:\n",
    "    df = pd.read_csv('games.csv')\n",
    "except:\n",
    "    df = pd.read_csv('/datasets/games.csv')"
   ]
  },
  {
   "cell_type": "code",
   "execution_count": 3,
   "id": "92b8719f",
   "metadata": {},
   "outputs": [
    {
     "name": "stdout",
     "output_type": "stream",
     "text": [
      "<class 'pandas.core.frame.DataFrame'>\n",
      "RangeIndex: 16715 entries, 0 to 16714\n",
      "Data columns (total 11 columns):\n",
      "Name               16713 non-null object\n",
      "Platform           16715 non-null object\n",
      "Year_of_Release    16446 non-null float64\n",
      "Genre              16713 non-null object\n",
      "NA_sales           16715 non-null float64\n",
      "EU_sales           16715 non-null float64\n",
      "JP_sales           16715 non-null float64\n",
      "Other_sales        16715 non-null float64\n",
      "Critic_Score       8137 non-null float64\n",
      "User_Score         10014 non-null object\n",
      "Rating             9949 non-null object\n",
      "dtypes: float64(6), object(5)\n",
      "memory usage: 1.4+ MB\n"
     ]
    }
   ],
   "source": [
    "df.info()"
   ]
  },
  {
   "cell_type": "code",
   "execution_count": 4,
   "id": "8c5f3eea",
   "metadata": {},
   "outputs": [
    {
     "data": {
      "text/plain": [
       "Name                  2\n",
       "Platform              0\n",
       "Year_of_Release     269\n",
       "Genre                 2\n",
       "NA_sales              0\n",
       "EU_sales              0\n",
       "JP_sales              0\n",
       "Other_sales           0\n",
       "Critic_Score       8578\n",
       "User_Score         6701\n",
       "Rating             6766\n",
       "dtype: int64"
      ]
     },
     "execution_count": 4,
     "metadata": {},
     "output_type": "execute_result"
    }
   ],
   "source": [
    "df.isna().sum()"
   ]
  },
  {
   "cell_type": "markdown",
   "id": "bd0e4990",
   "metadata": {},
   "source": [
    "## 2. Prepare the Data\n",
    "- Replace the column names (make them lowercase).\n",
    "- Convert the data to the required types.\n",
    "- Describe the columns where the data types have been changed and why.\n",
    "- If necessary, decide how to deal with missing values:\n",
    "  - Explain why you filled in the missing values as you did or why you decided to leave them    blank.\n",
    "  - Why do you think the values are missing? Give possible reasons.\n",
    "  - Pay attention to the abbreviation TBD (to be determined). Specify how you intend to handle such cases.\n",
    "- Calculate the total sales (the sum of sales in all regions) for each game and put these values in a separate column."
   ]
  },
  {
   "cell_type": "code",
   "execution_count": 5,
   "id": "94d82314",
   "metadata": {},
   "outputs": [],
   "source": [
    "df.columns = df.columns.str.lower()"
   ]
  },
  {
   "cell_type": "code",
   "execution_count": 6,
   "id": "06d25760",
   "metadata": {},
   "outputs": [
    {
     "data": {
      "text/plain": [
       "name                object\n",
       "platform            object\n",
       "year_of_release    float64\n",
       "genre               object\n",
       "na_sales           float64\n",
       "eu_sales           float64\n",
       "jp_sales           float64\n",
       "other_sales        float64\n",
       "critic_score       float64\n",
       "user_score          object\n",
       "rating              object\n",
       "dtype: object"
      ]
     },
     "execution_count": 6,
     "metadata": {},
     "output_type": "execute_result"
    }
   ],
   "source": [
    "df.dtypes"
   ]
  },
  {
   "cell_type": "code",
   "execution_count": 7,
   "id": "2509c43c",
   "metadata": {},
   "outputs": [
    {
     "data": {
      "text/html": [
       "<div>\n",
       "<style scoped>\n",
       "    .dataframe tbody tr th:only-of-type {\n",
       "        vertical-align: middle;\n",
       "    }\n",
       "\n",
       "    .dataframe tbody tr th {\n",
       "        vertical-align: top;\n",
       "    }\n",
       "\n",
       "    .dataframe thead th {\n",
       "        text-align: right;\n",
       "    }\n",
       "</style>\n",
       "<table border=\"1\" class=\"dataframe\">\n",
       "  <thead>\n",
       "    <tr style=\"text-align: right;\">\n",
       "      <th></th>\n",
       "      <th>name</th>\n",
       "      <th>platform</th>\n",
       "      <th>year_of_release</th>\n",
       "      <th>genre</th>\n",
       "      <th>na_sales</th>\n",
       "      <th>eu_sales</th>\n",
       "      <th>jp_sales</th>\n",
       "      <th>other_sales</th>\n",
       "      <th>critic_score</th>\n",
       "      <th>user_score</th>\n",
       "      <th>rating</th>\n",
       "    </tr>\n",
       "  </thead>\n",
       "  <tbody>\n",
       "    <tr>\n",
       "      <td>0</td>\n",
       "      <td>Wii Sports</td>\n",
       "      <td>Wii</td>\n",
       "      <td>2006.0</td>\n",
       "      <td>Sports</td>\n",
       "      <td>41.36</td>\n",
       "      <td>28.96</td>\n",
       "      <td>3.77</td>\n",
       "      <td>8.45</td>\n",
       "      <td>76.0</td>\n",
       "      <td>8</td>\n",
       "      <td>E</td>\n",
       "    </tr>\n",
       "    <tr>\n",
       "      <td>1</td>\n",
       "      <td>Super Mario Bros.</td>\n",
       "      <td>NES</td>\n",
       "      <td>1985.0</td>\n",
       "      <td>Platform</td>\n",
       "      <td>29.08</td>\n",
       "      <td>3.58</td>\n",
       "      <td>6.81</td>\n",
       "      <td>0.77</td>\n",
       "      <td>NaN</td>\n",
       "      <td>NaN</td>\n",
       "      <td>NaN</td>\n",
       "    </tr>\n",
       "    <tr>\n",
       "      <td>2</td>\n",
       "      <td>Mario Kart Wii</td>\n",
       "      <td>Wii</td>\n",
       "      <td>2008.0</td>\n",
       "      <td>Racing</td>\n",
       "      <td>15.68</td>\n",
       "      <td>12.76</td>\n",
       "      <td>3.79</td>\n",
       "      <td>3.29</td>\n",
       "      <td>82.0</td>\n",
       "      <td>8.3</td>\n",
       "      <td>E</td>\n",
       "    </tr>\n",
       "    <tr>\n",
       "      <td>3</td>\n",
       "      <td>Wii Sports Resort</td>\n",
       "      <td>Wii</td>\n",
       "      <td>2009.0</td>\n",
       "      <td>Sports</td>\n",
       "      <td>15.61</td>\n",
       "      <td>10.93</td>\n",
       "      <td>3.28</td>\n",
       "      <td>2.95</td>\n",
       "      <td>80.0</td>\n",
       "      <td>8</td>\n",
       "      <td>E</td>\n",
       "    </tr>\n",
       "    <tr>\n",
       "      <td>4</td>\n",
       "      <td>Pokemon Red/Pokemon Blue</td>\n",
       "      <td>GB</td>\n",
       "      <td>1996.0</td>\n",
       "      <td>Role-Playing</td>\n",
       "      <td>11.27</td>\n",
       "      <td>8.89</td>\n",
       "      <td>10.22</td>\n",
       "      <td>1.00</td>\n",
       "      <td>NaN</td>\n",
       "      <td>NaN</td>\n",
       "      <td>NaN</td>\n",
       "    </tr>\n",
       "    <tr>\n",
       "      <td>...</td>\n",
       "      <td>...</td>\n",
       "      <td>...</td>\n",
       "      <td>...</td>\n",
       "      <td>...</td>\n",
       "      <td>...</td>\n",
       "      <td>...</td>\n",
       "      <td>...</td>\n",
       "      <td>...</td>\n",
       "      <td>...</td>\n",
       "      <td>...</td>\n",
       "      <td>...</td>\n",
       "    </tr>\n",
       "    <tr>\n",
       "      <td>16710</td>\n",
       "      <td>Samurai Warriors: Sanada Maru</td>\n",
       "      <td>PS3</td>\n",
       "      <td>2016.0</td>\n",
       "      <td>Action</td>\n",
       "      <td>0.00</td>\n",
       "      <td>0.00</td>\n",
       "      <td>0.01</td>\n",
       "      <td>0.00</td>\n",
       "      <td>NaN</td>\n",
       "      <td>NaN</td>\n",
       "      <td>NaN</td>\n",
       "    </tr>\n",
       "    <tr>\n",
       "      <td>16711</td>\n",
       "      <td>LMA Manager 2007</td>\n",
       "      <td>X360</td>\n",
       "      <td>2006.0</td>\n",
       "      <td>Sports</td>\n",
       "      <td>0.00</td>\n",
       "      <td>0.01</td>\n",
       "      <td>0.00</td>\n",
       "      <td>0.00</td>\n",
       "      <td>NaN</td>\n",
       "      <td>NaN</td>\n",
       "      <td>NaN</td>\n",
       "    </tr>\n",
       "    <tr>\n",
       "      <td>16712</td>\n",
       "      <td>Haitaka no Psychedelica</td>\n",
       "      <td>PSV</td>\n",
       "      <td>2016.0</td>\n",
       "      <td>Adventure</td>\n",
       "      <td>0.00</td>\n",
       "      <td>0.00</td>\n",
       "      <td>0.01</td>\n",
       "      <td>0.00</td>\n",
       "      <td>NaN</td>\n",
       "      <td>NaN</td>\n",
       "      <td>NaN</td>\n",
       "    </tr>\n",
       "    <tr>\n",
       "      <td>16713</td>\n",
       "      <td>Spirits &amp; Spells</td>\n",
       "      <td>GBA</td>\n",
       "      <td>2003.0</td>\n",
       "      <td>Platform</td>\n",
       "      <td>0.01</td>\n",
       "      <td>0.00</td>\n",
       "      <td>0.00</td>\n",
       "      <td>0.00</td>\n",
       "      <td>NaN</td>\n",
       "      <td>NaN</td>\n",
       "      <td>NaN</td>\n",
       "    </tr>\n",
       "    <tr>\n",
       "      <td>16714</td>\n",
       "      <td>Winning Post 8 2016</td>\n",
       "      <td>PSV</td>\n",
       "      <td>2016.0</td>\n",
       "      <td>Simulation</td>\n",
       "      <td>0.00</td>\n",
       "      <td>0.00</td>\n",
       "      <td>0.01</td>\n",
       "      <td>0.00</td>\n",
       "      <td>NaN</td>\n",
       "      <td>NaN</td>\n",
       "      <td>NaN</td>\n",
       "    </tr>\n",
       "  </tbody>\n",
       "</table>\n",
       "<p>16715 rows × 11 columns</p>\n",
       "</div>"
      ],
      "text/plain": [
       "                                name platform  year_of_release         genre  \\\n",
       "0                         Wii Sports      Wii           2006.0        Sports   \n",
       "1                  Super Mario Bros.      NES           1985.0      Platform   \n",
       "2                     Mario Kart Wii      Wii           2008.0        Racing   \n",
       "3                  Wii Sports Resort      Wii           2009.0        Sports   \n",
       "4           Pokemon Red/Pokemon Blue       GB           1996.0  Role-Playing   \n",
       "...                              ...      ...              ...           ...   \n",
       "16710  Samurai Warriors: Sanada Maru      PS3           2016.0        Action   \n",
       "16711               LMA Manager 2007     X360           2006.0        Sports   \n",
       "16712        Haitaka no Psychedelica      PSV           2016.0     Adventure   \n",
       "16713               Spirits & Spells      GBA           2003.0      Platform   \n",
       "16714            Winning Post 8 2016      PSV           2016.0    Simulation   \n",
       "\n",
       "       na_sales  eu_sales  jp_sales  other_sales  critic_score user_score  \\\n",
       "0         41.36     28.96      3.77         8.45          76.0          8   \n",
       "1         29.08      3.58      6.81         0.77           NaN        NaN   \n",
       "2         15.68     12.76      3.79         3.29          82.0        8.3   \n",
       "3         15.61     10.93      3.28         2.95          80.0          8   \n",
       "4         11.27      8.89     10.22         1.00           NaN        NaN   \n",
       "...         ...       ...       ...          ...           ...        ...   \n",
       "16710      0.00      0.00      0.01         0.00           NaN        NaN   \n",
       "16711      0.00      0.01      0.00         0.00           NaN        NaN   \n",
       "16712      0.00      0.00      0.01         0.00           NaN        NaN   \n",
       "16713      0.01      0.00      0.00         0.00           NaN        NaN   \n",
       "16714      0.00      0.00      0.01         0.00           NaN        NaN   \n",
       "\n",
       "      rating  \n",
       "0          E  \n",
       "1        NaN  \n",
       "2          E  \n",
       "3          E  \n",
       "4        NaN  \n",
       "...      ...  \n",
       "16710    NaN  \n",
       "16711    NaN  \n",
       "16712    NaN  \n",
       "16713    NaN  \n",
       "16714    NaN  \n",
       "\n",
       "[16715 rows x 11 columns]"
      ]
     },
     "execution_count": 7,
     "metadata": {},
     "output_type": "execute_result"
    }
   ],
   "source": [
    "df"
   ]
  },
  {
   "cell_type": "code",
   "execution_count": 8,
   "id": "39363179",
   "metadata": {},
   "outputs": [],
   "source": [
    "#missing value ratio\n",
    "def missing_values(df):\n",
    "    df_nulls=pd.concat([df.dtypes, df.isna().sum(), df.isna().sum()/len(df)], axis=1)\n",
    "    df_nulls.columns = [\"type\",\"count\",\"missing_ratio\"]\n",
    "    df_nulls=df_nulls[df_nulls[\"count\"]>0]\n",
    "    df_nulls.sort_values(by=\"missing_ratio\", ascending=False)\n",
    "    return df_nulls\n",
    "\n",
    "#outliers by 3 sigma rule\n",
    "def outlier(data):\n",
    "    data_mean, data_std = np.mean(data), np.std(data)\n",
    "    cut_off = data_std * 3\n",
    "    lower, upper = data_mean - cut_off, data_mean + cut_off\n",
    "    outliers = [x for x in data if x < lower or x > upper]\n",
    "    outliers_removed = [x for x in data if x >= lower and x <= upper]\n",
    "    return len(outliers)\n",
    "\n",
    "# full description statistics \n",
    "def describe_full(df, target_name=\"\"):\n",
    "    data_describe = df.describe().T\n",
    "    df_numeric = df._get_numeric_data()\n",
    "    if target_name in df.columns:\n",
    "        corr_with_target=df_numeric.drop(target_name, axis=1).apply(lambda x: x.corr(df_numeric[target_name]))\n",
    "        data_describe['corr_with_target']=corr_with_target\n",
    "    dtype_df = df_numeric.dtypes\n",
    "    data_describe['dtypes'] = dtype_df\n",
    "    data_null = df_numeric.isnull().sum()/len(df) * 100\n",
    "    data_describe['Missing %'] = data_null\n",
    "    Cardinality = df_numeric.apply(pd.Series.nunique)\n",
    "    data_describe['Cardinality'] = Cardinality\n",
    "    df_skew = df_numeric.skew(axis=0, skipna=True)\n",
    "    data_describe['Skew'] = df_skew\n",
    "    data_describe['outliers']=[outlier(df_numeric[col]) for col in df_numeric.columns]\n",
    "    data_describe['kurtosis']=df_numeric.kurtosis()\n",
    "    return data_describe\n",
    "\n",
    "def plt_missing_data(df):\n",
    "    data_null = df.isnull().sum()/len(df)\n",
    "    data_null = data_null.drop(data_null[data_null == 0].index).sort_values(ascending=False)\n",
    "    plt.subplots(figsize=(40,10))\n",
    "    plt.xticks(rotation='90')\n",
    "    sns.barplot(data_null.index, data_null)\n",
    "    plt.xlabel('Features', fontsize=20)\n",
    "    plt.ylabel('Missing rate', fontsize=20)"
   ]
  },
  {
   "cell_type": "code",
   "execution_count": 9,
   "id": "4efeb4dd",
   "metadata": {},
   "outputs": [
    {
     "data": {
      "text/html": [
       "<div>\n",
       "<style scoped>\n",
       "    .dataframe tbody tr th:only-of-type {\n",
       "        vertical-align: middle;\n",
       "    }\n",
       "\n",
       "    .dataframe tbody tr th {\n",
       "        vertical-align: top;\n",
       "    }\n",
       "\n",
       "    .dataframe thead th {\n",
       "        text-align: right;\n",
       "    }\n",
       "</style>\n",
       "<table border=\"1\" class=\"dataframe\">\n",
       "  <thead>\n",
       "    <tr style=\"text-align: right;\">\n",
       "      <th></th>\n",
       "      <th>type</th>\n",
       "      <th>count</th>\n",
       "      <th>missing_ratio</th>\n",
       "    </tr>\n",
       "  </thead>\n",
       "  <tbody>\n",
       "    <tr>\n",
       "      <td>name</td>\n",
       "      <td>object</td>\n",
       "      <td>2</td>\n",
       "      <td>0.000120</td>\n",
       "    </tr>\n",
       "    <tr>\n",
       "      <td>year_of_release</td>\n",
       "      <td>float64</td>\n",
       "      <td>269</td>\n",
       "      <td>0.016093</td>\n",
       "    </tr>\n",
       "    <tr>\n",
       "      <td>genre</td>\n",
       "      <td>object</td>\n",
       "      <td>2</td>\n",
       "      <td>0.000120</td>\n",
       "    </tr>\n",
       "    <tr>\n",
       "      <td>critic_score</td>\n",
       "      <td>float64</td>\n",
       "      <td>8578</td>\n",
       "      <td>0.513192</td>\n",
       "    </tr>\n",
       "    <tr>\n",
       "      <td>user_score</td>\n",
       "      <td>object</td>\n",
       "      <td>6701</td>\n",
       "      <td>0.400897</td>\n",
       "    </tr>\n",
       "    <tr>\n",
       "      <td>rating</td>\n",
       "      <td>object</td>\n",
       "      <td>6766</td>\n",
       "      <td>0.404786</td>\n",
       "    </tr>\n",
       "  </tbody>\n",
       "</table>\n",
       "</div>"
      ],
      "text/plain": [
       "                    type  count  missing_ratio\n",
       "name              object      2       0.000120\n",
       "year_of_release  float64    269       0.016093\n",
       "genre             object      2       0.000120\n",
       "critic_score     float64   8578       0.513192\n",
       "user_score        object   6701       0.400897\n",
       "rating            object   6766       0.404786"
      ]
     },
     "execution_count": 9,
     "metadata": {},
     "output_type": "execute_result"
    }
   ],
   "source": [
    "missing_values(df)"
   ]
  },
  {
   "cell_type": "code",
   "execution_count": 10,
   "id": "3e4227a8",
   "metadata": {},
   "outputs": [
    {
     "data": {
      "image/png": "[encoded data removed]",
      "text/plain": [
       "<Figure size 2880x720 with 1 Axes>"
      ]
     },
     "metadata": {
      "needs_background": "light"
     },
     "output_type": "display_data"
    }
   ],
   "source": [
    "plt_missing_data(df)\n",
    "plt.title('Total missing data');"
   ]
  },
  {
   "cell_type": "markdown",
   "id": "62f24484",
   "metadata": {},
   "source": [
    "We have 6 columns with missing data: *name*, *year_of_release*, *genre*, *critic_score*, *user_score*, and *rating*. The columns *user_score* and *rating* as well as *genre* and *name* interestingly enough have very similar values of missing values."
   ]
  },
  {
   "cell_type": "code",
   "execution_count": 11,
   "id": "35ca6331",
   "metadata": {},
   "outputs": [
    {
     "data": {
      "text/html": [
       "<div>\n",
       "<style scoped>\n",
       "    .dataframe tbody tr th:only-of-type {\n",
       "        vertical-align: middle;\n",
       "    }\n",
       "\n",
       "    .dataframe tbody tr th {\n",
       "        vertical-align: top;\n",
       "    }\n",
       "\n",
       "    .dataframe thead th {\n",
       "        text-align: right;\n",
       "    }\n",
       "</style>\n",
       "<table border=\"1\" class=\"dataframe\">\n",
       "  <thead>\n",
       "    <tr style=\"text-align: right;\">\n",
       "      <th></th>\n",
       "      <th>year_of_release</th>\n",
       "      <th>na_sales</th>\n",
       "      <th>eu_sales</th>\n",
       "      <th>jp_sales</th>\n",
       "      <th>other_sales</th>\n",
       "      <th>critic_score</th>\n",
       "    </tr>\n",
       "  </thead>\n",
       "  <tbody>\n",
       "    <tr>\n",
       "      <td>count</td>\n",
       "      <td>16446</td>\n",
       "      <td>16715</td>\n",
       "      <td>16715</td>\n",
       "      <td>16715</td>\n",
       "      <td>16715</td>\n",
       "      <td>8137</td>\n",
       "    </tr>\n",
       "    <tr>\n",
       "      <td>mean</td>\n",
       "      <td>2006.48</td>\n",
       "      <td>0.263377</td>\n",
       "      <td>0.14506</td>\n",
       "      <td>0.0776171</td>\n",
       "      <td>0.0473419</td>\n",
       "      <td>68.9677</td>\n",
       "    </tr>\n",
       "    <tr>\n",
       "      <td>std</td>\n",
       "      <td>5.87705</td>\n",
       "      <td>0.813604</td>\n",
       "      <td>0.503339</td>\n",
       "      <td>0.308853</td>\n",
       "      <td>0.186731</td>\n",
       "      <td>13.9382</td>\n",
       "    </tr>\n",
       "    <tr>\n",
       "      <td>min</td>\n",
       "      <td>1980</td>\n",
       "      <td>0</td>\n",
       "      <td>0</td>\n",
       "      <td>0</td>\n",
       "      <td>0</td>\n",
       "      <td>13</td>\n",
       "    </tr>\n",
       "    <tr>\n",
       "      <td>25%</td>\n",
       "      <td>2003</td>\n",
       "      <td>0</td>\n",
       "      <td>0</td>\n",
       "      <td>0</td>\n",
       "      <td>0</td>\n",
       "      <td>60</td>\n",
       "    </tr>\n",
       "    <tr>\n",
       "      <td>50%</td>\n",
       "      <td>2007</td>\n",
       "      <td>0.08</td>\n",
       "      <td>0.02</td>\n",
       "      <td>0</td>\n",
       "      <td>0.01</td>\n",
       "      <td>71</td>\n",
       "    </tr>\n",
       "    <tr>\n",
       "      <td>75%</td>\n",
       "      <td>2010</td>\n",
       "      <td>0.24</td>\n",
       "      <td>0.11</td>\n",
       "      <td>0.04</td>\n",
       "      <td>0.03</td>\n",
       "      <td>79</td>\n",
       "    </tr>\n",
       "    <tr>\n",
       "      <td>max</td>\n",
       "      <td>2016</td>\n",
       "      <td>41.36</td>\n",
       "      <td>28.96</td>\n",
       "      <td>10.22</td>\n",
       "      <td>10.57</td>\n",
       "      <td>98</td>\n",
       "    </tr>\n",
       "    <tr>\n",
       "      <td>dtypes</td>\n",
       "      <td>float64</td>\n",
       "      <td>float64</td>\n",
       "      <td>float64</td>\n",
       "      <td>float64</td>\n",
       "      <td>float64</td>\n",
       "      <td>float64</td>\n",
       "    </tr>\n",
       "    <tr>\n",
       "      <td>Missing %</td>\n",
       "      <td>1.60933</td>\n",
       "      <td>0</td>\n",
       "      <td>0</td>\n",
       "      <td>0</td>\n",
       "      <td>0</td>\n",
       "      <td>51.3192</td>\n",
       "    </tr>\n",
       "    <tr>\n",
       "      <td>Cardinality</td>\n",
       "      <td>37</td>\n",
       "      <td>402</td>\n",
       "      <td>307</td>\n",
       "      <td>244</td>\n",
       "      <td>155</td>\n",
       "      <td>82</td>\n",
       "    </tr>\n",
       "    <tr>\n",
       "      <td>Skew</td>\n",
       "      <td>-0.974739</td>\n",
       "      <td>18.7719</td>\n",
       "      <td>18.851</td>\n",
       "      <td>11.2075</td>\n",
       "      <td>24.5837</td>\n",
       "      <td>-0.613646</td>\n",
       "    </tr>\n",
       "    <tr>\n",
       "      <td>outliers</td>\n",
       "      <td>188</td>\n",
       "      <td>182</td>\n",
       "      <td>218</td>\n",
       "      <td>239</td>\n",
       "      <td>180</td>\n",
       "      <td>48</td>\n",
       "    </tr>\n",
       "    <tr>\n",
       "      <td>kurtosis</td>\n",
       "      <td>1.77339</td>\n",
       "      <td>648.566</td>\n",
       "      <td>755.516</td>\n",
       "      <td>194.266</td>\n",
       "      <td>1054.9</td>\n",
       "      <td>0.142851</td>\n",
       "    </tr>\n",
       "  </tbody>\n",
       "</table>\n",
       "</div>"
      ],
      "text/plain": [
       "            year_of_release  na_sales  eu_sales   jp_sales other_sales  \\\n",
       "count                 16446     16715     16715      16715       16715   \n",
       "mean                2006.48  0.263377   0.14506  0.0776171   0.0473419   \n",
       "std                 5.87705  0.813604  0.503339   0.308853    0.186731   \n",
       "min                    1980         0         0          0           0   \n",
       "25%                    2003         0         0          0           0   \n",
       "50%                    2007      0.08      0.02          0        0.01   \n",
       "75%                    2010      0.24      0.11       0.04        0.03   \n",
       "max                    2016     41.36     28.96      10.22       10.57   \n",
       "dtypes              float64   float64   float64    float64     float64   \n",
       "Missing %           1.60933         0         0          0           0   \n",
       "Cardinality              37       402       307        244         155   \n",
       "Skew              -0.974739   18.7719    18.851    11.2075     24.5837   \n",
       "outliers                188       182       218        239         180   \n",
       "kurtosis            1.77339   648.566   755.516    194.266      1054.9   \n",
       "\n",
       "            critic_score  \n",
       "count               8137  \n",
       "mean             68.9677  \n",
       "std              13.9382  \n",
       "min                   13  \n",
       "25%                   60  \n",
       "50%                   71  \n",
       "75%                   79  \n",
       "max                   98  \n",
       "dtypes           float64  \n",
       "Missing %        51.3192  \n",
       "Cardinality           82  \n",
       "Skew           -0.613646  \n",
       "outliers              48  \n",
       "kurtosis        0.142851  "
      ]
     },
     "execution_count": 11,
     "metadata": {},
     "output_type": "execute_result"
    }
   ],
   "source": [
    "describe_full(df).T"
   ]
  },
  {
   "cell_type": "markdown",
   "id": "7ec1734c",
   "metadata": {},
   "source": [
    "We can see that the *na_sales*, *eu_sales*, *jp_sales*, and *other_sales* are strongly positively skewed."
   ]
  },
  {
   "cell_type": "code",
   "execution_count": 12,
   "id": "03014e24",
   "metadata": {},
   "outputs": [],
   "source": [
    "col_sales = ['na_sales', 'eu_sales', 'eu_sales', 'jp_sales', 'other_sales']\n",
    "df[\"all_sales\"] = df[col_sales].sum(axis=1)"
   ]
  },
  {
   "cell_type": "code",
   "execution_count": 13,
   "id": "ea3e328a",
   "metadata": {},
   "outputs": [
    {
     "data": {
      "image/png": "[encoded data removed]",
      "text/plain": [
       "<Figure size 432x288 with 1 Axes>"
      ]
     },
     "metadata": {
      "needs_background": "light"
     },
     "output_type": "display_data"
    }
   ],
   "source": [
    "sns.boxplot(df[\"na_sales\"])\n",
    "plt.title('NA_sales');"
   ]
  },
  {
   "cell_type": "code",
   "execution_count": 14,
   "id": "39ca714e",
   "metadata": {},
   "outputs": [
    {
     "data": {
      "image/png": "[encoded data removed]",
      "text/plain": [
       "<Figure size 432x288 with 1 Axes>"
      ]
     },
     "metadata": {
      "needs_background": "light"
     },
     "output_type": "display_data"
    }
   ],
   "source": [
    "sns.boxplot(df[\"eu_sales\"])\n",
    "plt.title('EU_sales');"
   ]
  },
  {
   "cell_type": "code",
   "execution_count": 15,
   "id": "ecbf2d1d",
   "metadata": {},
   "outputs": [
    {
     "data": {
      "image/png": "[encoded data removed]",
      "text/plain": [
       "<Figure size 432x288 with 1 Axes>"
      ]
     },
     "metadata": {
      "needs_background": "light"
     },
     "output_type": "display_data"
    }
   ],
   "source": [
    "sns.boxplot(df[\"jp_sales\"])\n",
    "plt.title('JP_sales');"
   ]
  },
  {
   "cell_type": "code",
   "execution_count": 16,
   "id": "bb33606f",
   "metadata": {},
   "outputs": [
    {
     "data": {
      "text/plain": [
       "array(['Wii', 'NES', 'GB', 'DS', 'X360', 'PS3', 'PS2', 'SNES', 'GBA',\n",
       "       'PS4', '3DS', 'N64', 'PS', 'XB', 'PC', '2600', 'PSP', 'XOne',\n",
       "       'WiiU', 'GC', 'GEN', 'DC', 'PSV', 'SAT', 'SCD', 'WS', 'NG', 'TG16',\n",
       "       '3DO', 'GG', 'PCFX'], dtype=object)"
      ]
     },
     "execution_count": 16,
     "metadata": {},
     "output_type": "execute_result"
    }
   ],
   "source": [
    "df[\"platform\"].unique()"
   ]
  },
  {
   "cell_type": "markdown",
   "id": "297dd894",
   "metadata": {},
   "source": [
    "I think it's better to convert year from float to int, for simplicity of comparing and etc. We could also convert to datetime, but in this case it does not matter. But first of all we need to deal with impute missing values."
   ]
  },
  {
   "cell_type": "code",
   "execution_count": 17,
   "id": "061a82ce",
   "metadata": {},
   "outputs": [
    {
     "data": {
      "text/html": [
       "<div>\n",
       "<style scoped>\n",
       "    .dataframe tbody tr th:only-of-type {\n",
       "        vertical-align: middle;\n",
       "    }\n",
       "\n",
       "    .dataframe tbody tr th {\n",
       "        vertical-align: top;\n",
       "    }\n",
       "\n",
       "    .dataframe thead th {\n",
       "        text-align: right;\n",
       "    }\n",
       "</style>\n",
       "<table border=\"1\" class=\"dataframe\">\n",
       "  <thead>\n",
       "    <tr style=\"text-align: right;\">\n",
       "      <th></th>\n",
       "      <th>index</th>\n",
       "      <th>name</th>\n",
       "      <th>platform</th>\n",
       "      <th>year_of_release</th>\n",
       "      <th>genre</th>\n",
       "      <th>na_sales</th>\n",
       "      <th>eu_sales</th>\n",
       "      <th>jp_sales</th>\n",
       "      <th>other_sales</th>\n",
       "      <th>critic_score</th>\n",
       "      <th>user_score</th>\n",
       "      <th>rating</th>\n",
       "      <th>all_sales</th>\n",
       "    </tr>\n",
       "  </thead>\n",
       "  <tbody>\n",
       "    <tr>\n",
       "      <td>0</td>\n",
       "      <td>183</td>\n",
       "      <td>Madden NFL 2004</td>\n",
       "      <td>PS2</td>\n",
       "      <td>NaN</td>\n",
       "      <td>Sports</td>\n",
       "      <td>4.26</td>\n",
       "      <td>0.26</td>\n",
       "      <td>0.01</td>\n",
       "      <td>0.71</td>\n",
       "      <td>94.0</td>\n",
       "      <td>8.5</td>\n",
       "      <td>E</td>\n",
       "      <td>5.50</td>\n",
       "    </tr>\n",
       "    <tr>\n",
       "      <td>1</td>\n",
       "      <td>377</td>\n",
       "      <td>FIFA Soccer 2004</td>\n",
       "      <td>PS2</td>\n",
       "      <td>NaN</td>\n",
       "      <td>Sports</td>\n",
       "      <td>0.59</td>\n",
       "      <td>2.36</td>\n",
       "      <td>0.04</td>\n",
       "      <td>0.51</td>\n",
       "      <td>84.0</td>\n",
       "      <td>6.4</td>\n",
       "      <td>E</td>\n",
       "      <td>5.86</td>\n",
       "    </tr>\n",
       "    <tr>\n",
       "      <td>2</td>\n",
       "      <td>456</td>\n",
       "      <td>LEGO Batman: The Videogame</td>\n",
       "      <td>Wii</td>\n",
       "      <td>NaN</td>\n",
       "      <td>Action</td>\n",
       "      <td>1.80</td>\n",
       "      <td>0.97</td>\n",
       "      <td>0.00</td>\n",
       "      <td>0.29</td>\n",
       "      <td>74.0</td>\n",
       "      <td>7.9</td>\n",
       "      <td>E10+</td>\n",
       "      <td>4.03</td>\n",
       "    </tr>\n",
       "    <tr>\n",
       "      <td>3</td>\n",
       "      <td>475</td>\n",
       "      <td>wwe Smackdown vs. Raw 2006</td>\n",
       "      <td>PS2</td>\n",
       "      <td>NaN</td>\n",
       "      <td>Fighting</td>\n",
       "      <td>1.57</td>\n",
       "      <td>1.02</td>\n",
       "      <td>0.00</td>\n",
       "      <td>0.41</td>\n",
       "      <td>NaN</td>\n",
       "      <td>NaN</td>\n",
       "      <td>NaN</td>\n",
       "      <td>4.02</td>\n",
       "    </tr>\n",
       "    <tr>\n",
       "      <td>4</td>\n",
       "      <td>609</td>\n",
       "      <td>Space Invaders</td>\n",
       "      <td>2600</td>\n",
       "      <td>NaN</td>\n",
       "      <td>Shooter</td>\n",
       "      <td>2.36</td>\n",
       "      <td>0.14</td>\n",
       "      <td>0.00</td>\n",
       "      <td>0.03</td>\n",
       "      <td>NaN</td>\n",
       "      <td>NaN</td>\n",
       "      <td>NaN</td>\n",
       "      <td>2.67</td>\n",
       "    </tr>\n",
       "    <tr>\n",
       "      <td>...</td>\n",
       "      <td>...</td>\n",
       "      <td>...</td>\n",
       "      <td>...</td>\n",
       "      <td>...</td>\n",
       "      <td>...</td>\n",
       "      <td>...</td>\n",
       "      <td>...</td>\n",
       "      <td>...</td>\n",
       "      <td>...</td>\n",
       "      <td>...</td>\n",
       "      <td>...</td>\n",
       "      <td>...</td>\n",
       "      <td>...</td>\n",
       "    </tr>\n",
       "    <tr>\n",
       "      <td>264</td>\n",
       "      <td>16373</td>\n",
       "      <td>PDC World Championship Darts 2008</td>\n",
       "      <td>PSP</td>\n",
       "      <td>NaN</td>\n",
       "      <td>Sports</td>\n",
       "      <td>0.01</td>\n",
       "      <td>0.00</td>\n",
       "      <td>0.00</td>\n",
       "      <td>0.00</td>\n",
       "      <td>43.0</td>\n",
       "      <td>tbd</td>\n",
       "      <td>E10+</td>\n",
       "      <td>0.01</td>\n",
       "    </tr>\n",
       "    <tr>\n",
       "      <td>265</td>\n",
       "      <td>16405</td>\n",
       "      <td>Freaky Flyers</td>\n",
       "      <td>GC</td>\n",
       "      <td>NaN</td>\n",
       "      <td>Racing</td>\n",
       "      <td>0.01</td>\n",
       "      <td>0.00</td>\n",
       "      <td>0.00</td>\n",
       "      <td>0.00</td>\n",
       "      <td>69.0</td>\n",
       "      <td>6.5</td>\n",
       "      <td>T</td>\n",
       "      <td>0.01</td>\n",
       "    </tr>\n",
       "    <tr>\n",
       "      <td>266</td>\n",
       "      <td>16448</td>\n",
       "      <td>Inversion</td>\n",
       "      <td>PC</td>\n",
       "      <td>NaN</td>\n",
       "      <td>Shooter</td>\n",
       "      <td>0.01</td>\n",
       "      <td>0.00</td>\n",
       "      <td>0.00</td>\n",
       "      <td>0.00</td>\n",
       "      <td>59.0</td>\n",
       "      <td>6.7</td>\n",
       "      <td>M</td>\n",
       "      <td>0.01</td>\n",
       "    </tr>\n",
       "    <tr>\n",
       "      <td>267</td>\n",
       "      <td>16458</td>\n",
       "      <td>Hakuouki: Shinsengumi Kitan</td>\n",
       "      <td>PS3</td>\n",
       "      <td>NaN</td>\n",
       "      <td>Adventure</td>\n",
       "      <td>0.01</td>\n",
       "      <td>0.00</td>\n",
       "      <td>0.00</td>\n",
       "      <td>0.00</td>\n",
       "      <td>NaN</td>\n",
       "      <td>NaN</td>\n",
       "      <td>NaN</td>\n",
       "      <td>0.01</td>\n",
       "    </tr>\n",
       "    <tr>\n",
       "      <td>268</td>\n",
       "      <td>16522</td>\n",
       "      <td>Virtua Quest</td>\n",
       "      <td>GC</td>\n",
       "      <td>NaN</td>\n",
       "      <td>Role-Playing</td>\n",
       "      <td>0.01</td>\n",
       "      <td>0.00</td>\n",
       "      <td>0.00</td>\n",
       "      <td>0.00</td>\n",
       "      <td>55.0</td>\n",
       "      <td>5.5</td>\n",
       "      <td>T</td>\n",
       "      <td>0.01</td>\n",
       "    </tr>\n",
       "  </tbody>\n",
       "</table>\n",
       "<p>269 rows × 13 columns</p>\n",
       "</div>"
      ],
      "text/plain": [
       "     index                               name platform  year_of_release  \\\n",
       "0      183                    Madden NFL 2004      PS2              NaN   \n",
       "1      377                   FIFA Soccer 2004      PS2              NaN   \n",
       "2      456         LEGO Batman: The Videogame      Wii              NaN   \n",
       "3      475         wwe Smackdown vs. Raw 2006      PS2              NaN   \n",
       "4      609                     Space Invaders     2600              NaN   \n",
       "..     ...                                ...      ...              ...   \n",
       "264  16373  PDC World Championship Darts 2008      PSP              NaN   \n",
       "265  16405                      Freaky Flyers       GC              NaN   \n",
       "266  16448                          Inversion       PC              NaN   \n",
       "267  16458        Hakuouki: Shinsengumi Kitan      PS3              NaN   \n",
       "268  16522                       Virtua Quest       GC              NaN   \n",
       "\n",
       "            genre  na_sales  eu_sales  jp_sales  other_sales  critic_score  \\\n",
       "0          Sports      4.26      0.26      0.01         0.71          94.0   \n",
       "1          Sports      0.59      2.36      0.04         0.51          84.0   \n",
       "2          Action      1.80      0.97      0.00         0.29          74.0   \n",
       "3        Fighting      1.57      1.02      0.00         0.41           NaN   \n",
       "4         Shooter      2.36      0.14      0.00         0.03           NaN   \n",
       "..            ...       ...       ...       ...          ...           ...   \n",
       "264        Sports      0.01      0.00      0.00         0.00          43.0   \n",
       "265        Racing      0.01      0.00      0.00         0.00          69.0   \n",
       "266       Shooter      0.01      0.00      0.00         0.00          59.0   \n",
       "267     Adventure      0.01      0.00      0.00         0.00           NaN   \n",
       "268  Role-Playing      0.01      0.00      0.00         0.00          55.0   \n",
       "\n",
       "    user_score rating  all_sales  \n",
       "0          8.5      E       5.50  \n",
       "1          6.4      E       5.86  \n",
       "2          7.9   E10+       4.03  \n",
       "3          NaN    NaN       4.02  \n",
       "4          NaN    NaN       2.67  \n",
       "..         ...    ...        ...  \n",
       "264        tbd   E10+       0.01  \n",
       "265        6.5      T       0.01  \n",
       "266        6.7      M       0.01  \n",
       "267        NaN    NaN       0.01  \n",
       "268        5.5      T       0.01  \n",
       "\n",
       "[269 rows x 13 columns]"
      ]
     },
     "execution_count": 17,
     "metadata": {},
     "output_type": "execute_result"
    }
   ],
   "source": [
    "df_missing_year = df[:][df[\"year_of_release\"].isna()].reset_index().drop_duplicates()\n",
    "df_missing_year"
   ]
  },
  {
   "cell_type": "markdown",
   "id": "2c837eb0",
   "metadata": {},
   "source": [
    "We don't see any pattern in missing data of *year_of_release*."
   ]
  },
  {
   "cell_type": "code",
   "execution_count": 18,
   "id": "5253f7c1",
   "metadata": {},
   "outputs": [
    {
     "data": {
      "text/html": [
       "<div>\n",
       "<style scoped>\n",
       "    .dataframe tbody tr th:only-of-type {\n",
       "        vertical-align: middle;\n",
       "    }\n",
       "\n",
       "    .dataframe tbody tr th {\n",
       "        vertical-align: top;\n",
       "    }\n",
       "\n",
       "    .dataframe thead th {\n",
       "        text-align: right;\n",
       "    }\n",
       "</style>\n",
       "<table border=\"1\" class=\"dataframe\">\n",
       "  <thead>\n",
       "    <tr style=\"text-align: right;\">\n",
       "      <th></th>\n",
       "      <th>name</th>\n",
       "      <th>platform</th>\n",
       "      <th>year_of_release</th>\n",
       "      <th>genre</th>\n",
       "      <th>na_sales</th>\n",
       "      <th>eu_sales</th>\n",
       "      <th>jp_sales</th>\n",
       "      <th>other_sales</th>\n",
       "      <th>critic_score</th>\n",
       "      <th>user_score</th>\n",
       "      <th>rating</th>\n",
       "      <th>all_sales</th>\n",
       "    </tr>\n",
       "  </thead>\n",
       "  <tbody>\n",
       "    <tr>\n",
       "      <td>183</td>\n",
       "      <td>Madden NFL 2004</td>\n",
       "      <td>PS2</td>\n",
       "      <td>NaN</td>\n",
       "      <td>Sports</td>\n",
       "      <td>4.26</td>\n",
       "      <td>0.26</td>\n",
       "      <td>0.01</td>\n",
       "      <td>0.71</td>\n",
       "      <td>94.0</td>\n",
       "      <td>8.5</td>\n",
       "      <td>E</td>\n",
       "      <td>5.50</td>\n",
       "    </tr>\n",
       "    <tr>\n",
       "      <td>1881</td>\n",
       "      <td>Madden NFL 2004</td>\n",
       "      <td>XB</td>\n",
       "      <td>2003.0</td>\n",
       "      <td>Sports</td>\n",
       "      <td>1.02</td>\n",
       "      <td>0.02</td>\n",
       "      <td>0.00</td>\n",
       "      <td>0.05</td>\n",
       "      <td>92.0</td>\n",
       "      <td>8.3</td>\n",
       "      <td>E</td>\n",
       "      <td>1.11</td>\n",
       "    </tr>\n",
       "    <tr>\n",
       "      <td>3889</td>\n",
       "      <td>Madden NFL 2004</td>\n",
       "      <td>GC</td>\n",
       "      <td>2003.0</td>\n",
       "      <td>Sports</td>\n",
       "      <td>0.40</td>\n",
       "      <td>0.10</td>\n",
       "      <td>0.00</td>\n",
       "      <td>0.01</td>\n",
       "      <td>94.0</td>\n",
       "      <td>7.7</td>\n",
       "      <td>E</td>\n",
       "      <td>0.61</td>\n",
       "    </tr>\n",
       "    <tr>\n",
       "      <td>5708</td>\n",
       "      <td>Madden NFL 2004</td>\n",
       "      <td>GBA</td>\n",
       "      <td>2003.0</td>\n",
       "      <td>Sports</td>\n",
       "      <td>0.22</td>\n",
       "      <td>0.08</td>\n",
       "      <td>0.00</td>\n",
       "      <td>0.01</td>\n",
       "      <td>70.0</td>\n",
       "      <td>6.6</td>\n",
       "      <td>E</td>\n",
       "      <td>0.39</td>\n",
       "    </tr>\n",
       "  </tbody>\n",
       "</table>\n",
       "</div>"
      ],
      "text/plain": [
       "                 name platform  year_of_release   genre  na_sales  eu_sales  \\\n",
       "183   Madden NFL 2004      PS2              NaN  Sports      4.26      0.26   \n",
       "1881  Madden NFL 2004       XB           2003.0  Sports      1.02      0.02   \n",
       "3889  Madden NFL 2004       GC           2003.0  Sports      0.40      0.10   \n",
       "5708  Madden NFL 2004      GBA           2003.0  Sports      0.22      0.08   \n",
       "\n",
       "      jp_sales  other_sales  critic_score user_score rating  all_sales  \n",
       "183       0.01         0.71          94.0        8.5      E       5.50  \n",
       "1881      0.00         0.05          92.0        8.3      E       1.11  \n",
       "3889      0.00         0.01          94.0        7.7      E       0.61  \n",
       "5708      0.00         0.01          70.0        6.6      E       0.39  "
      ]
     },
     "execution_count": 18,
     "metadata": {},
     "output_type": "execute_result"
    }
   ],
   "source": [
    "df[df[\"name\"]==\"Madden NFL 2004\"]"
   ]
  },
  {
   "cell_type": "code",
   "execution_count": 19,
   "id": "01472f41",
   "metadata": {},
   "outputs": [
    {
     "data": {
      "text/html": [
       "<div>\n",
       "<style scoped>\n",
       "    .dataframe tbody tr th:only-of-type {\n",
       "        vertical-align: middle;\n",
       "    }\n",
       "\n",
       "    .dataframe tbody tr th {\n",
       "        vertical-align: top;\n",
       "    }\n",
       "\n",
       "    .dataframe thead th {\n",
       "        text-align: right;\n",
       "    }\n",
       "</style>\n",
       "<table border=\"1\" class=\"dataframe\">\n",
       "  <thead>\n",
       "    <tr style=\"text-align: right;\">\n",
       "      <th></th>\n",
       "      <th>name</th>\n",
       "      <th>platform</th>\n",
       "      <th>year_of_release</th>\n",
       "      <th>genre</th>\n",
       "      <th>na_sales</th>\n",
       "      <th>eu_sales</th>\n",
       "      <th>jp_sales</th>\n",
       "      <th>other_sales</th>\n",
       "      <th>critic_score</th>\n",
       "      <th>user_score</th>\n",
       "      <th>rating</th>\n",
       "      <th>all_sales</th>\n",
       "    </tr>\n",
       "  </thead>\n",
       "  <tbody>\n",
       "    <tr>\n",
       "      <td>609</td>\n",
       "      <td>Space Invaders</td>\n",
       "      <td>2600</td>\n",
       "      <td>NaN</td>\n",
       "      <td>Shooter</td>\n",
       "      <td>2.36</td>\n",
       "      <td>0.14</td>\n",
       "      <td>0.00</td>\n",
       "      <td>0.03</td>\n",
       "      <td>NaN</td>\n",
       "      <td>NaN</td>\n",
       "      <td>NaN</td>\n",
       "      <td>2.67</td>\n",
       "    </tr>\n",
       "    <tr>\n",
       "      <td>4264</td>\n",
       "      <td>Space Invaders</td>\n",
       "      <td>SNES</td>\n",
       "      <td>1994.0</td>\n",
       "      <td>Shooter</td>\n",
       "      <td>0.00</td>\n",
       "      <td>0.00</td>\n",
       "      <td>0.46</td>\n",
       "      <td>0.00</td>\n",
       "      <td>NaN</td>\n",
       "      <td>NaN</td>\n",
       "      <td>NaN</td>\n",
       "      <td>0.46</td>\n",
       "    </tr>\n",
       "    <tr>\n",
       "      <td>8580</td>\n",
       "      <td>Space Invaders</td>\n",
       "      <td>N64</td>\n",
       "      <td>1999.0</td>\n",
       "      <td>Shooter</td>\n",
       "      <td>0.13</td>\n",
       "      <td>0.03</td>\n",
       "      <td>0.00</td>\n",
       "      <td>0.00</td>\n",
       "      <td>NaN</td>\n",
       "      <td>NaN</td>\n",
       "      <td>NaN</td>\n",
       "      <td>0.19</td>\n",
       "    </tr>\n",
       "    <tr>\n",
       "      <td>10383</td>\n",
       "      <td>Space Invaders</td>\n",
       "      <td>GBA</td>\n",
       "      <td>2002.0</td>\n",
       "      <td>Shooter</td>\n",
       "      <td>0.08</td>\n",
       "      <td>0.03</td>\n",
       "      <td>0.00</td>\n",
       "      <td>0.00</td>\n",
       "      <td>NaN</td>\n",
       "      <td>NaN</td>\n",
       "      <td>NaN</td>\n",
       "      <td>0.14</td>\n",
       "    </tr>\n",
       "  </tbody>\n",
       "</table>\n",
       "</div>"
      ],
      "text/plain": [
       "                 name platform  year_of_release    genre  na_sales  eu_sales  \\\n",
       "609    Space Invaders     2600              NaN  Shooter      2.36      0.14   \n",
       "4264   Space Invaders     SNES           1994.0  Shooter      0.00      0.00   \n",
       "8580   Space Invaders      N64           1999.0  Shooter      0.13      0.03   \n",
       "10383  Space Invaders      GBA           2002.0  Shooter      0.08      0.03   \n",
       "\n",
       "       jp_sales  other_sales  critic_score user_score rating  all_sales  \n",
       "609        0.00         0.03           NaN        NaN    NaN       2.67  \n",
       "4264       0.46         0.00           NaN        NaN    NaN       0.46  \n",
       "8580       0.00         0.00           NaN        NaN    NaN       0.19  \n",
       "10383      0.00         0.00           NaN        NaN    NaN       0.14  "
      ]
     },
     "execution_count": 19,
     "metadata": {},
     "output_type": "execute_result"
    }
   ],
   "source": [
    "df[df[\"name\"]==\"Space Invaders\"]"
   ]
  },
  {
   "cell_type": "code",
   "execution_count": 20,
   "id": "5568558a",
   "metadata": {},
   "outputs": [
    {
     "data": {
      "text/html": [
       "<div>\n",
       "<style scoped>\n",
       "    .dataframe tbody tr th:only-of-type {\n",
       "        vertical-align: middle;\n",
       "    }\n",
       "\n",
       "    .dataframe tbody tr th {\n",
       "        vertical-align: top;\n",
       "    }\n",
       "\n",
       "    .dataframe thead th {\n",
       "        text-align: right;\n",
       "    }\n",
       "</style>\n",
       "<table border=\"1\" class=\"dataframe\">\n",
       "  <thead>\n",
       "    <tr style=\"text-align: right;\">\n",
       "      <th></th>\n",
       "      <th>name</th>\n",
       "    </tr>\n",
       "  </thead>\n",
       "  <tbody>\n",
       "    <tr>\n",
       "      <td>0</td>\n",
       "      <td>Madden NFL 2004</td>\n",
       "    </tr>\n",
       "    <tr>\n",
       "      <td>1</td>\n",
       "      <td>FIFA Soccer 2004</td>\n",
       "    </tr>\n",
       "    <tr>\n",
       "      <td>2</td>\n",
       "      <td>LEGO Batman: The Videogame</td>\n",
       "    </tr>\n",
       "    <tr>\n",
       "      <td>3</td>\n",
       "      <td>wwe Smackdown vs. Raw 2006</td>\n",
       "    </tr>\n",
       "    <tr>\n",
       "      <td>4</td>\n",
       "      <td>Space Invaders</td>\n",
       "    </tr>\n",
       "    <tr>\n",
       "      <td>...</td>\n",
       "      <td>...</td>\n",
       "    </tr>\n",
       "    <tr>\n",
       "      <td>262</td>\n",
       "      <td>Brothers in Arms: Furious 4</td>\n",
       "    </tr>\n",
       "    <tr>\n",
       "      <td>263</td>\n",
       "      <td>Agarest Senki: Re-appearance</td>\n",
       "    </tr>\n",
       "    <tr>\n",
       "      <td>265</td>\n",
       "      <td>Freaky Flyers</td>\n",
       "    </tr>\n",
       "    <tr>\n",
       "      <td>266</td>\n",
       "      <td>Inversion</td>\n",
       "    </tr>\n",
       "    <tr>\n",
       "      <td>267</td>\n",
       "      <td>Hakuouki: Shinsengumi Kitan</td>\n",
       "    </tr>\n",
       "  </tbody>\n",
       "</table>\n",
       "<p>232 rows × 1 columns</p>\n",
       "</div>"
      ],
      "text/plain": [
       "                             name\n",
       "0                 Madden NFL 2004\n",
       "1                FIFA Soccer 2004\n",
       "2      LEGO Batman: The Videogame\n",
       "3      wwe Smackdown vs. Raw 2006\n",
       "4                  Space Invaders\n",
       "..                            ...\n",
       "262   Brothers in Arms: Furious 4\n",
       "263  Agarest Senki: Re-appearance\n",
       "265                 Freaky Flyers\n",
       "266                     Inversion\n",
       "267   Hakuouki: Shinsengumi Kitan\n",
       "\n",
       "[232 rows x 1 columns]"
      ]
     },
     "execution_count": 20,
     "metadata": {},
     "output_type": "execute_result"
    }
   ],
   "source": [
    "df_missing_year[[\"name\"]].drop_duplicates()"
   ]
  },
  {
   "cell_type": "code",
   "execution_count": 21,
   "id": "0e634a45",
   "metadata": {},
   "outputs": [],
   "source": [
    "map_name_year = {r[\"name\"]:r[\"year_of_release\"] for _, r in (df_missing_year[[\"name\"]]\n",
    " .drop_duplicates()\n",
    " .merge(df[~df[\"year_of_release\"].isna()][[\"name\", \"year_of_release\"]], how=\"inner\").drop_duplicates()).iterrows()}"
   ]
  },
  {
   "cell_type": "code",
   "execution_count": 22,
   "id": "f45fb1d3",
   "metadata": {},
   "outputs": [],
   "source": [
    "df[\"year_of_release\"] = df[\"year_of_release\"].fillna(df[\"name\"].map(map_name_year))"
   ]
  },
  {
   "cell_type": "code",
   "execution_count": 23,
   "id": "dcc217ae",
   "metadata": {},
   "outputs": [
    {
     "data": {
      "text/html": [
       "<div>\n",
       "<style scoped>\n",
       "    .dataframe tbody tr th:only-of-type {\n",
       "        vertical-align: middle;\n",
       "    }\n",
       "\n",
       "    .dataframe tbody tr th {\n",
       "        vertical-align: top;\n",
       "    }\n",
       "\n",
       "    .dataframe thead th {\n",
       "        text-align: right;\n",
       "    }\n",
       "</style>\n",
       "<table border=\"1\" class=\"dataframe\">\n",
       "  <thead>\n",
       "    <tr style=\"text-align: right;\">\n",
       "      <th></th>\n",
       "      <th>name</th>\n",
       "      <th>platform</th>\n",
       "      <th>year_of_release</th>\n",
       "      <th>genre</th>\n",
       "      <th>na_sales</th>\n",
       "      <th>eu_sales</th>\n",
       "      <th>jp_sales</th>\n",
       "      <th>other_sales</th>\n",
       "      <th>critic_score</th>\n",
       "      <th>user_score</th>\n",
       "      <th>rating</th>\n",
       "      <th>all_sales</th>\n",
       "    </tr>\n",
       "  </thead>\n",
       "  <tbody>\n",
       "    <tr>\n",
       "      <td>475</td>\n",
       "      <td>wwe Smackdown vs. Raw 2006</td>\n",
       "      <td>PS2</td>\n",
       "      <td>NaN</td>\n",
       "      <td>Fighting</td>\n",
       "      <td>1.57</td>\n",
       "      <td>1.02</td>\n",
       "      <td>0.00</td>\n",
       "      <td>0.41</td>\n",
       "      <td>NaN</td>\n",
       "      <td>NaN</td>\n",
       "      <td>NaN</td>\n",
       "      <td>4.02</td>\n",
       "    </tr>\n",
       "    <tr>\n",
       "      <td>627</td>\n",
       "      <td>Rock Band</td>\n",
       "      <td>X360</td>\n",
       "      <td>NaN</td>\n",
       "      <td>Misc</td>\n",
       "      <td>1.93</td>\n",
       "      <td>0.33</td>\n",
       "      <td>0.00</td>\n",
       "      <td>0.21</td>\n",
       "      <td>92.0</td>\n",
       "      <td>8.2</td>\n",
       "      <td>T</td>\n",
       "      <td>2.80</td>\n",
       "    </tr>\n",
       "    <tr>\n",
       "      <td>657</td>\n",
       "      <td>Frogger's Adventures: Temple of the Frog</td>\n",
       "      <td>GBA</td>\n",
       "      <td>NaN</td>\n",
       "      <td>Adventure</td>\n",
       "      <td>2.15</td>\n",
       "      <td>0.18</td>\n",
       "      <td>0.00</td>\n",
       "      <td>0.07</td>\n",
       "      <td>73.0</td>\n",
       "      <td>tbd</td>\n",
       "      <td>E</td>\n",
       "      <td>2.58</td>\n",
       "    </tr>\n",
       "    <tr>\n",
       "      <td>805</td>\n",
       "      <td>Rock Band</td>\n",
       "      <td>Wii</td>\n",
       "      <td>NaN</td>\n",
       "      <td>Misc</td>\n",
       "      <td>1.33</td>\n",
       "      <td>0.56</td>\n",
       "      <td>0.00</td>\n",
       "      <td>0.20</td>\n",
       "      <td>80.0</td>\n",
       "      <td>6.3</td>\n",
       "      <td>T</td>\n",
       "      <td>2.65</td>\n",
       "    </tr>\n",
       "    <tr>\n",
       "      <td>1142</td>\n",
       "      <td>Rock Band</td>\n",
       "      <td>PS3</td>\n",
       "      <td>NaN</td>\n",
       "      <td>Misc</td>\n",
       "      <td>0.99</td>\n",
       "      <td>0.41</td>\n",
       "      <td>0.00</td>\n",
       "      <td>0.22</td>\n",
       "      <td>92.0</td>\n",
       "      <td>8.4</td>\n",
       "      <td>T</td>\n",
       "      <td>2.03</td>\n",
       "    </tr>\n",
       "    <tr>\n",
       "      <td>...</td>\n",
       "      <td>...</td>\n",
       "      <td>...</td>\n",
       "      <td>...</td>\n",
       "      <td>...</td>\n",
       "      <td>...</td>\n",
       "      <td>...</td>\n",
       "      <td>...</td>\n",
       "      <td>...</td>\n",
       "      <td>...</td>\n",
       "      <td>...</td>\n",
       "      <td>...</td>\n",
       "      <td>...</td>\n",
       "    </tr>\n",
       "    <tr>\n",
       "      <td>16277</td>\n",
       "      <td>Homeworld Remastered Collection</td>\n",
       "      <td>PC</td>\n",
       "      <td>NaN</td>\n",
       "      <td>Strategy</td>\n",
       "      <td>0.00</td>\n",
       "      <td>0.01</td>\n",
       "      <td>0.00</td>\n",
       "      <td>0.00</td>\n",
       "      <td>86.0</td>\n",
       "      <td>8.2</td>\n",
       "      <td>E10+</td>\n",
       "      <td>0.02</td>\n",
       "    </tr>\n",
       "    <tr>\n",
       "      <td>16288</td>\n",
       "      <td>Shorts</td>\n",
       "      <td>DS</td>\n",
       "      <td>NaN</td>\n",
       "      <td>Platform</td>\n",
       "      <td>0.01</td>\n",
       "      <td>0.00</td>\n",
       "      <td>0.00</td>\n",
       "      <td>0.00</td>\n",
       "      <td>NaN</td>\n",
       "      <td>tbd</td>\n",
       "      <td>E10+</td>\n",
       "      <td>0.01</td>\n",
       "    </tr>\n",
       "    <tr>\n",
       "      <td>16348</td>\n",
       "      <td>Agarest Senki: Re-appearance</td>\n",
       "      <td>PS3</td>\n",
       "      <td>NaN</td>\n",
       "      <td>Role-Playing</td>\n",
       "      <td>0.00</td>\n",
       "      <td>0.00</td>\n",
       "      <td>0.01</td>\n",
       "      <td>0.00</td>\n",
       "      <td>NaN</td>\n",
       "      <td>NaN</td>\n",
       "      <td>NaN</td>\n",
       "      <td>0.01</td>\n",
       "    </tr>\n",
       "    <tr>\n",
       "      <td>16458</td>\n",
       "      <td>Hakuouki: Shinsengumi Kitan</td>\n",
       "      <td>PS3</td>\n",
       "      <td>NaN</td>\n",
       "      <td>Adventure</td>\n",
       "      <td>0.01</td>\n",
       "      <td>0.00</td>\n",
       "      <td>0.00</td>\n",
       "      <td>0.00</td>\n",
       "      <td>NaN</td>\n",
       "      <td>NaN</td>\n",
       "      <td>NaN</td>\n",
       "      <td>0.01</td>\n",
       "    </tr>\n",
       "    <tr>\n",
       "      <td>16522</td>\n",
       "      <td>Virtua Quest</td>\n",
       "      <td>GC</td>\n",
       "      <td>NaN</td>\n",
       "      <td>Role-Playing</td>\n",
       "      <td>0.01</td>\n",
       "      <td>0.00</td>\n",
       "      <td>0.00</td>\n",
       "      <td>0.00</td>\n",
       "      <td>55.0</td>\n",
       "      <td>5.5</td>\n",
       "      <td>T</td>\n",
       "      <td>0.01</td>\n",
       "    </tr>\n",
       "  </tbody>\n",
       "</table>\n",
       "<p>146 rows × 12 columns</p>\n",
       "</div>"
      ],
      "text/plain": [
       "                                           name platform  year_of_release  \\\n",
       "475                  wwe Smackdown vs. Raw 2006      PS2              NaN   \n",
       "627                                   Rock Band     X360              NaN   \n",
       "657    Frogger's Adventures: Temple of the Frog      GBA              NaN   \n",
       "805                                   Rock Band      Wii              NaN   \n",
       "1142                                  Rock Band      PS3              NaN   \n",
       "...                                         ...      ...              ...   \n",
       "16277           Homeworld Remastered Collection       PC              NaN   \n",
       "16288                                    Shorts       DS              NaN   \n",
       "16348              Agarest Senki: Re-appearance      PS3              NaN   \n",
       "16458               Hakuouki: Shinsengumi Kitan      PS3              NaN   \n",
       "16522                              Virtua Quest       GC              NaN   \n",
       "\n",
       "              genre  na_sales  eu_sales  jp_sales  other_sales  critic_score  \\\n",
       "475        Fighting      1.57      1.02      0.00         0.41           NaN   \n",
       "627            Misc      1.93      0.33      0.00         0.21          92.0   \n",
       "657       Adventure      2.15      0.18      0.00         0.07          73.0   \n",
       "805            Misc      1.33      0.56      0.00         0.20          80.0   \n",
       "1142           Misc      0.99      0.41      0.00         0.22          92.0   \n",
       "...             ...       ...       ...       ...          ...           ...   \n",
       "16277      Strategy      0.00      0.01      0.00         0.00          86.0   \n",
       "16288      Platform      0.01      0.00      0.00         0.00           NaN   \n",
       "16348  Role-Playing      0.00      0.00      0.01         0.00           NaN   \n",
       "16458     Adventure      0.01      0.00      0.00         0.00           NaN   \n",
       "16522  Role-Playing      0.01      0.00      0.00         0.00          55.0   \n",
       "\n",
       "      user_score rating  all_sales  \n",
       "475          NaN    NaN       4.02  \n",
       "627          8.2      T       2.80  \n",
       "657          tbd      E       2.58  \n",
       "805          6.3      T       2.65  \n",
       "1142         8.4      T       2.03  \n",
       "...          ...    ...        ...  \n",
       "16277        8.2   E10+       0.02  \n",
       "16288        tbd   E10+       0.01  \n",
       "16348        NaN    NaN       0.01  \n",
       "16458        NaN    NaN       0.01  \n",
       "16522        5.5      T       0.01  \n",
       "\n",
       "[146 rows x 12 columns]"
      ]
     },
     "execution_count": 23,
     "metadata": {},
     "output_type": "execute_result"
    }
   ],
   "source": [
    "df[df[\"year_of_release\"].isna()]"
   ]
  },
  {
   "cell_type": "markdown",
   "id": "0e2df4c3",
   "metadata": {},
   "source": [
    "We filled in only part of the missing values in the *year_of_release* column, by the *name* column. The rest of the missing values in the *year_of_release* column will be filled by the minimum."
   ]
  },
  {
   "cell_type": "code",
   "execution_count": 24,
   "id": "880fc70c",
   "metadata": {},
   "outputs": [
    {
     "data": {
      "text/html": [
       "<div>\n",
       "<style scoped>\n",
       "    .dataframe tbody tr th:only-of-type {\n",
       "        vertical-align: middle;\n",
       "    }\n",
       "\n",
       "    .dataframe tbody tr th {\n",
       "        vertical-align: top;\n",
       "    }\n",
       "\n",
       "    .dataframe thead th {\n",
       "        text-align: right;\n",
       "    }\n",
       "</style>\n",
       "<table border=\"1\" class=\"dataframe\">\n",
       "  <thead>\n",
       "    <tr style=\"text-align: right;\">\n",
       "      <th></th>\n",
       "      <th>name</th>\n",
       "      <th>platform</th>\n",
       "      <th>year_of_release</th>\n",
       "      <th>genre</th>\n",
       "      <th>na_sales</th>\n",
       "      <th>eu_sales</th>\n",
       "      <th>jp_sales</th>\n",
       "      <th>other_sales</th>\n",
       "      <th>critic_score</th>\n",
       "      <th>user_score</th>\n",
       "      <th>rating</th>\n",
       "      <th>all_sales</th>\n",
       "    </tr>\n",
       "  </thead>\n",
       "  <tbody>\n",
       "    <tr>\n",
       "      <td>262</td>\n",
       "      <td>Asteroids</td>\n",
       "      <td>2600</td>\n",
       "      <td>1980.0</td>\n",
       "      <td>Shooter</td>\n",
       "      <td>4.00</td>\n",
       "      <td>0.26</td>\n",
       "      <td>0.0</td>\n",
       "      <td>0.05</td>\n",
       "      <td>NaN</td>\n",
       "      <td>NaN</td>\n",
       "      <td>NaN</td>\n",
       "      <td>4.57</td>\n",
       "    </tr>\n",
       "    <tr>\n",
       "      <td>546</td>\n",
       "      <td>Missile Command</td>\n",
       "      <td>2600</td>\n",
       "      <td>1980.0</td>\n",
       "      <td>Shooter</td>\n",
       "      <td>2.56</td>\n",
       "      <td>0.17</td>\n",
       "      <td>0.0</td>\n",
       "      <td>0.03</td>\n",
       "      <td>NaN</td>\n",
       "      <td>NaN</td>\n",
       "      <td>NaN</td>\n",
       "      <td>2.93</td>\n",
       "    </tr>\n",
       "    <tr>\n",
       "      <td>1764</td>\n",
       "      <td>Kaboom!</td>\n",
       "      <td>2600</td>\n",
       "      <td>1980.0</td>\n",
       "      <td>Misc</td>\n",
       "      <td>1.07</td>\n",
       "      <td>0.07</td>\n",
       "      <td>0.0</td>\n",
       "      <td>0.01</td>\n",
       "      <td>NaN</td>\n",
       "      <td>NaN</td>\n",
       "      <td>NaN</td>\n",
       "      <td>1.22</td>\n",
       "    </tr>\n",
       "    <tr>\n",
       "      <td>1968</td>\n",
       "      <td>Defender</td>\n",
       "      <td>2600</td>\n",
       "      <td>1980.0</td>\n",
       "      <td>Misc</td>\n",
       "      <td>0.99</td>\n",
       "      <td>0.05</td>\n",
       "      <td>0.0</td>\n",
       "      <td>0.01</td>\n",
       "      <td>NaN</td>\n",
       "      <td>NaN</td>\n",
       "      <td>NaN</td>\n",
       "      <td>1.10</td>\n",
       "    </tr>\n",
       "    <tr>\n",
       "      <td>2650</td>\n",
       "      <td>Boxing</td>\n",
       "      <td>2600</td>\n",
       "      <td>1980.0</td>\n",
       "      <td>Fighting</td>\n",
       "      <td>0.72</td>\n",
       "      <td>0.04</td>\n",
       "      <td>0.0</td>\n",
       "      <td>0.01</td>\n",
       "      <td>NaN</td>\n",
       "      <td>NaN</td>\n",
       "      <td>NaN</td>\n",
       "      <td>0.81</td>\n",
       "    </tr>\n",
       "    <tr>\n",
       "      <td>4019</td>\n",
       "      <td>Ice Hockey</td>\n",
       "      <td>2600</td>\n",
       "      <td>1980.0</td>\n",
       "      <td>Sports</td>\n",
       "      <td>0.46</td>\n",
       "      <td>0.03</td>\n",
       "      <td>0.0</td>\n",
       "      <td>0.01</td>\n",
       "      <td>NaN</td>\n",
       "      <td>NaN</td>\n",
       "      <td>NaN</td>\n",
       "      <td>0.53</td>\n",
       "    </tr>\n",
       "    <tr>\n",
       "      <td>5360</td>\n",
       "      <td>Freeway</td>\n",
       "      <td>2600</td>\n",
       "      <td>1980.0</td>\n",
       "      <td>Action</td>\n",
       "      <td>0.32</td>\n",
       "      <td>0.02</td>\n",
       "      <td>0.0</td>\n",
       "      <td>0.00</td>\n",
       "      <td>NaN</td>\n",
       "      <td>NaN</td>\n",
       "      <td>NaN</td>\n",
       "      <td>0.36</td>\n",
       "    </tr>\n",
       "    <tr>\n",
       "      <td>6300</td>\n",
       "      <td>Bridge</td>\n",
       "      <td>2600</td>\n",
       "      <td>1980.0</td>\n",
       "      <td>Misc</td>\n",
       "      <td>0.25</td>\n",
       "      <td>0.02</td>\n",
       "      <td>0.0</td>\n",
       "      <td>0.00</td>\n",
       "      <td>NaN</td>\n",
       "      <td>NaN</td>\n",
       "      <td>NaN</td>\n",
       "      <td>0.29</td>\n",
       "    </tr>\n",
       "    <tr>\n",
       "      <td>6875</td>\n",
       "      <td>Checkers</td>\n",
       "      <td>2600</td>\n",
       "      <td>1980.0</td>\n",
       "      <td>Misc</td>\n",
       "      <td>0.22</td>\n",
       "      <td>0.01</td>\n",
       "      <td>0.0</td>\n",
       "      <td>0.00</td>\n",
       "      <td>NaN</td>\n",
       "      <td>NaN</td>\n",
       "      <td>NaN</td>\n",
       "      <td>0.24</td>\n",
       "    </tr>\n",
       "  </tbody>\n",
       "</table>\n",
       "</div>"
      ],
      "text/plain": [
       "                 name platform  year_of_release     genre  na_sales  eu_sales  \\\n",
       "262         Asteroids     2600           1980.0   Shooter      4.00      0.26   \n",
       "546   Missile Command     2600           1980.0   Shooter      2.56      0.17   \n",
       "1764          Kaboom!     2600           1980.0      Misc      1.07      0.07   \n",
       "1968         Defender     2600           1980.0      Misc      0.99      0.05   \n",
       "2650           Boxing     2600           1980.0  Fighting      0.72      0.04   \n",
       "4019       Ice Hockey     2600           1980.0    Sports      0.46      0.03   \n",
       "5360          Freeway     2600           1980.0    Action      0.32      0.02   \n",
       "6300           Bridge     2600           1980.0      Misc      0.25      0.02   \n",
       "6875         Checkers     2600           1980.0      Misc      0.22      0.01   \n",
       "\n",
       "      jp_sales  other_sales  critic_score user_score rating  all_sales  \n",
       "262        0.0         0.05           NaN        NaN    NaN       4.57  \n",
       "546        0.0         0.03           NaN        NaN    NaN       2.93  \n",
       "1764       0.0         0.01           NaN        NaN    NaN       1.22  \n",
       "1968       0.0         0.01           NaN        NaN    NaN       1.10  \n",
       "2650       0.0         0.01           NaN        NaN    NaN       0.81  \n",
       "4019       0.0         0.01           NaN        NaN    NaN       0.53  \n",
       "5360       0.0         0.00           NaN        NaN    NaN       0.36  \n",
       "6300       0.0         0.00           NaN        NaN    NaN       0.29  \n",
       "6875       0.0         0.00           NaN        NaN    NaN       0.24  "
      ]
     },
     "execution_count": 24,
     "metadata": {},
     "output_type": "execute_result"
    }
   ],
   "source": [
    "df[df[\"year_of_release\"]==df[\"year_of_release\"].min()]"
   ]
  },
  {
   "cell_type": "markdown",
   "id": "8dbc6e38",
   "metadata": {},
   "source": [
    "I assume it's also missing values. There are also missing values in the *critic_score*, *user_score*, and *rating* columns. As we can see, the sales columns have low values of sales. We are going to drop this column."
   ]
  },
  {
   "cell_type": "code",
   "execution_count": 25,
   "id": "2024e1d1",
   "metadata": {},
   "outputs": [],
   "source": [
    "df = df.drop(df[df[\"year_of_release\"]==df[\"year_of_release\"].min()].index)"
   ]
  },
  {
   "cell_type": "code",
   "execution_count": 26,
   "id": "3e62fc6f",
   "metadata": {},
   "outputs": [],
   "source": [
    "df[\"year_of_release\"] = df[\"year_of_release\"].fillna(df[\"year_of_release\"].min()).astype(int)"
   ]
  },
  {
   "cell_type": "code",
   "execution_count": 27,
   "id": "4fc87bbb",
   "metadata": {},
   "outputs": [
    {
     "data": {
      "image/png": "[encoded data removed]",
      "text/plain": [
       "<Figure size 432x288 with 1 Axes>"
      ]
     },
     "metadata": {
      "needs_background": "light"
     },
     "output_type": "display_data"
    }
   ],
   "source": [
    "sns.distplot(df[\"year_of_release\"])\n",
    "plt.title('Year_of_release');"
   ]
  },
  {
   "cell_type": "markdown",
   "id": "c73833c7",
   "metadata": {},
   "source": [
    "We have a positive skewness shown in the graph above. According to the business model, data that is before 2000, has uncertainty impact on current (2016) picture. Also there are a lot of missing values around these years and it's logically correct."
   ]
  },
  {
   "cell_type": "code",
   "execution_count": 28,
   "id": "4297efa0",
   "metadata": {},
   "outputs": [
    {
     "data": {
      "text/html": [
       "<div>\n",
       "<style scoped>\n",
       "    .dataframe tbody tr th:only-of-type {\n",
       "        vertical-align: middle;\n",
       "    }\n",
       "\n",
       "    .dataframe tbody tr th {\n",
       "        vertical-align: top;\n",
       "    }\n",
       "\n",
       "    .dataframe thead th {\n",
       "        text-align: right;\n",
       "    }\n",
       "</style>\n",
       "<table border=\"1\" class=\"dataframe\">\n",
       "  <thead>\n",
       "    <tr style=\"text-align: right;\">\n",
       "      <th></th>\n",
       "      <th>name</th>\n",
       "      <th>platform</th>\n",
       "      <th>year_of_release</th>\n",
       "      <th>genre</th>\n",
       "      <th>na_sales</th>\n",
       "      <th>eu_sales</th>\n",
       "      <th>jp_sales</th>\n",
       "      <th>other_sales</th>\n",
       "      <th>critic_score</th>\n",
       "      <th>user_score</th>\n",
       "      <th>rating</th>\n",
       "      <th>all_sales</th>\n",
       "    </tr>\n",
       "  </thead>\n",
       "  <tbody>\n",
       "    <tr>\n",
       "      <td>89</td>\n",
       "      <td>Pac-Man</td>\n",
       "      <td>2600</td>\n",
       "      <td>1982</td>\n",
       "      <td>Puzzle</td>\n",
       "      <td>7.28</td>\n",
       "      <td>0.45</td>\n",
       "      <td>0.00</td>\n",
       "      <td>0.08</td>\n",
       "      <td>NaN</td>\n",
       "      <td>NaN</td>\n",
       "      <td>NaN</td>\n",
       "      <td>8.26</td>\n",
       "    </tr>\n",
       "    <tr>\n",
       "      <td>98</td>\n",
       "      <td>Super Mario Bros. 2</td>\n",
       "      <td>NES</td>\n",
       "      <td>1988</td>\n",
       "      <td>Platform</td>\n",
       "      <td>5.39</td>\n",
       "      <td>1.18</td>\n",
       "      <td>0.70</td>\n",
       "      <td>0.19</td>\n",
       "      <td>NaN</td>\n",
       "      <td>NaN</td>\n",
       "      <td>NaN</td>\n",
       "      <td>8.64</td>\n",
       "    </tr>\n",
       "    <tr>\n",
       "      <td>124</td>\n",
       "      <td>The Legend of Zelda</td>\n",
       "      <td>NES</td>\n",
       "      <td>1986</td>\n",
       "      <td>Action</td>\n",
       "      <td>3.74</td>\n",
       "      <td>0.93</td>\n",
       "      <td>1.69</td>\n",
       "      <td>0.14</td>\n",
       "      <td>NaN</td>\n",
       "      <td>NaN</td>\n",
       "      <td>NaN</td>\n",
       "      <td>7.43</td>\n",
       "    </tr>\n",
       "    <tr>\n",
       "      <td>137</td>\n",
       "      <td>Street Fighter II: The World Warrior</td>\n",
       "      <td>SNES</td>\n",
       "      <td>1992</td>\n",
       "      <td>Fighting</td>\n",
       "      <td>2.47</td>\n",
       "      <td>0.83</td>\n",
       "      <td>2.87</td>\n",
       "      <td>0.12</td>\n",
       "      <td>NaN</td>\n",
       "      <td>NaN</td>\n",
       "      <td>NaN</td>\n",
       "      <td>7.12</td>\n",
       "    </tr>\n",
       "    <tr>\n",
       "      <td>145</td>\n",
       "      <td>Sonic the Hedgehog 2</td>\n",
       "      <td>GEN</td>\n",
       "      <td>1992</td>\n",
       "      <td>Platform</td>\n",
       "      <td>4.47</td>\n",
       "      <td>1.20</td>\n",
       "      <td>0.16</td>\n",
       "      <td>0.19</td>\n",
       "      <td>NaN</td>\n",
       "      <td>NaN</td>\n",
       "      <td>NaN</td>\n",
       "      <td>7.22</td>\n",
       "    </tr>\n",
       "    <tr>\n",
       "      <td>...</td>\n",
       "      <td>...</td>\n",
       "      <td>...</td>\n",
       "      <td>...</td>\n",
       "      <td>...</td>\n",
       "      <td>...</td>\n",
       "      <td>...</td>\n",
       "      <td>...</td>\n",
       "      <td>...</td>\n",
       "      <td>...</td>\n",
       "      <td>...</td>\n",
       "      <td>...</td>\n",
       "      <td>...</td>\n",
       "    </tr>\n",
       "    <tr>\n",
       "      <td>16277</td>\n",
       "      <td>Homeworld Remastered Collection</td>\n",
       "      <td>PC</td>\n",
       "      <td>1981</td>\n",
       "      <td>Strategy</td>\n",
       "      <td>0.00</td>\n",
       "      <td>0.01</td>\n",
       "      <td>0.00</td>\n",
       "      <td>0.00</td>\n",
       "      <td>86.0</td>\n",
       "      <td>8.2</td>\n",
       "      <td>E10+</td>\n",
       "      <td>0.02</td>\n",
       "    </tr>\n",
       "    <tr>\n",
       "      <td>16288</td>\n",
       "      <td>Shorts</td>\n",
       "      <td>DS</td>\n",
       "      <td>1981</td>\n",
       "      <td>Platform</td>\n",
       "      <td>0.01</td>\n",
       "      <td>0.00</td>\n",
       "      <td>0.00</td>\n",
       "      <td>0.00</td>\n",
       "      <td>NaN</td>\n",
       "      <td>tbd</td>\n",
       "      <td>E10+</td>\n",
       "      <td>0.01</td>\n",
       "    </tr>\n",
       "    <tr>\n",
       "      <td>16348</td>\n",
       "      <td>Agarest Senki: Re-appearance</td>\n",
       "      <td>PS3</td>\n",
       "      <td>1981</td>\n",
       "      <td>Role-Playing</td>\n",
       "      <td>0.00</td>\n",
       "      <td>0.00</td>\n",
       "      <td>0.01</td>\n",
       "      <td>0.00</td>\n",
       "      <td>NaN</td>\n",
       "      <td>NaN</td>\n",
       "      <td>NaN</td>\n",
       "      <td>0.01</td>\n",
       "    </tr>\n",
       "    <tr>\n",
       "      <td>16458</td>\n",
       "      <td>Hakuouki: Shinsengumi Kitan</td>\n",
       "      <td>PS3</td>\n",
       "      <td>1981</td>\n",
       "      <td>Adventure</td>\n",
       "      <td>0.01</td>\n",
       "      <td>0.00</td>\n",
       "      <td>0.00</td>\n",
       "      <td>0.00</td>\n",
       "      <td>NaN</td>\n",
       "      <td>NaN</td>\n",
       "      <td>NaN</td>\n",
       "      <td>0.01</td>\n",
       "    </tr>\n",
       "    <tr>\n",
       "      <td>16522</td>\n",
       "      <td>Virtua Quest</td>\n",
       "      <td>GC</td>\n",
       "      <td>1981</td>\n",
       "      <td>Role-Playing</td>\n",
       "      <td>0.01</td>\n",
       "      <td>0.00</td>\n",
       "      <td>0.00</td>\n",
       "      <td>0.00</td>\n",
       "      <td>55.0</td>\n",
       "      <td>5.5</td>\n",
       "      <td>T</td>\n",
       "      <td>0.01</td>\n",
       "    </tr>\n",
       "  </tbody>\n",
       "</table>\n",
       "<p>615 rows × 12 columns</p>\n",
       "</div>"
      ],
      "text/plain": [
       "                                       name platform  year_of_release  \\\n",
       "89                                  Pac-Man     2600             1982   \n",
       "98                      Super Mario Bros. 2      NES             1988   \n",
       "124                     The Legend of Zelda      NES             1986   \n",
       "137    Street Fighter II: The World Warrior     SNES             1992   \n",
       "145                    Sonic the Hedgehog 2      GEN             1992   \n",
       "...                                     ...      ...              ...   \n",
       "16277       Homeworld Remastered Collection       PC             1981   \n",
       "16288                                Shorts       DS             1981   \n",
       "16348          Agarest Senki: Re-appearance      PS3             1981   \n",
       "16458           Hakuouki: Shinsengumi Kitan      PS3             1981   \n",
       "16522                          Virtua Quest       GC             1981   \n",
       "\n",
       "              genre  na_sales  eu_sales  jp_sales  other_sales  critic_score  \\\n",
       "89           Puzzle      7.28      0.45      0.00         0.08           NaN   \n",
       "98         Platform      5.39      1.18      0.70         0.19           NaN   \n",
       "124          Action      3.74      0.93      1.69         0.14           NaN   \n",
       "137        Fighting      2.47      0.83      2.87         0.12           NaN   \n",
       "145        Platform      4.47      1.20      0.16         0.19           NaN   \n",
       "...             ...       ...       ...       ...          ...           ...   \n",
       "16277      Strategy      0.00      0.01      0.00         0.00          86.0   \n",
       "16288      Platform      0.01      0.00      0.00         0.00           NaN   \n",
       "16348  Role-Playing      0.00      0.00      0.01         0.00           NaN   \n",
       "16458     Adventure      0.01      0.00      0.00         0.00           NaN   \n",
       "16522  Role-Playing      0.01      0.00      0.00         0.00          55.0   \n",
       "\n",
       "      user_score rating  all_sales  \n",
       "89           NaN    NaN       8.26  \n",
       "98           NaN    NaN       8.64  \n",
       "124          NaN    NaN       7.43  \n",
       "137          NaN    NaN       7.12  \n",
       "145          NaN    NaN       7.22  \n",
       "...          ...    ...        ...  \n",
       "16277        8.2   E10+       0.02  \n",
       "16288        tbd   E10+       0.01  \n",
       "16348        NaN    NaN       0.01  \n",
       "16458        NaN    NaN       0.01  \n",
       "16522        5.5      T       0.01  \n",
       "\n",
       "[615 rows x 12 columns]"
      ]
     },
     "execution_count": 28,
     "metadata": {},
     "output_type": "execute_result"
    }
   ],
   "source": [
    "df[(df[\"year_of_release\"]<1995) & (df[\"all_sales\"]<10)]"
   ]
  },
  {
   "cell_type": "code",
   "execution_count": 29,
   "id": "c615a81f",
   "metadata": {},
   "outputs": [
    {
     "data": {
      "text/html": [
       "<div>\n",
       "<style scoped>\n",
       "    .dataframe tbody tr th:only-of-type {\n",
       "        vertical-align: middle;\n",
       "    }\n",
       "\n",
       "    .dataframe tbody tr th {\n",
       "        vertical-align: top;\n",
       "    }\n",
       "\n",
       "    .dataframe thead th {\n",
       "        text-align: right;\n",
       "    }\n",
       "</style>\n",
       "<table border=\"1\" class=\"dataframe\">\n",
       "  <thead>\n",
       "    <tr style=\"text-align: right;\">\n",
       "      <th></th>\n",
       "      <th>name</th>\n",
       "      <th>platform</th>\n",
       "      <th>year_of_release</th>\n",
       "      <th>genre</th>\n",
       "      <th>na_sales</th>\n",
       "      <th>eu_sales</th>\n",
       "      <th>jp_sales</th>\n",
       "      <th>other_sales</th>\n",
       "      <th>critic_score</th>\n",
       "      <th>user_score</th>\n",
       "      <th>rating</th>\n",
       "      <th>all_sales</th>\n",
       "    </tr>\n",
       "  </thead>\n",
       "  <tbody>\n",
       "    <tr>\n",
       "      <td>659</td>\n",
       "      <td>NaN</td>\n",
       "      <td>GEN</td>\n",
       "      <td>1993</td>\n",
       "      <td>NaN</td>\n",
       "      <td>1.78</td>\n",
       "      <td>0.53</td>\n",
       "      <td>0.00</td>\n",
       "      <td>0.08</td>\n",
       "      <td>NaN</td>\n",
       "      <td>NaN</td>\n",
       "      <td>NaN</td>\n",
       "      <td>2.92</td>\n",
       "    </tr>\n",
       "    <tr>\n",
       "      <td>14244</td>\n",
       "      <td>NaN</td>\n",
       "      <td>GEN</td>\n",
       "      <td>1993</td>\n",
       "      <td>NaN</td>\n",
       "      <td>0.00</td>\n",
       "      <td>0.00</td>\n",
       "      <td>0.03</td>\n",
       "      <td>0.00</td>\n",
       "      <td>NaN</td>\n",
       "      <td>NaN</td>\n",
       "      <td>NaN</td>\n",
       "      <td>0.03</td>\n",
       "    </tr>\n",
       "  </tbody>\n",
       "</table>\n",
       "</div>"
      ],
      "text/plain": [
       "      name platform  year_of_release genre  na_sales  eu_sales  jp_sales  \\\n",
       "659    NaN      GEN             1993   NaN      1.78      0.53      0.00   \n",
       "14244  NaN      GEN             1993   NaN      0.00      0.00      0.03   \n",
       "\n",
       "       other_sales  critic_score user_score rating  all_sales  \n",
       "659           0.08           NaN        NaN    NaN       2.92  \n",
       "14244         0.00           NaN        NaN    NaN       0.03  "
      ]
     },
     "execution_count": 29,
     "metadata": {},
     "output_type": "execute_result"
    }
   ],
   "source": [
    "df[df[\"genre\"].isna()]"
   ]
  },
  {
   "cell_type": "markdown",
   "id": "63bff95d",
   "metadata": {},
   "source": [
    "The rows with the missing *genre* values are old, don't have a name in the *name* column, and a lot of missing values in other columns. We could not use these rows to compute any valuable data."
   ]
  },
  {
   "cell_type": "code",
   "execution_count": 30,
   "id": "9bb78c5a",
   "metadata": {},
   "outputs": [],
   "source": [
    "df = df.drop(df[df[\"genre\"].isna()].index)"
   ]
  },
  {
   "cell_type": "code",
   "execution_count": 31,
   "id": "75350c4a",
   "metadata": {},
   "outputs": [
    {
     "data": {
      "text/plain": [
       "name                  0\n",
       "platform              0\n",
       "year_of_release       0\n",
       "genre                 0\n",
       "na_sales              0\n",
       "eu_sales              0\n",
       "jp_sales              0\n",
       "other_sales           0\n",
       "critic_score       8567\n",
       "user_score         6690\n",
       "rating             6755\n",
       "all_sales             0\n",
       "dtype: int64"
      ]
     },
     "execution_count": 31,
     "metadata": {},
     "output_type": "execute_result"
    }
   ],
   "source": [
    "df.isna().sum()"
   ]
  },
  {
   "cell_type": "code",
   "execution_count": 32,
   "id": "8f440ae3",
   "metadata": {},
   "outputs": [],
   "source": [
    "df.loc[df[\"year_of_release\"].isna(), \"year_of_release\"] = df[\"year_of_release\"].min()"
   ]
  },
  {
   "cell_type": "code",
   "execution_count": 33,
   "id": "e2f4118c",
   "metadata": {},
   "outputs": [
    {
     "data": {
      "image/png": "[encoded data removed]",
      "text/plain": [
       "<Figure size 432x288 with 1 Axes>"
      ]
     },
     "metadata": {
      "needs_background": "light"
     },
     "output_type": "display_data"
    }
   ],
   "source": [
    "sns.distplot(df[\"all_sales\"])\n",
    "plt.title('All_Sales');"
   ]
  },
  {
   "cell_type": "code",
   "execution_count": 34,
   "id": "7d0106a1",
   "metadata": {},
   "outputs": [
    {
     "data": {
      "text/html": [
       "<div>\n",
       "<style scoped>\n",
       "    .dataframe tbody tr th:only-of-type {\n",
       "        vertical-align: middle;\n",
       "    }\n",
       "\n",
       "    .dataframe tbody tr th {\n",
       "        vertical-align: top;\n",
       "    }\n",
       "\n",
       "    .dataframe thead th {\n",
       "        text-align: right;\n",
       "    }\n",
       "</style>\n",
       "<table border=\"1\" class=\"dataframe\">\n",
       "  <thead>\n",
       "    <tr style=\"text-align: right;\">\n",
       "      <th></th>\n",
       "      <th>name</th>\n",
       "      <th>platform</th>\n",
       "      <th>year_of_release</th>\n",
       "      <th>genre</th>\n",
       "      <th>na_sales</th>\n",
       "      <th>eu_sales</th>\n",
       "      <th>jp_sales</th>\n",
       "      <th>other_sales</th>\n",
       "      <th>critic_score</th>\n",
       "      <th>user_score</th>\n",
       "      <th>rating</th>\n",
       "      <th>all_sales</th>\n",
       "    </tr>\n",
       "  </thead>\n",
       "  <tbody>\n",
       "    <tr>\n",
       "      <td>1</td>\n",
       "      <td>Super Mario Bros.</td>\n",
       "      <td>NES</td>\n",
       "      <td>1985</td>\n",
       "      <td>Platform</td>\n",
       "      <td>29.08</td>\n",
       "      <td>3.58</td>\n",
       "      <td>6.81</td>\n",
       "      <td>0.77</td>\n",
       "      <td>NaN</td>\n",
       "      <td>NaN</td>\n",
       "      <td>NaN</td>\n",
       "      <td>43.82</td>\n",
       "    </tr>\n",
       "    <tr>\n",
       "      <td>4</td>\n",
       "      <td>Pokemon Red/Pokemon Blue</td>\n",
       "      <td>GB</td>\n",
       "      <td>1996</td>\n",
       "      <td>Role-Playing</td>\n",
       "      <td>11.27</td>\n",
       "      <td>8.89</td>\n",
       "      <td>10.22</td>\n",
       "      <td>1.00</td>\n",
       "      <td>NaN</td>\n",
       "      <td>NaN</td>\n",
       "      <td>NaN</td>\n",
       "      <td>40.27</td>\n",
       "    </tr>\n",
       "    <tr>\n",
       "      <td>5</td>\n",
       "      <td>Tetris</td>\n",
       "      <td>GB</td>\n",
       "      <td>1989</td>\n",
       "      <td>Puzzle</td>\n",
       "      <td>23.20</td>\n",
       "      <td>2.26</td>\n",
       "      <td>4.22</td>\n",
       "      <td>0.58</td>\n",
       "      <td>NaN</td>\n",
       "      <td>NaN</td>\n",
       "      <td>NaN</td>\n",
       "      <td>32.52</td>\n",
       "    </tr>\n",
       "    <tr>\n",
       "      <td>9</td>\n",
       "      <td>Duck Hunt</td>\n",
       "      <td>NES</td>\n",
       "      <td>1984</td>\n",
       "      <td>Shooter</td>\n",
       "      <td>26.93</td>\n",
       "      <td>0.63</td>\n",
       "      <td>0.28</td>\n",
       "      <td>0.47</td>\n",
       "      <td>NaN</td>\n",
       "      <td>NaN</td>\n",
       "      <td>NaN</td>\n",
       "      <td>28.94</td>\n",
       "    </tr>\n",
       "    <tr>\n",
       "      <td>10</td>\n",
       "      <td>Nintendogs</td>\n",
       "      <td>DS</td>\n",
       "      <td>2005</td>\n",
       "      <td>Simulation</td>\n",
       "      <td>9.05</td>\n",
       "      <td>10.95</td>\n",
       "      <td>1.93</td>\n",
       "      <td>2.74</td>\n",
       "      <td>NaN</td>\n",
       "      <td>NaN</td>\n",
       "      <td>NaN</td>\n",
       "      <td>35.62</td>\n",
       "    </tr>\n",
       "    <tr>\n",
       "      <td>...</td>\n",
       "      <td>...</td>\n",
       "      <td>...</td>\n",
       "      <td>...</td>\n",
       "      <td>...</td>\n",
       "      <td>...</td>\n",
       "      <td>...</td>\n",
       "      <td>...</td>\n",
       "      <td>...</td>\n",
       "      <td>...</td>\n",
       "      <td>...</td>\n",
       "      <td>...</td>\n",
       "      <td>...</td>\n",
       "    </tr>\n",
       "    <tr>\n",
       "      <td>16710</td>\n",
       "      <td>Samurai Warriors: Sanada Maru</td>\n",
       "      <td>PS3</td>\n",
       "      <td>2016</td>\n",
       "      <td>Action</td>\n",
       "      <td>0.00</td>\n",
       "      <td>0.00</td>\n",
       "      <td>0.01</td>\n",
       "      <td>0.00</td>\n",
       "      <td>NaN</td>\n",
       "      <td>NaN</td>\n",
       "      <td>NaN</td>\n",
       "      <td>0.01</td>\n",
       "    </tr>\n",
       "    <tr>\n",
       "      <td>16711</td>\n",
       "      <td>LMA Manager 2007</td>\n",
       "      <td>X360</td>\n",
       "      <td>2006</td>\n",
       "      <td>Sports</td>\n",
       "      <td>0.00</td>\n",
       "      <td>0.01</td>\n",
       "      <td>0.00</td>\n",
       "      <td>0.00</td>\n",
       "      <td>NaN</td>\n",
       "      <td>NaN</td>\n",
       "      <td>NaN</td>\n",
       "      <td>0.02</td>\n",
       "    </tr>\n",
       "    <tr>\n",
       "      <td>16712</td>\n",
       "      <td>Haitaka no Psychedelica</td>\n",
       "      <td>PSV</td>\n",
       "      <td>2016</td>\n",
       "      <td>Adventure</td>\n",
       "      <td>0.00</td>\n",
       "      <td>0.00</td>\n",
       "      <td>0.01</td>\n",
       "      <td>0.00</td>\n",
       "      <td>NaN</td>\n",
       "      <td>NaN</td>\n",
       "      <td>NaN</td>\n",
       "      <td>0.01</td>\n",
       "    </tr>\n",
       "    <tr>\n",
       "      <td>16713</td>\n",
       "      <td>Spirits &amp; Spells</td>\n",
       "      <td>GBA</td>\n",
       "      <td>2003</td>\n",
       "      <td>Platform</td>\n",
       "      <td>0.01</td>\n",
       "      <td>0.00</td>\n",
       "      <td>0.00</td>\n",
       "      <td>0.00</td>\n",
       "      <td>NaN</td>\n",
       "      <td>NaN</td>\n",
       "      <td>NaN</td>\n",
       "      <td>0.01</td>\n",
       "    </tr>\n",
       "    <tr>\n",
       "      <td>16714</td>\n",
       "      <td>Winning Post 8 2016</td>\n",
       "      <td>PSV</td>\n",
       "      <td>2016</td>\n",
       "      <td>Simulation</td>\n",
       "      <td>0.00</td>\n",
       "      <td>0.00</td>\n",
       "      <td>0.01</td>\n",
       "      <td>0.00</td>\n",
       "      <td>NaN</td>\n",
       "      <td>NaN</td>\n",
       "      <td>NaN</td>\n",
       "      <td>0.01</td>\n",
       "    </tr>\n",
       "  </tbody>\n",
       "</table>\n",
       "<p>8567 rows × 12 columns</p>\n",
       "</div>"
      ],
      "text/plain": [
       "                                name platform  year_of_release         genre  \\\n",
       "1                  Super Mario Bros.      NES             1985      Platform   \n",
       "4           Pokemon Red/Pokemon Blue       GB             1996  Role-Playing   \n",
       "5                             Tetris       GB             1989        Puzzle   \n",
       "9                          Duck Hunt      NES             1984       Shooter   \n",
       "10                        Nintendogs       DS             2005    Simulation   \n",
       "...                              ...      ...              ...           ...   \n",
       "16710  Samurai Warriors: Sanada Maru      PS3             2016        Action   \n",
       "16711               LMA Manager 2007     X360             2006        Sports   \n",
       "16712        Haitaka no Psychedelica      PSV             2016     Adventure   \n",
       "16713               Spirits & Spells      GBA             2003      Platform   \n",
       "16714            Winning Post 8 2016      PSV             2016    Simulation   \n",
       "\n",
       "       na_sales  eu_sales  jp_sales  other_sales  critic_score user_score  \\\n",
       "1         29.08      3.58      6.81         0.77           NaN        NaN   \n",
       "4         11.27      8.89     10.22         1.00           NaN        NaN   \n",
       "5         23.20      2.26      4.22         0.58           NaN        NaN   \n",
       "9         26.93      0.63      0.28         0.47           NaN        NaN   \n",
       "10         9.05     10.95      1.93         2.74           NaN        NaN   \n",
       "...         ...       ...       ...          ...           ...        ...   \n",
       "16710      0.00      0.00      0.01         0.00           NaN        NaN   \n",
       "16711      0.00      0.01      0.00         0.00           NaN        NaN   \n",
       "16712      0.00      0.00      0.01         0.00           NaN        NaN   \n",
       "16713      0.01      0.00      0.00         0.00           NaN        NaN   \n",
       "16714      0.00      0.00      0.01         0.00           NaN        NaN   \n",
       "\n",
       "      rating  all_sales  \n",
       "1        NaN      43.82  \n",
       "4        NaN      40.27  \n",
       "5        NaN      32.52  \n",
       "9        NaN      28.94  \n",
       "10       NaN      35.62  \n",
       "...      ...        ...  \n",
       "16710    NaN       0.01  \n",
       "16711    NaN       0.02  \n",
       "16712    NaN       0.01  \n",
       "16713    NaN       0.01  \n",
       "16714    NaN       0.01  \n",
       "\n",
       "[8567 rows x 12 columns]"
      ]
     },
     "execution_count": 34,
     "metadata": {},
     "output_type": "execute_result"
    }
   ],
   "source": [
    "df[df[\"critic_score\"].isna()]"
   ]
  },
  {
   "cell_type": "code",
   "execution_count": 35,
   "id": "b176517a",
   "metadata": {},
   "outputs": [
    {
     "data": {
      "text/html": [
       "<div>\n",
       "<style scoped>\n",
       "    .dataframe tbody tr th:only-of-type {\n",
       "        vertical-align: middle;\n",
       "    }\n",
       "\n",
       "    .dataframe tbody tr th {\n",
       "        vertical-align: top;\n",
       "    }\n",
       "\n",
       "    .dataframe thead th {\n",
       "        text-align: right;\n",
       "    }\n",
       "</style>\n",
       "<table border=\"1\" class=\"dataframe\">\n",
       "  <thead>\n",
       "    <tr style=\"text-align: right;\">\n",
       "      <th></th>\n",
       "      <th>year_of_release</th>\n",
       "      <th>na_sales</th>\n",
       "      <th>eu_sales</th>\n",
       "      <th>jp_sales</th>\n",
       "      <th>other_sales</th>\n",
       "      <th>critic_score</th>\n",
       "      <th>all_sales</th>\n",
       "    </tr>\n",
       "  </thead>\n",
       "  <tbody>\n",
       "    <tr>\n",
       "      <td>corr_with_target</td>\n",
       "      <td>0.019518</td>\n",
       "      <td>0.240755</td>\n",
       "      <td>0.220752</td>\n",
       "      <td>0.152593</td>\n",
       "      <td>0.198554</td>\n",
       "      <td>NaN</td>\n",
       "      <td>0.241945</td>\n",
       "    </tr>\n",
       "  </tbody>\n",
       "</table>\n",
       "</div>"
      ],
      "text/plain": [
       "                  year_of_release  na_sales  eu_sales  jp_sales  other_sales  \\\n",
       "corr_with_target         0.019518  0.240755  0.220752  0.152593     0.198554   \n",
       "\n",
       "                  critic_score  all_sales  \n",
       "corr_with_target           NaN   0.241945  "
      ]
     },
     "execution_count": 35,
     "metadata": {},
     "output_type": "execute_result"
    }
   ],
   "source": [
    "describe_full(df, \"critic_score\")[[\"corr_with_target\"]].T"
   ]
  },
  {
   "cell_type": "code",
   "execution_count": 36,
   "id": "cb66b907",
   "metadata": {},
   "outputs": [
    {
     "data": {
      "text/plain": [
       "array(['8', nan, '8.3', '8.5', '6.6', '8.4', '8.6', '7.7', '6.3', '7.4',\n",
       "       '8.2', '9', '7.9', '8.1', '8.7', '7.1', '3.4', '5.3', '4.8', '3.2',\n",
       "       '8.9', '6.4', '7.8', '7.5', '2.6', '7.2', '9.2', '7', '7.3', '4.3',\n",
       "       '7.6', '5.7', '5', '9.1', '6.5', 'tbd', '8.8', '6.9', '9.4', '6.8',\n",
       "       '6.1', '6.7', '5.4', '4', '4.9', '4.5', '9.3', '6.2', '4.2', '6',\n",
       "       '3.7', '4.1', '5.8', '5.6', '5.5', '4.4', '4.6', '5.9', '3.9',\n",
       "       '3.1', '2.9', '5.2', '3.3', '4.7', '5.1', '3.5', '2.5', '1.9', '3',\n",
       "       '2.7', '2.2', '2', '9.5', '2.1', '3.6', '2.8', '1.8', '3.8', '0',\n",
       "       '1.6', '9.6', '2.4', '1.7', '1.1', '0.3', '1.5', '0.7', '1.2',\n",
       "       '2.3', '0.5', '1.3', '0.2', '0.6', '1.4', '0.9', '1', '9.7'],\n",
       "      dtype=object)"
      ]
     },
     "execution_count": 36,
     "metadata": {},
     "output_type": "execute_result"
    }
   ],
   "source": [
    "df[\"user_score\"].unique()"
   ]
  },
  {
   "cell_type": "code",
   "execution_count": 37,
   "id": "fe0635c1",
   "metadata": {},
   "outputs": [
    {
     "data": {
      "text/plain": [
       "array(['E', nan, 'M', 'T', 'E10+', 'K-A', 'AO', 'EC', 'RP'], dtype=object)"
      ]
     },
     "execution_count": 37,
     "metadata": {},
     "output_type": "execute_result"
    }
   ],
   "source": [
    "df[\"rating\"].unique()"
   ]
  },
  {
   "cell_type": "code",
   "execution_count": 38,
   "id": "2d6cd449",
   "metadata": {},
   "outputs": [],
   "source": [
    "df[\"year_of_release\"] = df[\"year_of_release\"].astype(int)"
   ]
  },
  {
   "cell_type": "markdown",
   "id": "c42c04de",
   "metadata": {},
   "source": [
    "As we see we have \"to be determined\" value in the user_score column. It's similar to nan in our case and for our model we could replace it by with a blank value."
   ]
  },
  {
   "cell_type": "code",
   "execution_count": 39,
   "id": "155b655d",
   "metadata": {},
   "outputs": [],
   "source": [
    "for col in df.columns:\n",
    "    df['user_score'] = pd.to_numeric(df['user_score'], errors='coerce')"
   ]
  },
  {
   "cell_type": "code",
   "execution_count": 40,
   "id": "2eeeda2f",
   "metadata": {},
   "outputs": [
    {
     "data": {
      "text/plain": [
       "array([8. , nan, 8.3, 8.5, 6.6, 8.4, 8.6, 7.7, 6.3, 7.4, 8.2, 9. , 7.9,\n",
       "       8.1, 8.7, 7.1, 3.4, 5.3, 4.8, 3.2, 8.9, 6.4, 7.8, 7.5, 2.6, 7.2,\n",
       "       9.2, 7. , 7.3, 4.3, 7.6, 5.7, 5. , 9.1, 6.5, 8.8, 6.9, 9.4, 6.8,\n",
       "       6.1, 6.7, 5.4, 4. , 4.9, 4.5, 9.3, 6.2, 4.2, 6. , 3.7, 4.1, 5.8,\n",
       "       5.6, 5.5, 4.4, 4.6, 5.9, 3.9, 3.1, 2.9, 5.2, 3.3, 4.7, 5.1, 3.5,\n",
       "       2.5, 1.9, 3. , 2.7, 2.2, 2. , 9.5, 2.1, 3.6, 2.8, 1.8, 3.8, 0. ,\n",
       "       1.6, 9.6, 2.4, 1.7, 1.1, 0.3, 1.5, 0.7, 1.2, 2.3, 0.5, 1.3, 0.2,\n",
       "       0.6, 1.4, 0.9, 1. , 9.7])"
      ]
     },
     "execution_count": 40,
     "metadata": {},
     "output_type": "execute_result"
    }
   ],
   "source": [
    "df[\"user_score\"].unique()"
   ]
  },
  {
   "cell_type": "code",
   "execution_count": 41,
   "id": "0a8a0783",
   "metadata": {},
   "outputs": [],
   "source": [
    "df[\"genre\"] = df[\"genre\"].str.lower()\n",
    "# df[\"genre\"] = df[\"genre\"].astype(\"category\")"
   ]
  },
  {
   "cell_type": "markdown",
   "id": "3e835f77",
   "metadata": {},
   "source": [
    "We do not know the rating of a missied row, let's create another category for that. also because there are a lot of rows like that\n",
    "\n",
    "- EC - Early childhood\n",
    "- E - Everyone\n",
    "- E10+ - Everyone 10 and older\n",
    "- T - Teen\n",
    "- M - Mature\n",
    "- AO - Adults Only 18+\n",
    "- RP - Rating Pending"
   ]
  },
  {
   "cell_type": "code",
   "execution_count": 42,
   "id": "c97947fe",
   "metadata": {},
   "outputs": [],
   "source": [
    "df.loc[df[\"rating\"].isna(), \"rating\"] = \"NA\""
   ]
  },
  {
   "cell_type": "code",
   "execution_count": 43,
   "id": "81d995eb",
   "metadata": {},
   "outputs": [
    {
     "data": {
      "text/plain": [
       "0"
      ]
     },
     "execution_count": 43,
     "metadata": {},
     "output_type": "execute_result"
    }
   ],
   "source": [
    "df.duplicated().sum()"
   ]
  },
  {
   "cell_type": "markdown",
   "id": "d35eeb80",
   "metadata": {},
   "source": [
    "### Summary\n",
    "- We found missing values. Missing values by years were restored by name of games partially and some of them were filled by min value\n",
    "- Missing values of users and critics were replaced by negative value, we couldn't delete them and we couldn't fill them by some value logically\n",
    "- Also types of year, user_score, critic_score were converted to numerical types, and genre was converted as category"
   ]
  },
  {
   "cell_type": "markdown",
   "id": "82232d2e",
   "metadata": {},
   "source": [
    "## Step 3. Analyze the data\n",
    "- Look at how many games were released in different years. Is the data for every period significant?\n",
    "- Look at how sales varied from platform to platform. Choose the platforms with the greatest total sales and build a distribution based on data for each year. Find platforms that used to be popular but now have zero sales. How long does it generally take for new platforms to appear and old ones to fade?\n",
    "- Determine what period you should take data for. To do so, look at your answers to the previous questions. The data should allow you to build a prognosis for 2017.\n",
    "- Work only with the data that you've decided is relevant. Disregard the data for previous years.\n",
    "- Which platforms are leading in sales? Which ones are growing or shrinking? Select several potentially profitable platforms.\n",
    "- Build a box plot for the global sales of all games, broken down by platform. Are the differences in sales significant? What about average sales on various platforms? Describe your findings.\n",
    "- Take a look at how user and professional reviews affect sales for one popular platform (you choose). Build a scatter plot and calculate the correlation between reviews and sales. Draw conclusions.\n",
    "- Keeping your conclusions in mind, compare the sales of the same games on other platforms.\n",
    "- Take a look at the general distribution of games by genre. What can we say about the most profitable genres? Can you generalize about genres with high and low sales?"
   ]
  },
  {
   "cell_type": "code",
   "execution_count": 44,
   "id": "a75589f9",
   "metadata": {},
   "outputs": [
    {
     "data": {
      "image/png": "[encoded data removed]",
      "text/plain": [
       "<Figure size 432x216 with 1 Axes>"
      ]
     },
     "metadata": {
      "needs_background": "light"
     },
     "output_type": "display_data"
    }
   ],
   "source": [
    "with plt.style.context('bmh'): \n",
    "    ((df[['name', 'year_of_release']]\n",
    "        .drop_duplicates()\n",
    "        .pivot_table(index='year_of_release', values='name', aggfunc='count')\n",
    "        .sort_values('year_of_release', ascending=False))\n",
    "        .plot(figsize=(6, 3), colormap='jet', legend=False, title='Total games by year')\n",
    "        .set(xlabel='year', ylabel='count'))"
   ]
  },
  {
   "cell_type": "markdown",
   "id": "812ea7df",
   "metadata": {},
   "source": [
    "As we predicted before, and already saw, data before 1995-2000 is not that interesting to us, those are old games. Also it's incorrect from an economic view, due to inflation the value of money was changed. We can also see how trends have changed over time. Probably after 2008-2010 people play more online games which I believe, are not represented in the dataset."
   ]
  },
  {
   "cell_type": "code",
   "execution_count": 45,
   "id": "95f9b7b0",
   "metadata": {},
   "outputs": [
    {
     "data": {
      "image/png": "[encoded data removed]",
      "text/plain": [
       "<Figure size 864x576 with 1 Axes>"
      ]
     },
     "metadata": {
      "needs_background": "light"
     },
     "output_type": "display_data"
    }
   ],
   "source": [
    "((df.pivot_table(index='platform', values='all_sales', aggfunc='sum')\n",
    "         .sort_values('all_sales', ascending=False))\n",
    "   .plot(kind='bar', y='all_sales', figsize=(12, 8), legend=False)\n",
    "            .set(xlabel='platform', ylabel='sum of sales'))\n",
    "plt.title('Sum of Sales per Platform');"
   ]
  },
  {
   "cell_type": "code",
   "execution_count": 46,
   "id": "0a2cf45a",
   "metadata": {},
   "outputs": [],
   "source": [
    "def display_group_density_plot(df, groupby, on, palette, figsize):\n",
    "    \"\"\"\n",
    "    Displays a density plot by group, given a continuous variable, and a group to split the data by\n",
    "    :param df: DataFrame to display data from\n",
    "    :param groupby: Column name by which plots would be grouped (Categorical, maximum 10 categories)\n",
    "    :param on: Column name of the different density plots\n",
    "    :param palette: Color palette to use for drawing\n",
    "    :param figsize: Figure size\n",
    "    :return: matplotlib.axes._subplots.AxesSubplot object\n",
    "    \"\"\"\n",
    "\n",
    "    if not isinstance(df, pd.core.frame.DataFrame):\n",
    "        raise ValueError('df must be a pandas DataFrame')\n",
    "\n",
    "    if not groupby:\n",
    "        raise ValueError('groupby parameter must be provided')\n",
    "\n",
    "    elif not groupby in df.keys():\n",
    "        raise ValueError(groupby + ' column does not exist in the given DataFrame')\n",
    "\n",
    "    if not on:\n",
    "        raise ValueError('on parameter must be provided')\n",
    "\n",
    "    elif not on in df.keys():\n",
    "        raise ValueError(on + ' column does not exist in the given DataFrame')\n",
    "\n",
    "    if len(set(df[groupby])) > 10:\n",
    "        groups = df[groupby].value_counts().index[:10]\n",
    "\n",
    "    else:\n",
    "        groups = set(df[groupby])\n",
    "\n",
    "    # Get relevant palette\n",
    "    if palette:\n",
    "        palette = palette[:len(groups)]\n",
    "    else:\n",
    "        palette = sns.color_palette()[:len(groups)]\n",
    "\n",
    "    # Plot\n",
    "    fig = plt.figure(figsize=figsize)\n",
    "    ax = fig.add_subplot(111)\n",
    "    ax.legend(bbox_to_anchor=(1.04, 1), loc='upper left')\n",
    "\n",
    "    for value, color in zip(groups, palette):\n",
    "        sns.kdeplot(df.loc[df[groupby] == value][on], \\\n",
    "                    shade=True, color=color, label=value)\n",
    "\n",
    "    ax.set_title(str(\"Distribution of \" + on + \" per \" + groupby + \" group\"),\\\n",
    "                 fontsize=30)\n",
    "    \n",
    "    ax.set_xlabel(on, fontsize=20)\n",
    "    return ax"
   ]
  },
  {
   "cell_type": "markdown",
   "id": "a499b6bc",
   "metadata": {},
   "source": [
    "Now, we are going to find the platform with the highest sales and plot the density for them."
   ]
  },
  {
   "cell_type": "code",
   "execution_count": 47,
   "id": "06b862f6",
   "metadata": {},
   "outputs": [
    {
     "data": {
      "text/html": [
       "<div>\n",
       "<style scoped>\n",
       "    .dataframe tbody tr th:only-of-type {\n",
       "        vertical-align: middle;\n",
       "    }\n",
       "\n",
       "    .dataframe tbody tr th {\n",
       "        vertical-align: top;\n",
       "    }\n",
       "\n",
       "    .dataframe thead th {\n",
       "        text-align: right;\n",
       "    }\n",
       "</style>\n",
       "<table border=\"1\" class=\"dataframe\">\n",
       "  <thead>\n",
       "    <tr style=\"text-align: right;\">\n",
       "      <th></th>\n",
       "      <th>all_sales</th>\n",
       "    </tr>\n",
       "    <tr>\n",
       "      <th>platform</th>\n",
       "      <th></th>\n",
       "    </tr>\n",
       "  </thead>\n",
       "  <tbody>\n",
       "    <tr>\n",
       "      <td>PS2</td>\n",
       "      <td>1595.06</td>\n",
       "    </tr>\n",
       "    <tr>\n",
       "      <td>PS3</td>\n",
       "      <td>1269.94</td>\n",
       "    </tr>\n",
       "    <tr>\n",
       "      <td>X360</td>\n",
       "      <td>1242.18</td>\n",
       "    </tr>\n",
       "    <tr>\n",
       "      <td>Wii</td>\n",
       "      <td>1169.72</td>\n",
       "    </tr>\n",
       "    <tr>\n",
       "      <td>DS</td>\n",
       "      <td>995.01</td>\n",
       "    </tr>\n",
       "    <tr>\n",
       "      <td>PS</td>\n",
       "      <td>944.47</td>\n",
       "    </tr>\n",
       "    <tr>\n",
       "      <td>PS4</td>\n",
       "      <td>455.23</td>\n",
       "    </tr>\n",
       "    <tr>\n",
       "      <td>PC</td>\n",
       "      <td>401.96</td>\n",
       "    </tr>\n",
       "    <tr>\n",
       "      <td>GBA</td>\n",
       "      <td>393.10</td>\n",
       "    </tr>\n",
       "    <tr>\n",
       "      <td>PSP</td>\n",
       "      <td>360.73</td>\n",
       "    </tr>\n",
       "  </tbody>\n",
       "</table>\n",
       "</div>"
      ],
      "text/plain": [
       "          all_sales\n",
       "platform           \n",
       "PS2         1595.06\n",
       "PS3         1269.94\n",
       "X360        1242.18\n",
       "Wii         1169.72\n",
       "DS           995.01\n",
       "PS           944.47\n",
       "PS4          455.23\n",
       "PC           401.96\n",
       "GBA          393.10\n",
       "PSP          360.73"
      ]
     },
     "execution_count": 47,
     "metadata": {},
     "output_type": "execute_result"
    }
   ],
   "source": [
    "top10_platforms = (df\n",
    " .pivot_table(index='platform', values='all_sales', aggfunc='sum')\n",
    " .sort_values('all_sales', ascending=False)).head(10)\n",
    "top10_platforms"
   ]
  },
  {
   "cell_type": "code",
   "execution_count": 48,
   "id": "0727ab77",
   "metadata": {},
   "outputs": [
    {
     "data": {
      "image/png": "[encoded data removed]",
      "text/plain": [
       "<Figure size 720x360 with 1 Axes>"
      ]
     },
     "metadata": {
      "needs_background": "light"
     },
     "output_type": "display_data"
    }
   ],
   "source": [
    "display_group_density_plot(df[df[\"platform\"].isin(top10_platforms.index)], groupby = \"platform\", on = 'year_of_release', \\\n",
    "                                           palette = sns.color_palette('Set2'), \n",
    "                           figsize = (10, 5))\n",
    "plt.show();"
   ]
  },
  {
   "cell_type": "markdown",
   "id": "baa5b973",
   "metadata": {},
   "source": [
    "As we see some of platforms were popular in different time periods, and none of top 10 platforms with the highest sales were not popular before 1995."
   ]
  },
  {
   "cell_type": "code",
   "execution_count": 49,
   "id": "3d447959",
   "metadata": {},
   "outputs": [],
   "source": [
    "df = df[(df['year_of_release'] > 1995) & (df['year_of_release'] <= 2016)]"
   ]
  },
  {
   "cell_type": "code",
   "execution_count": 50,
   "id": "1966c7c5",
   "metadata": {},
   "outputs": [],
   "source": [
    "all_sales_per_platform =df.pivot_table(index='platform', values='all_sales', aggfunc='sum').sort_values('all_sales', ascending=False)"
   ]
  },
  {
   "cell_type": "code",
   "execution_count": 51,
   "id": "995f4178",
   "metadata": {},
   "outputs": [],
   "source": [
    "platforms = list(all_sales_per_platform.index)"
   ]
  },
  {
   "cell_type": "markdown",
   "id": "0cd2a80e",
   "metadata": {},
   "source": [
    "Now, we are going to plot sales for different platforms."
   ]
  },
  {
   "cell_type": "code",
   "execution_count": 52,
   "id": "035d0f76",
   "metadata": {},
   "outputs": [
    {
     "data": {
      "image/png": "[encoded data removed]",
      "text/plain": [
       "<Figure size 1296x1296 with 24 Axes>"
      ]
     },
     "metadata": {
      "needs_background": "light"
     },
     "output_type": "display_data"
    }
   ],
   "source": [
    "fig, axs = plt.subplots(6, len(platforms) // 6)\n",
    "axs = axs.flatten()\n",
    "\n",
    "num = 0\n",
    "for platform, ax in zip(platforms, axs):\n",
    "     ((df[df[\"platform\"]==platform]\n",
    "            .pivot_table(index='year_of_release', values='all_sales', aggfunc='sum')\n",
    "            .sort_values('year_of_release', ascending=False))['all_sales']\n",
    "                .plot(ax=ax, figsize=(18, 18), title=platform)\n",
    "                .set(xlabel='year_of_release', ylabel='all sales'))\n",
    "   \n",
    "    \n",
    "plt.tight_layout()\n",
    "plt.show()"
   ]
  },
  {
   "cell_type": "markdown",
   "id": "76c580b1",
   "metadata": {},
   "source": [
    "According to the above plots, our assumption that sales have decreased over the years is cooroborated. Some of the plots like WS are non-existant today. It is interesting how much more popular PS4 is compared to other platforms."
   ]
  },
  {
   "cell_type": "code",
   "execution_count": 53,
   "id": "c6fbe68d",
   "metadata": {},
   "outputs": [
    {
     "data": {
      "text/plain": [
       "['PS2', 'PS3', 'X360', 'Wii', 'DS', 'PS', 'PS4', 'PC', 'GBA', 'PSP']"
      ]
     },
     "execution_count": 53,
     "metadata": {},
     "output_type": "execute_result"
    }
   ],
   "source": [
    "list(top10_platforms.index)"
   ]
  },
  {
   "cell_type": "code",
   "execution_count": 54,
   "id": "17b4540e",
   "metadata": {},
   "outputs": [
    {
     "data": {
      "image/png": "[encoded data removed]",
      "text/plain": [
       "<Figure size 1080x1080 with 24 Axes>"
      ]
     },
     "metadata": {
      "needs_background": "light"
     },
     "output_type": "display_data"
    }
   ],
   "source": [
    "fig, axs = plt.subplots(6, len(platforms) // 6, figsize=(15,15), sharey=True)\n",
    "axs = axs.flatten()\n",
    "\n",
    "num = 0\n",
    "for platform, ax in zip(platforms, axs):\n",
    "    pivot = ((df[df[\"platform\"]==platform]\n",
    "            .pivot_table(index='year_of_release', values='all_sales', aggfunc='sum')\n",
    "            .sort_values('year_of_release', ascending=False)))\n",
    "    (pivot.boxplot(\"all_sales\", ax=ax)\n",
    "                .set(xlabel=f\"{platform}\\nmean:{pivot['all_sales'].mean():.2f}\"))\n",
    "   \n",
    "\n",
    "plt.tight_layout()\n",
    "plt.show();"
   ]
  },
  {
   "cell_type": "markdown",
   "id": "70c48a3f",
   "metadata": {},
   "source": [
    "Based off of the boxplot above, we notice that the Xbox(XOne and etc), PS systems, and Wii are the most valuable. Some old platforms like DC, NG, and WS have slightly visible sales compares to other platforms.\n",
    "\n",
    "Now we are going to check how *user_score* and *critic_score* impact sales for the Xbox series platform. "
   ]
  },
  {
   "cell_type": "code",
   "execution_count": 55,
   "id": "323e5642",
   "metadata": {},
   "outputs": [],
   "source": [
    "xbox = df[df[\"platform\"].isin([\"X360\", \"XOne\", \"XB\"])].dropna()"
   ]
  },
  {
   "cell_type": "code",
   "execution_count": 56,
   "id": "239264c1",
   "metadata": {},
   "outputs": [
    {
     "data": {
      "image/png": "[encoded data removed]",
      "text/plain": [
       "<Figure size 432x288 with 1 Axes>"
      ]
     },
     "metadata": {
      "needs_background": "light"
     },
     "output_type": "display_data"
    }
   ],
   "source": [
    "xbox.plot(x='user_score', y='all_sales', kind='scatter', title='Xbox series platform', color='green')\n",
    "plt.show();"
   ]
  },
  {
   "cell_type": "code",
   "execution_count": 57,
   "id": "b34958d7",
   "metadata": {},
   "outputs": [
    {
     "data": {
      "text/html": [
       "<style  type=\"text/css\" >\n",
       "    #T_a473d33a_248b_11ec_8277_02420a392616row0_col0 {\n",
       "            background-color:  #008000;\n",
       "            color:  #f1f1f1;\n",
       "        }    #T_a473d33a_248b_11ec_8277_02420a392616row0_col1 {\n",
       "            background-color:  #8fcf8f;\n",
       "            color:  #000000;\n",
       "        }    #T_a473d33a_248b_11ec_8277_02420a392616row0_col2 {\n",
       "            background-color:  #e5ffe5;\n",
       "            color:  #000000;\n",
       "        }    #T_a473d33a_248b_11ec_8277_02420a392616row1_col0 {\n",
       "            background-color:  #63b763;\n",
       "            color:  #000000;\n",
       "        }    #T_a473d33a_248b_11ec_8277_02420a392616row1_col1 {\n",
       "            background-color:  #008000;\n",
       "            color:  #f1f1f1;\n",
       "        }    #T_a473d33a_248b_11ec_8277_02420a392616row1_col2 {\n",
       "            background-color:  #9fd89f;\n",
       "            color:  #000000;\n",
       "        }    #T_a473d33a_248b_11ec_8277_02420a392616row2_col0 {\n",
       "            background-color:  #e5ffe5;\n",
       "            color:  #000000;\n",
       "        }    #T_a473d33a_248b_11ec_8277_02420a392616row2_col1 {\n",
       "            background-color:  #e5ffe5;\n",
       "            color:  #000000;\n",
       "        }    #T_a473d33a_248b_11ec_8277_02420a392616row2_col2 {\n",
       "            background-color:  #008000;\n",
       "            color:  #f1f1f1;\n",
       "        }</style><table id=\"T_a473d33a_248b_11ec_8277_02420a392616\" ><thead>    <tr>        <th class=\"blank level0\" ></th>        <th class=\"col_heading level0 col0\" >user_score</th>        <th class=\"col_heading level0 col1\" >critic_score</th>        <th class=\"col_heading level0 col2\" >all_sales</th>    </tr></thead><tbody>\n",
       "                <tr>\n",
       "                        <th id=\"T_a473d33a_248b_11ec_8277_02420a392616level0_row0\" class=\"row_heading level0 row0\" >user_score</th>\n",
       "                        <td id=\"T_a473d33a_248b_11ec_8277_02420a392616row0_col0\" class=\"data row0 col0\" >1</td>\n",
       "                        <td id=\"T_a473d33a_248b_11ec_8277_02420a392616row0_col1\" class=\"data row0 col1\" >0.585825</td>\n",
       "                        <td id=\"T_a473d33a_248b_11ec_8277_02420a392616row0_col2\" class=\"data row0 col2\" >0.0418773</td>\n",
       "            </tr>\n",
       "            <tr>\n",
       "                        <th id=\"T_a473d33a_248b_11ec_8277_02420a392616level0_row1\" class=\"row_heading level0 row1\" >critic_score</th>\n",
       "                        <td id=\"T_a473d33a_248b_11ec_8277_02420a392616row1_col0\" class=\"data row1 col0\" >0.585825</td>\n",
       "                        <td id=\"T_a473d33a_248b_11ec_8277_02420a392616row1_col1\" class=\"data row1 col1\" >1</td>\n",
       "                        <td id=\"T_a473d33a_248b_11ec_8277_02420a392616row1_col2\" class=\"data row1 col2\" >0.336658</td>\n",
       "            </tr>\n",
       "            <tr>\n",
       "                        <th id=\"T_a473d33a_248b_11ec_8277_02420a392616level0_row2\" class=\"row_heading level0 row2\" >all_sales</th>\n",
       "                        <td id=\"T_a473d33a_248b_11ec_8277_02420a392616row2_col0\" class=\"data row2 col0\" >0.0418773</td>\n",
       "                        <td id=\"T_a473d33a_248b_11ec_8277_02420a392616row2_col1\" class=\"data row2 col1\" >0.336658</td>\n",
       "                        <td id=\"T_a473d33a_248b_11ec_8277_02420a392616row2_col2\" class=\"data row2 col2\" >1</td>\n",
       "            </tr>\n",
       "    </tbody></table>"
      ],
      "text/plain": [
       "<pandas.io.formats.style.Styler at 0x7fc69289da90>"
      ]
     },
     "execution_count": 57,
     "metadata": {},
     "output_type": "execute_result"
    }
   ],
   "source": [
    "xbox[['user_score', 'critic_score', 'all_sales']].corr().style.background_gradient(cmap=sns.light_palette(\"green\", as_cmap=True))"
   ]
  },
  {
   "cell_type": "markdown",
   "id": "10c10c4e",
   "metadata": {},
   "source": [
    "There appears to be correlation between *critic_score* and *user_score*."
   ]
  },
  {
   "cell_type": "code",
   "execution_count": 58,
   "id": "992d7307",
   "metadata": {},
   "outputs": [
    {
     "data": {
      "text/html": [
       "<div>\n",
       "<style scoped>\n",
       "    .dataframe tbody tr th:only-of-type {\n",
       "        vertical-align: middle;\n",
       "    }\n",
       "\n",
       "    .dataframe tbody tr th {\n",
       "        vertical-align: top;\n",
       "    }\n",
       "\n",
       "    .dataframe thead th {\n",
       "        text-align: right;\n",
       "    }\n",
       "</style>\n",
       "<table border=\"1\" class=\"dataframe\">\n",
       "  <thead>\n",
       "    <tr style=\"text-align: right;\">\n",
       "      <th></th>\n",
       "      <th>name</th>\n",
       "      <th>platform</th>\n",
       "      <th>year_of_release</th>\n",
       "      <th>genre</th>\n",
       "      <th>na_sales</th>\n",
       "      <th>eu_sales</th>\n",
       "      <th>jp_sales</th>\n",
       "      <th>other_sales</th>\n",
       "      <th>critic_score</th>\n",
       "      <th>user_score</th>\n",
       "      <th>rating</th>\n",
       "      <th>all_sales</th>\n",
       "    </tr>\n",
       "  </thead>\n",
       "  <tbody>\n",
       "    <tr>\n",
       "      <td>0</td>\n",
       "      <td>Wii Sports</td>\n",
       "      <td>Wii</td>\n",
       "      <td>2006</td>\n",
       "      <td>sports</td>\n",
       "      <td>41.36</td>\n",
       "      <td>28.96</td>\n",
       "      <td>3.77</td>\n",
       "      <td>8.45</td>\n",
       "      <td>76.0</td>\n",
       "      <td>8.0</td>\n",
       "      <td>E</td>\n",
       "      <td>111.50</td>\n",
       "    </tr>\n",
       "    <tr>\n",
       "      <td>2</td>\n",
       "      <td>Mario Kart Wii</td>\n",
       "      <td>Wii</td>\n",
       "      <td>2008</td>\n",
       "      <td>racing</td>\n",
       "      <td>15.68</td>\n",
       "      <td>12.76</td>\n",
       "      <td>3.79</td>\n",
       "      <td>3.29</td>\n",
       "      <td>82.0</td>\n",
       "      <td>8.3</td>\n",
       "      <td>E</td>\n",
       "      <td>48.28</td>\n",
       "    </tr>\n",
       "    <tr>\n",
       "      <td>3</td>\n",
       "      <td>Wii Sports Resort</td>\n",
       "      <td>Wii</td>\n",
       "      <td>2009</td>\n",
       "      <td>sports</td>\n",
       "      <td>15.61</td>\n",
       "      <td>10.93</td>\n",
       "      <td>3.28</td>\n",
       "      <td>2.95</td>\n",
       "      <td>80.0</td>\n",
       "      <td>8.0</td>\n",
       "      <td>E</td>\n",
       "      <td>43.70</td>\n",
       "    </tr>\n",
       "    <tr>\n",
       "      <td>6</td>\n",
       "      <td>New Super Mario Bros.</td>\n",
       "      <td>DS</td>\n",
       "      <td>2006</td>\n",
       "      <td>platform</td>\n",
       "      <td>11.28</td>\n",
       "      <td>9.14</td>\n",
       "      <td>6.50</td>\n",
       "      <td>2.88</td>\n",
       "      <td>89.0</td>\n",
       "      <td>8.5</td>\n",
       "      <td>E</td>\n",
       "      <td>38.94</td>\n",
       "    </tr>\n",
       "    <tr>\n",
       "      <td>7</td>\n",
       "      <td>Wii Play</td>\n",
       "      <td>Wii</td>\n",
       "      <td>2006</td>\n",
       "      <td>misc</td>\n",
       "      <td>13.96</td>\n",
       "      <td>9.18</td>\n",
       "      <td>2.93</td>\n",
       "      <td>2.84</td>\n",
       "      <td>58.0</td>\n",
       "      <td>6.6</td>\n",
       "      <td>E</td>\n",
       "      <td>38.09</td>\n",
       "    </tr>\n",
       "    <tr>\n",
       "      <td>...</td>\n",
       "      <td>...</td>\n",
       "      <td>...</td>\n",
       "      <td>...</td>\n",
       "      <td>...</td>\n",
       "      <td>...</td>\n",
       "      <td>...</td>\n",
       "      <td>...</td>\n",
       "      <td>...</td>\n",
       "      <td>...</td>\n",
       "      <td>...</td>\n",
       "      <td>...</td>\n",
       "      <td>...</td>\n",
       "    </tr>\n",
       "    <tr>\n",
       "      <td>16708</td>\n",
       "      <td>Woody Woodpecker in Crazy Castle 5</td>\n",
       "      <td>GBA</td>\n",
       "      <td>2002</td>\n",
       "      <td>platform</td>\n",
       "      <td>0.01</td>\n",
       "      <td>0.00</td>\n",
       "      <td>0.00</td>\n",
       "      <td>0.00</td>\n",
       "      <td>NaN</td>\n",
       "      <td>NaN</td>\n",
       "      <td>NA</td>\n",
       "      <td>0.01</td>\n",
       "    </tr>\n",
       "    <tr>\n",
       "      <td>16709</td>\n",
       "      <td>SCORE International Baja 1000: The Official Game</td>\n",
       "      <td>PS2</td>\n",
       "      <td>2008</td>\n",
       "      <td>racing</td>\n",
       "      <td>0.00</td>\n",
       "      <td>0.00</td>\n",
       "      <td>0.00</td>\n",
       "      <td>0.00</td>\n",
       "      <td>NaN</td>\n",
       "      <td>NaN</td>\n",
       "      <td>NA</td>\n",
       "      <td>0.00</td>\n",
       "    </tr>\n",
       "    <tr>\n",
       "      <td>16710</td>\n",
       "      <td>Samurai Warriors: Sanada Maru</td>\n",
       "      <td>PS3</td>\n",
       "      <td>2016</td>\n",
       "      <td>action</td>\n",
       "      <td>0.00</td>\n",
       "      <td>0.00</td>\n",
       "      <td>0.01</td>\n",
       "      <td>0.00</td>\n",
       "      <td>NaN</td>\n",
       "      <td>NaN</td>\n",
       "      <td>NA</td>\n",
       "      <td>0.01</td>\n",
       "    </tr>\n",
       "    <tr>\n",
       "      <td>16711</td>\n",
       "      <td>LMA Manager 2007</td>\n",
       "      <td>X360</td>\n",
       "      <td>2006</td>\n",
       "      <td>sports</td>\n",
       "      <td>0.00</td>\n",
       "      <td>0.01</td>\n",
       "      <td>0.00</td>\n",
       "      <td>0.00</td>\n",
       "      <td>NaN</td>\n",
       "      <td>NaN</td>\n",
       "      <td>NA</td>\n",
       "      <td>0.02</td>\n",
       "    </tr>\n",
       "    <tr>\n",
       "      <td>16713</td>\n",
       "      <td>Spirits &amp; Spells</td>\n",
       "      <td>GBA</td>\n",
       "      <td>2003</td>\n",
       "      <td>platform</td>\n",
       "      <td>0.01</td>\n",
       "      <td>0.00</td>\n",
       "      <td>0.00</td>\n",
       "      <td>0.00</td>\n",
       "      <td>NaN</td>\n",
       "      <td>NaN</td>\n",
       "      <td>NA</td>\n",
       "      <td>0.01</td>\n",
       "    </tr>\n",
       "  </tbody>\n",
       "</table>\n",
       "<p>12576 rows × 12 columns</p>\n",
       "</div>"
      ],
      "text/plain": [
       "                                                   name platform  \\\n",
       "0                                            Wii Sports      Wii   \n",
       "2                                        Mario Kart Wii      Wii   \n",
       "3                                     Wii Sports Resort      Wii   \n",
       "6                                 New Super Mario Bros.       DS   \n",
       "7                                              Wii Play      Wii   \n",
       "...                                                 ...      ...   \n",
       "16708                Woody Woodpecker in Crazy Castle 5      GBA   \n",
       "16709  SCORE International Baja 1000: The Official Game      PS2   \n",
       "16710                     Samurai Warriors: Sanada Maru      PS3   \n",
       "16711                                  LMA Manager 2007     X360   \n",
       "16713                                  Spirits & Spells      GBA   \n",
       "\n",
       "       year_of_release     genre  na_sales  eu_sales  jp_sales  other_sales  \\\n",
       "0                 2006    sports     41.36     28.96      3.77         8.45   \n",
       "2                 2008    racing     15.68     12.76      3.79         3.29   \n",
       "3                 2009    sports     15.61     10.93      3.28         2.95   \n",
       "6                 2006  platform     11.28      9.14      6.50         2.88   \n",
       "7                 2006      misc     13.96      9.18      2.93         2.84   \n",
       "...                ...       ...       ...       ...       ...          ...   \n",
       "16708             2002  platform      0.01      0.00      0.00         0.00   \n",
       "16709             2008    racing      0.00      0.00      0.00         0.00   \n",
       "16710             2016    action      0.00      0.00      0.01         0.00   \n",
       "16711             2006    sports      0.00      0.01      0.00         0.00   \n",
       "16713             2003  platform      0.01      0.00      0.00         0.00   \n",
       "\n",
       "       critic_score  user_score rating  all_sales  \n",
       "0              76.0         8.0      E     111.50  \n",
       "2              82.0         8.3      E      48.28  \n",
       "3              80.0         8.0      E      43.70  \n",
       "6              89.0         8.5      E      38.94  \n",
       "7              58.0         6.6      E      38.09  \n",
       "...             ...         ...    ...        ...  \n",
       "16708           NaN         NaN     NA       0.01  \n",
       "16709           NaN         NaN     NA       0.00  \n",
       "16710           NaN         NaN     NA       0.01  \n",
       "16711           NaN         NaN     NA       0.02  \n",
       "16713           NaN         NaN     NA       0.01  \n",
       "\n",
       "[12576 rows x 12 columns]"
      ]
     },
     "execution_count": 58,
     "metadata": {},
     "output_type": "execute_result"
    }
   ],
   "source": [
    "df[df[\"platform\"].isin(top10_platforms.index)]"
   ]
  },
  {
   "cell_type": "code",
   "execution_count": 59,
   "id": "c0a77dae",
   "metadata": {},
   "outputs": [],
   "source": [
    "top10_games = (df\n",
    " .pivot_table(index='name', values='all_sales', aggfunc='sum')\n",
    " .sort_values('all_sales', ascending=False)).head(10)"
   ]
  },
  {
   "cell_type": "code",
   "execution_count": 60,
   "id": "8f1c4bec",
   "metadata": {},
   "outputs": [
    {
     "data": {
      "text/html": [
       "<div>\n",
       "<style scoped>\n",
       "    .dataframe tbody tr th:only-of-type {\n",
       "        vertical-align: middle;\n",
       "    }\n",
       "\n",
       "    .dataframe tbody tr th {\n",
       "        vertical-align: top;\n",
       "    }\n",
       "\n",
       "    .dataframe thead th {\n",
       "        text-align: right;\n",
       "    }\n",
       "</style>\n",
       "<table border=\"1\" class=\"dataframe\">\n",
       "  <thead>\n",
       "    <tr style=\"text-align: right;\">\n",
       "      <th></th>\n",
       "      <th>all_sales</th>\n",
       "    </tr>\n",
       "    <tr>\n",
       "      <th>name</th>\n",
       "      <th></th>\n",
       "    </tr>\n",
       "  </thead>\n",
       "  <tbody>\n",
       "    <tr>\n",
       "      <td>Wii Sports</td>\n",
       "      <td>111.50</td>\n",
       "    </tr>\n",
       "    <tr>\n",
       "      <td>Grand Theft Auto V</td>\n",
       "      <td>80.00</td>\n",
       "    </tr>\n",
       "    <tr>\n",
       "      <td>Mario Kart Wii</td>\n",
       "      <td>48.28</td>\n",
       "    </tr>\n",
       "    <tr>\n",
       "      <td>Wii Sports Resort</td>\n",
       "      <td>43.70</td>\n",
       "    </tr>\n",
       "    <tr>\n",
       "      <td>Call of Duty: Modern Warfare 3</td>\n",
       "      <td>41.75</td>\n",
       "    </tr>\n",
       "    <tr>\n",
       "      <td>Pokemon Red/Pokemon Blue</td>\n",
       "      <td>40.27</td>\n",
       "    </tr>\n",
       "    <tr>\n",
       "      <td>Call of Duty: Black Ops II</td>\n",
       "      <td>40.24</td>\n",
       "    </tr>\n",
       "    <tr>\n",
       "      <td>Call of Duty: Black Ops</td>\n",
       "      <td>40.17</td>\n",
       "    </tr>\n",
       "    <tr>\n",
       "      <td>New Super Mario Bros.</td>\n",
       "      <td>38.94</td>\n",
       "    </tr>\n",
       "    <tr>\n",
       "      <td>Wii Play</td>\n",
       "      <td>38.09</td>\n",
       "    </tr>\n",
       "  </tbody>\n",
       "</table>\n",
       "</div>"
      ],
      "text/plain": [
       "                                all_sales\n",
       "name                                     \n",
       "Wii Sports                         111.50\n",
       "Grand Theft Auto V                  80.00\n",
       "Mario Kart Wii                      48.28\n",
       "Wii Sports Resort                   43.70\n",
       "Call of Duty: Modern Warfare 3      41.75\n",
       "Pokemon Red/Pokemon Blue            40.27\n",
       "Call of Duty: Black Ops II          40.24\n",
       "Call of Duty: Black Ops             40.17\n",
       "New Super Mario Bros.               38.94\n",
       "Wii Play                            38.09"
      ]
     },
     "execution_count": 60,
     "metadata": {},
     "output_type": "execute_result"
    }
   ],
   "source": [
    "top10_games"
   ]
  },
  {
   "cell_type": "code",
   "execution_count": 61,
   "id": "2119f9af",
   "metadata": {},
   "outputs": [
    {
     "data": {
      "image/png": "[encoded data removed]",
      "text/plain": [
       "<Figure size 720x360 with 1 Axes>"
      ]
     },
     "metadata": {
      "needs_background": "light"
     },
     "output_type": "display_data"
    }
   ],
   "source": [
    "display_group_density_plot(df[df[\"name\"].isin(top10_games.index)], groupby = \"name\", on = 'all_sales', \\\n",
    "                                           palette = sns.color_palette('Set2'), \n",
    "                           figsize = (10, 5))\n",
    "plt.show();"
   ]
  },
  {
   "cell_type": "code",
   "execution_count": 62,
   "id": "63159ec5",
   "metadata": {},
   "outputs": [
    {
     "data": {
      "image/png": "[encoded data removed]",
      "text/plain": [
       "<Figure size 432x288 with 1 Axes>"
      ]
     },
     "metadata": {
      "needs_background": "light"
     },
     "output_type": "display_data"
    }
   ],
   "source": [
    "pd.pivot_table(df[df[\"name\"].isin(top10_games.index)], values = 'all_sales', index = 'name',\n",
    "               columns = 'platform',aggfunc ='sum').plot.barh(width=4)\n",
    "plt.xlim([0, 60])\n",
    "plt.show();"
   ]
  },
  {
   "cell_type": "code",
   "execution_count": 63,
   "id": "27f320eb",
   "metadata": {},
   "outputs": [
    {
     "data": {
      "text/html": [
       "<div>\n",
       "<style scoped>\n",
       "    .dataframe tbody tr th:only-of-type {\n",
       "        vertical-align: middle;\n",
       "    }\n",
       "\n",
       "    .dataframe tbody tr th {\n",
       "        vertical-align: top;\n",
       "    }\n",
       "\n",
       "    .dataframe thead th {\n",
       "        text-align: right;\n",
       "    }\n",
       "</style>\n",
       "<table border=\"1\" class=\"dataframe\">\n",
       "  <thead>\n",
       "    <tr style=\"text-align: right;\">\n",
       "      <th></th>\n",
       "      <th>name</th>\n",
       "      <th>platform</th>\n",
       "      <th>year_of_release</th>\n",
       "      <th>genre</th>\n",
       "      <th>na_sales</th>\n",
       "      <th>eu_sales</th>\n",
       "      <th>jp_sales</th>\n",
       "      <th>other_sales</th>\n",
       "      <th>critic_score</th>\n",
       "      <th>user_score</th>\n",
       "      <th>rating</th>\n",
       "      <th>all_sales</th>\n",
       "    </tr>\n",
       "  </thead>\n",
       "  <tbody>\n",
       "    <tr>\n",
       "      <td>34</td>\n",
       "      <td>Call of Duty: Black Ops II</td>\n",
       "      <td>PS3</td>\n",
       "      <td>2012</td>\n",
       "      <td>shooter</td>\n",
       "      <td>4.99</td>\n",
       "      <td>5.73</td>\n",
       "      <td>0.65</td>\n",
       "      <td>2.42</td>\n",
       "      <td>83.0</td>\n",
       "      <td>5.3</td>\n",
       "      <td>M</td>\n",
       "      <td>19.52</td>\n",
       "    </tr>\n",
       "    <tr>\n",
       "      <td>35</td>\n",
       "      <td>Call of Duty: Black Ops II</td>\n",
       "      <td>X360</td>\n",
       "      <td>2012</td>\n",
       "      <td>shooter</td>\n",
       "      <td>8.25</td>\n",
       "      <td>4.24</td>\n",
       "      <td>0.07</td>\n",
       "      <td>1.12</td>\n",
       "      <td>83.0</td>\n",
       "      <td>4.8</td>\n",
       "      <td>M</td>\n",
       "      <td>17.92</td>\n",
       "    </tr>\n",
       "    <tr>\n",
       "      <td>1227</td>\n",
       "      <td>Call of Duty: Black Ops II</td>\n",
       "      <td>PC</td>\n",
       "      <td>2012</td>\n",
       "      <td>shooter</td>\n",
       "      <td>0.64</td>\n",
       "      <td>0.69</td>\n",
       "      <td>0.00</td>\n",
       "      <td>0.19</td>\n",
       "      <td>74.0</td>\n",
       "      <td>4.2</td>\n",
       "      <td>M</td>\n",
       "      <td>2.21</td>\n",
       "    </tr>\n",
       "    <tr>\n",
       "      <td>4706</td>\n",
       "      <td>Call of Duty: Black Ops II</td>\n",
       "      <td>WiiU</td>\n",
       "      <td>2012</td>\n",
       "      <td>shooter</td>\n",
       "      <td>0.20</td>\n",
       "      <td>0.18</td>\n",
       "      <td>0.00</td>\n",
       "      <td>0.03</td>\n",
       "      <td>81.0</td>\n",
       "      <td>6.9</td>\n",
       "      <td>M</td>\n",
       "      <td>0.59</td>\n",
       "    </tr>\n",
       "  </tbody>\n",
       "</table>\n",
       "</div>"
      ],
      "text/plain": [
       "                            name platform  year_of_release    genre  na_sales  \\\n",
       "34    Call of Duty: Black Ops II      PS3             2012  shooter      4.99   \n",
       "35    Call of Duty: Black Ops II     X360             2012  shooter      8.25   \n",
       "1227  Call of Duty: Black Ops II       PC             2012  shooter      0.64   \n",
       "4706  Call of Duty: Black Ops II     WiiU             2012  shooter      0.20   \n",
       "\n",
       "      eu_sales  jp_sales  other_sales  critic_score  user_score rating  \\\n",
       "34        5.73      0.65         2.42          83.0         5.3      M   \n",
       "35        4.24      0.07         1.12          83.0         4.8      M   \n",
       "1227      0.69      0.00         0.19          74.0         4.2      M   \n",
       "4706      0.18      0.00         0.03          81.0         6.9      M   \n",
       "\n",
       "      all_sales  \n",
       "34        19.52  \n",
       "35        17.92  \n",
       "1227       2.21  \n",
       "4706       0.59  "
      ]
     },
     "execution_count": 63,
     "metadata": {},
     "output_type": "execute_result"
    }
   ],
   "source": [
    "df[df[\"name\"]==\"Call of Duty: Black Ops II\"]"
   ]
  },
  {
   "cell_type": "code",
   "execution_count": 64,
   "id": "734e323c",
   "metadata": {},
   "outputs": [
    {
     "data": {
      "text/html": [
       "<div>\n",
       "<style scoped>\n",
       "    .dataframe tbody tr th:only-of-type {\n",
       "        vertical-align: middle;\n",
       "    }\n",
       "\n",
       "    .dataframe tbody tr th {\n",
       "        vertical-align: top;\n",
       "    }\n",
       "\n",
       "    .dataframe thead th {\n",
       "        text-align: right;\n",
       "    }\n",
       "</style>\n",
       "<table border=\"1\" class=\"dataframe\">\n",
       "  <thead>\n",
       "    <tr style=\"text-align: right;\">\n",
       "      <th></th>\n",
       "      <th>name</th>\n",
       "      <th>platform</th>\n",
       "      <th>year_of_release</th>\n",
       "      <th>genre</th>\n",
       "      <th>na_sales</th>\n",
       "      <th>eu_sales</th>\n",
       "      <th>jp_sales</th>\n",
       "      <th>other_sales</th>\n",
       "      <th>critic_score</th>\n",
       "      <th>user_score</th>\n",
       "      <th>rating</th>\n",
       "      <th>all_sales</th>\n",
       "    </tr>\n",
       "  </thead>\n",
       "  <tbody>\n",
       "    <tr>\n",
       "      <td>0</td>\n",
       "      <td>Wii Sports</td>\n",
       "      <td>Wii</td>\n",
       "      <td>2006</td>\n",
       "      <td>sports</td>\n",
       "      <td>41.36</td>\n",
       "      <td>28.96</td>\n",
       "      <td>3.77</td>\n",
       "      <td>8.45</td>\n",
       "      <td>76.0</td>\n",
       "      <td>8.0</td>\n",
       "      <td>E</td>\n",
       "      <td>111.5</td>\n",
       "    </tr>\n",
       "  </tbody>\n",
       "</table>\n",
       "</div>"
      ],
      "text/plain": [
       "         name platform  year_of_release   genre  na_sales  eu_sales  jp_sales  \\\n",
       "0  Wii Sports      Wii             2006  sports     41.36     28.96      3.77   \n",
       "\n",
       "   other_sales  critic_score  user_score rating  all_sales  \n",
       "0         8.45          76.0         8.0      E      111.5  "
      ]
     },
     "execution_count": 64,
     "metadata": {},
     "output_type": "execute_result"
    }
   ],
   "source": [
    "df[df[\"name\"]==\"Wii Sports\"]"
   ]
  },
  {
   "cell_type": "markdown",
   "id": "ca8da443",
   "metadata": {},
   "source": [
    "Most popular and valuable platforms were on the Wii, PS and Xbox. but as we checked Wii, is an older platform."
   ]
  },
  {
   "cell_type": "code",
   "execution_count": 65,
   "id": "05f85cd7",
   "metadata": {},
   "outputs": [
    {
     "data": {
      "image/png": "[encoded data removed]",
      "text/plain": [
       "<Figure size 720x360 with 1 Axes>"
      ]
     },
     "metadata": {},
     "output_type": "display_data"
    }
   ],
   "source": [
    "data = (df\n",
    "            .pivot_table(index=\"genre\", aggfunc='sum')\n",
    "            .sort_values(\"all_sales\", ascending=False)\n",
    "            .head(5))\n",
    "data.plot(kind='pie', y=\"all_sales\",autopct='%1.0f%%', figsize=(10, 5), legend=False).set(label=data.index)\n",
    "plt.show()"
   ]
  },
  {
   "cell_type": "markdown",
   "id": "53120750",
   "metadata": {},
   "source": [
    "Most valuable genre is action, and if we combine action and shooter, it's the main genre on the market.\n",
    "\n",
    "\n",
    "## 4. Create a user profile for each region\n",
    "For each region (NA, EU, JP), determine:\n",
    "- The top five platforms. Describe variations in their market shares from region to region.\n",
    "- The top five genres. Explain the difference.\n",
    "- Do ESRB ratings affect sales in individual regions?"
   ]
  },
  {
   "cell_type": "code",
   "execution_count": 66,
   "id": "464793dc",
   "metadata": {},
   "outputs": [],
   "source": [
    "def plot_top_sales_by_region_barplot(df, column, region, n=5):\n",
    "    data = (df\n",
    "            .pivot_table(index=column, values=region, aggfunc='sum')\n",
    "            .sort_values(region, ascending=False)\n",
    "            .head(n)).reset_index()\n",
    "    sns.set_color_codes(\"pastel\")\n",
    "    sns.barplot(y=data[column], x=data[region], data=data, label=\"sales\")\n",
    "    sns.set_color_codes(\"muted\")\n",
    "    plt.show();"
   ]
  },
  {
   "cell_type": "code",
   "execution_count": 67,
   "id": "8923c54e",
   "metadata": {},
   "outputs": [],
   "source": [
    "def plot_top_sales_by_region_pie(df, column, region, n=5):\n",
    "    data = (df\n",
    "            .pivot_table(index=column, values=region, aggfunc='sum')\n",
    "            .sort_values(region, ascending=False)\n",
    "            .head(n))\n",
    "    data.plot(kind='pie', y=region,autopct='%1.0f%%', figsize=(10, 5), legend=True).set(label=data.index)\n",
    "    plt.show();"
   ]
  },
  {
   "cell_type": "markdown",
   "id": "f8964e46",
   "metadata": {},
   "source": [
    "#### NA / North America"
   ]
  },
  {
   "cell_type": "code",
   "execution_count": 68,
   "id": "5ec258f5",
   "metadata": {},
   "outputs": [
    {
     "data": {
      "image/png": "[encoded data removed]",
      "text/plain": [
       "<Figure size 432x288 with 1 Axes>"
      ]
     },
     "metadata": {
      "needs_background": "light"
     },
     "output_type": "display_data"
    }
   ],
   "source": [
    "plot_top_sales_by_region_barplot(df, 'platform', region = 'na_sales')"
   ]
  },
  {
   "cell_type": "markdown",
   "id": "397c5acf",
   "metadata": {},
   "source": [
    "In North America, X360 is popular with the PS2 in second. Both Sony and Microsoft have been in competition with each other in North America for awhile."
   ]
  },
  {
   "cell_type": "code",
   "execution_count": 69,
   "id": "1a30090c",
   "metadata": {},
   "outputs": [
    {
     "data": {
      "image/png": "[encoded data removed]",
      "text/plain": [
       "<Figure size 720x360 with 1 Axes>"
      ]
     },
     "metadata": {},
     "output_type": "display_data"
    }
   ],
   "source": [
    "plot_top_sales_by_region_pie(df, 'genre', region = 'na_sales')"
   ]
  },
  {
   "cell_type": "markdown",
   "id": "dafcf2d8",
   "metadata": {},
   "source": [
    "The most popular genre is action.\n",
    "Do ESRB ratings affect sales in individual regions? Let's see."
   ]
  },
  {
   "cell_type": "code",
   "execution_count": 70,
   "id": "8d88f5db",
   "metadata": {},
   "outputs": [
    {
     "data": {
      "image/png": "[encoded data removed]",
      "text/plain": [
       "<Figure size 720x360 with 1 Axes>"
      ]
     },
     "metadata": {},
     "output_type": "display_data"
    }
   ],
   "source": [
    "plot_top_sales_by_region_pie(df, 'rating', region = 'na_sales')"
   ]
  },
  {
   "cell_type": "markdown",
   "id": "cc1475e8",
   "metadata": {},
   "source": [
    "- EC - Early childhood\n",
    "- E - Everyone\n",
    "- E10+ - Everyone 10 and older\n",
    "- T - Teen\n",
    "- M - Mature\n",
    "- AO - Adults Only 18+\n",
    "- RP - Rating Pending\n",
    "\n",
    "Part of ratings were missed, anyway we could see that 32% is E-Everyone rating, 19% is Mature content, the same for teen content, and 9% is for kids. The E category has the highest amount of sales\n",
    "\n",
    "#### EU / Europe"
   ]
  },
  {
   "cell_type": "code",
   "execution_count": 71,
   "id": "f1f2678e",
   "metadata": {},
   "outputs": [
    {
     "data": {
      "image/png": "[encoded data removed]",
      "text/plain": [
       "<Figure size 432x288 with 1 Axes>"
      ]
     },
     "metadata": {
      "needs_background": "light"
     },
     "output_type": "display_data"
    }
   ],
   "source": [
    "plot_top_sales_by_region_barplot(df, 'platform', region = 'eu_sales')"
   ]
  },
  {
   "cell_type": "code",
   "execution_count": 72,
   "id": "cf602fe0",
   "metadata": {},
   "outputs": [
    {
     "data": {
      "image/png": "[encoded data removed]",
      "text/plain": [
       "<Figure size 720x360 with 1 Axes>"
      ]
     },
     "metadata": {},
     "output_type": "display_data"
    }
   ],
   "source": [
    "plot_top_sales_by_region_pie(df, 'genre', region = 'eu_sales')"
   ]
  },
  {
   "cell_type": "markdown",
   "id": "0c73dfaa",
   "metadata": {},
   "source": [
    "Action and Sports are the most popular genres in Europe, similar to North America."
   ]
  },
  {
   "cell_type": "code",
   "execution_count": 73,
   "id": "a19d7490",
   "metadata": {},
   "outputs": [
    {
     "data": {
      "image/png": "[encoded data removed]",
      "text/plain": [
       "<Figure size 720x360 with 1 Axes>"
      ]
     },
     "metadata": {},
     "output_type": "display_data"
    }
   ],
   "source": [
    "plot_top_sales_by_region_pie(df, 'rating', region = 'eu_sales')"
   ]
  },
  {
   "cell_type": "markdown",
   "id": "e3d74c13",
   "metadata": {},
   "source": [
    "- EC - Early childhood\n",
    "- E - Everyone\n",
    "- E10+ - Everyone 10 and older\n",
    "- T - Teen\n",
    "- M - Mature\n",
    "- AO - Adults Only 18+\n",
    "- RP - Rating Pending\n",
    "\n",
    "In Europe, the Everyone rating is the most popular, but the Mature rating is more popular here than in North America.\n",
    "\n",
    "#### JP / Japan"
   ]
  },
  {
   "cell_type": "code",
   "execution_count": 74,
   "id": "822c9142",
   "metadata": {},
   "outputs": [
    {
     "data": {
      "image/png": "[encoded data removed]",
      "text/plain": [
       "<Figure size 432x288 with 1 Axes>"
      ]
     },
     "metadata": {
      "needs_background": "light"
     },
     "output_type": "display_data"
    }
   ],
   "source": [
    "plot_top_sales_by_region_barplot(df, 'platform', region = 'jp_sales')"
   ]
  },
  {
   "cell_type": "code",
   "execution_count": 75,
   "id": "a591f6c8",
   "metadata": {},
   "outputs": [
    {
     "data": {
      "image/png": "[encoded data removed]",
      "text/plain": [
       "<Figure size 720x360 with 1 Axes>"
      ]
     },
     "metadata": {},
     "output_type": "display_data"
    }
   ],
   "source": [
    "plot_top_sales_by_region_pie(df, 'genre', region = 'jp_sales')"
   ]
  },
  {
   "cell_type": "markdown",
   "id": "e5861055",
   "metadata": {},
   "source": [
    "In Japan the situation is different, RPG is most popular."
   ]
  },
  {
   "cell_type": "code",
   "execution_count": 76,
   "id": "3353784a",
   "metadata": {},
   "outputs": [
    {
     "data": {
      "image/png": "[encoded data removed]",
      "text/plain": [
       "<Figure size 720x360 with 1 Axes>"
      ]
     },
     "metadata": {},
     "output_type": "display_data"
    }
   ],
   "source": [
    "plot_top_sales_by_region_pie(df, 'rating', region = 'jp_sales')"
   ]
  },
  {
   "cell_type": "markdown",
   "id": "38ce59ca",
   "metadata": {},
   "source": [
    "- EC - Early childhood\n",
    "- E - Everyone\n",
    "- E10+ - Everyone 10 and older\n",
    "- T - Teen\n",
    "- M - Mature\n",
    "- AO - Adults Only 18+\n",
    "- RP - Rating Pending\n",
    "\n",
    "As we can see, there is a lot of missed data is from Japan. Maybe because cartoon-anime games that are kinda hard to recognize, whether it is mature or not, or more logically that they don't use the North American rating system. It also appears that only 4% is for kids, for everyone is around 19%.\n",
    "\n",
    "#### Summary\n",
    "\n",
    "In North America:\n",
    "\n",
    "* In the USA X360 is popular, second one is PS2. Both of these companies have a long history of competing with one another in North America (Microsoft and Sony).\n",
    "* Action/Sports and Shooter\n",
    "* everyone and second one - mature 19%/teens 19%\n",
    "\n",
    "In Europe:\n",
    "\n",
    "* PS2/PS3\n",
    "* genre - action and Sports.\n",
    "* everyone and mature\n",
    "\n",
    "In Japan:\n",
    "\n",
    "* DS and PS are popular console\n",
    "* RPG is the most popular genre\n",
    "* large part was missed, but most popular are everyone and teens game \n",
    "\n",
    "\n",
    "## 5. Test the following hypotheses:\n",
    "- Average user ratings of the Xbox One and PC platforms are the same.\n",
    "- Average user ratings for the Action and Sports genres are different.\n",
    "- Set the alpha threshold value yourself.\n",
    "\n",
    "Explain:\n",
    "- How you formulated the null and alternative hypotheses\n",
    "- What significance level you chose to test the hypotheses, and why\n",
    "\n",
    "alpha = 0.05 is a good significance level to test the hypotheses because I only have a 5% chance of concluding that a difference exits where there is no actual difference in the data.\n",
    "\n",
    "Let's check: —Average user ratings of the Xbox One and PC platforms are the same.\n",
    "\n",
    "$H_0$:—Average user ratings of the Xbox One and PC platforms are the same.\n",
    "\n",
    "and\n",
    "\n",
    "$H_1$: —Average user ratings of the Xbox One and PC platforms are different."
   ]
  },
  {
   "cell_type": "code",
   "execution_count": 77,
   "id": "8b41c3ac",
   "metadata": {},
   "outputs": [],
   "source": [
    "alpha = 0.05"
   ]
  },
  {
   "cell_type": "code",
   "execution_count": 78,
   "id": "562bb6b8",
   "metadata": {},
   "outputs": [
    {
     "data": {
      "text/plain": [
       "array(['Wii', 'GB', 'DS', 'X360', 'PS3', 'PS2', 'GBA', 'PS4', '3DS',\n",
       "       'N64', 'PS', 'XB', 'PC', 'PSP', 'XOne', 'WiiU', 'GC', 'SNES',\n",
       "       '2600', 'DC', 'PSV', 'SAT', 'WS', 'NG', 'PCFX'], dtype=object)"
      ]
     },
     "execution_count": 78,
     "metadata": {},
     "output_type": "execute_result"
    }
   ],
   "source": [
    "df[\"platform\"].unique()"
   ]
  },
  {
   "cell_type": "code",
   "execution_count": 79,
   "id": "8db49a34",
   "metadata": {},
   "outputs": [
    {
     "name": "stdout",
     "output_type": "stream",
     "text": [
      "pvalue: 0.684228796819557\n",
      "Average user ratings of the Xbox One and PC platforms are the same.\n",
      "checking:\n",
      "pc mean=7.0520114942528735\n",
      "xbox mean=7.024922504649721\n"
     ]
    }
   ],
   "source": [
    "H_0 = \"Average user ratings of the Xbox One and PC platforms are the same.\"\n",
    "H_1 = \"Average user ratings of the Xbox One and PC platforms are different.\"\n",
    "\n",
    "pc = df[df[\"platform\"] == 'PC'].dropna()['user_score'].values\n",
    "xbox = df[df[\"platform\"].isin([\"X360\", \"XOne\", \"XB\"])].dropna()['user_score'].values\n",
    "\n",
    "result = stats.ttest_ind(pc, xbox)\n",
    "print('pvalue:', result.pvalue)\n",
    "\n",
    "if (result.pvalue < alpha):\n",
    "    print(H_1)\n",
    "else:\n",
    "    print(H_0)\n",
    "print(\"checking:\")\n",
    "print(f\"pc mean={pc.mean()}\")\n",
    "print(f\"xbox mean={xbox.mean()}\")"
   ]
  },
  {
   "cell_type": "markdown",
   "id": "d4733786",
   "metadata": {},
   "source": [
    "Let's check: —Average user ratings of the Xbox One and PC platforms are the same.\n",
    "\n",
    "$H_0$:—Average user ratings of the Xbox One and PC platforms are the same.\n",
    "\n",
    "and\n",
    "\n",
    "$H_1$: —Average user ratings for the Action and Sports genres are different."
   ]
  },
  {
   "cell_type": "code",
   "execution_count": 80,
   "id": "101380df",
   "metadata": {},
   "outputs": [
    {
     "name": "stdout",
     "output_type": "stream",
     "text": [
      "pvalue: 0.9469188193606457\n",
      "Average user ratings for the Action and Sports genres are the same.\n",
      "checking:\n",
      "action mean=7.097120575884823\n",
      "sports mean=7.100929752066115\n"
     ]
    }
   ],
   "source": [
    "H_0 = \"Average user ratings for the Action and Sports genres are the same.\"\n",
    "H_1 = \"Average user ratings for the Action and Sports genres are different.\"\n",
    "\n",
    "action = df[df[\"genre\"] == 'action'].dropna()['user_score'].values\n",
    "sports = df[df[\"genre\"] == 'sports'].dropna()['user_score'].values\n",
    "\n",
    "result = stats.ttest_ind(action, sports)\n",
    "print('pvalue:', result.pvalue)\n",
    "\n",
    "if (result.pvalue < alpha):\n",
    "    print(H_1)\n",
    "else:\n",
    "    print(H_0)\n",
    "print(\"checking:\")\n",
    "print(f\"action mean={action.mean()}\")\n",
    "print(f\"sports mean={sports.mean()}\")"
   ]
  },
  {
   "cell_type": "markdown",
   "id": "31e93b16",
   "metadata": {},
   "source": [
    "## 6. Write a general conclusion\n",
    "- Platforms that are before 2005, are gone. Others are still in the market but also in the process of disappearing.\n",
    "- Most popular are PlayStation and Xbox. Most popular genre are Action, Shooter, except Japan, where RPG is most popular\n",
    "- As we saw it's region specific business.\n",
    "- Average user ratings of the Xbox One and PC platforms are different.\n",
    "- Average user ratings for the Action and Sports genres are different.\n",
    "- Also need research specific platform, big gap between most popular platform and the others"
   ]
  }
 ],
 "metadata": {
  "ExecuteTimeLog": [
   {
    "duration": 1536,
    "start_time": "2021-09-30T18:34:28.616Z"
   },
   {
    "duration": 373,
    "start_time": "2021-09-30T18:34:30.154Z"
   },
   {
    "duration": 11,
    "start_time": "2021-09-30T18:34:30.530Z"
   },
   {
    "duration": 28,
    "start_time": "2021-09-30T18:34:30.545Z"
   },
   {
    "duration": 14,
    "start_time": "2021-09-30T18:34:30.576Z"
   },
   {
    "duration": 35,
    "start_time": "2021-09-30T18:34:30.593Z"
   },
   {
    "duration": 56,
    "start_time": "2021-09-30T18:34:30.631Z"
   },
   {
    "duration": 15,
    "start_time": "2021-09-30T18:34:30.690Z"
   },
   {
    "duration": 60,
    "start_time": "2021-09-30T18:34:30.709Z"
   },
   {
    "duration": 1004,
    "start_time": "2021-09-30T18:34:30.773Z"
   },
   {
    "duration": 36,
    "start_time": "2021-09-30T18:34:31.780Z"
   },
   {
    "duration": 559,
    "start_time": "2021-09-30T18:34:31.818Z"
   },
   {
    "duration": -103,
    "start_time": "2021-09-30T18:34:32.485Z"
   },
   {
    "duration": -104,
    "start_time": "2021-09-30T18:34:32.488Z"
   },
   {
    "duration": -106,
    "start_time": "2021-09-30T18:34:32.491Z"
   },
   {
    "duration": -107,
    "start_time": "2021-09-30T18:34:32.493Z"
   },
   {
    "duration": -107,
    "start_time": "2021-09-30T18:34:32.495Z"
   },
   {
    "duration": -109,
    "start_time": "2021-09-30T18:34:32.498Z"
   },
   {
    "duration": -110,
    "start_time": "2021-09-30T18:34:32.500Z"
   },
   {
    "duration": -110,
    "start_time": "2021-09-30T18:34:32.502Z"
   },
   {
    "duration": -110,
    "start_time": "2021-09-30T18:34:32.504Z"
   },
   {
    "duration": -111,
    "start_time": "2021-09-30T18:34:32.506Z"
   },
   {
    "duration": -112,
    "start_time": "2021-09-30T18:34:32.508Z"
   },
   {
    "duration": -113,
    "start_time": "2021-09-30T18:34:32.511Z"
   },
   {
    "duration": -113,
    "start_time": "2021-09-30T18:34:32.512Z"
   },
   {
    "duration": -112,
    "start_time": "2021-09-30T18:34:32.513Z"
   },
   {
    "duration": -112,
    "start_time": "2021-09-30T18:34:32.514Z"
   },
   {
    "duration": -113,
    "start_time": "2021-09-30T18:34:32.516Z"
   },
   {
    "duration": -116,
    "start_time": "2021-09-30T18:34:32.520Z"
   },
   {
    "duration": -116,
    "start_time": "2021-09-30T18:34:32.522Z"
   },
   {
    "duration": -117,
    "start_time": "2021-09-30T18:34:32.524Z"
   },
   {
    "duration": -116,
    "start_time": "2021-09-30T18:34:32.527Z"
   },
   {
    "duration": -115,
    "start_time": "2021-09-30T18:34:32.528Z"
   },
   {
    "duration": -115,
    "start_time": "2021-09-30T18:34:32.530Z"
   },
   {
    "duration": -71,
    "start_time": "2021-09-30T18:34:32.539Z"
   },
   {
    "duration": -71,
    "start_time": "2021-09-30T18:34:32.541Z"
   },
   {
    "duration": -71,
    "start_time": "2021-09-30T18:34:32.544Z"
   },
   {
    "duration": -70,
    "start_time": "2021-09-30T18:34:32.545Z"
   },
   {
    "duration": -70,
    "start_time": "2021-09-30T18:34:32.547Z"
   },
   {
    "duration": -69,
    "start_time": "2021-09-30T18:34:32.548Z"
   },
   {
    "duration": -68,
    "start_time": "2021-09-30T18:34:32.549Z"
   },
   {
    "duration": -119,
    "start_time": "2021-09-30T18:34:32.603Z"
   },
   {
    "duration": -120,
    "start_time": "2021-09-30T18:34:32.606Z"
   },
   {
    "duration": -120,
    "start_time": "2021-09-30T18:34:32.608Z"
   },
   {
    "duration": -120,
    "start_time": "2021-09-30T18:34:32.610Z"
   },
   {
    "duration": -121,
    "start_time": "2021-09-30T18:34:32.613Z"
   },
   {
    "duration": -121,
    "start_time": "2021-09-30T18:34:32.615Z"
   },
   {
    "duration": -121,
    "start_time": "2021-09-30T18:34:32.617Z"
   },
   {
    "duration": -128,
    "start_time": "2021-09-30T18:34:32.626Z"
   },
   {
    "duration": -128,
    "start_time": "2021-09-30T18:34:32.628Z"
   },
   {
    "duration": -129,
    "start_time": "2021-09-30T18:34:32.630Z"
   },
   {
    "duration": -129,
    "start_time": "2021-09-30T18:34:32.632Z"
   },
   {
    "duration": -129,
    "start_time": "2021-09-30T18:34:32.634Z"
   },
   {
    "duration": -128,
    "start_time": "2021-09-30T18:34:32.635Z"
   },
   {
    "duration": -128,
    "start_time": "2021-09-30T18:34:32.637Z"
   },
   {
    "duration": -72,
    "start_time": "2021-09-30T18:34:32.639Z"
   },
   {
    "duration": -72,
    "start_time": "2021-09-30T18:34:32.640Z"
   },
   {
    "duration": -136,
    "start_time": "2021-09-30T18:34:32.705Z"
   },
   {
    "duration": -136,
    "start_time": "2021-09-30T18:34:32.707Z"
   },
   {
    "duration": -138,
    "start_time": "2021-09-30T18:34:32.710Z"
   },
   {
    "duration": -139,
    "start_time": "2021-09-30T18:34:32.712Z"
   },
   {
    "duration": -139,
    "start_time": "2021-09-30T18:34:32.714Z"
   },
   {
    "duration": -140,
    "start_time": "2021-09-30T18:34:32.716Z"
   },
   {
    "duration": -142,
    "start_time": "2021-09-30T18:34:32.719Z"
   },
   {
    "duration": -148,
    "start_time": "2021-09-30T18:34:32.727Z"
   },
   {
    "duration": -149,
    "start_time": "2021-09-30T18:34:32.729Z"
   },
   {
    "duration": -150,
    "start_time": "2021-09-30T18:34:32.731Z"
   },
   {
    "duration": -150,
    "start_time": "2021-09-30T18:34:32.733Z"
   },
   {
    "duration": -151,
    "start_time": "2021-09-30T18:34:32.735Z"
   },
   {
    "duration": -151,
    "start_time": "2021-09-30T18:34:32.737Z"
   },
   {
    "duration": -152,
    "start_time": "2021-09-30T18:34:32.739Z"
   },
   {
    "duration": -152,
    "start_time": "2021-09-30T18:34:32.741Z"
   },
   {
    "duration": -153,
    "start_time": "2021-09-30T18:34:32.743Z"
   },
   {
    "duration": -152,
    "start_time": "2021-09-30T18:34:32.744Z"
   },
   {
    "duration": -157,
    "start_time": "2021-09-30T18:34:32.750Z"
   },
   {
    "duration": -156,
    "start_time": "2021-09-30T18:34:32.752Z"
   },
   {
    "duration": -154,
    "start_time": "2021-09-30T18:34:32.754Z"
   },
   {
    "duration": -153,
    "start_time": "2021-09-30T18:34:32.755Z"
   },
   {
    "duration": -153,
    "start_time": "2021-09-30T18:34:32.757Z"
   },
   {
    "duration": -152,
    "start_time": "2021-09-30T18:34:32.758Z"
   },
   {
    "duration": -93,
    "start_time": "2021-09-30T18:34:32.760Z"
   },
   {
    "duration": -92,
    "start_time": "2021-09-30T18:34:32.761Z"
   },
   {
    "duration": -92,
    "start_time": "2021-09-30T18:34:32.763Z"
   },
   {
    "duration": 1162,
    "start_time": "2021-10-01T07:12:30.788Z"
   },
   {
    "duration": 210,
    "start_time": "2021-10-01T07:12:31.952Z"
   },
   {
    "duration": 10,
    "start_time": "2021-10-01T07:12:32.164Z"
   },
   {
    "duration": 15,
    "start_time": "2021-10-01T07:12:32.175Z"
   },
   {
    "duration": 3,
    "start_time": "2021-10-01T07:12:32.192Z"
   },
   {
    "duration": 10,
    "start_time": "2021-10-01T07:12:32.196Z"
   },
   {
    "duration": 22,
    "start_time": "2021-10-01T07:12:32.207Z"
   },
   {
    "duration": 13,
    "start_time": "2021-10-01T07:12:32.231Z"
   },
   {
    "duration": 38,
    "start_time": "2021-10-01T07:12:32.246Z"
   },
   {
    "duration": 693,
    "start_time": "2021-10-01T07:12:32.285Z"
   },
   {
    "duration": 98,
    "start_time": "2021-10-01T07:12:32.980Z"
   },
   {
    "duration": 5,
    "start_time": "2021-10-01T07:12:33.080Z"
   },
   {
    "duration": 152,
    "start_time": "2021-10-01T07:12:33.086Z"
   },
   {
    "duration": 152,
    "start_time": "2021-10-01T07:12:33.240Z"
   },
   {
    "duration": 154,
    "start_time": "2021-10-01T07:12:33.394Z"
   },
   {
    "duration": 4,
    "start_time": "2021-10-01T07:12:33.550Z"
   },
   {
    "duration": 37,
    "start_time": "2021-10-01T07:12:33.556Z"
   },
   {
    "duration": 13,
    "start_time": "2021-10-01T07:12:33.595Z"
   },
   {
    "duration": 13,
    "start_time": "2021-10-01T07:12:33.610Z"
   },
   {
    "duration": 11,
    "start_time": "2021-10-01T07:12:33.626Z"
   },
   {
    "duration": 59,
    "start_time": "2021-10-01T07:12:33.638Z"
   },
   {
    "duration": 7,
    "start_time": "2021-10-01T07:12:33.699Z"
   },
   {
    "duration": 22,
    "start_time": "2021-10-01T07:12:33.711Z"
   },
   {
    "duration": 42,
    "start_time": "2021-10-01T07:12:33.736Z"
   },
   {
    "duration": 7,
    "start_time": "2021-10-01T07:12:33.780Z"
   },
   {
    "duration": 6,
    "start_time": "2021-10-01T07:12:33.789Z"
   },
   {
    "duration": 309,
    "start_time": "2021-10-01T07:12:33.797Z"
   },
   {
    "duration": 22,
    "start_time": "2021-10-01T07:12:34.109Z"
   },
   {
    "duration": 14,
    "start_time": "2021-10-01T07:12:34.133Z"
   },
   {
    "duration": 8,
    "start_time": "2021-10-01T07:12:34.176Z"
   },
   {
    "duration": 9,
    "start_time": "2021-10-01T07:12:34.186Z"
   },
   {
    "duration": 6,
    "start_time": "2021-10-01T07:12:34.196Z"
   },
   {
    "duration": 359,
    "start_time": "2021-10-01T07:12:34.204Z"
   },
   {
    "duration": 25,
    "start_time": "2021-10-01T07:12:34.565Z"
   },
   {
    "duration": 135,
    "start_time": "2021-10-01T07:12:34.592Z"
   },
   {
    "duration": 63,
    "start_time": "2021-10-01T07:12:34.728Z"
   },
   {
    "duration": 7,
    "start_time": "2021-10-01T07:12:34.793Z"
   },
   {
    "duration": 24,
    "start_time": "2021-10-01T07:12:34.801Z"
   },
   {
    "duration": 16,
    "start_time": "2021-10-01T07:12:34.827Z"
   },
   {
    "duration": 14,
    "start_time": "2021-10-01T07:12:34.845Z"
   },
   {
    "duration": 16,
    "start_time": "2021-10-01T07:12:34.861Z"
   },
   {
    "duration": 22,
    "start_time": "2021-10-01T07:12:34.878Z"
   },
   {
    "duration": 18,
    "start_time": "2021-10-01T07:12:34.901Z"
   },
   {
    "duration": 9,
    "start_time": "2021-10-01T07:12:34.920Z"
   },
   {
    "duration": 10,
    "start_time": "2021-10-01T07:12:34.931Z"
   },
   {
    "duration": 17,
    "start_time": "2021-10-01T07:12:34.942Z"
   },
   {
    "duration": 200,
    "start_time": "2021-10-01T07:12:34.960Z"
   },
   {
    "duration": 402,
    "start_time": "2021-10-01T07:12:35.161Z"
   },
   {
    "duration": 13,
    "start_time": "2021-10-01T07:12:35.564Z"
   },
   {
    "duration": 32,
    "start_time": "2021-10-01T07:12:35.578Z"
   },
   {
    "duration": 606,
    "start_time": "2021-10-01T07:12:35.612Z"
   },
   {
    "duration": 6,
    "start_time": "2021-10-01T07:12:36.220Z"
   },
   {
    "duration": 27,
    "start_time": "2021-10-01T07:12:36.228Z"
   },
   {
    "duration": 21,
    "start_time": "2021-10-01T07:12:36.257Z"
   },
   {
    "duration": 4537,
    "start_time": "2021-10-01T07:12:36.280Z"
   },
   {
    "duration": 5,
    "start_time": "2021-10-01T07:12:40.820Z"
   },
   {
    "duration": 3085,
    "start_time": "2021-10-01T07:12:40.828Z"
   },
   {
    "duration": 10,
    "start_time": "2021-10-01T07:12:43.915Z"
   },
   {
    "duration": 349,
    "start_time": "2021-10-01T07:12:43.927Z"
   },
   {
    "duration": 547,
    "start_time": "2021-10-01T07:12:44.278Z"
   },
   {
    "duration": 23,
    "start_time": "2021-10-01T07:12:44.827Z"
   },
   {
    "duration": 40,
    "start_time": "2021-10-01T07:12:44.852Z"
   },
   {
    "duration": 6,
    "start_time": "2021-10-01T07:12:44.893Z"
   },
   {
    "duration": 626,
    "start_time": "2021-10-01T07:12:44.901Z"
   },
   {
    "duration": 416,
    "start_time": "2021-10-01T07:12:45.529Z"
   },
   {
    "duration": 14,
    "start_time": "2021-10-01T07:12:45.947Z"
   },
   {
    "duration": 24,
    "start_time": "2021-10-01T07:12:45.963Z"
   },
   {
    "duration": 230,
    "start_time": "2021-10-01T07:12:45.993Z"
   },
   {
    "duration": 4,
    "start_time": "2021-10-01T07:12:46.225Z"
   },
   {
    "duration": 5,
    "start_time": "2021-10-01T07:12:46.230Z"
   },
   {
    "duration": 169,
    "start_time": "2021-10-01T07:12:46.237Z"
   },
   {
    "duration": 141,
    "start_time": "2021-10-01T07:12:46.408Z"
   },
   {
    "duration": 135,
    "start_time": "2021-10-01T07:12:46.551Z"
   },
   {
    "duration": 164,
    "start_time": "2021-10-01T07:12:46.687Z"
   },
   {
    "duration": 143,
    "start_time": "2021-10-01T07:12:46.852Z"
   },
   {
    "duration": 143,
    "start_time": "2021-10-01T07:12:46.996Z"
   },
   {
    "duration": 165,
    "start_time": "2021-10-01T07:12:47.141Z"
   },
   {
    "duration": 150,
    "start_time": "2021-10-01T07:12:47.308Z"
   },
   {
    "duration": 144,
    "start_time": "2021-10-01T07:12:47.460Z"
   },
   {
    "duration": 2,
    "start_time": "2021-10-01T07:12:47.606Z"
   },
   {
    "duration": 8,
    "start_time": "2021-10-01T07:12:47.610Z"
   },
   {
    "duration": 16,
    "start_time": "2021-10-01T07:12:47.619Z"
   },
   {
    "duration": 17,
    "start_time": "2021-10-01T07:12:47.637Z"
   },
   {
    "duration": 1478,
    "start_time": "2021-10-02T06:30:23.904Z"
   },
   {
    "duration": 394,
    "start_time": "2021-10-02T06:30:25.385Z"
   },
   {
    "duration": 14,
    "start_time": "2021-10-02T06:30:25.783Z"
   },
   {
    "duration": 15,
    "start_time": "2021-10-02T06:30:25.800Z"
   },
   {
    "duration": 3,
    "start_time": "2021-10-02T06:30:25.818Z"
   },
   {
    "duration": 9,
    "start_time": "2021-10-02T06:30:25.824Z"
   },
   {
    "duration": 69,
    "start_time": "2021-10-02T06:30:25.835Z"
   },
   {
    "duration": 12,
    "start_time": "2021-10-02T06:30:25.910Z"
   },
   {
    "duration": 45,
    "start_time": "2021-10-02T06:30:25.926Z"
   },
   {
    "duration": 918,
    "start_time": "2021-10-02T06:30:25.974Z"
   },
   {
    "duration": 154,
    "start_time": "2021-10-02T06:30:26.897Z"
   },
   {
    "duration": 7,
    "start_time": "2021-10-02T06:30:27.053Z"
   },
   {
    "duration": 239,
    "start_time": "2021-10-02T06:30:27.062Z"
   },
   {
    "duration": 264,
    "start_time": "2021-10-02T06:30:27.304Z"
   },
   {
    "duration": 255,
    "start_time": "2021-10-02T06:30:27.570Z"
   },
   {
    "duration": 7,
    "start_time": "2021-10-02T06:30:27.828Z"
   },
   {
    "duration": 67,
    "start_time": "2021-10-02T06:30:27.837Z"
   },
   {
    "duration": 22,
    "start_time": "2021-10-02T06:30:27.907Z"
   },
   {
    "duration": 52,
    "start_time": "2021-10-02T06:30:27.932Z"
   },
   {
    "duration": 17,
    "start_time": "2021-10-02T06:30:27.987Z"
   },
   {
    "duration": 43,
    "start_time": "2021-10-02T06:30:28.007Z"
   },
   {
    "duration": 36,
    "start_time": "2021-10-02T06:30:28.052Z"
   },
   {
    "duration": 33,
    "start_time": "2021-10-02T06:30:28.094Z"
   },
   {
    "duration": 58,
    "start_time": "2021-10-02T06:30:28.131Z"
   },
   {
    "duration": 9,
    "start_time": "2021-10-02T06:30:28.192Z"
   },
   {
    "duration": 7,
    "start_time": "2021-10-02T06:30:28.203Z"
   },
   {
    "duration": 497,
    "start_time": "2021-10-02T06:30:28.212Z"
   },
   {
    "duration": 35,
    "start_time": "2021-10-02T06:30:28.712Z"
   },
   {
    "duration": 46,
    "start_time": "2021-10-02T06:30:28.750Z"
   },
   {
    "duration": 13,
    "start_time": "2021-10-02T06:30:28.799Z"
   },
   {
    "duration": 14,
    "start_time": "2021-10-02T06:30:28.815Z"
   },
   {
    "duration": 51,
    "start_time": "2021-10-02T06:30:28.832Z"
   },
   {
    "duration": 544,
    "start_time": "2021-10-02T06:30:28.887Z"
   },
   {
    "duration": 48,
    "start_time": "2021-10-02T06:30:29.434Z"
   },
   {
    "duration": 184,
    "start_time": "2021-10-02T06:30:29.484Z"
   },
   {
    "duration": 13,
    "start_time": "2021-10-02T06:30:29.671Z"
   },
   {
    "duration": 13,
    "start_time": "2021-10-02T06:30:29.687Z"
   },
   {
    "duration": 13,
    "start_time": "2021-10-02T06:30:29.702Z"
   },
   {
    "duration": 14,
    "start_time": "2021-10-02T06:30:29.717Z"
   },
   {
    "duration": 23,
    "start_time": "2021-10-02T06:30:29.733Z"
   },
   {
    "duration": 21,
    "start_time": "2021-10-02T06:30:29.759Z"
   },
   {
    "duration": 33,
    "start_time": "2021-10-02T06:30:29.782Z"
   },
   {
    "duration": 330,
    "start_time": "2021-10-02T06:30:29.817Z"
   },
   {
    "duration": 634,
    "start_time": "2021-10-02T06:30:30.150Z"
   },
   {
    "duration": 10,
    "start_time": "2021-10-02T06:30:30.787Z"
   },
   {
    "duration": 38,
    "start_time": "2021-10-02T06:30:30.799Z"
   },
   {
    "duration": 757,
    "start_time": "2021-10-02T06:30:30.839Z"
   },
   {
    "duration": 8,
    "start_time": "2021-10-02T06:30:31.599Z"
   },
   {
    "duration": 14,
    "start_time": "2021-10-02T06:30:31.610Z"
   },
   {
    "duration": 4,
    "start_time": "2021-10-02T06:30:31.626Z"
   },
   {
    "duration": 6975,
    "start_time": "2021-10-02T06:30:31.632Z"
   },
   {
    "duration": 5,
    "start_time": "2021-10-02T06:30:38.610Z"
   },
   {
    "duration": 4726,
    "start_time": "2021-10-02T06:30:38.617Z"
   },
   {
    "duration": 11,
    "start_time": "2021-10-02T06:30:43.345Z"
   },
   {
    "duration": 609,
    "start_time": "2021-10-02T06:30:43.358Z"
   },
   {
    "duration": -149,
    "start_time": "2021-10-02T06:30:44.119Z"
   },
   {
    "duration": -150,
    "start_time": "2021-10-02T06:30:44.121Z"
   },
   {
    "duration": -150,
    "start_time": "2021-10-02T06:30:44.123Z"
   },
   {
    "duration": -151,
    "start_time": "2021-10-02T06:30:44.125Z"
   },
   {
    "duration": -151,
    "start_time": "2021-10-02T06:30:44.127Z"
   },
   {
    "duration": -155,
    "start_time": "2021-10-02T06:30:44.132Z"
   },
   {
    "duration": -155,
    "start_time": "2021-10-02T06:30:44.134Z"
   },
   {
    "duration": -154,
    "start_time": "2021-10-02T06:30:44.135Z"
   },
   {
    "duration": -155,
    "start_time": "2021-10-02T06:30:44.137Z"
   },
   {
    "duration": -154,
    "start_time": "2021-10-02T06:30:44.138Z"
   },
   {
    "duration": -155,
    "start_time": "2021-10-02T06:30:44.140Z"
   },
   {
    "duration": -154,
    "start_time": "2021-10-02T06:30:44.141Z"
   },
   {
    "duration": -155,
    "start_time": "2021-10-02T06:30:44.143Z"
   },
   {
    "duration": -157,
    "start_time": "2021-10-02T06:30:44.147Z"
   },
   {
    "duration": -157,
    "start_time": "2021-10-02T06:30:44.149Z"
   },
   {
    "duration": -157,
    "start_time": "2021-10-02T06:30:44.150Z"
   },
   {
    "duration": -157,
    "start_time": "2021-10-02T06:30:44.152Z"
   },
   {
    "duration": -157,
    "start_time": "2021-10-02T06:30:44.153Z"
   },
   {
    "duration": -157,
    "start_time": "2021-10-02T06:30:44.155Z"
   },
   {
    "duration": -157,
    "start_time": "2021-10-02T06:30:44.156Z"
   },
   {
    "duration": -156,
    "start_time": "2021-10-02T06:30:44.157Z"
   },
   {
    "duration": -156,
    "start_time": "2021-10-02T06:30:44.158Z"
   },
   {
    "duration": -156,
    "start_time": "2021-10-02T06:30:44.160Z"
   },
   {
    "duration": -156,
    "start_time": "2021-10-02T06:30:44.161Z"
   },
   {
    "duration": 33,
    "start_time": "2021-10-02T06:32:53.246Z"
   },
   {
    "duration": 32,
    "start_time": "2021-10-02T06:32:53.637Z"
   },
   {
    "duration": 9,
    "start_time": "2021-10-02T06:32:54.001Z"
   },
   {
    "duration": 821,
    "start_time": "2021-10-02T06:32:54.349Z"
   },
   {
    "duration": 670,
    "start_time": "2021-10-02T06:32:55.173Z"
   },
   {
    "duration": 21,
    "start_time": "2021-10-02T06:32:55.846Z"
   },
   {
    "duration": 29,
    "start_time": "2021-10-02T06:32:55.870Z"
   },
   {
    "duration": 174,
    "start_time": "2021-10-02T06:32:56.012Z"
   },
   {
    "duration": 6,
    "start_time": "2021-10-02T06:32:56.264Z"
   },
   {
    "duration": 5,
    "start_time": "2021-10-02T06:32:56.349Z"
   },
   {
    "duration": 244,
    "start_time": "2021-10-02T06:32:56.597Z"
   },
   {
    "duration": 217,
    "start_time": "2021-10-02T06:32:56.844Z"
   },
   {
    "duration": 345,
    "start_time": "2021-10-02T06:32:57.064Z"
   },
   {
    "duration": 273,
    "start_time": "2021-10-02T06:32:57.411Z"
   },
   {
    "duration": 299,
    "start_time": "2021-10-02T06:32:57.687Z"
   },
   {
    "duration": 239,
    "start_time": "2021-10-02T06:32:57.990Z"
   },
   {
    "duration": 266,
    "start_time": "2021-10-02T06:32:58.231Z"
   },
   {
    "duration": 228,
    "start_time": "2021-10-02T06:32:58.499Z"
   },
   {
    "duration": 218,
    "start_time": "2021-10-02T06:32:58.729Z"
   },
   {
    "duration": 3,
    "start_time": "2021-10-02T06:32:58.950Z"
   },
   {
    "duration": 27,
    "start_time": "2021-10-02T06:32:58.956Z"
   },
   {
    "duration": 825,
    "start_time": "2021-10-02T06:32:58.985Z"
   },
   {
    "duration": -168,
    "start_time": "2021-10-02T06:32:59.981Z"
   },
   {
    "duration": 547,
    "start_time": "2021-10-02T13:12:21.265Z"
   },
   {
    "duration": 1560,
    "start_time": "2021-10-02T13:12:28.822Z"
   },
   {
    "duration": 281,
    "start_time": "2021-10-02T13:12:30.385Z"
   },
   {
    "duration": 15,
    "start_time": "2021-10-02T13:12:31.816Z"
   },
   {
    "duration": 29,
    "start_time": "2021-10-02T13:12:31.833Z"
   },
   {
    "duration": 4,
    "start_time": "2021-10-02T13:12:33.087Z"
   },
   {
    "duration": 7,
    "start_time": "2021-10-02T13:12:33.402Z"
   },
   {
    "duration": 29,
    "start_time": "2021-10-02T13:12:33.690Z"
   },
   {
    "duration": 16,
    "start_time": "2021-10-02T13:12:33.979Z"
   },
   {
    "duration": 30,
    "start_time": "2021-10-02T13:12:34.388Z"
   },
   {
    "duration": 1008,
    "start_time": "2021-10-02T13:12:34.687Z"
   },
   {
    "duration": 167,
    "start_time": "2021-10-02T13:12:35.698Z"
   },
   {
    "duration": 7,
    "start_time": "2021-10-02T13:12:36.623Z"
   },
   {
    "duration": 341,
    "start_time": "2021-10-02T13:12:37.300Z"
   },
   {
    "duration": 254,
    "start_time": "2021-10-02T13:12:37.712Z"
   },
   {
    "duration": 247,
    "start_time": "2021-10-02T13:12:38.124Z"
   },
   {
    "duration": 6,
    "start_time": "2021-10-02T13:12:38.929Z"
   },
   {
    "duration": 41,
    "start_time": "2021-10-02T13:12:40.823Z"
   },
   {
    "duration": 24,
    "start_time": "2021-10-02T13:12:42.683Z"
   },
   {
    "duration": 21,
    "start_time": "2021-10-02T13:12:43.232Z"
   },
   {
    "duration": 16,
    "start_time": "2021-10-02T13:12:43.916Z"
   },
   {
    "duration": 39,
    "start_time": "2021-10-02T13:12:44.611Z"
   },
   {
    "duration": 9,
    "start_time": "2021-10-02T13:12:45.951Z"
   },
   {
    "duration": 32,
    "start_time": "2021-10-02T13:12:46.283Z"
   },
   {
    "duration": 22,
    "start_time": "2021-10-02T13:12:47.485Z"
   },
   {
    "duration": 9,
    "start_time": "2021-10-02T13:12:49.229Z"
   },
   {
    "duration": 6,
    "start_time": "2021-10-02T13:12:49.811Z"
   },
   {
    "duration": 479,
    "start_time": "2021-10-02T13:12:50.629Z"
   },
   {
    "duration": 34,
    "start_time": "2021-10-02T13:12:52.076Z"
   },
   {
    "duration": 21,
    "start_time": "2021-10-02T13:12:52.736Z"
   },
   {
    "duration": 12,
    "start_time": "2021-10-02T13:12:55.425Z"
   },
   {
    "duration": 15,
    "start_time": "2021-10-02T13:12:56.251Z"
   },
   {
    "duration": 7,
    "start_time": "2021-10-02T13:12:57.214Z"
   },
   {
    "duration": 536,
    "start_time": "2021-10-02T13:12:57.951Z"
   },
   {
    "duration": 31,
    "start_time": "2021-10-02T13:12:58.775Z"
   },
   {
    "duration": 183,
    "start_time": "2021-10-02T13:12:59.838Z"
   },
   {
    "duration": 8,
    "start_time": "2021-10-02T13:13:01.854Z"
   },
   {
    "duration": 7,
    "start_time": "2021-10-02T13:13:02.898Z"
   },
   {
    "duration": 5,
    "start_time": "2021-10-02T13:13:03.948Z"
   },
   {
    "duration": 8,
    "start_time": "2021-10-02T13:13:05.505Z"
   },
   {
    "duration": 435,
    "start_time": "2021-10-02T13:13:07.339Z"
   },
   {
    "duration": 410,
    "start_time": "2021-10-02T13:14:07.156Z"
   },
   {
    "duration": 9,
    "start_time": "2021-10-02T13:14:25.207Z"
   },
   {
    "duration": 12,
    "start_time": "2021-10-02T13:14:28.521Z"
   },
   {
    "duration": 11,
    "start_time": "2021-10-02T13:14:29.563Z"
   },
   {
    "duration": 25,
    "start_time": "2021-10-02T13:14:29.912Z"
   },
   {
    "duration": 321,
    "start_time": "2021-10-02T13:14:32.081Z"
   },
   {
    "duration": 654,
    "start_time": "2021-10-02T13:14:34.304Z"
   },
   {
    "duration": 11,
    "start_time": "2021-10-02T13:14:36.839Z"
   },
   {
    "duration": 22,
    "start_time": "2021-10-02T13:14:39.463Z"
   },
   {
    "duration": 822,
    "start_time": "2021-10-02T13:14:40.505Z"
   },
   {
    "duration": 9,
    "start_time": "2021-10-02T13:14:42.402Z"
   },
   {
    "duration": 15,
    "start_time": "2021-10-02T13:14:43.168Z"
   },
   {
    "duration": 4,
    "start_time": "2021-10-02T13:14:43.736Z"
   },
   {
    "duration": 7088,
    "start_time": "2021-10-02T13:14:44.960Z"
   },
   {
    "duration": 9,
    "start_time": "2021-10-02T13:14:52.066Z"
   },
   {
    "duration": 5361,
    "start_time": "2021-10-02T13:14:52.078Z"
   },
   {
    "duration": 17,
    "start_time": "2021-10-02T13:14:57.441Z"
   },
   {
    "duration": 407,
    "start_time": "2021-10-02T13:14:57.462Z"
   },
   {
    "duration": 661,
    "start_time": "2021-10-02T13:15:14.438Z"
   },
   {
    "duration": 36,
    "start_time": "2021-10-02T13:15:17.212Z"
   },
   {
    "duration": 33,
    "start_time": "2021-10-02T13:15:18.077Z"
   },
   {
    "duration": 9,
    "start_time": "2021-10-02T13:15:18.709Z"
   },
   {
    "duration": 814,
    "start_time": "2021-10-02T13:15:19.444Z"
   },
   {
    "duration": 830,
    "start_time": "2021-10-02T13:15:20.262Z"
   },
   {
    "duration": 27,
    "start_time": "2021-10-02T13:15:21.850Z"
   },
   {
    "duration": 24,
    "start_time": "2021-10-02T13:15:22.943Z"
   },
   {
    "duration": 282,
    "start_time": "2021-10-02T13:15:24.548Z"
   },
   {
    "duration": 5,
    "start_time": "2021-10-02T13:15:26.820Z"
   },
   {
    "duration": 5,
    "start_time": "2021-10-02T13:15:49.198Z"
   },
   {
    "duration": 6,
    "start_time": "2021-10-02T13:15:49.721Z"
   },
   {
    "duration": 257,
    "start_time": "2021-10-02T13:15:51.418Z"
   },
   {
    "duration": 210,
    "start_time": "2021-10-02T13:15:53.009Z"
   },
   {
    "duration": 202,
    "start_time": "2021-10-02T13:15:54.162Z"
   },
   {
    "duration": 258,
    "start_time": "2021-10-02T13:15:55.207Z"
   },
   {
    "duration": 216,
    "start_time": "2021-10-02T13:15:55.771Z"
   },
   {
    "duration": 206,
    "start_time": "2021-10-02T13:15:57.028Z"
   },
   {
    "duration": 266,
    "start_time": "2021-10-02T13:15:58.105Z"
   },
   {
    "duration": 214,
    "start_time": "2021-10-02T13:15:58.736Z"
   },
   {
    "duration": 206,
    "start_time": "2021-10-02T13:16:00.067Z"
   },
   {
    "duration": 4,
    "start_time": "2021-10-02T13:16:03.444Z"
   },
   {
    "duration": 7,
    "start_time": "2021-10-02T13:16:03.863Z"
   },
   {
    "duration": 21,
    "start_time": "2021-10-02T13:16:04.619Z"
   },
   {
    "duration": 23,
    "start_time": "2021-10-02T13:16:15.530Z"
   },
   {
    "duration": 6,
    "start_time": "2021-10-02T13:16:40.655Z"
   },
   {
    "duration": 5,
    "start_time": "2021-10-02T13:16:42.251Z"
   },
   {
    "duration": 12,
    "start_time": "2021-10-02T13:16:42.644Z"
   },
   {
    "duration": 9,
    "start_time": "2021-10-02T13:16:43.515Z"
   },
   {
    "duration": 29,
    "start_time": "2021-10-02T13:16:43.742Z"
   },
   {
    "duration": 317,
    "start_time": "2021-10-02T13:16:44.605Z"
   },
   {
    "duration": 607,
    "start_time": "2021-10-02T13:16:45.397Z"
   },
   {
    "duration": 10,
    "start_time": "2021-10-02T13:16:46.006Z"
   },
   {
    "duration": 23,
    "start_time": "2021-10-02T13:16:46.545Z"
   },
   {
    "duration": 815,
    "start_time": "2021-10-02T13:16:46.721Z"
   },
   {
    "duration": 22,
    "start_time": "2021-10-02T13:16:47.539Z"
   },
   {
    "duration": 15,
    "start_time": "2021-10-02T13:16:47.704Z"
   },
   {
    "duration": 4,
    "start_time": "2021-10-02T13:16:47.912Z"
   },
   {
    "duration": 7362,
    "start_time": "2021-10-02T13:16:48.578Z"
   },
   {
    "duration": 16,
    "start_time": "2021-10-02T13:16:55.944Z"
   },
   {
    "duration": 5129,
    "start_time": "2021-10-02T13:16:55.965Z"
   },
   {
    "duration": 11,
    "start_time": "2021-10-02T13:17:01.098Z"
   },
   {
    "duration": 444,
    "start_time": "2021-10-02T13:17:01.111Z"
   },
   {
    "duration": 1124,
    "start_time": "2021-10-02T17:29:14.202Z"
   },
   {
    "duration": 196,
    "start_time": "2021-10-02T17:29:15.328Z"
   },
   {
    "duration": 12,
    "start_time": "2021-10-02T17:29:15.526Z"
   },
   {
    "duration": 11,
    "start_time": "2021-10-02T17:29:15.540Z"
   },
   {
    "duration": 3,
    "start_time": "2021-10-02T17:29:15.554Z"
   },
   {
    "duration": 6,
    "start_time": "2021-10-02T17:29:15.559Z"
   },
   {
    "duration": 27,
    "start_time": "2021-10-02T17:29:15.567Z"
   },
   {
    "duration": 12,
    "start_time": "2021-10-02T17:29:15.598Z"
   },
   {
    "duration": 55,
    "start_time": "2021-10-02T17:29:15.613Z"
   },
   {
    "duration": 568,
    "start_time": "2021-10-02T17:29:15.670Z"
   },
   {
    "duration": 108,
    "start_time": "2021-10-02T17:29:16.240Z"
   },
   {
    "duration": 6,
    "start_time": "2021-10-02T17:29:16.350Z"
   },
   {
    "duration": 153,
    "start_time": "2021-10-02T17:29:16.358Z"
   },
   {
    "duration": 143,
    "start_time": "2021-10-02T17:29:16.513Z"
   },
   {
    "duration": 142,
    "start_time": "2021-10-02T17:29:16.658Z"
   },
   {
    "duration": 4,
    "start_time": "2021-10-02T17:29:16.802Z"
   },
   {
    "duration": 35,
    "start_time": "2021-10-02T17:29:16.808Z"
   },
   {
    "duration": 15,
    "start_time": "2021-10-02T17:29:16.844Z"
   },
   {
    "duration": 17,
    "start_time": "2021-10-02T17:29:16.861Z"
   },
   {
    "duration": 20,
    "start_time": "2021-10-02T17:29:16.880Z"
   },
   {
    "duration": 30,
    "start_time": "2021-10-02T17:29:16.901Z"
   },
   {
    "duration": 17,
    "start_time": "2021-10-02T17:29:16.933Z"
   },
   {
    "duration": 23,
    "start_time": "2021-10-02T17:29:16.954Z"
   },
   {
    "duration": 19,
    "start_time": "2021-10-02T17:29:16.979Z"
   },
   {
    "duration": 6,
    "start_time": "2021-10-02T17:29:17.000Z"
   },
   {
    "duration": 10,
    "start_time": "2021-10-02T17:29:17.008Z"
   },
   {
    "duration": 287,
    "start_time": "2021-10-02T17:29:17.020Z"
   },
   {
    "duration": 21,
    "start_time": "2021-10-02T17:29:17.308Z"
   },
   {
    "duration": 25,
    "start_time": "2021-10-02T17:29:17.331Z"
   },
   {
    "duration": 11,
    "start_time": "2021-10-02T17:29:17.357Z"
   },
   {
    "duration": 9,
    "start_time": "2021-10-02T17:29:17.370Z"
   },
   {
    "duration": 7,
    "start_time": "2021-10-02T17:29:17.381Z"
   },
   {
    "duration": 346,
    "start_time": "2021-10-02T17:29:17.389Z"
   },
   {
    "duration": 31,
    "start_time": "2021-10-02T17:29:17.737Z"
   },
   {
    "duration": 128,
    "start_time": "2021-10-02T17:29:17.770Z"
   },
   {
    "duration": 6,
    "start_time": "2021-10-02T17:29:17.900Z"
   },
   {
    "duration": 9,
    "start_time": "2021-10-02T17:29:17.907Z"
   },
   {
    "duration": 10,
    "start_time": "2021-10-02T17:29:17.917Z"
   },
   {
    "duration": 2701,
    "start_time": "2021-10-02T17:29:17.928Z"
   },
   {
    "duration": -173,
    "start_time": "2021-10-02T17:29:20.805Z"
   },
   {
    "duration": -175,
    "start_time": "2021-10-02T17:29:20.808Z"
   },
   {
    "duration": -182,
    "start_time": "2021-10-02T17:29:20.815Z"
   },
   {
    "duration": -184,
    "start_time": "2021-10-02T17:29:20.818Z"
   },
   {
    "duration": -186,
    "start_time": "2021-10-02T17:29:20.821Z"
   },
   {
    "duration": -188,
    "start_time": "2021-10-02T17:29:20.824Z"
   },
   {
    "duration": -189,
    "start_time": "2021-10-02T17:29:20.826Z"
   },
   {
    "duration": -191,
    "start_time": "2021-10-02T17:29:20.829Z"
   },
   {
    "duration": -193,
    "start_time": "2021-10-02T17:29:20.831Z"
   },
   {
    "duration": -195,
    "start_time": "2021-10-02T17:29:20.834Z"
   },
   {
    "duration": -196,
    "start_time": "2021-10-02T17:29:20.836Z"
   },
   {
    "duration": -197,
    "start_time": "2021-10-02T17:29:20.838Z"
   },
   {
    "duration": -198,
    "start_time": "2021-10-02T17:29:20.840Z"
   },
   {
    "duration": -199,
    "start_time": "2021-10-02T17:29:20.842Z"
   },
   {
    "duration": -200,
    "start_time": "2021-10-02T17:29:20.844Z"
   },
   {
    "duration": -201,
    "start_time": "2021-10-02T17:29:20.846Z"
   },
   {
    "duration": -202,
    "start_time": "2021-10-02T17:29:20.848Z"
   },
   {
    "duration": -202,
    "start_time": "2021-10-02T17:29:20.849Z"
   },
   {
    "duration": -203,
    "start_time": "2021-10-02T17:29:20.851Z"
   },
   {
    "duration": -205,
    "start_time": "2021-10-02T17:29:20.854Z"
   },
   {
    "duration": -205,
    "start_time": "2021-10-02T17:29:20.855Z"
   },
   {
    "duration": -206,
    "start_time": "2021-10-02T17:29:20.857Z"
   },
   {
    "duration": -213,
    "start_time": "2021-10-02T17:29:20.865Z"
   },
   {
    "duration": -214,
    "start_time": "2021-10-02T17:29:20.867Z"
   },
   {
    "duration": -214,
    "start_time": "2021-10-02T17:29:20.868Z"
   },
   {
    "duration": -216,
    "start_time": "2021-10-02T17:29:20.870Z"
   },
   {
    "duration": -216,
    "start_time": "2021-10-02T17:29:20.871Z"
   },
   {
    "duration": -217,
    "start_time": "2021-10-02T17:29:20.873Z"
   },
   {
    "duration": -217,
    "start_time": "2021-10-02T17:29:20.874Z"
   },
   {
    "duration": -218,
    "start_time": "2021-10-02T17:29:20.876Z"
   },
   {
    "duration": -218,
    "start_time": "2021-10-02T17:29:20.877Z"
   },
   {
    "duration": -218,
    "start_time": "2021-10-02T17:29:20.878Z"
   },
   {
    "duration": -218,
    "start_time": "2021-10-02T17:29:20.879Z"
   },
   {
    "duration": -218,
    "start_time": "2021-10-02T17:29:20.880Z"
   },
   {
    "duration": -218,
    "start_time": "2021-10-02T17:29:20.881Z"
   },
   {
    "duration": -218,
    "start_time": "2021-10-02T17:29:20.882Z"
   },
   {
    "duration": -218,
    "start_time": "2021-10-02T17:29:20.883Z"
   },
   {
    "duration": -218,
    "start_time": "2021-10-02T17:29:20.884Z"
   },
   {
    "duration": -218,
    "start_time": "2021-10-02T17:29:20.885Z"
   },
   {
    "duration": -219,
    "start_time": "2021-10-02T17:29:20.887Z"
   },
   {
    "duration": 1456,
    "start_time": "2021-10-03T20:50:51.040Z"
   },
   {
    "duration": 235,
    "start_time": "2021-10-03T20:50:52.499Z"
   },
   {
    "duration": 15,
    "start_time": "2021-10-03T20:50:52.737Z"
   },
   {
    "duration": 16,
    "start_time": "2021-10-03T20:50:52.755Z"
   },
   {
    "duration": 4,
    "start_time": "2021-10-03T20:50:52.774Z"
   },
   {
    "duration": 42,
    "start_time": "2021-10-03T20:50:52.780Z"
   },
   {
    "duration": 32,
    "start_time": "2021-10-03T20:50:52.825Z"
   },
   {
    "duration": 14,
    "start_time": "2021-10-03T20:50:52.860Z"
   },
   {
    "duration": 58,
    "start_time": "2021-10-03T20:50:52.878Z"
   },
   {
    "duration": 934,
    "start_time": "2021-10-03T20:50:52.939Z"
   },
   {
    "duration": 151,
    "start_time": "2021-10-03T20:50:53.875Z"
   },
   {
    "duration": 7,
    "start_time": "2021-10-03T20:50:54.028Z"
   },
   {
    "duration": 230,
    "start_time": "2021-10-03T20:50:54.037Z"
   },
   {
    "duration": 242,
    "start_time": "2021-10-03T20:50:54.269Z"
   },
   {
    "duration": 238,
    "start_time": "2021-10-03T20:50:54.514Z"
   },
   {
    "duration": 7,
    "start_time": "2021-10-03T20:50:54.754Z"
   },
   {
    "duration": 63,
    "start_time": "2021-10-03T20:50:54.764Z"
   },
   {
    "duration": 23,
    "start_time": "2021-10-03T20:50:54.829Z"
   },
   {
    "duration": 21,
    "start_time": "2021-10-03T20:50:54.855Z"
   },
   {
    "duration": 48,
    "start_time": "2021-10-03T20:50:54.879Z"
   },
   {
    "duration": 40,
    "start_time": "2021-10-03T20:50:54.930Z"
   },
   {
    "duration": 8,
    "start_time": "2021-10-03T20:50:54.973Z"
   },
   {
    "duration": 53,
    "start_time": "2021-10-03T20:50:54.984Z"
   },
   {
    "duration": 23,
    "start_time": "2021-10-03T20:50:55.039Z"
   },
   {
    "duration": 13,
    "start_time": "2021-10-03T20:50:55.064Z"
   },
   {
    "duration": 8,
    "start_time": "2021-10-03T20:50:55.080Z"
   },
   {
    "duration": 474,
    "start_time": "2021-10-03T20:50:55.126Z"
   },
   {
    "duration": 40,
    "start_time": "2021-10-03T20:50:55.604Z"
   },
   {
    "duration": 20,
    "start_time": "2021-10-03T20:50:55.646Z"
   },
   {
    "duration": 13,
    "start_time": "2021-10-03T20:50:55.669Z"
   },
   {
    "duration": 43,
    "start_time": "2021-10-03T20:50:55.685Z"
   },
   {
    "duration": 10,
    "start_time": "2021-10-03T20:50:55.731Z"
   },
   {
    "duration": 590,
    "start_time": "2021-10-03T20:50:55.743Z"
   },
   {
    "duration": 35,
    "start_time": "2021-10-03T20:50:56.336Z"
   },
   {
    "duration": 214,
    "start_time": "2021-10-03T20:50:56.374Z"
   },
   {
    "duration": 7,
    "start_time": "2021-10-03T20:50:56.591Z"
   },
   {
    "duration": 24,
    "start_time": "2021-10-03T20:50:56.600Z"
   },
   {
    "duration": 4,
    "start_time": "2021-10-03T20:50:56.627Z"
   },
   {
    "duration": 19,
    "start_time": "2021-10-03T20:50:56.633Z"
   },
   {
    "duration": 7,
    "start_time": "2021-10-03T20:50:56.655Z"
   },
   {
    "duration": 14,
    "start_time": "2021-10-03T20:50:56.664Z"
   },
   {
    "duration": 48,
    "start_time": "2021-10-03T20:50:56.680Z"
   },
   {
    "duration": 23,
    "start_time": "2021-10-03T20:50:56.730Z"
   },
   {
    "duration": 336,
    "start_time": "2021-10-03T20:50:56.756Z"
   },
   {
    "duration": 654,
    "start_time": "2021-10-03T20:50:57.094Z"
   },
   {
    "duration": 11,
    "start_time": "2021-10-03T20:50:57.750Z"
   },
   {
    "duration": 31,
    "start_time": "2021-10-03T20:50:57.764Z"
   },
   {
    "duration": 749,
    "start_time": "2021-10-03T20:50:57.797Z"
   },
   {
    "duration": 10,
    "start_time": "2021-10-03T20:50:58.548Z"
   },
   {
    "duration": 17,
    "start_time": "2021-10-03T20:50:58.561Z"
   },
   {
    "duration": 4,
    "start_time": "2021-10-03T20:50:58.581Z"
   },
   {
    "duration": 7189,
    "start_time": "2021-10-03T20:50:58.588Z"
   },
   {
    "duration": 5,
    "start_time": "2021-10-03T20:51:05.779Z"
   },
   {
    "duration": 4869,
    "start_time": "2021-10-03T20:51:05.786Z"
   },
   {
    "duration": 11,
    "start_time": "2021-10-03T20:51:10.657Z"
   },
   {
    "duration": 572,
    "start_time": "2021-10-03T20:51:10.671Z"
   },
   {
    "duration": 736,
    "start_time": "2021-10-03T20:51:11.246Z"
   },
   {
    "duration": 47,
    "start_time": "2021-10-03T20:51:11.985Z"
   },
   {
    "duration": 33,
    "start_time": "2021-10-03T20:51:12.035Z"
   },
   {
    "duration": 9,
    "start_time": "2021-10-03T20:51:12.070Z"
   },
   {
    "duration": 847,
    "start_time": "2021-10-03T20:51:12.081Z"
   },
   {
    "duration": 833,
    "start_time": "2021-10-03T20:51:12.930Z"
   },
   {
    "duration": 21,
    "start_time": "2021-10-03T20:51:13.766Z"
   },
   {
    "duration": 45,
    "start_time": "2021-10-03T20:51:13.789Z"
   },
   {
    "duration": 224,
    "start_time": "2021-10-03T20:51:13.837Z"
   },
   {
    "duration": 5,
    "start_time": "2021-10-03T20:51:14.064Z"
   },
   {
    "duration": 8,
    "start_time": "2021-10-03T20:51:14.073Z"
   },
   {
    "duration": 277,
    "start_time": "2021-10-03T20:51:14.083Z"
   },
   {
    "duration": 227,
    "start_time": "2021-10-03T20:51:14.363Z"
   },
   {
    "duration": 215,
    "start_time": "2021-10-03T20:51:14.593Z"
   },
   {
    "duration": 272,
    "start_time": "2021-10-03T20:51:14.811Z"
   },
   {
    "duration": 226,
    "start_time": "2021-10-03T20:51:15.087Z"
   },
   {
    "duration": 216,
    "start_time": "2021-10-03T20:51:15.323Z"
   },
   {
    "duration": 265,
    "start_time": "2021-10-03T20:51:15.542Z"
   },
   {
    "duration": 235,
    "start_time": "2021-10-03T20:51:15.810Z"
   },
   {
    "duration": 216,
    "start_time": "2021-10-03T20:51:16.048Z"
   },
   {
    "duration": 4,
    "start_time": "2021-10-03T20:51:16.267Z"
   },
   {
    "duration": 9,
    "start_time": "2021-10-03T20:51:16.273Z"
   },
   {
    "duration": 47,
    "start_time": "2021-10-03T20:51:16.285Z"
   },
   {
    "duration": 22,
    "start_time": "2021-10-03T20:51:16.335Z"
   }
  ],
  "kernelspec": {
   "display_name": "Python 3",
   "language": "python",
   "name": "python3"
  },
  "language_info": {
   "codemirror_mode": {
    "name": "ipython",
    "version": 3
   },
   "file_extension": ".py",
   "mimetype": "text/x-python",
   "name": "python",
   "nbconvert_exporter": "python",
   "pygments_lexer": "ipython3",
   "version": "3.8.8"
  },
  "toc": {
   "base_numbering": 1,
   "nav_menu": {},
   "number_sections": true,
   "sideBar": true,
   "skip_h1_title": true,
   "title_cell": "Table of Contents",
   "title_sidebar": "Contents",
   "toc_cell": false,
   "toc_position": {},
   "toc_section_display": true,
   "toc_window_display": false
  }
 },
 "nbformat": 4,
 "nbformat_minor": 5
}
